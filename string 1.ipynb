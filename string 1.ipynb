{
 "cells": [
  {
   "cell_type": "code",
   "execution_count": 1,
   "id": "8a5f11f3",
   "metadata": {},
   "outputs": [
    {
     "name": "stdout",
     "output_type": "stream",
     "text": [
      "32\n"
     ]
    }
   ],
   "source": [
    "s='Python is fun'\n",
    "print(ord(min(s)))"
   ]
  },
  {
   "cell_type": "code",
   "execution_count": 2,
   "id": "633afbb4",
   "metadata": {},
   "outputs": [
    {
     "name": "stdout",
     "output_type": "stream",
     "text": [
      "-1\n"
     ]
    }
   ],
   "source": [
    "print(s.find('N'))"
   ]
  },
  {
   "cell_type": "code",
   "execution_count": 3,
   "id": "daed4b73",
   "metadata": {},
   "outputs": [
    {
     "name": "stdout",
     "output_type": "stream",
     "text": [
      "13\n"
     ]
    }
   ],
   "source": [
    "print(len(s[::]))"
   ]
  },
  {
   "cell_type": "code",
   "execution_count": 4,
   "id": "ce50950f",
   "metadata": {},
   "outputs": [
    {
     "name": "stdout",
     "output_type": "stream",
     "text": [
      "12\n"
     ]
    }
   ],
   "source": [
    "print(s.rindex('n'))"
   ]
  },
  {
   "cell_type": "code",
   "execution_count": 5,
   "id": "a82cc341",
   "metadata": {},
   "outputs": [
    {
     "name": "stdout",
     "output_type": "stream",
     "text": [
      "11\n"
     ]
    }
   ],
   "source": [
    "dt='2022-11-04 14:43:41.340159'\n",
    "print(dt[5:7])"
   ]
  },
  {
   "cell_type": "code",
   "execution_count": 6,
   "id": "f77eae73",
   "metadata": {},
   "outputs": [
    {
     "name": "stdout",
     "output_type": "stream",
     "text": [
      "14\n"
     ]
    }
   ],
   "source": [
    "print(dt[11:-13])"
   ]
  },
  {
   "cell_type": "code",
   "execution_count": 7,
   "id": "e02bf93b",
   "metadata": {},
   "outputs": [
    {
     "name": "stdout",
     "output_type": "stream",
     "text": [
      "04\n"
     ]
    }
   ],
   "source": [
    "print(dt[8:10])"
   ]
  },
  {
   "cell_type": "code",
   "execution_count": 8,
   "id": "298d04fb",
   "metadata": {},
   "outputs": [
    {
     "name": "stdout",
     "output_type": "stream",
     "text": [
      "43\n"
     ]
    }
   ],
   "source": [
    "print(dt[-12:16])"
   ]
  },
  {
   "cell_type": "code",
   "execution_count": 9,
   "id": "7958eaab",
   "metadata": {},
   "outputs": [
    {
     "name": "stdout",
     "output_type": "stream",
     "text": [
      "[3, 1, 5, 3, 1, 5]\n"
     ]
    }
   ],
   "source": [
    "l=[3,1,5]\n",
    "print(l*2)"
   ]
  },
  {
   "cell_type": "code",
   "execution_count": 10,
   "id": "3ab8f6b2",
   "metadata": {},
   "outputs": [
    {
     "data": {
      "text/plain": [
       "[3, 1, 5, 5, 1, 3]"
      ]
     },
     "execution_count": 10,
     "metadata": {},
     "output_type": "execute_result"
    }
   ],
   "source": [
    "l+l[::-1]"
   ]
  },
  {
   "cell_type": "code",
   "execution_count": null,
   "id": "716ab58d",
   "metadata": {},
   "outputs": [],
   "source": []
  }
 ],
 "metadata": {
  "kernelspec": {
   "display_name": "Python 3 (ipykernel)",
   "language": "python",
   "name": "python3"
  },
  "language_info": {
   "codemirror_mode": {
    "name": "ipython",
    "version": 3
   },
   "file_extension": ".py",
   "mimetype": "text/x-python",
   "name": "python",
   "nbconvert_exporter": "python",
   "pygments_lexer": "ipython3",
   "version": "3.9.12"
  }
 },
 "nbformat": 4,
 "nbformat_minor": 5
}
