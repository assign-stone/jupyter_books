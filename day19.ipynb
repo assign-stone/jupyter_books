{
 "cells": [
  {
   "cell_type": "code",
   "execution_count": null,
   "id": "784cae8e-caeb-4a17-a5b1-e2ccbf485e32",
   "metadata": {},
   "outputs": [
    {
     "data": {
      "text/plain": [
       "[2, 4, 6, 8]"
      ]
     },
     "execution_count": 143,
     "metadata": {},
     "output_type": "execute_result"
    }
   ],
   "source": [
    "# [i*2 for i in [1,2,3,4]]"
   ]
  },
  {
   "cell_type": "code",
   "execution_count": null,
   "id": "ace370c2-8529-4a38-aa1a-e580a876ff2d",
   "metadata": {},
   "outputs": [],
   "source": [
    "# NumPy, short for Numerical Python, has long been a cornerstone of numerical computing in Python. It provides the data\n",
    "# structures, algorithms, and library glue needed for most scientific applications involving numerical data in Python. \n",
    "# NumPy contains, among other things:\n",
    "\n",
    "# ● A fast and efficient multidimensional array object ndarray.\n",
    "# ● Functions for performing element-wise computations with arrays or mathematical\n",
    "# operations between arrays.\n",
    "# ● Tools for reading and writing array-based datasets to disk.\n",
    "# ● Linear algebra operations, Fourier transform, and random number generation"
   ]
  },
  {
   "cell_type": "code",
   "execution_count": null,
   "id": "418eb2b4-0624-46d1-b855-583cf7f132df",
   "metadata": {},
   "outputs": [],
   "source": [
    "# The NumPy ndarray\n",
    "# A Multidimensional Array Object One of the key features of NumPy is its N-dimensional array object, or ndarray, which is\n",
    "# a fast, flexible container for large datasets in Python. Arrays enable you to perform mathematical operations on whole\n",
    "# blocks of data using similar syntax to the equivalent operations between scalar elements"
   ]
  },
  {
   "cell_type": "code",
   "execution_count": null,
   "id": "2bbf165d-df09-4e1b-86f3-950711f6c636",
   "metadata": {},
   "outputs": [],
   "source": [
    "# Why Numpy?\n",
    "# One of the reasons NumPy is so important for numerical computations in Python is because it is designed for efficiency on\n",
    "# large arrays of data. There are a number of reasons for this:\n",
    "# ● NumPy internally stores data in a contiguous block of memory, independent of other built-in Python objects. NumPy’s\n",
    "# library of algorithms written in the C language can operate on this memory without any type checking or other overhead. \n",
    "# NumPy arrays also use much less memory than built-in Python sequences.\n",
    "# ● NumPy operations perform complex computations on entire arrays without the need for Python for loops. \n",
    "\n",
    "\n",
    "# less memory required ( contiguous block)\n",
    "# scientific and mathematical computations.(linear algebra operations ,fouries transform)\n",
    "# fast computation\n",
    "# computations without for loops\n",
    "# can store and manipulate large data\n",
    "#in data analysis is as a container for data to be passed between algorithms and libraries."
   ]
  },
  {
   "cell_type": "code",
   "execution_count": null,
   "id": "513ae81c-53fe-4f97-a740-4a61534819f4",
   "metadata": {},
   "outputs": [],
   "source": [
    "# pip install numpy"
   ]
  },
  {
   "cell_type": "code",
   "execution_count": null,
   "id": "5c27e3e7-28f2-4cdd-a6bf-b0a745084d27",
   "metadata": {},
   "outputs": [],
   "source": [
    "# Importing numpy as np\n",
    "import numpy as np"
   ]
  },
  {
   "cell_type": "code",
   "execution_count": 139,
   "id": "c703a2ef-1555-4ff8-b083-784bdbf5ae67",
   "metadata": {},
   "outputs": [],
   "source": [
    "# %%time\n",
    "lst=[i for i in range(1,10000000)]"
   ]
  },
  {
   "cell_type": "code",
   "execution_count": 140,
   "id": "24e31759-3d24-4d40-bcd6-c8ae5ecd0fac",
   "metadata": {},
   "outputs": [
    {
     "name": "stdout",
     "output_type": "stream",
     "text": [
      "CPU times: total: 547 ms\n",
      "Wall time: 537 ms\n"
     ]
    }
   ],
   "source": [
    "%%time\n",
    "lst_2=[i*2 for i in lst]"
   ]
  },
  {
   "cell_type": "code",
   "execution_count": 145,
   "id": "ce0d2530-53a6-4a57-8982-e0655f69841c",
   "metadata": {},
   "outputs": [
    {
     "data": {
      "text/plain": [
       "numpy.ndarray"
      ]
     },
     "execution_count": 145,
     "metadata": {},
     "output_type": "execute_result"
    }
   ],
   "source": [
    "arr1=np.array(lst)\n",
    "type(arr1)"
   ]
  },
  {
   "cell_type": "code",
   "execution_count": 144,
   "id": "98b58d0b-bd18-4762-a69f-b235dfa6765a",
   "metadata": {},
   "outputs": [
    {
     "name": "stdout",
     "output_type": "stream",
     "text": [
      "CPU times: total: 15.6 ms\n",
      "Wall time: 12.9 ms\n"
     ]
    },
    {
     "data": {
      "text/plain": [
       "array([       2,        4,        6, ..., 19999994, 19999996, 19999998])"
      ]
     },
     "execution_count": 144,
     "metadata": {},
     "output_type": "execute_result"
    }
   ],
   "source": [
    "%%time\n",
    "arr1*2"
   ]
  },
  {
   "cell_type": "code",
   "execution_count": null,
   "id": "0c722e7d-97bb-4b3c-94aa-5c59e51e3a05",
   "metadata": {},
   "outputs": [],
   "source": [
    "# arrays are more faster than python list."
   ]
  },
  {
   "cell_type": "code",
   "execution_count": null,
   "id": "eca2d80b-bafe-4ac6-b4f8-6fcbb624fd72",
   "metadata": {},
   "outputs": [],
   "source": [
    "# arr takes less memory than python list"
   ]
  },
  {
   "cell_type": "code",
   "execution_count": 147,
   "id": "f00f1a19",
   "metadata": {},
   "outputs": [
    {
     "data": {
      "text/plain": [
       "numpy.ndarray"
      ]
     },
     "execution_count": 147,
     "metadata": {},
     "output_type": "execute_result"
    }
   ],
   "source": [
    "type(arr1)"
   ]
  },
  {
   "cell_type": "code",
   "execution_count": 148,
   "id": "8f89da5f-9702-4907-8b75-8073f1d5afc9",
   "metadata": {},
   "outputs": [
    {
     "name": "stdout",
     "output_type": "stream",
     "text": [
      "89095160\n",
      "40000108\n"
     ]
    }
   ],
   "source": [
    "import sys\n",
    "print(sys.getsizeof(lst))\n",
    "print(sys.getsizeof(arr1))"
   ]
  },
  {
   "cell_type": "code",
   "execution_count": null,
   "id": "b8e685f1-69fc-4528-b2e9-02adcfcf2305",
   "metadata": {},
   "outputs": [
    {
     "data": {
      "text/plain": [
       "0.44895938230539123"
      ]
     },
     "execution_count": 149,
     "metadata": {},
     "output_type": "execute_result"
    }
   ],
   "source": [
    "sys.getsizeof(arr1)/sys.getsizeof(lst)"
   ]
  },
  {
   "cell_type": "code",
   "execution_count": 151,
   "id": "000a20f5-1b40-4b02-b006-c41a28fc06a8",
   "metadata": {},
   "outputs": [
    {
     "name": "stdout",
     "output_type": "stream",
     "text": [
      "list is [1, 2, 3, 4, 5, 6, 7, 8, 9, 10] <class 'list'>\n",
      "arr1 is [ 1  2  3  4  5  6  7  8  9 10] <class 'numpy.ndarray'>\n"
     ]
    }
   ],
   "source": [
    "## How to create arrays \n",
    "# from list\n",
    "#np.array\n",
    "lst=[i for i in range(1,11)]\n",
    "print('list is',lst,type(lst))\n",
    "arr1=np.array(lst)\n",
    "print('arr1 is',arr1,type(arr1))"
   ]
  },
  {
   "cell_type": "code",
   "execution_count": 159,
   "id": "4c9a1d25",
   "metadata": {},
   "outputs": [
    {
     "data": {
      "text/plain": [
       "array([10. , 10.2, 10.4, 10.6, 10.8, 11. , 11.2, 11.4, 11.6, 11.8, 12. ,\n",
       "       12.2, 12.4, 12.6, 12.8, 13. , 13.2, 13.4, 13.6, 13.8, 14. , 14.2,\n",
       "       14.4, 14.6, 14.8, 15. , 15.2, 15.4, 15.6, 15.8, 16. , 16.2, 16.4,\n",
       "       16.6, 16.8, 17. , 17.2, 17.4, 17.6, 17.8, 18. , 18.2, 18.4, 18.6,\n",
       "       18.8, 19. , 19.2, 19.4, 19.6, 19.8])"
      ]
     },
     "execution_count": 159,
     "metadata": {},
     "output_type": "execute_result"
    }
   ],
   "source": [
    "# list(range(10,20,.2))\n",
    "np.arange(10,20,.2)\n"
   ]
  },
  {
   "cell_type": "code",
   "execution_count": 163,
   "id": "6f58e76e",
   "metadata": {},
   "outputs": [
    {
     "data": {
      "text/plain": [
       "array([10. , 10.5, 11. , 11.5, 12. , 12.5, 13. , 13.5, 14. , 14.5, 15. ,\n",
       "       15.5, 16. , 16.5, 17. , 17.5, 18. , 18.5, 19. , 19.5])"
      ]
     },
     "execution_count": 163,
     "metadata": {},
     "output_type": "execute_result"
    }
   ],
   "source": [
    "np_array = np.arange(10,20,0.5)\n",
    "np_array"
   ]
  },
  {
   "cell_type": "code",
   "execution_count": 242,
   "id": "38e90467",
   "metadata": {},
   "outputs": [
    {
     "data": {
      "text/plain": [
       "0.4935552745617101"
      ]
     },
     "execution_count": 242,
     "metadata": {},
     "output_type": "execute_result"
    }
   ],
   "source": [
    "np.random.rand()"
   ]
  },
  {
   "cell_type": "code",
   "execution_count": 243,
   "id": "7d98d56a",
   "metadata": {},
   "outputs": [
    {
     "data": {
      "text/plain": [
       "array([[0.36809312, 0.83888607],\n",
       "       [0.07282749, 0.9593901 ]])"
      ]
     },
     "execution_count": 243,
     "metadata": {},
     "output_type": "execute_result"
    }
   ],
   "source": [
    "np.random.rand(2,2)"
   ]
  },
  {
   "cell_type": "code",
   "execution_count": 244,
   "id": "e7cf273d",
   "metadata": {},
   "outputs": [
    {
     "data": {
      "text/plain": [
       "array([[0.09669332, 0.88037409],\n",
       "       [0.85730537, 0.9368516 ],\n",
       "       [0.38413645, 0.56077382]])"
      ]
     },
     "execution_count": 244,
     "metadata": {},
     "output_type": "execute_result"
    }
   ],
   "source": [
    "np.random.rand(3,2)"
   ]
  },
  {
   "cell_type": "code",
   "execution_count": 245,
   "id": "bc781562",
   "metadata": {},
   "outputs": [],
   "source": [
    "_3d= np.random.rand(3,3,3)"
   ]
  },
  {
   "cell_type": "code",
   "execution_count": 247,
   "id": "866d4a03",
   "metadata": {},
   "outputs": [
    {
     "data": {
      "text/plain": [
       "(3, 3, 3)"
      ]
     },
     "execution_count": 247,
     "metadata": {},
     "output_type": "execute_result"
    }
   ],
   "source": [
    "_3d.ndim\n",
    "_3d.size\n",
    "_3d.shape"
   ]
  },
  {
   "cell_type": "code",
   "execution_count": null,
   "id": "235d8e9b",
   "metadata": {},
   "outputs": [
    {
     "name": "stdout",
     "output_type": "stream",
     "text": [
      "Random Integers:\n",
      " [[10 13]\n",
      " [12 10]\n",
      " [11 13]]\n",
      "\n",
      "Random Floats:\n",
      " [[0.60056724 0.92435824 0.78786441]\n",
      " [0.76383076 0.70297401 0.83393912]]\n",
      "\n",
      "Random Choice from [10, 20, 30]:\n",
      " 10\n",
      "\n",
      "Shuffled Array:\n",
      " [5 3 1 4 2]\n"
     ]
    }
   ],
   "source": [
    "import numpy as np\n",
    "\n",
    "# Set a seed for reproducibility\n",
    "# np.random.seed(41)\n",
    "\n",
    "# 1. Random Integers\n",
    "print(\"Random Integers:\\n\", np.random.randint(10, 20, size=(3, 2)))  # 2x3 array from 0 to 9\n",
    "\n",
    "# 2. Random Floats (Uniform between 0 and 1)\n",
    "print(\"\\nRandom Floats:\\n\", np.random.rand(2, 3))  # 2x3 array from uniform[0, 1)\n",
    "\n",
    "# 3. Random Floats (Normal distribution)\n",
    "# print(\"\\nNormal Distribution (mean=0, std=1):\\n\", np.random.randn(2, 3))  # standard normal\n",
    "\n",
    "# 4. Random choice from a list\n",
    "print(\"\\nRandom Choice from [10, 20, 30]:\\n\", np.random.choice([10, 20, 30]))\n",
    "\n",
    "# 5. Random permutation (shuffling a sequence)\n",
    "arr = np.array([1, 2, 3, 4, 5])\n",
    "np.random.shuffle(arr)\n",
    "print(\"\\nShuffled Array:\\n\", arr)\n",
    "\n",
    "# # 6. Random permutation (returns a new array)\n",
    "# print(\"\\nRandom Permutation:\\n\", np.random.permutation([1, 2, 3, 4, 5]))\n",
    "\n",
    "# # 7. Binomial Distribution (n=10, p=0.5)\n",
    "# print(\"\\nBinomial Distribution:\\n\", np.random.binomial(n=10, p=0.5, size=5))\n",
    "\n",
    "# # 8. Poisson Distribution (lambda=3)\n",
    "# print(\"\\nPoisson Distribution:\\n\", np.random.poisson(lam=3, size=5))\n",
    "\n",
    "# # 9. Exponential Distribution (scale=1.0)\n",
    "# print(\"\\nExponential Distribution:\\n\", np.random.exponential(scale=1.0, size=5))\n",
    "\n",
    "# # 10. Beta Distribution (a=2.0, b=5.0)\n",
    "# print(\"\\nBeta Distribution:\\n\", np.random.beta(a=2.0, b=5.0, size=5))\n",
    "\n",
    "# # 11. Gamma Distribution (shape=2.0, scale=1.0)\n",
    "# print(\"\\nGamma Distribution:\\n\", np.random.gamma(shape=2.0, scale=1.0, size=5))\n",
    "\n",
    "# # 12. Uniform Distribution (between [low, high))\n",
    "# print(\"\\nUniform Distribution (2.0 to 5.0):\\n\", np.random.uniform(low=2.0, high=5.0, size=5))\n"
   ]
  },
  {
   "cell_type": "code",
   "execution_count": 320,
   "id": "00f91d30-1c74-45cb-8faa-039934f8dfde",
   "metadata": {},
   "outputs": [
    {
     "name": "stdout",
     "output_type": "stream",
     "text": [
      "[14 17 16 11 15 12 11 15 13 12]\n",
      "(10,)\n",
      "1\n",
      "10\n"
     ]
    }
   ],
   "source": [
    "# dimension of an array : size ,shape ,ndim,itemsize\n",
    "# create a random array of the 10 numbers between 10 to 20\n",
    "arr1=np.random.randint(10,20,10)\n",
    "print(arr1)\n",
    "print(arr1.shape)  # shape of the arrau as tuple\n",
    "print(arr1.ndim)  # dimension of array \n",
    "print(arr1.size) # how many elements are there"
   ]
  },
  {
   "cell_type": "code",
   "execution_count": 329,
   "id": "8e363663-4cd7-4abe-aa9c-bea4e65ecd50",
   "metadata": {},
   "outputs": [
    {
     "name": "stdout",
     "output_type": "stream",
     "text": [
      "[ 0  1  2  3  4  5  6  7  8  9 10 11]\n",
      "[[[ 0]\n",
      "  [ 1]]\n",
      "\n",
      " [[ 2]\n",
      "  [ 3]]\n",
      "\n",
      " [[ 4]\n",
      "  [ 5]]\n",
      "\n",
      " [[ 6]\n",
      "  [ 7]]\n",
      "\n",
      " [[ 8]\n",
      "  [ 9]]\n",
      "\n",
      " [[10]\n",
      "  [11]]]\n",
      "(6, 2, 1)\n",
      "12\n",
      "3\n"
     ]
    }
   ],
   "source": [
    "# reshape\n",
    "arr1=np.arange(12)\n",
    "print(arr1)\n",
    "\n",
    "\n",
    "arr2 = arr1.reshape(6,2,1)\n",
    "print(arr2)\n",
    "print(arr2.shape)\n",
    "print(arr2.size)\n",
    "print(arr2.ndim)"
   ]
  },
  {
   "cell_type": "code",
   "execution_count": null,
   "id": "4979eb6a-1090-4dda-bcd9-ddccfb90bfe9",
   "metadata": {},
   "outputs": [],
   "source": [
    "# 3,3,4\n",
    "arr1=np.arange(36)\n",
    "print(arr1)\n",
    "arr2=arr1.reshape(3,3,4)\n",
    "print(arr2)\n",
    "print(arr2.shape)\n",
    "print(arr2.size)\n",
    "print(arr2.ndim)"
   ]
  },
  {
   "cell_type": "code",
   "execution_count": null,
   "id": "0f3e1076-8280-4826-a0cc-80ba3c62cbfd",
   "metadata": {},
   "outputs": [],
   "source": []
  },
  {
   "cell_type": "code",
   "execution_count": null,
   "id": "d6ef8c1f-dc5d-4797-9dd0-ce5d6dc508a2",
   "metadata": {},
   "outputs": [],
   "source": []
  },
  {
   "cell_type": "code",
   "execution_count": null,
   "id": "00f3e578-b626-4ecb-9873-c28bca5a949a",
   "metadata": {},
   "outputs": [],
   "source": [
    "# axis :\n",
    "# 2d   ===>axis=0 : Row  (Horizontal)\n",
    "#          axis=1 : Column  (Vertical)"
   ]
  },
  {
   "cell_type": "code",
   "execution_count": 330,
   "id": "aa3ecacc-5ed6-47c2-af78-4d357b87cfc4",
   "metadata": {},
   "outputs": [
    {
     "name": "stdout",
     "output_type": "stream",
     "text": [
      "[0 1 2 3 4 5 6 7 8 9]\n",
      "45\n",
      "0\n",
      "4.5\n"
     ]
    }
   ],
   "source": [
    "####  Arithmatic Operation on an array : 0 axis ,axis 1..\n",
    "arr1=np.arange(10)\n",
    "print(arr1)\n",
    "print(arr1.sum())\n",
    "print(arr1.prod())\n",
    "print(arr1.mean())"
   ]
  },
  {
   "cell_type": "code",
   "execution_count": 347,
   "id": "91ffc34d-9f1b-4585-b409-2f3b6d7d49d1",
   "metadata": {},
   "outputs": [
    {
     "name": "stdout",
     "output_type": "stream",
     "text": [
      "[[ 1  2  3  4]\n",
      " [ 5  6  7  8]\n",
      " [ 9 10 11 12]]\n",
      "78\n",
      "[15 18 21 24]\n",
      "[10 26 42]\n"
     ]
    }
   ],
   "source": [
    "#2d axis0 ==>row   axis1==>column\n",
    "arr1=np.arange(1,13).reshape(3,4)\n",
    "print(arr1)\n",
    "print(arr1.sum()) # all elements sum\n",
    "print(arr1.sum(axis=0)) # rowise\n",
    "print(arr1.sum(axis=1))  # columnwise sum\n"
   ]
  },
  {
   "cell_type": "code",
   "execution_count": 348,
   "id": "13ea8757",
   "metadata": {},
   "outputs": [
    {
     "name": "stdout",
     "output_type": "stream",
     "text": [
      "479001600\n",
      "[ 45 120 231 384]\n",
      "[   24  1680 11880]\n"
     ]
    }
   ],
   "source": [
    "print(arr1.prod()) # all elements sum\n",
    "print(arr1.prod(axis=0)) # rowise\n",
    "print(arr1.prod(axis=1))  # columnwise sum"
   ]
  },
  {
   "cell_type": "code",
   "execution_count": 349,
   "id": "0eed5464",
   "metadata": {},
   "outputs": [
    {
     "data": {
      "text/plain": [
       "12"
      ]
     },
     "execution_count": 349,
     "metadata": {},
     "output_type": "execute_result"
    }
   ],
   "source": [
    "arr1.max()"
   ]
  },
  {
   "cell_type": "code",
   "execution_count": 350,
   "id": "d7aca5a6-7e5e-47cb-a5dd-d5edc3aa2d31",
   "metadata": {},
   "outputs": [
    {
     "name": "stdout",
     "output_type": "stream",
     "text": [
      "[ 9 10 11 12]\n"
     ]
    }
   ],
   "source": [
    "print(arr1.max(axis=0))"
   ]
  },
  {
   "cell_type": "code",
   "execution_count": 351,
   "id": "2c38acd6",
   "metadata": {},
   "outputs": [
    {
     "name": "stdout",
     "output_type": "stream",
     "text": [
      "[ 4  8 12]\n"
     ]
    }
   ],
   "source": [
    "print(arr1.max(axis=1))"
   ]
  },
  {
   "cell_type": "code",
   "execution_count": 352,
   "id": "48e12770",
   "metadata": {},
   "outputs": [
    {
     "data": {
      "text/plain": [
       "array([[ 1,  2,  3,  4],\n",
       "       [ 5,  6,  7,  8],\n",
       "       [ 9, 10, 11, 12]])"
      ]
     },
     "execution_count": 352,
     "metadata": {},
     "output_type": "execute_result"
    }
   ],
   "source": [
    "arr1"
   ]
  },
  {
   "cell_type": "code",
   "execution_count": 353,
   "id": "cf0a3316-435e-42a7-83da-311689df46e3",
   "metadata": {},
   "outputs": [
    {
     "name": "stdout",
     "output_type": "stream",
     "text": [
      "[[ 1  2  3  4]\n",
      " [ 6  8 10 12]\n",
      " [15 18 21 24]]\n"
     ]
    }
   ],
   "source": [
    "print(arr1.cumsum(axis=0))"
   ]
  },
  {
   "cell_type": "code",
   "execution_count": 354,
   "id": "2733c218",
   "metadata": {},
   "outputs": [
    {
     "name": "stdout",
     "output_type": "stream",
     "text": [
      "[[ 1  3  6 10]\n",
      " [ 5 11 18 26]\n",
      " [ 9 19 30 42]]\n"
     ]
    }
   ],
   "source": [
    "print(arr1.cumsum(axis=1))"
   ]
  },
  {
   "cell_type": "code",
   "execution_count": 357,
   "id": "f0d60cbd-9a08-48af-8f4c-5c2b00367b41",
   "metadata": {},
   "outputs": [
    {
     "name": "stdout",
     "output_type": "stream",
     "text": [
      "[[  1   2   3   4]\n",
      " [  5  12  21  32]\n",
      " [ 45 120 231 384]]\n"
     ]
    }
   ],
   "source": [
    "print(arr1.cumprod(axis=0))"
   ]
  },
  {
   "cell_type": "code",
   "execution_count": 358,
   "id": "13770968-7c53-488d-b1b1-a52ea29fac06",
   "metadata": {},
   "outputs": [],
   "source": [
    "# arr1=np.random.randint(10,20,12).reshape(2,2,3)\n",
    "# arr1"
   ]
  },
  {
   "cell_type": "code",
   "execution_count": 360,
   "id": "8f2fce9b",
   "metadata": {},
   "outputs": [
    {
     "data": {
      "text/plain": [
       "array([[ 1,  2,  3,  4],\n",
       "       [ 5,  6,  7,  8],\n",
       "       [ 9, 10, 11, 12]])"
      ]
     },
     "execution_count": 360,
     "metadata": {},
     "output_type": "execute_result"
    }
   ],
   "source": [
    "arr1"
   ]
  },
  {
   "cell_type": "code",
   "execution_count": 359,
   "id": "f856722e-e0e8-4b01-9560-21fcc178185a",
   "metadata": {},
   "outputs": [
    {
     "name": "stdout",
     "output_type": "stream",
     "text": [
      "[5. 6. 7. 8.]\n"
     ]
    }
   ],
   "source": [
    "print(arr1.mean(axis=0)) "
   ]
  },
  {
   "cell_type": "code",
   "execution_count": 361,
   "id": "efaab4dd-e0a3-4245-b749-a0d3d67a33de",
   "metadata": {},
   "outputs": [
    {
     "name": "stdout",
     "output_type": "stream",
     "text": [
      "[ 2.5  6.5 10.5]\n"
     ]
    }
   ],
   "source": [
    "print(arr1.mean(axis=1)) # 2,2,3==>2,3"
   ]
  },
  {
   "cell_type": "code",
   "execution_count": null,
   "id": "90f880a9-a77d-488a-aca6-fa6b5ea59df1",
   "metadata": {},
   "outputs": [],
   "source": [
    "#prod ,max,min,cumsum,cumprod ,argmax,argmin ,mean ,std,var"
   ]
  },
  {
   "cell_type": "code",
   "execution_count": 362,
   "id": "0f6a0040-fb9d-477c-a6a4-1610dbd68474",
   "metadata": {},
   "outputs": [],
   "source": [
    "import numpy as np"
   ]
  },
  {
   "cell_type": "code",
   "execution_count": 363,
   "id": "d4d372e9-3c11-43e6-ad0d-e74d75dbe831",
   "metadata": {},
   "outputs": [],
   "source": [
    "### Some Homogeneous arrays "
   ]
  },
  {
   "cell_type": "code",
   "execution_count": 364,
   "id": "459b6da4-776b-4341-90fd-f79989cf63cd",
   "metadata": {},
   "outputs": [
    {
     "name": "stdout",
     "output_type": "stream",
     "text": [
      "[[1 0 0]\n",
      " [0 1 0]\n",
      " [0 0 1]]\n"
     ]
    }
   ],
   "source": [
    "arr1=np.array([1,0,0,0,1,0,0,0,1]).reshape(3,3)\n",
    "print(arr1)"
   ]
  },
  {
   "cell_type": "code",
   "execution_count": 365,
   "id": "24b66f04-98a1-4d3d-b69c-5095a820ce8c",
   "metadata": {},
   "outputs": [
    {
     "name": "stdout",
     "output_type": "stream",
     "text": [
      "[[0. 0. 0. 0. 0. 0. 0. 0. 0. 0.]\n",
      " [0. 0. 0. 0. 0. 0. 0. 0. 0. 0.]\n",
      " [0. 0. 0. 0. 0. 0. 0. 0. 0. 0.]\n",
      " [0. 0. 0. 0. 0. 0. 0. 0. 0. 0.]\n",
      " [0. 0. 0. 0. 0. 0. 0. 0. 0. 0.]\n",
      " [0. 0. 0. 0. 0. 0. 0. 0. 0. 0.]\n",
      " [0. 0. 0. 0. 0. 0. 0. 0. 0. 0.]\n",
      " [0. 0. 0. 0. 0. 0. 0. 0. 0. 0.]\n",
      " [0. 0. 0. 0. 0. 0. 0. 0. 0. 0.]\n",
      " [0. 0. 0. 0. 0. 0. 0. 0. 0. 0.]]\n"
     ]
    }
   ],
   "source": [
    "# array of zeros : creates  the array of zeros for the given shape\n",
    "zero=np.zeros((10,10))\n",
    "print(zero)"
   ]
  },
  {
   "cell_type": "code",
   "execution_count": 366,
   "id": "f9a9bcde-1b03-4ead-98ce-3bc2193e53ef",
   "metadata": {},
   "outputs": [
    {
     "name": "stdout",
     "output_type": "stream",
     "text": [
      "[[1. 1. 1. 1. 1. 1. 1. 1. 1. 1.]\n",
      " [1. 1. 1. 1. 1. 1. 1. 1. 1. 1.]\n",
      " [1. 1. 1. 1. 1. 1. 1. 1. 1. 1.]\n",
      " [1. 1. 1. 1. 1. 1. 1. 1. 1. 1.]\n",
      " [1. 1. 1. 1. 1. 1. 1. 1. 1. 1.]\n",
      " [1. 1. 1. 1. 1. 1. 1. 1. 1. 1.]\n",
      " [1. 1. 1. 1. 1. 1. 1. 1. 1. 1.]\n",
      " [1. 1. 1. 1. 1. 1. 1. 1. 1. 1.]\n",
      " [1. 1. 1. 1. 1. 1. 1. 1. 1. 1.]\n",
      " [1. 1. 1. 1. 1. 1. 1. 1. 1. 1.]]\n"
     ]
    }
   ],
   "source": [
    "# ones\n",
    "one=np.ones((10,10))\n",
    "print(one)"
   ]
  },
  {
   "cell_type": "code",
   "execution_count": 371,
   "id": "1e9c0a79-a43d-475f-a33f-896645d626cb",
   "metadata": {},
   "outputs": [
    {
     "name": "stdout",
     "output_type": "stream",
     "text": [
      "[[1. 0. 0. 0.]\n",
      " [0. 1. 0. 0.]\n",
      " [0. 0. 1. 0.]\n",
      " [0. 0. 0. 1.]]\n"
     ]
    }
   ],
   "source": [
    "# identity :1 on diagonal and zero others : sqaure\n",
    "identity=np.identity(4)\n",
    "print(identity)"
   ]
  },
  {
   "cell_type": "code",
   "execution_count": 375,
   "id": "708aa41b-7818-4c56-92cb-1d4fa2f5d7eb",
   "metadata": {},
   "outputs": [
    {
     "name": "stdout",
     "output_type": "stream",
     "text": [
      "[[0. 0. 0. 0. 1. 0. 0. 0. 0. 0.]\n",
      " [0. 0. 0. 0. 0. 1. 0. 0. 0. 0.]\n",
      " [0. 0. 0. 0. 0. 0. 1. 0. 0. 0.]\n",
      " [0. 0. 0. 0. 0. 0. 0. 1. 0. 0.]\n",
      " [0. 0. 0. 0. 0. 0. 0. 0. 1. 0.]\n",
      " [0. 0. 0. 0. 0. 0. 0. 0. 0. 1.]\n",
      " [0. 0. 0. 0. 0. 0. 0. 0. 0. 0.]\n",
      " [0. 0. 0. 0. 0. 0. 0. 0. 0. 0.]\n",
      " [0. 0. 0. 0. 0. 0. 0. 0. 0. 0.]\n",
      " [0. 0. 0. 0. 0. 0. 0. 0. 0. 0.]]\n"
     ]
    }
   ],
   "source": [
    "# eye will create an array of non sqaure dimension\n",
    "arrr_1=np.eye(10,10, k=4)\n",
    "print(arrr_1)"
   ]
  },
  {
   "cell_type": "code",
   "execution_count": 379,
   "id": "3f70948a-4fc9-48c9-a2e5-c703c288e940",
   "metadata": {},
   "outputs": [
    {
     "name": "stdout",
     "output_type": "stream",
     "text": [
      "[[5 5 5 5]\n",
      " [5 5 5 5]\n",
      " [5 5 5 5]]\n"
     ]
    }
   ],
   "source": [
    "# full\n",
    "full_1=np.full((3,4),5)\n",
    "print(full_1)"
   ]
  },
  {
   "cell_type": "code",
   "execution_count": 380,
   "id": "e5c924ac-19ce-4597-b50c-84c0d72c1202",
   "metadata": {},
   "outputs": [
    {
     "name": "stdout",
     "output_type": "stream",
     "text": [
      "[[1 0 0 0 0]\n",
      " [0 2 0 0 0]\n",
      " [0 0 3 0 0]\n",
      " [0 0 0 4 0]\n",
      " [0 0 0 0 5]]\n"
     ]
    }
   ],
   "source": [
    "#diag\n",
    "arr1=np.diag([1,2,3,4,5])\n",
    "print(arr1)"
   ]
  },
  {
   "cell_type": "code",
   "execution_count": 381,
   "id": "b14acde8-4630-4bd4-ac21-b1ffd28e4ddd",
   "metadata": {},
   "outputs": [
    {
     "name": "stdout",
     "output_type": "stream",
     "text": [
      "[[0 0 0 0 0 0]\n",
      " [1 0 0 0 0 0]\n",
      " [0 2 0 0 0 0]\n",
      " [0 0 3 0 0 0]\n",
      " [0 0 0 4 0 0]\n",
      " [0 0 0 0 5 0]]\n"
     ]
    }
   ],
   "source": [
    "arr1=np.diag([1,2,3,4,5],k=-1)\n",
    "print(arr1)"
   ]
  },
  {
   "cell_type": "code",
   "execution_count": 382,
   "id": "5bbc9854-cc1a-43fe-a28d-c3630c6e8109",
   "metadata": {},
   "outputs": [
    {
     "name": "stdout",
     "output_type": "stream",
     "text": [
      "[1 2 3 4 5]\n"
     ]
    }
   ],
   "source": [
    "arr1=np.arange(1,6)\n",
    "print(arr1)"
   ]
  },
  {
   "cell_type": "code",
   "execution_count": 383,
   "id": "422e54d7-9c8b-410f-82e5-0092a2ad6ad4",
   "metadata": {},
   "outputs": [
    {
     "name": "stdout",
     "output_type": "stream",
     "text": [
      "[[1 0 0 0 0]\n",
      " [0 2 0 0 0]\n",
      " [0 0 3 0 0]\n",
      " [0 0 0 4 0]\n",
      " [0 0 0 0 5]]\n"
     ]
    }
   ],
   "source": [
    "arr_diag=np.diag(arr1)\n",
    "print(arr_diag)"
   ]
  },
  {
   "cell_type": "code",
   "execution_count": null,
   "id": "d2e77686-7c00-4698-babe-40d18ef044b7",
   "metadata": {},
   "outputs": [],
   "source": [
    "# when we pass a list or tuple or 1d array to diag function it will\n",
    "# return a diagonal array with the list or tuple or 1d array elements on \n",
    "# doigonal but if we pass multi dim array in diag function it will return\n",
    "# the kth diagonal where n is the second parameter .\n",
    "# default k=0"
   ]
  },
  {
   "cell_type": "code",
   "execution_count": null,
   "id": "896c5c94-7216-4f15-9eb0-8585fca14d9c",
   "metadata": {},
   "outputs": [],
   "source": [
    "##### Some arithmatic on arrays +,-,*,/"
   ]
  },
  {
   "cell_type": "code",
   "execution_count": null,
   "id": "fc2f4918-b62d-48e5-94ae-c4f12137210b",
   "metadata": {},
   "outputs": [],
   "source": [
    "np.random.seed(5) # initiliza the random no generation\n",
    "arr1=np.random.randint(10,20,12).reshape(4,3)\n",
    "print(arr1)"
   ]
  },
  {
   "cell_type": "code",
   "execution_count": 386,
   "id": "726ca772-5d20-41cc-84c3-e77693dacdd1",
   "metadata": {},
   "outputs": [
    {
     "name": "stdout",
     "output_type": "stream",
     "text": [
      "[[19 13 14]\n",
      " [10 19 11]\n",
      " [19 11 14]\n",
      " [11 18 12]]\n"
     ]
    }
   ],
   "source": [
    "np.random.seed(6)\n",
    "arr1=np.random.randint(10,20,12).reshape(4,3)\n",
    "print(arr1)"
   ]
  },
  {
   "cell_type": "code",
   "execution_count": 387,
   "id": "11e123c1-2965-44ef-b538-50d29cf9d54f",
   "metadata": {},
   "outputs": [
    {
     "name": "stdout",
     "output_type": "stream",
     "text": [
      "[[38 26 28]\n",
      " [20 38 22]\n",
      " [38 22 28]\n",
      " [22 36 24]]\n"
     ]
    }
   ],
   "source": [
    "print(arr1*2)"
   ]
  },
  {
   "cell_type": "code",
   "execution_count": 388,
   "id": "f835b838-e27b-4fd4-b96a-857e8885b3fd",
   "metadata": {},
   "outputs": [
    {
     "name": "stdout",
     "output_type": "stream",
     "text": [
      "[[9 6 7]\n",
      " [5 9 5]\n",
      " [9 5 7]\n",
      " [5 9 6]]\n"
     ]
    }
   ],
   "source": [
    "print(arr1//2)"
   ]
  },
  {
   "cell_type": "code",
   "execution_count": null,
   "id": "5b6c5cc8-18f1-4d6f-920b-afc962fe2304",
   "metadata": {},
   "outputs": [],
   "source": [
    "lst=[i for i in range(10,30)]\n",
    "print(lst)"
   ]
  },
  {
   "cell_type": "code",
   "execution_count": null,
   "id": "582c030e-87ae-4a50-91f9-3d75794b32b4",
   "metadata": {},
   "outputs": [],
   "source": [
    "print([i*2 for i in lst])"
   ]
  },
  {
   "cell_type": "code",
   "execution_count": null,
   "id": "42e2a43f-d379-4d1f-b6f4-9a42158789be",
   "metadata": {},
   "outputs": [],
   "source": [
    "print(arr1+arr2)"
   ]
  },
  {
   "cell_type": "code",
   "execution_count": null,
   "id": "9cb993b6-86a2-4ad9-ab16-d2c86f132e69",
   "metadata": {},
   "outputs": [],
   "source": []
  },
  {
   "cell_type": "code",
   "execution_count": null,
   "id": "e3b3a71f-1ec2-4c19-a642-42f1be4671c0",
   "metadata": {},
   "outputs": [],
   "source": []
  },
  {
   "cell_type": "code",
   "execution_count": null,
   "id": "6a2a0fda-e12d-40d3-a2ae-f219aa5084e2",
   "metadata": {},
   "outputs": [],
   "source": [
    "# Broadcasting :\n",
    "# Broadcasting is used for arithmatic on arrays having diff dimensions or diff shapes\n",
    "# The two arrays having same dimension can be broadcasted if the corresponding\n",
    "# dimensionvalue is either same or one of the value is equal to 1.\n",
    "# 2,1,4\n",
    "# 1,2,4\n",
    "# If the dim of the arrays is not same then in broadcasting 1 will be appended\n",
    "# on the left hand side/prepended \n",
    "#in the shape  of the array having minimum dimension.\n",
    "# 2,1,3,3 \n",
    "# 1,1 3,3"
   ]
  },
  {
   "cell_type": "code",
   "execution_count": 393,
   "id": "15320544-6d91-4cdb-bfda-fd07d9235428",
   "metadata": {},
   "outputs": [
    {
     "name": "stdout",
     "output_type": "stream",
     "text": [
      "arr1 -  [[10 13 17 14]\n",
      " [18 11 12 14]]\n",
      "*********************\n",
      "arr2 -  [[11 15 15 16]\n",
      " [11 19 10 15]]\n"
     ]
    }
   ],
   "source": [
    "# 2,1,4\n",
    "# 1,2,4\n",
    "arr1=np.random.randint(10,20,8).reshape(2,4)\n",
    "arr2=np.random.randint(10,20,8).reshape(2,4)\n",
    "print('arr1 - ',arr1)\n",
    "print('*********************')\n",
    "print('arr2 - ',arr2)"
   ]
  },
  {
   "cell_type": "code",
   "execution_count": 391,
   "id": "b0174d04-5a54-4935-8fe2-e3a2c5f20056",
   "metadata": {},
   "outputs": [
    {
     "data": {
      "text/plain": [
       "array([[34, 26, 24, 30],\n",
       "       [34, 34, 35, 31]])"
      ]
     },
     "execution_count": 391,
     "metadata": {},
     "output_type": "execute_result"
    }
   ],
   "source": [
    "arr1+arr2"
   ]
  },
  {
   "cell_type": "code",
   "execution_count": 394,
   "id": "07b33cb5",
   "metadata": {},
   "outputs": [
    {
     "data": {
      "text/plain": [
       "array([[10, 13,  2, 14],\n",
       "       [ 7, 11,  2, 14]])"
      ]
     },
     "execution_count": 394,
     "metadata": {},
     "output_type": "execute_result"
    }
   ],
   "source": [
    "arr1%arr2"
   ]
  },
  {
   "cell_type": "code",
   "execution_count": null,
   "id": "cae2d260-711d-47c6-9601-2112aa851423",
   "metadata": {},
   "outputs": [
    {
     "data": {
      "text/plain": [
       "array([[ 4,  4,  0,  4],\n",
       "       [ 2, -4, -3, -5]])"
      ]
     },
     "execution_count": 392,
     "metadata": {},
     "output_type": "execute_result"
    }
   ],
   "source": [
    "arr1-arr2"
   ]
  },
  {
   "cell_type": "code",
   "execution_count": null,
   "id": "fbf83fbe-535d-4628-a02c-34b9ead14ae4",
   "metadata": {},
   "outputs": [],
   "source": [
    "#2,1,3,3 \n",
    "#3,3\n",
    "# same as above"
   ]
  },
  {
   "cell_type": "code",
   "execution_count": null,
   "id": "ae7f9abc-0bc4-4998-a460-fc182c21579e",
   "metadata": {},
   "outputs": [],
   "source": [
    "##### Indexing and slicing on array"
   ]
  },
  {
   "cell_type": "code",
   "execution_count": null,
   "id": "9db76733-1581-4af9-9ddd-b716b0f41a90",
   "metadata": {},
   "outputs": [],
   "source": [
    "arr1=np.arange(30,40,0.5)\n",
    "print(arr1)"
   ]
  },
  {
   "cell_type": "code",
   "execution_count": null,
   "id": "736dd085-c0c1-43bd-83b6-ece3f18f19b1",
   "metadata": {},
   "outputs": [],
   "source": [
    "arr1[3]"
   ]
  },
  {
   "cell_type": "code",
   "execution_count": null,
   "id": "f55c1ddc-ac91-43c5-9bcd-1ab31e1ef463",
   "metadata": {},
   "outputs": [],
   "source": [
    "arr1[-1]"
   ]
  },
  {
   "cell_type": "code",
   "execution_count": null,
   "id": "d0f13e98-483a-46ef-a4e3-3846abd541b0",
   "metadata": {},
   "outputs": [],
   "source": [
    "arr1[4:]"
   ]
  },
  {
   "cell_type": "code",
   "execution_count": null,
   "id": "745dcae2-1a8c-41c5-89da-fbf827e77d7e",
   "metadata": {},
   "outputs": [],
   "source": [
    "arr1[::-1]"
   ]
  },
  {
   "cell_type": "code",
   "execution_count": null,
   "id": "c1926fae-28b7-4c2c-9011-058e062acfaf",
   "metadata": {},
   "outputs": [],
   "source": [
    "arr1=np.random.randint(1,10,12).reshape(3,4)\n",
    "print(arr1)"
   ]
  },
  {
   "cell_type": "code",
   "execution_count": null,
   "id": "97cf94e5-ff05-4116-bbf7-11ff192592f0",
   "metadata": {},
   "outputs": [],
   "source": [
    "arr1[2] # axis=0 row ,axis=1 column"
   ]
  },
  {
   "cell_type": "code",
   "execution_count": null,
   "id": "e7a18656-cbb6-44be-84df-7eb05cbc71eb",
   "metadata": {},
   "outputs": [],
   "source": [
    "arr1[1][2]"
   ]
  },
  {
   "cell_type": "code",
   "execution_count": null,
   "id": "b4f4118d-1b96-47a7-87e0-c4d746c26031",
   "metadata": {},
   "outputs": [],
   "source": [
    "arr1[1,2]"
   ]
  },
  {
   "cell_type": "code",
   "execution_count": null,
   "id": "98b1466d-1405-40a9-bf6c-c615d7595e78",
   "metadata": {},
   "outputs": [],
   "source": [
    "arr1[:,2]"
   ]
  },
  {
   "cell_type": "code",
   "execution_count": null,
   "id": "3cbe247f-70fb-43da-90f3-b38aa14d8597",
   "metadata": {},
   "outputs": [],
   "source": [
    "arr1[:,1:]"
   ]
  },
  {
   "cell_type": "code",
   "execution_count": null,
   "id": "13526905-77f2-41f2-a04d-e69a6c905b24",
   "metadata": {},
   "outputs": [],
   "source": [
    "arr1=np.random.randint(1,10,24).reshape(2,3,4)\n",
    "print(arr1)"
   ]
  },
  {
   "cell_type": "code",
   "execution_count": null,
   "id": "3fcd90f1-f251-4326-ab02-d139262f6f09",
   "metadata": {},
   "outputs": [],
   "source": [
    "arr1[-1]"
   ]
  },
  {
   "cell_type": "code",
   "execution_count": null,
   "id": "6c6d3834-2573-434b-be59-b65f29d339e1",
   "metadata": {},
   "outputs": [],
   "source": [
    "arr1[1,2,3]"
   ]
  },
  {
   "cell_type": "code",
   "execution_count": null,
   "id": "eccafbad-dc78-4c6a-8fb3-4857fcb08021",
   "metadata": {},
   "outputs": [],
   "source": [
    "print(arr1)"
   ]
  },
  {
   "cell_type": "code",
   "execution_count": null,
   "id": "eba391bb-4dbe-4cdf-b3e2-7b0bfc310646",
   "metadata": {},
   "outputs": [],
   "source": [
    "arr1[:,0,3]"
   ]
  },
  {
   "cell_type": "code",
   "execution_count": null,
   "id": "44d8e84e-eb0d-4d9b-bbe3-2015a78903c9",
   "metadata": {},
   "outputs": [],
   "source": [
    "arr1[:,:,3]"
   ]
  },
  {
   "cell_type": "code",
   "execution_count": null,
   "id": "8f46d3e7-59c7-4ece-883a-6060bae7749e",
   "metadata": {},
   "outputs": [],
   "source": [
    "print(arr1)"
   ]
  },
  {
   "cell_type": "code",
   "execution_count": null,
   "id": "55539319-b7cc-45c3-b703-c7fdde38db03",
   "metadata": {},
   "outputs": [],
   "source": [
    "arr1[1:,2:,2:]"
   ]
  },
  {
   "cell_type": "code",
   "execution_count": null,
   "id": "f518aa2c-3e54-40c0-93bd-b3c1e4037bb4",
   "metadata": {},
   "outputs": [],
   "source": [
    "# diff bet array and list \n",
    "# array are faster than list\n",
    "# array takes lesser memory than list\n",
    "# array can only hold homogeneous data while list can hold heterogeneous data also"
   ]
  },
  {
   "cell_type": "code",
   "execution_count": null,
   "id": "f4bd35fe-8381-45cf-b6f7-cbe5c849d17c",
   "metadata": {},
   "outputs": [],
   "source": [
    "lst=[1,2,5,6,11,34,56,77]\n",
    "print(lst)"
   ]
  },
  {
   "cell_type": "code",
   "execution_count": null,
   "id": "3f2c9e5f-6d34-431b-a744-df71eac1bf85",
   "metadata": {},
   "outputs": [],
   "source": [
    "lst[3:6]=5,"
   ]
  },
  {
   "cell_type": "code",
   "execution_count": null,
   "id": "4aed0a14-3200-4028-b659-6f960fe201fc",
   "metadata": {},
   "outputs": [],
   "source": [
    "print(lst)"
   ]
  },
  {
   "cell_type": "code",
   "execution_count": null,
   "id": "c9e9627e-04da-4c52-9996-65945802e6ca",
   "metadata": {},
   "outputs": [],
   "source": [
    "arr1=np.array([1,2,5,6,11,34,56,77])\n",
    "print(arr1)"
   ]
  },
  {
   "cell_type": "code",
   "execution_count": null,
   "id": "c3f362de-1244-432a-9d0f-8e10af96841e",
   "metadata": {},
   "outputs": [],
   "source": [
    "arr1[3:6]=5"
   ]
  },
  {
   "cell_type": "code",
   "execution_count": null,
   "id": "41c7ef29-1ac5-4e26-8c74-1c41b7cabfc2",
   "metadata": {},
   "outputs": [],
   "source": [
    "print(arr1)"
   ]
  },
  {
   "cell_type": "code",
   "execution_count": null,
   "id": "d5863bd1-558b-4fd0-b32d-5ca72a95a88c",
   "metadata": {},
   "outputs": [],
   "source": [
    "lst=[1,2,5,6,11,34,56,77]\n",
    "print(lst)"
   ]
  },
  {
   "cell_type": "code",
   "execution_count": null,
   "id": "acce5fca-b0c9-4f28-98f9-3f7ab77e8569",
   "metadata": {},
   "outputs": [],
   "source": [
    "lst_slice=lst[2:5]\n",
    "print(lst_slice)"
   ]
  },
  {
   "cell_type": "code",
   "execution_count": null,
   "id": "8825c2b9-c240-4a7c-862f-50d1a66145cb",
   "metadata": {},
   "outputs": [],
   "source": [
    "lst[2]=100"
   ]
  },
  {
   "cell_type": "code",
   "execution_count": null,
   "id": "beb55dc6-2641-42c8-8f3a-b77cefe62304",
   "metadata": {},
   "outputs": [],
   "source": [
    "print(lst,lst_slice)"
   ]
  },
  {
   "cell_type": "code",
   "execution_count": null,
   "id": "9ccfb9c9-9680-47d6-bdd7-2c4e077c26d7",
   "metadata": {},
   "outputs": [],
   "source": [
    "arr1=np.array([1,2,5,6,11,34,56,77])\n",
    "print(arr1)"
   ]
  },
  {
   "cell_type": "code",
   "execution_count": null,
   "id": "f80da72d-e8cb-45e8-8053-b170c86e0faf",
   "metadata": {},
   "outputs": [],
   "source": [
    "arr_slice=arr1[2:5]\n",
    "print(arr_slice)"
   ]
  },
  {
   "cell_type": "code",
   "execution_count": null,
   "id": "157e0670-c62a-48e4-99eb-5083d5343baf",
   "metadata": {},
   "outputs": [],
   "source": [
    "arr1[2]=100"
   ]
  },
  {
   "cell_type": "code",
   "execution_count": null,
   "id": "cd43e37a-c0dd-47cd-a3c0-0502f3cb7085",
   "metadata": {},
   "outputs": [],
   "source": [
    "print(arr1,arr_slice)"
   ]
  },
  {
   "cell_type": "code",
   "execution_count": null,
   "id": "6cf5e8d6-95ce-4ab4-b0ae-fc7646209de0",
   "metadata": {},
   "outputs": [],
   "source": [
    "# arr_slice is just a view object of the original array so whetever changes we will\n",
    "# make in arr_slice will be reflected in org array also and vice versa."
   ]
  },
  {
   "cell_type": "code",
   "execution_count": null,
   "id": "12e388b4-ae9d-4720-8d3d-885bfa70a0e5",
   "metadata": {},
   "outputs": [],
   "source": [
    "import numpy as np\n",
    "arr1=np.array([1,2,5,6,11,34,56,77])\n",
    "print(arr1)\n",
    "arr_slice=(arr1[2:5]).copy()  #shallow copy\n",
    "print(arr_slice)"
   ]
  },
  {
   "cell_type": "code",
   "execution_count": null,
   "id": "3cd21696-6a34-4183-823c-1c0ba11e168d",
   "metadata": {},
   "outputs": [],
   "source": [
    "arr1[3]=100\n",
    "print(arr1)\n",
    "print(arr_slice)"
   ]
  },
  {
   "cell_type": "code",
   "execution_count": null,
   "id": "a741ab98-5fc0-4e9e-92b4-0d5b779c65ce",
   "metadata": {},
   "outputs": [],
   "source": [
    "# Boolean indexing in array\n",
    "arr1=np.random.randint(5,15,12).reshape(4,3)\n",
    "print(arr1)"
   ]
  },
  {
   "cell_type": "code",
   "execution_count": null,
   "id": "256a772a-8246-4aa9-8b42-b0a69a5e383c",
   "metadata": {},
   "outputs": [],
   "source": [
    "arr1[2,2]"
   ]
  },
  {
   "cell_type": "code",
   "execution_count": null,
   "id": "8320f7ad-150b-475a-a262-f6ebe7cd22ce",
   "metadata": {},
   "outputs": [],
   "source": [
    "arr1>8"
   ]
  },
  {
   "cell_type": "code",
   "execution_count": null,
   "id": "d015608e-70ec-4f1d-9575-dae60d4e7787",
   "metadata": {},
   "outputs": [],
   "source": [
    "arr2=arr1[arr1>8]\n",
    "print(arr2)"
   ]
  },
  {
   "cell_type": "code",
   "execution_count": null,
   "id": "91501680-e054-4889-8464-b8dcc1ffb10a",
   "metadata": {},
   "outputs": [],
   "source": [
    "# multidim to 1d\n",
    "arr1.flatten()"
   ]
  },
  {
   "cell_type": "code",
   "execution_count": null,
   "id": "45a96ce3-e6ca-4fca-a4d7-b150920ed775",
   "metadata": {},
   "outputs": [],
   "source": [
    "### Some more ways to createc arrays "
   ]
  },
  {
   "cell_type": "code",
   "execution_count": null,
   "id": "f82d365a-f189-4c6d-98ec-5968c1376b9d",
   "metadata": {},
   "outputs": [],
   "source": []
  },
  {
   "cell_type": "code",
   "execution_count": null,
   "id": "dd06c4fe-4614-43a3-92d4-fab04ffe5c4f",
   "metadata": {},
   "outputs": [],
   "source": [
    "# arange :  (a,b,c)  c can be float also  1d array\n",
    "arr1=np.arange(10,20,0.5)\n",
    "print(arr1)"
   ]
  },
  {
   "cell_type": "code",
   "execution_count": null,
   "id": "4ea7cf60-6a68-41c3-9350-8d2921abd430",
   "metadata": {},
   "outputs": [],
   "source": [
    "# linspace   # it will return the 50 equidistant points in given range defaultly and \n",
    "# endpoint is inclusive\n",
    "arr2=np.linspace(10,20,40,endpoint=False,retstep=True)\n",
    "print(arr2)"
   ]
  },
  {
   "cell_type": "code",
   "execution_count": null,
   "id": "053dff5f-eb8f-4eaf-b46b-1a538c7661b7",
   "metadata": {},
   "outputs": [],
   "source": [
    "arr2=np.linspace((1,2),(3,4),num=10,endpoint=False,retstep=True,axis=1)\n",
    "print(arr2)"
   ]
  },
  {
   "cell_type": "code",
   "execution_count": null,
   "id": "af964781-4146-474e-b7f1-b498c36b0461",
   "metadata": {},
   "outputs": [],
   "source": [
    "# random \n",
    "arr1=np.random.randint(12,20,20)\n",
    "print(arr1)\n"
   ]
  },
  {
   "cell_type": "code",
   "execution_count": null,
   "id": "c8090653-82ef-4daa-be8a-4f81fc569e75",
   "metadata": {},
   "outputs": [],
   "source": [
    "# random.rand - floating values 0 to 1\n",
    "arr1=np.random.rand(2,3)\n",
    "print(arr1*10+50) # 0 to 10\n",
    "               # 50 to 60"
   ]
  },
  {
   "cell_type": "code",
   "execution_count": null,
   "id": "8bb0fe7f-51a6-4309-9028-5a198da3dd4c",
   "metadata": {},
   "outputs": [],
   "source": [
    "# random.randn : generates the random numbers array of given shape following normal distribution.\n",
    "arr1=np.random.randn(10)\n",
    "print(arr1)"
   ]
  },
  {
   "cell_type": "code",
   "execution_count": null,
   "id": "351e22c1-71b6-4fe1-a043-77b7ca12c89e",
   "metadata": {},
   "outputs": [],
   "source": [
    "# random.choice\n",
    "arr1=np.random.randint(10,20,5)\n",
    "print(arr1)"
   ]
  },
  {
   "cell_type": "code",
   "execution_count": null,
   "id": "64e8f0bd-bc58-428a-9fe5-aaf418426535",
   "metadata": {},
   "outputs": [],
   "source": [
    "np.random.choice(arr1,(2,3))"
   ]
  },
  {
   "cell_type": "code",
   "execution_count": null,
   "id": "96682449-86cb-48a3-8b6b-61e63bfb32ab",
   "metadata": {},
   "outputs": [],
   "source": [
    "arr1=np.array(['IT','HR','Finance','Account'])\n",
    "print(arr1)\n",
    "print(np.random.choice(arr1))"
   ]
  },
  {
   "cell_type": "code",
   "execution_count": null,
   "id": "fe2d3faf-6336-4636-82f2-7695440dff67",
   "metadata": {},
   "outputs": [],
   "source": [
    "#np.random.seed(11)   # intitiate the random no generation\n",
    "np.random.seed(3)\n",
    "arr1=np.random.randint(10,20,5)\n",
    "print(arr1)"
   ]
  },
  {
   "cell_type": "code",
   "execution_count": null,
   "id": "7e9aae51-7f7c-4bf0-9ee4-60bf62db73fe",
   "metadata": {},
   "outputs": [],
   "source": [
    "#random.permutation\n",
    "arr1=np.random.randint(10,20,10).reshape(5,2)\n",
    "print(arr1)"
   ]
  },
  {
   "cell_type": "code",
   "execution_count": null,
   "id": "4c0a0836-dde8-4d7d-955c-74e6744e1fdb",
   "metadata": {},
   "outputs": [],
   "source": [
    "arr2=np.random.permutation(arr1)\n",
    "print(arr2)"
   ]
  },
  {
   "cell_type": "code",
   "execution_count": null,
   "id": "80842562-7c8d-486f-9618-b879a168362b",
   "metadata": {},
   "outputs": [],
   "source": [
    "arr3=arr2.transpose()  # rows to column and columns to rows.\n",
    "print(arr3)"
   ]
  },
  {
   "cell_type": "code",
   "execution_count": null,
   "id": "4091645a-211f-48cb-907b-657a58f50cdc",
   "metadata": {},
   "outputs": [],
   "source": []
  },
  {
   "cell_type": "code",
   "execution_count": null,
   "id": "ce85b9b6-fbfb-4d91-ada0-27cdeb185abd",
   "metadata": {},
   "outputs": [],
   "source": [
    "#transpose()"
   ]
  },
  {
   "cell_type": "code",
   "execution_count": null,
   "id": "cc1590a3-9fb4-4426-805a-a917270a6685",
   "metadata": {},
   "outputs": [],
   "source": [
    "#flatten, insert ,append ,sort in numpy array"
   ]
  },
  {
   "cell_type": "code",
   "execution_count": null,
   "id": "8cb740ec-734d-4aba-b343-2cb217699fe3",
   "metadata": {},
   "outputs": [],
   "source": [
    "arr1=np.random.randint(10,20,10).reshape(5,2)\n",
    "print(arr1)"
   ]
  },
  {
   "cell_type": "code",
   "execution_count": null,
   "id": "6498a029-13c0-4a2f-a250-5292446bd42a",
   "metadata": {},
   "outputs": [],
   "source": [
    "arr3=np.insert(arr1,3,[2,3],axis=0)  # arr1,where,what,axis=0,1\n",
    "print(arr3)"
   ]
  },
  {
   "cell_type": "code",
   "execution_count": null,
   "id": "822790ac-8172-4b98-8fb8-1477a8496055",
   "metadata": {},
   "outputs": [],
   "source": [
    "arr3=np.insert(arr1,1,[2,3,4,5,6],axis=1)\n",
    "print(arr3)"
   ]
  },
  {
   "cell_type": "code",
   "execution_count": null,
   "id": "c3617a20-8b82-4a4f-9cf2-67a7c58e55c4",
   "metadata": {},
   "outputs": [],
   "source": [
    "arr1=np.random.randint(1,10,6).reshape(2,3)\n",
    "arr2=np.random.randint(1,10,6).reshape(2,3)\n",
    "print(arr1)\n",
    "print(arr2)"
   ]
  },
  {
   "cell_type": "code",
   "execution_count": null,
   "id": "21fa8b77-04a9-4138-bd2b-27dee38cda94",
   "metadata": {},
   "outputs": [],
   "source": [
    "arr3=np.append(arr1,arr2,axis=1)\n",
    "print(arr3)"
   ]
  },
  {
   "cell_type": "code",
   "execution_count": null,
   "id": "73b7c6d2-a7ef-48de-9673-9feaffecbe64",
   "metadata": {},
   "outputs": [],
   "source": [
    "# sorting axis=0 and axis=1\n",
    "arr1=np.random.randint(1,10,6).reshape(2,3)\n",
    "print(arr1)"
   ]
  },
  {
   "cell_type": "code",
   "execution_count": null,
   "id": "78e739c5-4264-4c57-a2fd-0c61b22f30b9",
   "metadata": {},
   "outputs": [],
   "source": [
    "arr1.sort(axis=0)  #comparing the values of rows\n",
    "arr1\n"
   ]
  },
  {
   "cell_type": "code",
   "execution_count": null,
   "id": "c74d3072-f32d-4985-8170-bac1ee3fbcdc",
   "metadata": {},
   "outputs": [],
   "source": [
    "arr1.sort(axis=1)  #comparing the values of rows\n",
    "arr1\n",
    "# changes oriiginal array"
   ]
  },
  {
   "cell_type": "code",
   "execution_count": null,
   "id": "01cda247-2402-43a8-870b-d1796bb19431",
   "metadata": {},
   "outputs": [],
   "source": [
    "# lst=[1,2,3,4,5,5,5,5,6,6,6,7,7,6,8,5,4,6,5,3,5,34,34,3,45,11,23,12,23,42]"
   ]
  },
  {
   "cell_type": "code",
   "execution_count": null,
   "id": "9957e048-ed25-4910-9060-d52ea481cb66",
   "metadata": {},
   "outputs": [],
   "source": [
    "#np.where"
   ]
  },
  {
   "cell_type": "code",
   "execution_count": null,
   "id": "cb3940c4-6d2f-4199-9c1c-df7074f29e67",
   "metadata": {},
   "outputs": [],
   "source": [
    "arr1=np.arange(6).reshape(2,3)\n",
    "print(arr1)"
   ]
  },
  {
   "cell_type": "code",
   "execution_count": null,
   "id": "a01c90fd-89c4-4330-8403-26d28d94f5b2",
   "metadata": {},
   "outputs": [],
   "source": [
    "np.where(arr1>2,\"yes\",\"no\")"
   ]
  },
  {
   "cell_type": "code",
   "execution_count": null,
   "id": "bbeab293-9b29-419a-8674-7776157afd27",
   "metadata": {},
   "outputs": [],
   "source": [
    "import numpy as np\n",
    "import matplotlib.pyplot as plt\n",
    "import matplotlib.image as mpimg\n",
    "\n",
    "# Read the image as a NumPy array\n",
    "img = mpimg.imread(r'D:\\local_synced\\workspace\\Batches\\B10\\Attendance.png')  # or .png, .jpeg\n",
    "\n",
    "print(\"Image shape:\", img.shape)\n",
    "print(\"Image dtype:\", img.dtype)\n",
    "\n",
    "# Display image\n",
    "plt.imshow(img)\n",
    "plt.axis('off')\n",
    "plt.show()\n"
   ]
  },
  {
   "cell_type": "code",
   "execution_count": null,
   "id": "bd920e86",
   "metadata": {},
   "outputs": [],
   "source": [
    "img"
   ]
  }
 ],
 "metadata": {
  "kernelspec": {
   "display_name": "Python 3",
   "language": "python",
   "name": "python3"
  },
  "language_info": {
   "codemirror_mode": {
    "name": "ipython",
    "version": 3
   },
   "file_extension": ".py",
   "mimetype": "text/x-python",
   "name": "python",
   "nbconvert_exporter": "python",
   "pygments_lexer": "ipython3",
   "version": "3.11.0"
  }
 },
 "nbformat": 4,
 "nbformat_minor": 5
}
