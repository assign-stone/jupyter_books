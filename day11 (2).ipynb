{
 "cells": [
  {
   "cell_type": "code",
   "execution_count": 1,
   "id": "1c0a7030",
   "metadata": {},
   "outputs": [],
   "source": [
    "#### File handling"
   ]
  },
  {
   "cell_type": "code",
   "execution_count": 2,
   "id": "060e2d29",
   "metadata": {},
   "outputs": [],
   "source": [
    "# open(location of file, mode)"
   ]
  },
  {
   "cell_type": "code",
   "execution_count": 3,
   "id": "ed9d563a",
   "metadata": {},
   "outputs": [],
   "source": [
    "fr = open('test.txt', 'r')"
   ]
  },
  {
   "cell_type": "code",
   "execution_count": 4,
   "id": "ccb634c3",
   "metadata": {},
   "outputs": [
    {
     "name": "stdout",
     "output_type": "stream",
     "text": [
      "hey there how are you?\n",
      "Thank you\n",
      "I am good\n",
      "How about you?\n"
     ]
    }
   ],
   "source": [
    "print(fr.read())"
   ]
  },
  {
   "cell_type": "code",
   "execution_count": 5,
   "id": "ca8c6442",
   "metadata": {},
   "outputs": [],
   "source": [
    "fr.close()"
   ]
  },
  {
   "cell_type": "code",
   "execution_count": 6,
   "id": "429e8fdf",
   "metadata": {},
   "outputs": [],
   "source": [
    "fr = open('test.txt', 'r')"
   ]
  },
  {
   "cell_type": "code",
   "execution_count": 7,
   "id": "0672fdaf",
   "metadata": {},
   "outputs": [
    {
     "data": {
      "text/plain": [
       "0"
      ]
     },
     "execution_count": 7,
     "metadata": {},
     "output_type": "execute_result"
    }
   ],
   "source": [
    "fr.tell()"
   ]
  },
  {
   "cell_type": "code",
   "execution_count": 8,
   "id": "9ab71724",
   "metadata": {},
   "outputs": [
    {
     "data": {
      "text/plain": [
       "'hey there how are you?\\nThank you\\nI am good\\nHow about you?'"
      ]
     },
     "execution_count": 8,
     "metadata": {},
     "output_type": "execute_result"
    }
   ],
   "source": [
    "fr.read()"
   ]
  },
  {
   "cell_type": "code",
   "execution_count": 9,
   "id": "fe58f7cc",
   "metadata": {},
   "outputs": [
    {
     "data": {
      "text/plain": [
       "60"
      ]
     },
     "execution_count": 9,
     "metadata": {},
     "output_type": "execute_result"
    }
   ],
   "source": [
    "fr.tell()"
   ]
  },
  {
   "cell_type": "code",
   "execution_count": 10,
   "id": "8b640fe1",
   "metadata": {},
   "outputs": [
    {
     "data": {
      "text/plain": [
       "''"
      ]
     },
     "execution_count": 10,
     "metadata": {},
     "output_type": "execute_result"
    }
   ],
   "source": [
    "fr.read()"
   ]
  },
  {
   "cell_type": "code",
   "execution_count": 11,
   "id": "c205cab9",
   "metadata": {},
   "outputs": [
    {
     "data": {
      "text/plain": [
       "0"
      ]
     },
     "execution_count": 11,
     "metadata": {},
     "output_type": "execute_result"
    }
   ],
   "source": [
    "fr.seek(0)"
   ]
  },
  {
   "cell_type": "code",
   "execution_count": 12,
   "id": "341dbbd9",
   "metadata": {},
   "outputs": [
    {
     "data": {
      "text/plain": [
       "0"
      ]
     },
     "execution_count": 12,
     "metadata": {},
     "output_type": "execute_result"
    }
   ],
   "source": [
    "fr.tell()"
   ]
  },
  {
   "cell_type": "code",
   "execution_count": 13,
   "id": "c801d306",
   "metadata": {},
   "outputs": [
    {
     "data": {
      "text/plain": [
       "'hey there how are you?\\nThank you\\nI am good\\nHow about you?'"
      ]
     },
     "execution_count": 13,
     "metadata": {},
     "output_type": "execute_result"
    }
   ],
   "source": [
    "fr.read()"
   ]
  },
  {
   "cell_type": "code",
   "execution_count": 14,
   "id": "b344940a",
   "metadata": {},
   "outputs": [
    {
     "data": {
      "text/plain": [
       "0"
      ]
     },
     "execution_count": 14,
     "metadata": {},
     "output_type": "execute_result"
    }
   ],
   "source": [
    "fr.seek(0)"
   ]
  },
  {
   "cell_type": "code",
   "execution_count": 15,
   "id": "ea0fb2e5",
   "metadata": {},
   "outputs": [
    {
     "data": {
      "text/plain": [
       "'hey there how are you?\\n'"
      ]
     },
     "execution_count": 15,
     "metadata": {},
     "output_type": "execute_result"
    }
   ],
   "source": [
    "fr.readline()"
   ]
  },
  {
   "cell_type": "code",
   "execution_count": 17,
   "id": "738f7aae",
   "metadata": {},
   "outputs": [
    {
     "data": {
      "text/plain": [
       "24"
      ]
     },
     "execution_count": 17,
     "metadata": {},
     "output_type": "execute_result"
    }
   ],
   "source": [
    "fr.tell()"
   ]
  },
  {
   "cell_type": "code",
   "execution_count": 18,
   "id": "7f83b18c",
   "metadata": {},
   "outputs": [
    {
     "data": {
      "text/plain": [
       "'Thank you\\n'"
      ]
     },
     "execution_count": 18,
     "metadata": {},
     "output_type": "execute_result"
    }
   ],
   "source": [
    "fr.readline()"
   ]
  },
  {
   "cell_type": "code",
   "execution_count": 19,
   "id": "fee2e32b",
   "metadata": {},
   "outputs": [
    {
     "data": {
      "text/plain": [
       "'I am good\\n'"
      ]
     },
     "execution_count": 19,
     "metadata": {},
     "output_type": "execute_result"
    }
   ],
   "source": [
    "fr.readline()"
   ]
  },
  {
   "cell_type": "code",
   "execution_count": 20,
   "id": "bcdc857b",
   "metadata": {},
   "outputs": [
    {
     "data": {
      "text/plain": [
       "'How about you?'"
      ]
     },
     "execution_count": 20,
     "metadata": {},
     "output_type": "execute_result"
    }
   ],
   "source": [
    "fr.readline()"
   ]
  },
  {
   "cell_type": "code",
   "execution_count": 21,
   "id": "7d5012b2",
   "metadata": {},
   "outputs": [
    {
     "data": {
      "text/plain": [
       "''"
      ]
     },
     "execution_count": 21,
     "metadata": {},
     "output_type": "execute_result"
    }
   ],
   "source": [
    "fr.readline()"
   ]
  },
  {
   "cell_type": "code",
   "execution_count": 22,
   "id": "273f389d",
   "metadata": {},
   "outputs": [
    {
     "data": {
      "text/plain": [
       "60"
      ]
     },
     "execution_count": 22,
     "metadata": {},
     "output_type": "execute_result"
    }
   ],
   "source": [
    "fr.tell()"
   ]
  },
  {
   "cell_type": "code",
   "execution_count": 23,
   "id": "5656bc65",
   "metadata": {},
   "outputs": [
    {
     "data": {
      "text/plain": [
       "''"
      ]
     },
     "execution_count": 23,
     "metadata": {},
     "output_type": "execute_result"
    }
   ],
   "source": [
    "fr.read()"
   ]
  },
  {
   "cell_type": "code",
   "execution_count": 24,
   "id": "c83d6c6e",
   "metadata": {},
   "outputs": [
    {
     "data": {
      "text/plain": [
       "0"
      ]
     },
     "execution_count": 24,
     "metadata": {},
     "output_type": "execute_result"
    }
   ],
   "source": [
    "fr.seek(0)"
   ]
  },
  {
   "cell_type": "code",
   "execution_count": 25,
   "id": "6d190d68",
   "metadata": {},
   "outputs": [
    {
     "data": {
      "text/plain": [
       "['hey there how are you?\\n', 'Thank you\\n', 'I am good\\n', 'How about you?']"
      ]
     },
     "execution_count": 25,
     "metadata": {},
     "output_type": "execute_result"
    }
   ],
   "source": [
    "fr.readlines()"
   ]
  },
  {
   "cell_type": "code",
   "execution_count": 28,
   "id": "b9491832",
   "metadata": {},
   "outputs": [
    {
     "data": {
      "text/plain": [
       "'a,b,c\\nd,e,f\\ng,h,i'"
      ]
     },
     "execution_count": 28,
     "metadata": {},
     "output_type": "execute_result"
    }
   ],
   "source": [
    "open(r\"C:\\Users\\himan\\OneDrive\\Desktop\\test3.csv\", 'r').read()"
   ]
  },
  {
   "cell_type": "code",
   "execution_count": 29,
   "id": "e0eef3ad",
   "metadata": {},
   "outputs": [],
   "source": [
    "#### writing"
   ]
  },
  {
   "cell_type": "code",
   "execution_count": 30,
   "id": "9873cd2a",
   "metadata": {},
   "outputs": [],
   "source": [
    "fw = open('test4.txt', 'w')"
   ]
  },
  {
   "cell_type": "code",
   "execution_count": 31,
   "id": "9ac93748",
   "metadata": {},
   "outputs": [],
   "source": [
    "fw.write('This is a test\\n')\n",
    "fw.write('This is a second line\\n')\n",
    "fw.write('This is a third line\\n')\n",
    "fw.close()"
   ]
  },
  {
   "cell_type": "code",
   "execution_count": 32,
   "id": "fba487be",
   "metadata": {},
   "outputs": [],
   "source": [
    "fw = open('test.txt', 'w')"
   ]
  },
  {
   "cell_type": "code",
   "execution_count": 33,
   "id": "5ed137f8",
   "metadata": {},
   "outputs": [],
   "source": [
    "fw.write('This is a test\\n')\n",
    "fw.write('This is a second line\\n')\n",
    "fw.write('This is a third line\\n')\n",
    "fw.close()"
   ]
  },
  {
   "cell_type": "code",
   "execution_count": 34,
   "id": "139d8afd",
   "metadata": {},
   "outputs": [],
   "source": [
    "fw = open('test.txt', 'w')"
   ]
  },
  {
   "cell_type": "code",
   "execution_count": 36,
   "id": "e4d751e5",
   "metadata": {},
   "outputs": [],
   "source": [
    "fw.writelines(\n",
    "    ['This is a test\\n', 'This is a second line']\n",
    ")"
   ]
  },
  {
   "cell_type": "code",
   "execution_count": 37,
   "id": "33a0c037",
   "metadata": {},
   "outputs": [],
   "source": [
    "fw.close()"
   ]
  },
  {
   "cell_type": "code",
   "execution_count": 38,
   "id": "b5a8d05f",
   "metadata": {},
   "outputs": [],
   "source": [
    "fw = open('test.txt', 'w')"
   ]
  },
  {
   "cell_type": "code",
   "execution_count": 39,
   "id": "c941ea5f",
   "metadata": {},
   "outputs": [],
   "source": [
    "fw.writelines(\n",
    "    ['This is a 5th\\n', 'This is a 6th line']\n",
    ")"
   ]
  },
  {
   "cell_type": "code",
   "execution_count": 40,
   "id": "4199ef3d",
   "metadata": {},
   "outputs": [],
   "source": [
    "fw.close()"
   ]
  },
  {
   "cell_type": "code",
   "execution_count": 41,
   "id": "f3d32c75",
   "metadata": {},
   "outputs": [],
   "source": [
    "fa = open('test4.txt', 'a')"
   ]
  },
  {
   "cell_type": "code",
   "execution_count": 42,
   "id": "eb88989c",
   "metadata": {},
   "outputs": [
    {
     "data": {
      "text/plain": [
       "19"
      ]
     },
     "execution_count": 42,
     "metadata": {},
     "output_type": "execute_result"
    }
   ],
   "source": [
    "fa.write('This is a 4th line\\n')"
   ]
  },
  {
   "cell_type": "code",
   "execution_count": 43,
   "id": "f074c60a",
   "metadata": {},
   "outputs": [],
   "source": [
    "fa.close()"
   ]
  },
  {
   "cell_type": "code",
   "execution_count": null,
   "id": "7ddabf54",
   "metadata": {},
   "outputs": [],
   "source": []
  },
  {
   "cell_type": "code",
   "execution_count": null,
   "id": "abaebcec",
   "metadata": {},
   "outputs": [],
   "source": [
    "# task"
   ]
  },
  {
   "cell_type": "code",
   "execution_count": 44,
   "id": "42ecdd93",
   "metadata": {},
   "outputs": [],
   "source": [
    "fr = open('test4.txt', 'r')\n",
    "fw = open('test5.txt', 'w')\n",
    "\n",
    "content = fr.read()\n",
    "fw.write(content)\n",
    "\n",
    "fr.close()\n",
    "fw.close()"
   ]
  },
  {
   "cell_type": "code",
   "execution_count": null,
   "id": "4e56c65a",
   "metadata": {},
   "outputs": [
    {
     "name": "stdout",
     "output_type": "stream",
     "text": [
      "fr -  False\n",
      "fw -  False\n",
      "fr -  False\n",
      "fw -  False\n",
      "fr -  True\n",
      "fw -  True\n"
     ]
    }
   ],
   "source": [
    "with open('test4.txt', 'r') as fr:\n",
    "    print('fr - ', fr.closed)\n",
    "    with open('test6.txt', 'w') as fw:\n",
    "        print('fw - ', fw.closed)   \n",
    "        fw.write(fr.read())\n",
    "        print('fr - ', fr.closed)\n",
    "        print('fw - ', fw.closed)\n",
    "        \n",
    "print('fr - ', fr.closed)\n",
    "print('fw - ', fw.closed)"
   ]
  },
  {
   "cell_type": "code",
   "execution_count": null,
   "id": "393415b5",
   "metadata": {},
   "outputs": [],
   "source": []
  }
 ],
 "metadata": {
  "kernelspec": {
   "display_name": "Python 3",
   "language": "python",
   "name": "python3"
  },
  "language_info": {
   "codemirror_mode": {
    "name": "ipython",
    "version": 3
   },
   "file_extension": ".py",
   "mimetype": "text/x-python",
   "name": "python",
   "nbconvert_exporter": "python",
   "pygments_lexer": "ipython3",
   "version": "3.11.0"
  }
 },
 "nbformat": 4,
 "nbformat_minor": 5
}
