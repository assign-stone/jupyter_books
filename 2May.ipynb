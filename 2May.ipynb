{
 "cells": [
  {
   "cell_type": "code",
   "execution_count": 4,
   "id": "eaf30edc",
   "metadata": {},
   "outputs": [],
   "source": [
    "a = \"Some of the things [SonarCloud] spots are impressive (probably driven by some introspection and/or type inference), not just the simple pattern matching that I am used to in most of the flake8 ecosystem.\""
   ]
  },
  {
   "cell_type": "code",
   "execution_count": 5,
   "id": "9a9e1fe2",
   "metadata": {},
   "outputs": [
    {
     "data": {
      "text/plain": [
       "'Some of the things [SonarCloud] spots are impressive (probably driven by some introspection and/or type inference), not just the simple pattern matching that I am used to in most of the flake8 ecosystem.'"
      ]
     },
     "execution_count": 5,
     "metadata": {},
     "output_type": "execute_result"
    }
   ],
   "source": [
    "a"
   ]
  },
  {
   "cell_type": "code",
   "execution_count": 6,
   "id": "eee56348",
   "metadata": {},
   "outputs": [
    {
     "data": {
      "text/plain": [
       "'Someofthethings[SonarCloud]spotsareimpressive(probablydrivenbysomeintrospectionand/ortypeinference),notjustthesimplepatternmatchingthatIamusedtoinmostoftheflake8ecosystem.'"
      ]
     },
     "execution_count": 6,
     "metadata": {},
     "output_type": "execute_result"
    }
   ],
   "source": [
    "a.replace(\" \",\"\")\n"
   ]
  },
  {
   "cell_type": "code",
   "execution_count": 7,
   "id": "a6300345",
   "metadata": {},
   "outputs": [
    {
     "data": {
      "text/plain": [
       "203"
      ]
     },
     "execution_count": 7,
     "metadata": {},
     "output_type": "execute_result"
    }
   ],
   "source": [
    "len(a)"
   ]
  },
  {
   "cell_type": "code",
   "execution_count": 8,
   "id": "9a5045a9",
   "metadata": {},
   "outputs": [
    {
     "data": {
      "text/plain": [
       "2"
      ]
     },
     "execution_count": 8,
     "metadata": {},
     "output_type": "execute_result"
    }
   ],
   "source": [
    "a.count(\"of\")"
   ]
  },
  {
   "cell_type": "code",
   "execution_count": 11,
   "id": "14df1d34",
   "metadata": {},
   "outputs": [
    {
     "data": {
      "text/plain": [
       "1"
      ]
     },
     "execution_count": 11,
     "metadata": {},
     "output_type": "execute_result"
    }
   ],
   "source": [
    "a.count(\"just\",20,130)"
   ]
  },
  {
   "cell_type": "code",
   "execution_count": 12,
   "id": "4606ab7f",
   "metadata": {},
   "outputs": [
    {
     "data": {
      "text/plain": [
       "1"
      ]
     },
     "execution_count": 12,
     "metadata": {},
     "output_type": "execute_result"
    }
   ],
   "source": [
    "a.count('just',20)"
   ]
  },
  {
   "cell_type": "code",
   "execution_count": 13,
   "id": "596f696c",
   "metadata": {},
   "outputs": [
    {
     "data": {
      "text/plain": [
       "1"
      ]
     },
     "execution_count": 13,
     "metadata": {},
     "output_type": "execute_result"
    }
   ],
   "source": [
    "a.count(\"fl\")"
   ]
  },
  {
   "cell_type": "code",
   "execution_count": 14,
   "id": "e521d79a",
   "metadata": {},
   "outputs": [
    {
     "data": {
      "text/plain": [
       "1"
      ]
     },
     "execution_count": 14,
     "metadata": {},
     "output_type": "execute_result"
    }
   ],
   "source": [
    "a.count(\" fl\")"
   ]
  },
  {
   "cell_type": "code",
   "execution_count": 16,
   "id": "6b15d2cc",
   "metadata": {},
   "outputs": [
    {
     "data": {
      "text/plain": [
       "'Shivani Joshi'"
      ]
     },
     "execution_count": 16,
     "metadata": {},
     "output_type": "execute_result"
    }
   ],
   "source": [
    "a1 = \" Shivani Joshi \"\n",
    "b= a1.strip()\n",
    "b"
   ]
  },
  {
   "cell_type": "code",
   "execution_count": 17,
   "id": "cec0d208",
   "metadata": {},
   "outputs": [
    {
     "data": {
      "text/plain": [
       "'ShivaniJoshi'"
      ]
     },
     "execution_count": 17,
     "metadata": {},
     "output_type": "execute_result"
    }
   ],
   "source": [
    "b.replace(\" \",\"\")"
   ]
  },
  {
   "cell_type": "code",
   "execution_count": 19,
   "id": "78501181",
   "metadata": {},
   "outputs": [
    {
     "data": {
      "text/plain": [
       "'Shivani Joshi '"
      ]
     },
     "execution_count": 19,
     "metadata": {},
     "output_type": "execute_result"
    }
   ],
   "source": [
    "a1.lstrip()"
   ]
  },
  {
   "cell_type": "code",
   "execution_count": 20,
   "id": "cbea0ce7",
   "metadata": {},
   "outputs": [
    {
     "data": {
      "text/plain": [
       "' Shivani Joshi'"
      ]
     },
     "execution_count": 20,
     "metadata": {},
     "output_type": "execute_result"
    }
   ],
   "source": [
    "a1.rstrip()"
   ]
  },
  {
   "cell_type": "code",
   "execution_count": 21,
   "id": "197a94c5",
   "metadata": {},
   "outputs": [],
   "source": [
    "#replace is work on start, end and middle space only when space count is equal"
   ]
  },
  {
   "cell_type": "code",
   "execution_count": 22,
   "id": "78520bb9",
   "metadata": {},
   "outputs": [
    {
     "data": {
      "text/plain": [
       "False"
      ]
     },
     "execution_count": 22,
     "metadata": {},
     "output_type": "execute_result"
    }
   ],
   "source": [
    "a1.startswith(\"shi\")"
   ]
  },
  {
   "cell_type": "code",
   "execution_count": 23,
   "id": "4edd051d",
   "metadata": {},
   "outputs": [
    {
     "data": {
      "text/plain": [
       "True"
      ]
     },
     "execution_count": 23,
     "metadata": {},
     "output_type": "execute_result"
    }
   ],
   "source": [
    "a1.endswith(\" \")"
   ]
  },
  {
   "cell_type": "code",
   "execution_count": 24,
   "id": "0f03658f",
   "metadata": {},
   "outputs": [],
   "source": [
    "name = \"  Avi  Singh  \""
   ]
  },
  {
   "cell_type": "code",
   "execution_count": 25,
   "id": "2fa630d6",
   "metadata": {},
   "outputs": [
    {
     "data": {
      "text/plain": [
       "' Avi Singh '"
      ]
     },
     "execution_count": 25,
     "metadata": {},
     "output_type": "execute_result"
    }
   ],
   "source": [
    "name.replace(\"  \",\" \")"
   ]
  },
  {
   "cell_type": "code",
   "execution_count": 26,
   "id": "c4c75353",
   "metadata": {},
   "outputs": [
    {
     "data": {
      "text/plain": [
       "True"
      ]
     },
     "execution_count": 26,
     "metadata": {},
     "output_type": "execute_result"
    }
   ],
   "source": [
    "#isalnum\n",
    "\n",
    "string = \"Python1\"\n",
    "string.isalnum()"
   ]
  },
  {
   "cell_type": "code",
   "execution_count": 27,
   "id": "37630341",
   "metadata": {},
   "outputs": [
    {
     "data": {
      "text/plain": [
       "True"
      ]
     },
     "execution_count": 27,
     "metadata": {},
     "output_type": "execute_result"
    }
   ],
   "source": [
    "string.isalnum()"
   ]
  },
  {
   "cell_type": "code",
   "execution_count": 28,
   "id": "93dd527e",
   "metadata": {},
   "outputs": [
    {
     "data": {
      "text/plain": [
       "False"
      ]
     },
     "execution_count": 28,
     "metadata": {},
     "output_type": "execute_result"
    }
   ],
   "source": [
    "str = \"Python1 \"\n",
    "str.isalnum()"
   ]
  },
  {
   "cell_type": "code",
   "execution_count": 30,
   "id": "9a407770",
   "metadata": {},
   "outputs": [
    {
     "data": {
      "text/plain": [
       "False"
      ]
     },
     "execution_count": 30,
     "metadata": {},
     "output_type": "execute_result"
    }
   ],
   "source": [
    "str1 = \"Python1@\"\n",
    "str1.isalnum()"
   ]
  },
  {
   "cell_type": "code",
   "execution_count": 31,
   "id": "8c22131c",
   "metadata": {},
   "outputs": [
    {
     "data": {
      "text/plain": [
       "True"
      ]
     },
     "execution_count": 31,
     "metadata": {},
     "output_type": "execute_result"
    }
   ],
   "source": [
    "pan = \"AHVPR1029D\"\n",
    "pan.isalnum()"
   ]
  },
  {
   "cell_type": "code",
   "execution_count": 32,
   "id": "92f36828",
   "metadata": {},
   "outputs": [
    {
     "data": {
      "text/plain": [
       "True"
      ]
     },
     "execution_count": 32,
     "metadata": {},
     "output_type": "execute_result"
    }
   ],
   "source": [
    "string.isalpha()"
   ]
  },
  {
   "cell_type": "code",
   "execution_count": 36,
   "id": "432a7efb",
   "metadata": {},
   "outputs": [
    {
     "data": {
      "text/plain": [
       "False"
      ]
     },
     "execution_count": 36,
     "metadata": {},
     "output_type": "execute_result"
    }
   ],
   "source": [
    "str.isalpha()"
   ]
  },
  {
   "cell_type": "code",
   "execution_count": 35,
   "id": "4deed306",
   "metadata": {},
   "outputs": [
    {
     "data": {
      "text/plain": [
       "True"
      ]
     },
     "execution_count": 35,
     "metadata": {},
     "output_type": "execute_result"
    }
   ],
   "source": [
    "str2 = \"Python \"\n",
    "str2.strip().isalpha()"
   ]
  },
  {
   "cell_type": "code",
   "execution_count": 37,
   "id": "0780313e",
   "metadata": {},
   "outputs": [
    {
     "data": {
      "text/plain": [
       "False"
      ]
     },
     "execution_count": 37,
     "metadata": {},
     "output_type": "execute_result"
    }
   ],
   "source": [
    "str3=\"Python@\"\n",
    "str3.isalpha()"
   ]
  },
  {
   "cell_type": "code",
   "execution_count": 39,
   "id": "620d3076",
   "metadata": {},
   "outputs": [
    {
     "data": {
      "text/plain": [
       "True"
      ]
     },
     "execution_count": 39,
     "metadata": {},
     "output_type": "execute_result"
    }
   ],
   "source": [
    "str4=\"12354\"\n",
    "str4.isdecimal()"
   ]
  },
  {
   "cell_type": "code",
   "execution_count": 40,
   "id": "e9e31a2c",
   "metadata": {},
   "outputs": [
    {
     "data": {
      "text/plain": [
       "False"
      ]
     },
     "execution_count": 40,
     "metadata": {},
     "output_type": "execute_result"
    }
   ],
   "source": [
    "str5= \"12.5\"\n",
    "str5.isdecimal()"
   ]
  },
  {
   "cell_type": "code",
   "execution_count": 41,
   "id": "632d39c5",
   "metadata": {},
   "outputs": [
    {
     "data": {
      "text/plain": [
       "False"
      ]
     },
     "execution_count": 41,
     "metadata": {},
     "output_type": "execute_result"
    }
   ],
   "source": [
    "string1 =\"12345 3456\"\n",
    "string1.isdecimal()"
   ]
  },
  {
   "cell_type": "code",
   "execution_count": 42,
   "id": "1d92b8c7",
   "metadata": {},
   "outputs": [
    {
     "data": {
      "text/plain": [
       "True"
      ]
     },
     "execution_count": 42,
     "metadata": {},
     "output_type": "execute_result"
    }
   ],
   "source": [
    "string1.replace(\" \",\"\").isdecimal()"
   ]
  },
  {
   "cell_type": "code",
   "execution_count": 43,
   "id": "76bbceea",
   "metadata": {},
   "outputs": [],
   "source": [
    "#isdigit\n"
   ]
  },
  {
   "cell_type": "code",
   "execution_count": 51,
   "id": "169ca304",
   "metadata": {},
   "outputs": [
    {
     "data": {
      "text/plain": [
       "True"
      ]
     },
     "execution_count": 51,
     "metadata": {},
     "output_type": "execute_result"
    }
   ],
   "source": [
    "l = [\"shivani\",\"mahesh\",\"sunanda\",\"joshi\"]\n",
    "l[0].isalnum()"
   ]
  },
  {
   "cell_type": "code",
   "execution_count": 52,
   "id": "a1d90e36",
   "metadata": {},
   "outputs": [
    {
     "data": {
      "text/plain": [
       "True"
      ]
     },
     "execution_count": 52,
     "metadata": {},
     "output_type": "execute_result"
    }
   ],
   "source": [
    "a=l[0]\n",
    "a.isalnum()"
   ]
  },
  {
   "cell_type": "code",
   "execution_count": 53,
   "id": "f11cc389",
   "metadata": {},
   "outputs": [
    {
     "data": {
      "text/plain": [
       "True"
      ]
     },
     "execution_count": 53,
     "metadata": {},
     "output_type": "execute_result"
    }
   ],
   "source": [
    "b = l[1]\n",
    "b.isalnum()"
   ]
  },
  {
   "cell_type": "code",
   "execution_count": 54,
   "id": "16b994d4",
   "metadata": {},
   "outputs": [
    {
     "data": {
      "text/plain": [
       "True"
      ]
     },
     "execution_count": 54,
     "metadata": {},
     "output_type": "execute_result"
    }
   ],
   "source": [
    "c = l[2]\n",
    "c.isalnum()"
   ]
  },
  {
   "cell_type": "code",
   "execution_count": 55,
   "id": "47d6a5f7",
   "metadata": {},
   "outputs": [
    {
     "data": {
      "text/plain": [
       "True"
      ]
     },
     "execution_count": 55,
     "metadata": {},
     "output_type": "execute_result"
    }
   ],
   "source": [
    "d = l[3]\n",
    "d.isalnum()"
   ]
  },
  {
   "cell_type": "code",
   "execution_count": 56,
   "id": "5ebdc5f5",
   "metadata": {},
   "outputs": [
    {
     "data": {
      "text/plain": [
       "True"
      ]
     },
     "execution_count": 56,
     "metadata": {},
     "output_type": "execute_result"
    }
   ],
   "source": [
    "l[0].isalpha()"
   ]
  },
  {
   "cell_type": "code",
   "execution_count": 57,
   "id": "c69d4f40",
   "metadata": {},
   "outputs": [
    {
     "data": {
      "text/plain": [
       "False"
      ]
     },
     "execution_count": 57,
     "metadata": {},
     "output_type": "execute_result"
    }
   ],
   "source": [
    "l[1].isdigit()"
   ]
  },
  {
   "cell_type": "markdown",
   "id": "6a7f3c7b",
   "metadata": {},
   "source": [
    "# Control flow statements"
   ]
  },
  {
   "cell_type": "code",
   "execution_count": 59,
   "id": "e6e043ba",
   "metadata": {},
   "outputs": [],
   "source": [
    "a = 2"
   ]
  },
  {
   "cell_type": "code",
   "execution_count": 62,
   "id": "0639ed4d",
   "metadata": {},
   "outputs": [
    {
     "name": "stdout",
     "output_type": "stream",
     "text": [
      "256\n"
     ]
    }
   ],
   "source": [
    "if a>5:\n",
    "    print(a)\n",
    "else:\n",
    "    a = a**a\n",
    "    print(a)"
   ]
  },
  {
   "cell_type": "code",
   "execution_count": 67,
   "id": "15c18847",
   "metadata": {},
   "outputs": [
    {
     "name": "stdout",
     "output_type": "stream",
     "text": [
      "Shivani\n"
     ]
    }
   ],
   "source": [
    "name = \"Shivani\"\n",
    "\n",
    "if name.isalpha() == True:\n",
    "    print(name)\n",
    "else:\n",
    "    print(\"not valid\")"
   ]
  },
  {
   "cell_type": "code",
   "execution_count": 69,
   "id": "3dc99a56",
   "metadata": {},
   "outputs": [
    {
     "name": "stdout",
     "output_type": "stream",
     "text": [
      "not valid\n"
     ]
    }
   ],
   "source": [
    "name = \"Shivani \"\n",
    "\n",
    "if name.isalpha() == True:\n",
    "    print(name)\n",
    "else:\n",
    "    print(\"not valid\")"
   ]
  },
  {
   "cell_type": "code",
   "execution_count": 80,
   "id": "63033438",
   "metadata": {},
   "outputs": [
    {
     "name": "stdout",
     "output_type": "stream",
     "text": [
      "130\n"
     ]
    }
   ],
   "source": [
    "a = 100\n",
    "b = 30\n",
    "c =a+b\n",
    "\n",
    "if c>50:\n",
    "    print(c)\n",
    "else:\n",
    "    print(\"Value is less then 50\")"
   ]
  },
  {
   "cell_type": "code",
   "execution_count": 81,
   "id": "163f74aa",
   "metadata": {},
   "outputs": [
    {
     "name": "stdout",
     "output_type": "stream",
     "text": [
      "101\n"
     ]
    }
   ],
   "source": [
    "if a>10:\n",
    "    a = a+1\n",
    "    print(a)"
   ]
  },
  {
   "cell_type": "code",
   "execution_count": 82,
   "id": "312bad7c",
   "metadata": {},
   "outputs": [
    {
     "name": "stdout",
     "output_type": "stream",
     "text": [
      "0\n",
      "1\n",
      "2\n",
      "3\n",
      "4\n",
      "5\n"
     ]
    }
   ],
   "source": [
    "#for loop\n",
    "\n",
    "for i in range(0,6):\n",
    "    print(i)"
   ]
  },
  {
   "cell_type": "code",
   "execution_count": 83,
   "id": "8f0dff53",
   "metadata": {},
   "outputs": [
    {
     "name": "stdout",
     "output_type": "stream",
     "text": [
      "0 --------> 0\n",
      "1 --------> 1\n",
      "2 --------> 32\n",
      "3 --------> 243\n"
     ]
    }
   ],
   "source": [
    "for i in range(0,4):\n",
    "    x = i**5\n",
    "    print(i,\"-------->\",x)"
   ]
  },
  {
   "cell_type": "code",
   "execution_count": 84,
   "id": "a66ddcfd",
   "metadata": {},
   "outputs": [
    {
     "name": "stdout",
     "output_type": "stream",
     "text": [
      "S\n",
      "h\n",
      "i\n",
      "v\n",
      "a\n",
      "n\n",
      "i\n"
     ]
    }
   ],
   "source": [
    "name = \"Shivani\"\n",
    "for i in name:\n",
    "    print(i)"
   ]
  },
  {
   "cell_type": "code",
   "execution_count": 86,
   "id": "1113198e",
   "metadata": {},
   "outputs": [
    {
     "name": "stdout",
     "output_type": "stream",
     "text": [
      "S h\n",
      "S h\n",
      "S h\n"
     ]
    }
   ],
   "source": [
    "for i in range(len(name)-4):\n",
    "    print(name[0],name[1])"
   ]
  },
  {
   "cell_type": "code",
   "execution_count": 87,
   "id": "ae6827ac",
   "metadata": {},
   "outputs": [
    {
     "name": "stdout",
     "output_type": "stream",
     "text": [
      "0\n",
      "S\n",
      "1\n",
      "S\n",
      "2\n",
      "S\n"
     ]
    }
   ],
   "source": [
    "for i in range(3):\n",
    "    print(i)\n",
    "    print(name[0])"
   ]
  },
  {
   "cell_type": "code",
   "execution_count": 89,
   "id": "7125bcb4",
   "metadata": {},
   "outputs": [
    {
     "name": "stdout",
     "output_type": "stream",
     "text": [
      "0\n",
      "1\n",
      "2\n",
      "3\n",
      "4\n"
     ]
    }
   ],
   "source": [
    "for i in range(5):\n",
    "    print(i)"
   ]
  },
  {
   "cell_type": "code",
   "execution_count": 97,
   "id": "871272f5",
   "metadata": {},
   "outputs": [
    {
     "name": "stdout",
     "output_type": "stream",
     "text": [
      "0 Hello\n",
      "1 Hello\n",
      "2 Hello\n",
      "3 Hello\n",
      "4 Hello\n"
     ]
    }
   ],
   "source": [
    "for i in range(5):\n",
    "    print(i,\"Hello\")"
   ]
  },
  {
   "cell_type": "code",
   "execution_count": 96,
   "id": "40e14272",
   "metadata": {},
   "outputs": [
    {
     "name": "stdout",
     "output_type": "stream",
     "text": [
      "*\n",
      "*\n",
      "*\n",
      "*\n",
      "*\n"
     ]
    }
   ],
   "source": [
    "for i in range(5):\n",
    "    print(\"*\")"
   ]
  },
  {
   "cell_type": "code",
   "execution_count": 94,
   "id": "6efb7ead",
   "metadata": {},
   "outputs": [
    {
     "name": "stdout",
     "output_type": "stream",
     "text": [
      "* * * * * * * * * * "
     ]
    }
   ],
   "source": [
    "for i in range(5):\n",
    "    print(\"*\",\"*\", end=\" \")"
   ]
  },
  {
   "cell_type": "code",
   "execution_count": 95,
   "id": "8c4d82cc",
   "metadata": {},
   "outputs": [
    {
     "name": "stdout",
     "output_type": "stream",
     "text": [
      "* ** ** ** ** *"
     ]
    }
   ],
   "source": [
    "for i in range(5):\n",
    "    print(\"*\",\"*\", end=\"\")"
   ]
  },
  {
   "cell_type": "code",
   "execution_count": 99,
   "id": "8cb1708d",
   "metadata": {},
   "outputs": [
    {
     "name": "stdout",
     "output_type": "stream",
     "text": [
      "0 p\n",
      "1 y\n",
      "2 t\n",
      "3 h\n",
      "4 o\n",
      "5 n\n",
      "6  \n",
      "7 i\n",
      "8 s\n",
      "9  \n",
      "10 e\n",
      "11 a\n",
      "12 s\n",
      "13 y\n"
     ]
    }
   ],
   "source": [
    "name1 = \"python is easy\"\n",
    "for index,value in enumerate(name1):\n",
    "    print( index,value)"
   ]
  },
  {
   "cell_type": "code",
   "execution_count": 101,
   "id": "d54efd1f",
   "metadata": {},
   "outputs": [
    {
     "name": "stdout",
     "output_type": "stream",
     "text": [
      "* 2\n",
      "* 3.3\n",
      "* dog\n",
      "* True\n"
     ]
    }
   ],
   "source": [
    "li = [2,3.3,\"dog\",True]\n",
    "for i in li:\n",
    "    print(\"*\",i)"
   ]
  },
  {
   "cell_type": "code",
   "execution_count": null,
   "id": "9681274d",
   "metadata": {},
   "outputs": [],
   "source": []
  },
  {
   "cell_type": "code",
   "execution_count": null,
   "id": "890bc619",
   "metadata": {},
   "outputs": [],
   "source": []
  },
  {
   "cell_type": "code",
   "execution_count": null,
   "id": "79075182",
   "metadata": {},
   "outputs": [],
   "source": []
  }
 ],
 "metadata": {
  "kernelspec": {
   "display_name": "Python 3 (ipykernel)",
   "language": "python",
   "name": "python3"
  },
  "language_info": {
   "codemirror_mode": {
    "name": "ipython",
    "version": 3
   },
   "file_extension": ".py",
   "mimetype": "text/x-python",
   "name": "python",
   "nbconvert_exporter": "python",
   "pygments_lexer": "ipython3",
   "version": "3.9.12"
  }
 },
 "nbformat": 4,
 "nbformat_minor": 5
}
