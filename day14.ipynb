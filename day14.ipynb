{
 "cells": [
  {
   "cell_type": "code",
   "execution_count": 1,
   "id": "f3f6d85b",
   "metadata": {},
   "outputs": [],
   "source": [
    "import my_mod"
   ]
  },
  {
   "cell_type": "code",
   "execution_count": 12,
   "id": "877ef8cd",
   "metadata": {},
   "outputs": [
    {
     "name": "stdout",
     "output_type": "stream",
     "text": [
      "2025-06-12 11:18:59.410913\n",
      "my_mod\n"
     ]
    }
   ],
   "source": [
    "my_mod.main()"
   ]
  },
  {
   "cell_type": "code",
   "execution_count": 13,
   "id": "d9a38d5c",
   "metadata": {},
   "outputs": [
    {
     "data": {
      "text/plain": [
       "'my_mod'"
      ]
     },
     "execution_count": 13,
     "metadata": {},
     "output_type": "execute_result"
    }
   ],
   "source": [
    "my_mod.__name__"
   ]
  },
  {
   "cell_type": "code",
   "execution_count": 15,
   "id": "65ca7293",
   "metadata": {},
   "outputs": [
    {
     "name": "stdout",
     "output_type": "stream",
     "text": [
      "Modified File\n"
     ]
    }
   ],
   "source": [
    "from school.hr import student"
   ]
  },
  {
   "cell_type": "code",
   "execution_count": null,
   "id": "ffc89462",
   "metadata": {},
   "outputs": [],
   "source": []
  },
  {
   "cell_type": "code",
   "execution_count": null,
   "id": "f28cdd5a",
   "metadata": {},
   "outputs": [],
   "source": []
  },
  {
   "cell_type": "code",
   "execution_count": 17,
   "id": "63d59a9b",
   "metadata": {},
   "outputs": [],
   "source": [
    "up = lambda word : word.upper()"
   ]
  },
  {
   "cell_type": "code",
   "execution_count": 18,
   "id": "bc255b64",
   "metadata": {},
   "outputs": [
    {
     "data": {
      "text/plain": [
       "'ASDNVHAS'"
      ]
     },
     "execution_count": 18,
     "metadata": {},
     "output_type": "execute_result"
    }
   ],
   "source": [
    "up('asdnvhas')"
   ]
  },
  {
   "cell_type": "code",
   "execution_count": 20,
   "id": "b52e30df",
   "metadata": {},
   "outputs": [],
   "source": [
    "words = ['hey', 'how', 'are', 'you']"
   ]
  },
  {
   "cell_type": "code",
   "execution_count": 22,
   "id": "1f30e611",
   "metadata": {},
   "outputs": [
    {
     "name": "stdout",
     "output_type": "stream",
     "text": [
      "HEY\n",
      "HOW\n",
      "ARE\n",
      "YOU\n"
     ]
    }
   ],
   "source": [
    "for word in words:\n",
    "    print(up(word))"
   ]
  },
  {
   "cell_type": "code",
   "execution_count": 24,
   "id": "0bf69a87",
   "metadata": {},
   "outputs": [
    {
     "data": {
      "text/plain": [
       "['HEY', 'HOW', 'ARE', 'YOU']"
      ]
     },
     "execution_count": 24,
     "metadata": {},
     "output_type": "execute_result"
    }
   ],
   "source": [
    "list(map(lambda word : word.upper(), ['hey', 'how', 'are', 'you']))"
   ]
  },
  {
   "cell_type": "code",
   "execution_count": 26,
   "id": "71fa9c7d",
   "metadata": {},
   "outputs": [
    {
     "data": {
      "text/plain": [
       "False"
      ]
     },
     "execution_count": 26,
     "metadata": {},
     "output_type": "execute_result"
    }
   ],
   "source": [
    "odd_eve = lambda x: x%2==0\n",
    "odd_eve(3)"
   ]
  },
  {
   "cell_type": "code",
   "execution_count": 28,
   "id": "652fb426",
   "metadata": {},
   "outputs": [
    {
     "data": {
      "text/plain": [
       "[0, 2, 4, 6]"
      ]
     },
     "execution_count": 28,
     "metadata": {},
     "output_type": "execute_result"
    }
   ],
   "source": [
    "list(filter(lambda x: x%2==0, [0,1,2,3,4,5,6]))"
   ]
  },
  {
   "cell_type": "code",
   "execution_count": null,
   "id": "f371fd90",
   "metadata": {},
   "outputs": [],
   "source": [
    "# closures"
   ]
  },
  {
   "cell_type": "code",
   "execution_count": 61,
   "id": "5479a858",
   "metadata": {},
   "outputs": [],
   "source": [
    "def a_func():\n",
    "    z = 10\n",
    "    return('Output from a func', z)"
   ]
  },
  {
   "cell_type": "code",
   "execution_count": 62,
   "id": "0e45fa04",
   "metadata": {},
   "outputs": [],
   "source": [
    "b_func = a_func"
   ]
  },
  {
   "cell_type": "code",
   "execution_count": 63,
   "id": "2b5fe565",
   "metadata": {},
   "outputs": [
    {
     "data": {
      "text/plain": [
       "('Output from a func', 10)"
      ]
     },
     "execution_count": 63,
     "metadata": {},
     "output_type": "execute_result"
    }
   ],
   "source": [
    "b_func()"
   ]
  },
  {
   "cell_type": "code",
   "execution_count": 64,
   "id": "ef92f58e",
   "metadata": {},
   "outputs": [
    {
     "ename": "NameError",
     "evalue": "name 'z' is not defined",
     "output_type": "error",
     "traceback": [
      "\u001b[31m---------------------------------------------------------------------------\u001b[39m",
      "\u001b[31mNameError\u001b[39m                                 Traceback (most recent call last)",
      "\u001b[36mCell\u001b[39m\u001b[36m \u001b[39m\u001b[32mIn[64]\u001b[39m\u001b[32m, line 1\u001b[39m\n\u001b[32m----> \u001b[39m\u001b[32m1\u001b[39m \u001b[43mz\u001b[49m\n",
      "\u001b[31mNameError\u001b[39m: name 'z' is not defined"
     ]
    }
   ],
   "source": [
    "z"
   ]
  },
  {
   "cell_type": "code",
   "execution_count": 50,
   "id": "d1227e85",
   "metadata": {},
   "outputs": [],
   "source": [
    "def outer():\n",
    "    def inner():\n",
    "        print('Inner ran')\n",
    "    return inner"
   ]
  },
  {
   "cell_type": "code",
   "execution_count": 51,
   "id": "bcf41fe7",
   "metadata": {},
   "outputs": [
    {
     "data": {
      "text/plain": [
       "<function __main__.outer.<locals>.inner()>"
      ]
     },
     "execution_count": 51,
     "metadata": {},
     "output_type": "execute_result"
    }
   ],
   "source": [
    "outer()"
   ]
  },
  {
   "cell_type": "code",
   "execution_count": 52,
   "id": "a0835287",
   "metadata": {},
   "outputs": [],
   "source": [
    "c_func = outer()\n",
    "# c_func = inner"
   ]
  },
  {
   "cell_type": "code",
   "execution_count": 53,
   "id": "c66a8242",
   "metadata": {},
   "outputs": [
    {
     "name": "stdout",
     "output_type": "stream",
     "text": [
      "Inner ran\n"
     ]
    }
   ],
   "source": [
    "c_func()"
   ]
  },
  {
   "cell_type": "code",
   "execution_count": 58,
   "id": "a97c3922",
   "metadata": {},
   "outputs": [],
   "source": [
    "def outer():\n",
    "    a = 1\n",
    "    def inner():\n",
    "        b = 2\n",
    "        print(a,b)\n",
    "    return inner"
   ]
  },
  {
   "cell_type": "code",
   "execution_count": 59,
   "id": "5f8ab746",
   "metadata": {},
   "outputs": [],
   "source": [
    "d_func = outer()"
   ]
  },
  {
   "cell_type": "code",
   "execution_count": 60,
   "id": "3244cdcd",
   "metadata": {},
   "outputs": [
    {
     "name": "stdout",
     "output_type": "stream",
     "text": [
      "1 2\n"
     ]
    }
   ],
   "source": [
    "d_func()"
   ]
  },
  {
   "cell_type": "code",
   "execution_count": 65,
   "id": "cbf6d6e6",
   "metadata": {},
   "outputs": [],
   "source": [
    "#### decorator"
   ]
  },
  {
   "cell_type": "code",
   "execution_count": 77,
   "id": "9bbab032",
   "metadata": {},
   "outputs": [],
   "source": [
    "def adder(a,b):\n",
    "    return(a+b)"
   ]
  },
  {
   "cell_type": "code",
   "execution_count": 79,
   "id": "7915eb57",
   "metadata": {},
   "outputs": [
    {
     "data": {
      "text/plain": [
       "7"
      ]
     },
     "execution_count": 79,
     "metadata": {},
     "output_type": "execute_result"
    }
   ],
   "source": [
    "adder(5,2)"
   ]
  },
  {
   "cell_type": "code",
   "execution_count": null,
   "id": "167cf263",
   "metadata": {},
   "outputs": [],
   "source": [
    "def decorator(func):\n",
    "    def inner(*args):\n",
    "        old_op = func(args[0], args[1])   # old_op = adder()\n",
    "        new_op = str(old_op)\n",
    "        return('the sum is ',new_op)\n",
    "    return inner"
   ]
  },
  {
   "cell_type": "code",
   "execution_count": null,
   "id": "5eb85c43",
   "metadata": {},
   "outputs": [],
   "source": [
    "def adder(a,b):\n",
    "    return(a+b)"
   ]
  },
  {
   "cell_type": "code",
   "execution_count": 93,
   "id": "53bfe649",
   "metadata": {},
   "outputs": [
    {
     "data": {
      "text/plain": [
       "('the sum is ', '3')"
      ]
     },
     "execution_count": 93,
     "metadata": {},
     "output_type": "execute_result"
    }
   ],
   "source": [
    "adder(1,2)  ### inner(1,2)"
   ]
  },
  {
   "cell_type": "code",
   "execution_count": 94,
   "id": "f251fbe1",
   "metadata": {},
   "outputs": [],
   "source": [
    "def adder(a,b):\n",
    "    return(a+b)"
   ]
  },
  {
   "cell_type": "code",
   "execution_count": 97,
   "id": "8fe2d901",
   "metadata": {},
   "outputs": [
    {
     "data": {
      "text/plain": [
       "('The sum is', 3)"
      ]
     },
     "execution_count": 97,
     "metadata": {},
     "output_type": "execute_result"
    }
   ],
   "source": [
    "'The sum is', adder(1,2)"
   ]
  },
  {
   "cell_type": "code",
   "execution_count": 99,
   "id": "31b43ba0",
   "metadata": {},
   "outputs": [
    {
     "ename": "ZeroDivisionError",
     "evalue": "division by zero",
     "output_type": "error",
     "traceback": [
      "\u001b[31m---------------------------------------------------------------------------\u001b[39m",
      "\u001b[31mZeroDivisionError\u001b[39m                         Traceback (most recent call last)",
      "\u001b[36mCell\u001b[39m\u001b[36m \u001b[39m\u001b[32mIn[99]\u001b[39m\u001b[32m, line 1\u001b[39m\n\u001b[32m----> \u001b[39m\u001b[32m1\u001b[39m \u001b[32;43m1\u001b[39;49m\u001b[43m/\u001b[49m\u001b[32;43m0\u001b[39;49m\n",
      "\u001b[31mZeroDivisionError\u001b[39m: division by zero"
     ]
    }
   ],
   "source": [
    "1/0"
   ]
  },
  {
   "cell_type": "code",
   "execution_count": 100,
   "id": "6965df1e",
   "metadata": {},
   "outputs": [
    {
     "name": "stdout",
     "output_type": "stream",
     "text": [
      "There was an error in your code\n"
     ]
    }
   ],
   "source": [
    "try:\n",
    "    1/0\n",
    "except:\n",
    "    print('There was an error in your code')"
   ]
  },
  {
   "cell_type": "code",
   "execution_count": 107,
   "id": "699087b5",
   "metadata": {},
   "outputs": [
    {
     "name": "stdout",
     "output_type": "stream",
     "text": [
      "2.0\n",
      "Code ran Succesfully\n"
     ]
    }
   ],
   "source": [
    "try:\n",
    "    a = int(input('Enter first number'))\n",
    "    b = int(input('Enter first number'))\n",
    "    print(a/b)\n",
    "except:\n",
    "    print('There was an error in your code')\n",
    "else:   #### only runs when there is no error in try block\n",
    "    print('Code ran Succesfully')"
   ]
  },
  {
   "cell_type": "code",
   "execution_count": null,
   "id": "7625e7a4",
   "metadata": {},
   "outputs": [],
   "source": [
    "try:\n",
    "    reading a file\n",
    "    processing a file\n",
    "    calculation on numbers inside the file\n",
    "except:\n",
    "    print('There was an error in your code')\n",
    "else:   #### only runs when there is no error in try block\n",
    "    print('Code ran Succesfully')"
   ]
  },
  {
   "cell_type": "code",
   "execution_count": 111,
   "id": "4c12eadf",
   "metadata": {},
   "outputs": [
    {
     "name": "stdout",
     "output_type": "stream",
     "text": [
      "There was an error in your code\n",
      "I will always run\n"
     ]
    }
   ],
   "source": [
    "try:\n",
    "    a = int(input('Enter first number'))\n",
    "    b = int(input('Enter first number'))\n",
    "    print(a/b)\n",
    "except:\n",
    "    print('There was an error in your code')\n",
    "finally:   #### always runs\n",
    "    print('I will always run')"
   ]
  },
  {
   "cell_type": "code",
   "execution_count": null,
   "id": "1ca52ab6",
   "metadata": {},
   "outputs": [],
   "source": [
    "#### 3rd party packages and inbuild modules"
   ]
  },
  {
   "cell_type": "code",
   "execution_count": 114,
   "id": "adeb01ec",
   "metadata": {},
   "outputs": [],
   "source": [
    "import math, os, sys"
   ]
  },
  {
   "cell_type": "code",
   "execution_count": 1,
   "id": "9c8fddc6",
   "metadata": {},
   "outputs": [
    {
     "ename": "ModuleNotFoundError",
     "evalue": "No module named 'xlrd'",
     "output_type": "error",
     "traceback": [
      "\u001b[31m---------------------------------------------------------------------------\u001b[39m",
      "\u001b[31mModuleNotFoundError\u001b[39m                       Traceback (most recent call last)",
      "\u001b[36mCell\u001b[39m\u001b[36m \u001b[39m\u001b[32mIn[1]\u001b[39m\u001b[32m, line 1\u001b[39m\n\u001b[32m----> \u001b[39m\u001b[32m1\u001b[39m \u001b[38;5;28;01mimport\u001b[39;00m\u001b[38;5;250m \u001b[39m\u001b[34;01mxlrd\u001b[39;00m\n",
      "\u001b[31mModuleNotFoundError\u001b[39m: No module named 'xlrd'"
     ]
    }
   ],
   "source": [
    "import xlrd"
   ]
  },
  {
   "cell_type": "code",
   "execution_count": 2,
   "id": "e7ba5183",
   "metadata": {},
   "outputs": [],
   "source": [
    "import xlrd"
   ]
  },
  {
   "cell_type": "code",
   "execution_count": 3,
   "id": "4c283a6d",
   "metadata": {},
   "outputs": [],
   "source": [
    "import pandas"
   ]
  },
  {
   "cell_type": "code",
   "execution_count": null,
   "id": "439a8ac9",
   "metadata": {},
   "outputs": [],
   "source": [
    "# import xlrd\n",
    "\n",
    "\n",
    "#### got to pypi.org\n",
    "#### search for the required packages\n",
    "#### download ******.tar.gz file\n",
    "#### unzip that file\n",
    "#### from vs code terminal cd to the directory where setup.py exists\n",
    "#### python setup.py install"
   ]
  },
  {
   "cell_type": "code",
   "execution_count": 3,
   "id": "86a239f9",
   "metadata": {},
   "outputs": [],
   "source": [
    "import datetime"
   ]
  },
  {
   "cell_type": "code",
   "execution_count": 4,
   "id": "46ee0388",
   "metadata": {},
   "outputs": [],
   "source": [
    "dt = '13-02-2025'"
   ]
  },
  {
   "cell_type": "code",
   "execution_count": 13,
   "id": "9927b673",
   "metadata": {},
   "outputs": [],
   "source": [
    "today = datetime.datetime.today()"
   ]
  },
  {
   "cell_type": "code",
   "execution_count": 14,
   "id": "9ef7f4b2",
   "metadata": {},
   "outputs": [
    {
     "data": {
      "text/plain": [
       "datetime.datetime"
      ]
     },
     "execution_count": 14,
     "metadata": {},
     "output_type": "execute_result"
    }
   ],
   "source": [
    "type(today)"
   ]
  },
  {
   "cell_type": "code",
   "execution_count": 15,
   "id": "d1de266a",
   "metadata": {},
   "outputs": [
    {
     "data": {
      "text/plain": [
       "datetime.date(2025, 6, 12)"
      ]
     },
     "execution_count": 15,
     "metadata": {},
     "output_type": "execute_result"
    }
   ],
   "source": [
    "today.date()"
   ]
  },
  {
   "cell_type": "code",
   "execution_count": 16,
   "id": "8a16744c",
   "metadata": {},
   "outputs": [
    {
     "data": {
      "text/plain": [
       "datetime.time(12, 36, 9, 184050)"
      ]
     },
     "execution_count": 16,
     "metadata": {},
     "output_type": "execute_result"
    }
   ],
   "source": [
    "today.time()"
   ]
  },
  {
   "cell_type": "code",
   "execution_count": 17,
   "id": "48b80671",
   "metadata": {},
   "outputs": [
    {
     "data": {
      "text/plain": [
       "'Thu Jun 12 12:36:09 2025'"
      ]
     },
     "execution_count": 17,
     "metadata": {},
     "output_type": "execute_result"
    }
   ],
   "source": [
    "today.ctime()"
   ]
  },
  {
   "cell_type": "code",
   "execution_count": 19,
   "id": "4b4f5341",
   "metadata": {},
   "outputs": [
    {
     "data": {
      "text/plain": [
       "'2025-06-12T12:36:09.184050'"
      ]
     },
     "execution_count": 19,
     "metadata": {},
     "output_type": "execute_result"
    }
   ],
   "source": [
    "today.isoformat()"
   ]
  },
  {
   "cell_type": "code",
   "execution_count": 29,
   "id": "950904dd",
   "metadata": {},
   "outputs": [],
   "source": [
    "datetime_date = datetime.datetime.strptime('12-Nov-2025', '%d-%b-%Y')"
   ]
  },
  {
   "cell_type": "code",
   "execution_count": 30,
   "id": "f5c5c084",
   "metadata": {},
   "outputs": [
    {
     "data": {
      "text/plain": [
       "'Wed Nov 12 00:00:00 2025'"
      ]
     },
     "execution_count": 30,
     "metadata": {},
     "output_type": "execute_result"
    }
   ],
   "source": [
    "datetime_date.ctime()"
   ]
  },
  {
   "cell_type": "code",
   "execution_count": 31,
   "id": "ca81360b",
   "metadata": {},
   "outputs": [
    {
     "data": {
      "text/plain": [
       "datetime.datetime(2025, 11, 12, 0, 0)"
      ]
     },
     "execution_count": 31,
     "metadata": {},
     "output_type": "execute_result"
    }
   ],
   "source": [
    "datetime_date"
   ]
  },
  {
   "cell_type": "code",
   "execution_count": 39,
   "id": "c0e8bcea",
   "metadata": {},
   "outputs": [
    {
     "data": {
      "text/plain": [
       "'12 Jun 25, Thursday'"
      ]
     },
     "execution_count": 39,
     "metadata": {},
     "output_type": "execute_result"
    }
   ],
   "source": [
    "datetime.datetime.strftime(datetime.datetime.today(), '%d %b %y, %A')"
   ]
  },
  {
   "cell_type": "code",
   "execution_count": 42,
   "id": "bf39f29a",
   "metadata": {},
   "outputs": [
    {
     "name": "stdout",
     "output_type": "stream",
     "text": [
      "division by zero\n"
     ]
    }
   ],
   "source": [
    "try:\n",
    "    a = 1\n",
    "    1/0\n",
    "except Exception as e:\n",
    "    print(e)"
   ]
  },
  {
   "cell_type": "code",
   "execution_count": null,
   "id": "2d5fa746",
   "metadata": {},
   "outputs": [],
   "source": []
  }
 ],
 "metadata": {
  "kernelspec": {
   "display_name": "Python 3",
   "language": "python",
   "name": "python3"
  },
  "language_info": {
   "codemirror_mode": {
    "name": "ipython",
    "version": 3
   },
   "file_extension": ".py",
   "mimetype": "text/x-python",
   "name": "python",
   "nbconvert_exporter": "python",
   "pygments_lexer": "ipython3",
   "version": "3.11.0"
  }
 },
 "nbformat": 4,
 "nbformat_minor": 5
}
