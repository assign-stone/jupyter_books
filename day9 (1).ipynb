{
 "cells": [
  {
   "cell_type": "code",
   "execution_count": null,
   "id": "1456304b",
   "metadata": {
    "id": "1456304b"
   },
   "outputs": [],
   "source": [
    "# while loop"
   ]
  },
  {
   "cell_type": "code",
   "execution_count": null,
   "id": "4ad85d61",
   "metadata": {
    "colab": {
     "base_uri": "https://localhost:8080/"
    },
    "executionInfo": {
     "elapsed": 37,
     "status": "ok",
     "timestamp": 1747739234790,
     "user": {
      "displayName": "Abhishek Patil",
      "userId": "03131674628466662537"
     },
     "user_tz": -330
    },
    "id": "4ad85d61",
    "outputId": "24d0398b-c2b1-407a-9294-70e681f1cb06"
   },
   "outputs": [
    {
     "name": "stdout",
     "output_type": "stream",
     "text": [
      "1\n",
      "2\n",
      "3\n",
      "4\n",
      "5\n"
     ]
    }
   ],
   "source": [
    "i = 1\n",
    "while i<=5:\n",
    "    print(i)\n",
    "    i=i+1"
   ]
  },
  {
   "cell_type": "code",
   "execution_count": 1,
   "id": "26324532",
   "metadata": {
    "id": "26324532"
   },
   "outputs": [
    {
     "name": "stdout",
     "output_type": "stream",
     "text": [
      "5\n",
      "4\n",
      "3\n",
      "2\n",
      "1\n"
     ]
    }
   ],
   "source": [
    "i = 5\n",
    "while i >=1:\n",
    "    print(i)\n",
    "    i =i -1"
   ]
  },
  {
   "cell_type": "code",
   "execution_count": null,
   "id": "bdcb0271",
   "metadata": {
    "id": "bdcb0271"
   },
   "outputs": [],
   "source": [
    "i = 1\n",
    "while i<=5:\n",
    "    i=i+1\n",
    "    print(i)\n"
   ]
  },
  {
   "cell_type": "code",
   "execution_count": 3,
   "id": "322d0016",
   "metadata": {
    "id": "322d0016"
   },
   "outputs": [],
   "source": [
    "s = 'Hey there how are yoU?'"
   ]
  },
  {
   "cell_type": "code",
   "execution_count": 4,
   "id": "8b4efbf1",
   "metadata": {
    "colab": {
     "base_uri": "https://localhost:8080/",
     "height": 211
    },
    "executionInfo": {
     "elapsed": 201,
     "status": "error",
     "timestamp": 1748696965961,
     "user": {
      "displayName": "Abhishek Patil",
      "userId": "03131674628466662537"
     },
     "user_tz": -330
    },
    "id": "8b4efbf1",
    "outputId": "ae563d9b-324b-4088-f8f1-a04e3d325a94"
   },
   "outputs": [
    {
     "name": "stdout",
     "output_type": "stream",
     "text": [
      "e\n",
      "e\n",
      "e\n",
      "o\n",
      "a\n",
      "e\n",
      "o\n",
      "U\n"
     ]
    }
   ],
   "source": [
    "i = 0\n",
    "while i < len(s):\n",
    "    if s[i].lower() in ['a', 'e', 'i', 'o', 'u']:\n",
    "        print(s[i])\n",
    "    i=i+1"
   ]
  },
  {
   "cell_type": "code",
   "execution_count": 5,
   "id": "54cd719b",
   "metadata": {
    "id": "54cd719b"
   },
   "outputs": [
    {
     "name": "stdout",
     "output_type": "stream",
     "text": [
      "0\n",
      "1\n",
      "2\n"
     ]
    }
   ],
   "source": [
    "i = 0\n",
    "while i <= 5:\n",
    "    if i == 3:\n",
    "        break\n",
    "    print(i)\n",
    "    i=i+1\n"
   ]
  },
  {
   "cell_type": "code",
   "execution_count": 6,
   "id": "8b565c22",
   "metadata": {
    "id": "8b565c22"
   },
   "outputs": [
    {
     "name": "stdout",
     "output_type": "stream",
     "text": [
      "1\n",
      "2\n",
      "4\n",
      "5\n",
      "6\n"
     ]
    }
   ],
   "source": [
    "# continue statement\n",
    "i =0\n",
    "while i <=5:\n",
    "    i=i+1\n",
    "    if i ==3:\n",
    "        continue\n",
    "    print(i)\n"
   ]
  },
  {
   "cell_type": "code",
   "execution_count": 7,
   "id": "613d44c1",
   "metadata": {
    "id": "613d44c1"
   },
   "outputs": [
    {
     "name": "stdout",
     "output_type": "stream",
     "text": [
      "1\n",
      "2\n",
      "3\n",
      "4\n",
      "5\n",
      "I am here\n"
     ]
    }
   ],
   "source": [
    "i = 1\n",
    "while i<=5:\n",
    "    print(i)\n",
    "    i=i+1\n",
    "else:\n",
    "    print('I am here')"
   ]
  },
  {
   "cell_type": "code",
   "execution_count": 8,
   "id": "a080a204",
   "metadata": {
    "id": "a080a204",
    "outputId": "1f717831-1341-4581-a59a-c1e0e2b49e1c"
   },
   "outputs": [
    {
     "name": "stdout",
     "output_type": "stream",
     "text": [
      "0\n",
      "1\n",
      "2\n"
     ]
    }
   ],
   "source": [
    "i = 0\n",
    "while i <= 5:\n",
    "    if i == 3:\n",
    "        break\n",
    "    print(i)\n",
    "    i=i+1\n",
    "else:\n",
    "    print('I am here')\n"
   ]
  },
  {
   "cell_type": "code",
   "execution_count": null,
   "id": "7cd3ee90",
   "metadata": {
    "id": "7cd3ee90",
    "outputId": "01196df6-e444-4769-a756-fb9e77b1bbef"
   },
   "outputs": [
    {
     "name": "stdout",
     "output_type": "stream",
     "text": [
      "1\n",
      "2\n",
      "4\n",
      "5\n",
      "6\n",
      "I am here\n"
     ]
    }
   ],
   "source": [
    "# continue statement\n",
    "i =0\n",
    "while i <=5:\n",
    "    i=i+1\n",
    "    if i ==3:\n",
    "        continue\n",
    "    print(i)\n",
    "\n",
    "else:\n",
    "    print('I am here')"
   ]
  },
  {
   "cell_type": "code",
   "execution_count": null,
   "id": "d17d9a47",
   "metadata": {
    "id": "d17d9a47"
   },
   "outputs": [],
   "source": []
  },
  {
   "cell_type": "code",
   "execution_count": null,
   "id": "e3794dd0",
   "metadata": {
    "id": "e3794dd0"
   },
   "outputs": [],
   "source": [
    "#### for loop"
   ]
  },
  {
   "cell_type": "code",
   "execution_count": null,
   "id": "0e6539d1",
   "metadata": {
    "id": "0e6539d1",
    "outputId": "826e55a6-e500-461b-9b97-5a6c614eeb27"
   },
   "outputs": [
    {
     "name": "stdout",
     "output_type": "stream",
     "text": [
      "1\n",
      "2\n",
      "3\n"
     ]
    }
   ],
   "source": [
    "for i in '123':\n",
    "    print(i)"
   ]
  },
  {
   "cell_type": "code",
   "execution_count": null,
   "id": "869bc947",
   "metadata": {
    "id": "869bc947",
    "outputId": "9fea10fa-2455-487d-a957-fbecd6270efc"
   },
   "outputs": [
    {
     "name": "stdout",
     "output_type": "stream",
     "text": [
      "1\n",
      "2\n",
      "3\n",
      "4\n"
     ]
    }
   ],
   "source": [
    "for i in [1,2,3,4]:\n",
    "    print(i)"
   ]
  },
  {
   "cell_type": "code",
   "execution_count": null,
   "id": "d420744f",
   "metadata": {
    "id": "d420744f",
    "outputId": "27e886ff-7b23-471a-80c8-1326e58235cf"
   },
   "outputs": [
    {
     "name": "stdout",
     "output_type": "stream",
     "text": [
      "1\n",
      "2\n",
      "3\n",
      "4\n"
     ]
    }
   ],
   "source": [
    "for i in (1,2,3,4):\n",
    "    print(i)"
   ]
  },
  {
   "cell_type": "code",
   "execution_count": null,
   "id": "c930dc18",
   "metadata": {
    "id": "c930dc18",
    "outputId": "7e3573ac-5423-4245-827a-f012350965dc"
   },
   "outputs": [
    {
     "name": "stdout",
     "output_type": "stream",
     "text": [
      "1\n",
      "2\n",
      "3\n",
      "4\n"
     ]
    }
   ],
   "source": [
    "for i in {1,2,3,4}:\n",
    "    print(i)"
   ]
  },
  {
   "cell_type": "code",
   "execution_count": null,
   "id": "05336710",
   "metadata": {
    "id": "05336710"
   },
   "outputs": [],
   "source": [
    "d = {'a':1, 'b':2, 'c':3, 'd':4}"
   ]
  },
  {
   "cell_type": "code",
   "execution_count": null,
   "id": "6c044ebd",
   "metadata": {
    "id": "6c044ebd",
    "outputId": "051a0e2e-d818-4a30-82d3-a68b546cae0d"
   },
   "outputs": [
    {
     "name": "stdout",
     "output_type": "stream",
     "text": [
      "a\n",
      "b\n",
      "c\n",
      "d\n"
     ]
    }
   ],
   "source": [
    "for i in d.keys():\n",
    "    print(i)"
   ]
  },
  {
   "cell_type": "code",
   "execution_count": null,
   "id": "2db36bde",
   "metadata": {
    "id": "2db36bde",
    "outputId": "1482e222-45f8-4ae1-c0a6-a8b600f57c11"
   },
   "outputs": [
    {
     "name": "stdout",
     "output_type": "stream",
     "text": [
      "1\n",
      "2\n",
      "3\n",
      "4\n"
     ]
    }
   ],
   "source": [
    "for i in d.values():\n",
    "    print(i)"
   ]
  },
  {
   "cell_type": "code",
   "execution_count": null,
   "id": "51b17969",
   "metadata": {
    "id": "51b17969",
    "outputId": "26b9717e-f694-49a4-8d26-e09ad03f8c41"
   },
   "outputs": [
    {
     "name": "stdout",
     "output_type": "stream",
     "text": [
      "a - 1\n",
      "b - 2\n",
      "c - 3\n",
      "d - 4\n"
     ]
    }
   ],
   "source": [
    "for k,v in d.items():\n",
    "    print(k, '-', v)"
   ]
  },
  {
   "cell_type": "code",
   "execution_count": null,
   "id": "fbecff34",
   "metadata": {
    "id": "fbecff34",
    "outputId": "30e74701-0a7e-4676-ab29-187d8428bf64"
   },
   "outputs": [
    {
     "data": {
      "text/plain": [
       "dict_items([('a', 1), ('b', 2), ('c', 3), ('d', 4)])"
      ]
     },
     "execution_count": 43,
     "metadata": {},
     "output_type": "execute_result"
    }
   ],
   "source": [
    "d.items()"
   ]
  },
  {
   "cell_type": "code",
   "execution_count": null,
   "id": "25fa090f",
   "metadata": {
    "id": "25fa090f",
    "outputId": "abcb2b59-8ae2-4895-f037-51dfed36c2ff"
   },
   "outputs": [
    {
     "name": "stdout",
     "output_type": "stream",
     "text": [
      "1\n",
      "2\n",
      "3\n",
      "4\n",
      "5\n"
     ]
    }
   ],
   "source": [
    "for i in range(5):\n",
    "    print(i+1)"
   ]
  },
  {
   "cell_type": "code",
   "execution_count": null,
   "id": "6160e7f6",
   "metadata": {
    "id": "6160e7f6",
    "outputId": "acb3aa6d-4eb3-49f7-dbe9-9d5dac7bd910"
   },
   "outputs": [
    {
     "data": {
      "text/plain": [
       "[0, 1, 2, 3, 4, 5, 6, 7, 8, 9, 10, 11, 12, 13, 14, 15, 16, 17, 18, 19, 20]"
      ]
     },
     "execution_count": 54,
     "metadata": {},
     "output_type": "execute_result"
    }
   ],
   "source": [
    "list(range(0,21))"
   ]
  },
  {
   "cell_type": "code",
   "execution_count": null,
   "id": "247c7151",
   "metadata": {
    "id": "247c7151",
    "outputId": "6632b892-2940-46d5-b2ad-7c598689a7f3"
   },
   "outputs": [
    {
     "name": "stdout",
     "output_type": "stream",
     "text": [
      "0\n",
      "2\n",
      "4\n",
      "6\n",
      "8\n",
      "10\n",
      "12\n",
      "14\n",
      "16\n",
      "18\n",
      "20\n"
     ]
    }
   ],
   "source": [
    "for i in range(0,21):\n",
    "    if i%2==0:\n",
    "        print(i)"
   ]
  },
  {
   "cell_type": "code",
   "execution_count": null,
   "id": "cb0b2fc9",
   "metadata": {
    "id": "cb0b2fc9"
   },
   "outputs": [],
   "source": [
    "# list comprehension"
   ]
  },
  {
   "cell_type": "code",
   "execution_count": null,
   "id": "3d3e8e76",
   "metadata": {
    "id": "3d3e8e76",
    "outputId": "83fc89d2-d57e-4dc6-e54a-818ab321c152"
   },
   "outputs": [
    {
     "data": {
      "text/plain": [
       "[0, 1, 2, 3, 4]"
      ]
     },
     "execution_count": 58,
     "metadata": {},
     "output_type": "execute_result"
    }
   ],
   "source": [
    "[i for i in range(5)]"
   ]
  },
  {
   "cell_type": "code",
   "execution_count": null,
   "id": "b844dc95",
   "metadata": {
    "id": "b844dc95",
    "outputId": "f599110e-7089-42c0-c87d-9928ff317b82"
   },
   "outputs": [
    {
     "data": {
      "text/plain": [
       "[1, 2, 3, 4, 5]"
      ]
     },
     "execution_count": 70,
     "metadata": {},
     "output_type": "execute_result"
    }
   ],
   "source": [
    "# for i in  range(5):\n",
    "#     print(i+1)\n",
    "\n",
    "[i+1 for i in range(5)]"
   ]
  },
  {
   "cell_type": "code",
   "execution_count": null,
   "id": "68af7043",
   "metadata": {
    "id": "68af7043",
    "outputId": "bbaeeb7a-a29c-4cb8-8de1-02da95c9617f"
   },
   "outputs": [
    {
     "name": "stdout",
     "output_type": "stream",
     "text": [
      "0\n",
      "2\n",
      "4\n",
      "6\n",
      "8\n"
     ]
    }
   ],
   "source": [
    "for i in range(10):\n",
    "    if i%2==0:\n",
    "        print(i)"
   ]
  },
  {
   "cell_type": "code",
   "execution_count": null,
   "id": "a282366b",
   "metadata": {
    "id": "a282366b",
    "outputId": "79ab1fdc-a4d3-4688-9512-13e94bb8d8e7"
   },
   "outputs": [
    {
     "data": {
      "text/plain": [
       "[0, 2, 4, 6, 8]"
      ]
     },
     "execution_count": 71,
     "metadata": {},
     "output_type": "execute_result"
    }
   ],
   "source": [
    "[i for i in range(10) if i%2==0]"
   ]
  },
  {
   "cell_type": "code",
   "execution_count": null,
   "id": "cf92632c",
   "metadata": {
    "id": "cf92632c",
    "outputId": "68932f74-7bb4-4b19-fda1-72b66e4896f2"
   },
   "outputs": [
    {
     "name": "stdout",
     "output_type": "stream",
     "text": [
      "0 even\n",
      "1 odd\n",
      "2 even\n",
      "3 odd\n",
      "4 even\n",
      "5 odd\n",
      "6 even\n",
      "7 odd\n",
      "8 even\n",
      "9 odd\n"
     ]
    }
   ],
   "source": [
    "for i in range(10):\n",
    "    if i%2==0:\n",
    "        print(i, 'even')\n",
    "    else:\n",
    "        print(i,'odd')"
   ]
  },
  {
   "cell_type": "code",
   "execution_count": null,
   "id": "6a9c8725",
   "metadata": {
    "id": "6a9c8725",
    "outputId": "1bfb3b0b-2935-4cee-d800-ece5af83b5f3"
   },
   "outputs": [
    {
     "data": {
      "text/plain": [
       "[(0, 'Even'),\n",
       " (1, 'Odd'),\n",
       " (2, 'Even'),\n",
       " (3, 'Odd'),\n",
       " (4, 'Even'),\n",
       " (5, 'Odd'),\n",
       " (6, 'Even'),\n",
       " (7, 'Odd'),\n",
       " (8, 'Even'),\n",
       " (9, 'Odd')]"
      ]
     },
     "execution_count": 74,
     "metadata": {},
     "output_type": "execute_result"
    }
   ],
   "source": [
    "[(i,'Even') if i%2==0 else (i,'Odd') for i in range(10)]"
   ]
  },
  {
   "cell_type": "code",
   "execution_count": null,
   "id": "b3580732",
   "metadata": {
    "id": "b3580732"
   },
   "outputs": [],
   "source": []
  },
  {
   "cell_type": "code",
   "execution_count": null,
   "id": "d3760bcd",
   "metadata": {
    "id": "d3760bcd",
    "outputId": "23b7628a-7d3b-48ac-fd07-bce26eacbd58"
   },
   "outputs": [
    {
     "data": {
      "text/plain": [
       "{0: 'even', 2: 'even', 4: 'even', 6: 'even', 8: 'even'}"
      ]
     },
     "execution_count": 83,
     "metadata": {},
     "output_type": "execute_result"
    }
   ],
   "source": [
    "{i:'even' for i in range(10)  if i%2==0 }"
   ]
  },
  {
   "cell_type": "code",
   "execution_count": null,
   "id": "27022966",
   "metadata": {
    "id": "27022966"
   },
   "outputs": [],
   "source": []
  }
 ],
 "metadata": {
  "colab": {
   "provenance": []
  },
  "kernelspec": {
   "display_name": "Python 3",
   "language": "python",
   "name": "python3"
  },
  "language_info": {
   "codemirror_mode": {
    "name": "ipython",
    "version": 3
   },
   "file_extension": ".py",
   "mimetype": "text/x-python",
   "name": "python",
   "nbconvert_exporter": "python",
   "pygments_lexer": "ipython3",
   "version": "3.11.1"
  }
 },
 "nbformat": 4,
 "nbformat_minor": 5
}
