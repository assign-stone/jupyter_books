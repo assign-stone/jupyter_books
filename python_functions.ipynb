{
 "cells": [
  {
   "cell_type": "markdown",
   "id": "311a29ce",
   "metadata": {},
   "source": [
    "Beginner Level (Function Basics):\n",
    "\n",
    "1. Write a function that takes a name as input and prints \"Hello, <name>!\"\n",
    "2. Create a function that takes two numbers and returns their sum.\n",
    "3. Write a function to check whether a number is even or odd.\n",
    "4. Write a function that takes a list of numbers and returns the maximum number.\n",
    "5. Define a function that calculates the area of a circle given the radius.\n",
    "6. Create a function that accepts a list and returns the number of even numbers in it.\n",
    "7. Write a function that takes a string and returns the reversed string.\n",
    "8. Define a function to find the factorial of a number using a loop.\n",
    "9. Write a function to calculate the square and cube of a number and return both.\n",
    "10. Create a function with default arguments for greeting: greet(name, msg=\"Good morning\")."
   ]
  },
  {
   "cell_type": "code",
   "execution_count": 2,
   "id": "9e41b56a",
   "metadata": {},
   "outputs": [],
   "source": [
    "def print_name(name):\n",
    "    print(name)"
   ]
  },
  {
   "cell_type": "code",
   "execution_count": 4,
   "id": "d259ecbf",
   "metadata": {},
   "outputs": [
    {
     "name": "stdout",
     "output_type": "stream",
     "text": [
      "Hello, !\n"
     ]
    }
   ],
   "source": [
    "print_name(\"Hello, !\")"
   ]
  },
  {
   "cell_type": "code",
   "execution_count": 5,
   "id": "fa15fdd6",
   "metadata": {},
   "outputs": [],
   "source": [
    "def sum(a, b):\n",
    "    c = a+b\n",
    "    return c"
   ]
  },
  {
   "cell_type": "code",
   "execution_count": 6,
   "id": "42777d63",
   "metadata": {},
   "outputs": [
    {
     "name": "stdout",
     "output_type": "stream",
     "text": [
      "64\n"
     ]
    }
   ],
   "source": [
    "result = sum(55,9)\n",
    "print(result)"
   ]
  },
  {
   "cell_type": "code",
   "execution_count": 7,
   "id": "ceedfe09",
   "metadata": {},
   "outputs": [],
   "source": [
    "def even_odd(num):\n",
    "    if num%2==0:\n",
    "        return \"Even\"\n",
    "    else:\n",
    "        return \"Odd\""
   ]
  },
  {
   "cell_type": "code",
   "execution_count": 8,
   "id": "b235b9c0",
   "metadata": {},
   "outputs": [
    {
     "name": "stdout",
     "output_type": "stream",
     "text": [
      "Odd\n"
     ]
    }
   ],
   "source": [
    "result = even_odd(7)\n",
    "print(result)"
   ]
  },
  {
   "cell_type": "code",
   "execution_count": 9,
   "id": "5a6bef3a",
   "metadata": {},
   "outputs": [],
   "source": [
    "def maximum(lis):\n",
    "    c = max(lis)\n",
    "    return c"
   ]
  },
  {
   "cell_type": "code",
   "execution_count": 12,
   "id": "317dca2f",
   "metadata": {},
   "outputs": [
    {
     "name": "stdout",
     "output_type": "stream",
     "text": [
      "82\n"
     ]
    }
   ],
   "source": [
    "lis = [3,5,76,9,82,44,0]\n",
    "print(maximum(lis))\n"
   ]
  },
  {
   "cell_type": "code",
   "execution_count": 13,
   "id": "fc14eb3a",
   "metadata": {},
   "outputs": [],
   "source": [
    "def area_of_circle(r):\n",
    "    area = 3.14*r*r\n",
    "    print(\"Area of circle of given radius: \",area)\n",
    "    "
   ]
  },
  {
   "cell_type": "code",
   "execution_count": 14,
   "id": "cb1b93f8",
   "metadata": {},
   "outputs": [
    {
     "name": "stdout",
     "output_type": "stream",
     "text": [
      "Area of circle of given radius:  78.5\n"
     ]
    }
   ],
   "source": [
    "r = int(input(\"Enter the value of radius to measure area of the circle\"))\n",
    "area_of_circle(r)"
   ]
  },
  {
   "cell_type": "code",
   "execution_count": 23,
   "id": "12c4cc89",
   "metadata": {},
   "outputs": [],
   "source": [
    "def num_of_evens(lis):\n",
    "    li = []\n",
    "    for i in lis:\n",
    "        if i%2==0:\n",
    "           li.append(i)\n",
    "    return li\n",
    "        "
   ]
  },
  {
   "cell_type": "code",
   "execution_count": 24,
   "id": "1322b356",
   "metadata": {},
   "outputs": [
    {
     "name": "stdout",
     "output_type": "stream",
     "text": [
      "[6, 22, 0, 54]\n"
     ]
    }
   ],
   "source": [
    "lis =[5,6,22,9,0,54,63,99]\n",
    "result =num_of_evens(lis)\n",
    "print(result)"
   ]
  },
  {
   "cell_type": "code",
   "execution_count": 25,
   "id": "7b9f1158",
   "metadata": {},
   "outputs": [],
   "source": [
    "def rev_string(str1):\n",
    "    str1=str1[::-1]\n",
    "    return str1"
   ]
  },
  {
   "cell_type": "code",
   "execution_count": 26,
   "id": "75291651",
   "metadata": {},
   "outputs": [
    {
     "name": "stdout",
     "output_type": "stream",
     "text": [
      "ylil si eman ym iH\n"
     ]
    }
   ],
   "source": [
    "print(rev_string(\"Hi my name is lily\"))\n"
   ]
  },
  {
   "cell_type": "code",
   "execution_count": 29,
   "id": "ce664ea2",
   "metadata": {},
   "outputs": [],
   "source": [
    "def fact(num):\n",
    "    f=1\n",
    "    for i in range(1,num+1):\n",
    "        f *=i\n",
    "    return f"
   ]
  },
  {
   "cell_type": "code",
   "execution_count": 30,
   "id": "0009ee13",
   "metadata": {},
   "outputs": [
    {
     "name": "stdout",
     "output_type": "stream",
     "text": [
      "120\n"
     ]
    }
   ],
   "source": [
    "print(fact(5))"
   ]
  },
  {
   "cell_type": "code",
   "execution_count": 31,
   "id": "9bb6e078",
   "metadata": {},
   "outputs": [],
   "source": [
    "def both_sq_cube(number):\n",
    "    sq = number**2\n",
    "    cube= number**3\n",
    "    \n",
    "    return sq,cube"
   ]
  },
  {
   "cell_type": "code",
   "execution_count": 32,
   "id": "d906490d",
   "metadata": {},
   "outputs": [
    {
     "name": "stdout",
     "output_type": "stream",
     "text": [
      "(64, 512)\n"
     ]
    }
   ],
   "source": [
    "result = both_sq_cube(8)\n",
    "print(result)\n"
   ]
  },
  {
   "cell_type": "code",
   "execution_count": 33,
   "id": "b0254020",
   "metadata": {},
   "outputs": [],
   "source": [
    "def greet(name, msg=\"Good morning\"):\n",
    "    print(name, msg)"
   ]
  },
  {
   "cell_type": "code",
   "execution_count": 37,
   "id": "7e47592e",
   "metadata": {},
   "outputs": [
    {
     "name": "stdout",
     "output_type": "stream",
     "text": [
      "Shivani 👋 Good morning\n"
     ]
    }
   ],
   "source": [
    "greet(\"Shivani 👋\")"
   ]
  },
  {
   "cell_type": "markdown",
   "id": "974872a4",
   "metadata": {},
   "source": [
    "\n",
    "Intermediate Level (Arguments, Scope, Lambda):\n",
    "\n",
    "11. Write a function that takes variable number of arguments and returns their average.\n",
    "12. Create a function to check whether a given string is a palindrome.\n",
    "13. Write a function that accepts a dictionary and prints all key-value pairs.\n",
    "14. Write a function that returns both the smallest and largest number in a list.\n",
    "15. Create a function that modifies a global variable (e.g., a counter)."
   ]
  },
  {
   "cell_type": "code",
   "execution_count": 6,
   "id": "c5cb3f0e",
   "metadata": {},
   "outputs": [],
   "source": [
    "def avrg(*arg):\n",
    "    count = 0\n",
    "    sum = 0\n",
    "    for i in arg:\n",
    "        count = count+1\n",
    "        sum = sum+i\n",
    "    c = sum/count\n",
    "    return c"
   ]
  },
  {
   "cell_type": "code",
   "execution_count": 7,
   "id": "4a0ed4a3",
   "metadata": {},
   "outputs": [
    {
     "name": "stdout",
     "output_type": "stream",
     "text": [
      "5.4\n"
     ]
    }
   ],
   "source": [
    "result = avrg(2,6,4,8,7)\n",
    "print(result)"
   ]
  },
  {
   "cell_type": "code",
   "execution_count": 8,
   "id": "d13d325b",
   "metadata": {},
   "outputs": [],
   "source": [
    "def rev_palin(string):\n",
    "    if string == string[::-1]:\n",
    "        return \"Palindrome\"\n",
    "    else:\n",
    "        return \"not Palindrome\""
   ]
  },
  {
   "cell_type": "code",
   "execution_count": 16,
   "id": "b2ae4e42",
   "metadata": {},
   "outputs": [
    {
     "name": "stdout",
     "output_type": "stream",
     "text": [
      "Palindrome\n"
     ]
    }
   ],
   "source": [
    "result = rev_palin(\"MOM\")\n",
    "print(result)"
   ]
  },
  {
   "cell_type": "code",
   "execution_count": 19,
   "id": "8a1363ae",
   "metadata": {},
   "outputs": [],
   "source": [
    "def dictionary_k_v(dic1):\n",
    "    for k,v in dic1.items():\n",
    "        print(k,v)"
   ]
  },
  {
   "cell_type": "code",
   "execution_count": 20,
   "id": "6b9ccca8",
   "metadata": {},
   "outputs": [
    {
     "name": "stdout",
     "output_type": "stream",
     "text": [
      "A 1\n",
      "B 2\n",
      "C 3\n"
     ]
    }
   ],
   "source": [
    "dic1 = {'A':1,'B':2,'C':3}\n",
    "dictionary_k_v(dic1)"
   ]
  },
  {
   "cell_type": "code",
   "execution_count": 28,
   "id": "99940fb4",
   "metadata": {},
   "outputs": [],
   "source": [
    "def smallest_largest(list1):\n",
    "    maxi = list1[0]\n",
    "    mini = list1[0]\n",
    "    for i in list1:\n",
    "        if i > maxi:\n",
    "            maxi = i\n",
    "            \n",
    "        if i<mini:\n",
    "            mini = i\n",
    "    return maxi, mini    \n",
    "        \n",
    "     "
   ]
  },
  {
   "cell_type": "code",
   "execution_count": 29,
   "id": "59ce6d9b",
   "metadata": {},
   "outputs": [
    {
     "name": "stdout",
     "output_type": "stream",
     "text": [
      "Smallest 25\n",
      "Largest 3\n"
     ]
    }
   ],
   "source": [
    "list1 = [3,6,5,8,11,25]\n",
    "result = smallest_largest(list1)\n",
    "print(\"Smallest\",result[0])\n",
    "print(\"Largest\",result[1])"
   ]
  },
  {
   "cell_type": "code",
   "execution_count": 32,
   "id": "77b3f7ac",
   "metadata": {},
   "outputs": [],
   "source": [
    "counter = 0 \n",
    "def counts():\n",
    "    global counter\n",
    "    counter = counter+1\n",
    "    print(\"Counter\", counter)"
   ]
  },
  {
   "cell_type": "code",
   "execution_count": 33,
   "id": "badab912",
   "metadata": {},
   "outputs": [
    {
     "name": "stdout",
     "output_type": "stream",
     "text": [
      "Counter 1\n",
      "Counter 2\n"
     ]
    }
   ],
   "source": [
    "counts()\n",
    "counts()"
   ]
  },
  {
   "cell_type": "markdown",
   "id": "eee1a1d1",
   "metadata": {},
   "source": [
    "\n",
    "Lambda and Functional Programming:\n",
    "\n",
    "16. Write a lambda function to calculate the square of a number.\n",
    "17. Use a lambda function with map() to double all elements in a list: [1, 2, 3, 4] -> [2, 4, 6, 8].\n",
    "18. Use a lambda function with filter() to get only even numbers from a list.\n",
    "19. Sort a list of tuples using a lambda function by the second item: [(1, 3), (2, 2), (3, 1)].\n",
    "20. Use a lambda function with reduce() to compute the product of all elements in a list. (Hint: Use\n",
    "'from functools import reduce')"
   ]
  },
  {
   "cell_type": "code",
   "execution_count": 40,
   "id": "06a68472",
   "metadata": {},
   "outputs": [
    {
     "name": "stdout",
     "output_type": "stream",
     "text": [
      "25\n"
     ]
    }
   ],
   "source": [
    "square = lambda x:x**2\n",
    "print(square(5))"
   ]
  },
  {
   "cell_type": "code",
   "execution_count": 41,
   "id": "083fab19",
   "metadata": {},
   "outputs": [
    {
     "data": {
      "text/plain": [
       "[2, 4, 6, 8]"
      ]
     },
     "execution_count": 41,
     "metadata": {},
     "output_type": "execute_result"
    }
   ],
   "source": [
    "double_elements = list(map(lambda lis : lis*2,[1,2,3,4]))\n",
    "double_elements"
   ]
  },
  {
   "cell_type": "code",
   "execution_count": 43,
   "id": "d9f6fb18",
   "metadata": {},
   "outputs": [
    {
     "data": {
      "text/plain": [
       "{2, 4, 6, 8}"
      ]
     },
     "execution_count": 43,
     "metadata": {},
     "output_type": "execute_result"
    }
   ],
   "source": [
    "even_num = list(filter(lambda x : x%2==0 , [2,4,6,4,7,8,2,8]))\n",
    "set(even_num)\n"
   ]
  },
  {
   "cell_type": "code",
   "execution_count": 45,
   "id": "b78ea9cf",
   "metadata": {},
   "outputs": [
    {
     "name": "stdout",
     "output_type": "stream",
     "text": [
      "[(3, 1), (2, 2), (1, 3)]\n"
     ]
    }
   ],
   "source": [
    "sort_list = [(1, 3), (2, 2), (3, 1)]\n",
    "sort_list.sort(key = lambda i :i[1])\n",
    "print(sort_list)"
   ]
  },
  {
   "cell_type": "code",
   "execution_count": 47,
   "id": "66ffecb9",
   "metadata": {},
   "outputs": [
    {
     "name": "stdout",
     "output_type": "stream",
     "text": [
      "2688\n"
     ]
    }
   ],
   "source": [
    "from functools import reduce\n",
    "\n",
    "numbers = [4,8,7,2,6]\n",
    "\n",
    "product = reduce(lambda x, y: x * y, numbers)\n",
    "\n",
    "print(product)\n"
   ]
  },
  {
   "cell_type": "code",
   "execution_count": null,
   "id": "f6eea0bb",
   "metadata": {},
   "outputs": [],
   "source": []
  }
 ],
 "metadata": {
  "kernelspec": {
   "display_name": "Python 3",
   "language": "python",
   "name": "python3"
  },
  "language_info": {
   "codemirror_mode": {
    "name": "ipython",
    "version": 3
   },
   "file_extension": ".py",
   "mimetype": "text/x-python",
   "name": "python",
   "nbconvert_exporter": "python",
   "pygments_lexer": "ipython3",
   "version": "3.11.1"
  }
 },
 "nbformat": 4,
 "nbformat_minor": 5
}
