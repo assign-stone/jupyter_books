{
 "cells": [
  {
   "cell_type": "markdown",
   "id": "33f07e2b",
   "metadata": {},
   "source": [
    "Level 1 - Basic Iteration (For/While)\n",
    "\n",
    "1. Print numbers from 1 to 10.\n",
    "2. Print the sum of first N natural numbers (input N).\n",
    "3. Print all even numbers from 1 to 100.\n",
    "4. Print numbers from 10 down to 1 using a while loop.\n",
    "5. Print the multiplication table of a given number up to 10."
   ]
  },
  {
   "cell_type": "code",
   "execution_count": 1,
   "id": "8bfe35eb",
   "metadata": {},
   "outputs": [
    {
     "name": "stdout",
     "output_type": "stream",
     "text": [
      "1\n",
      "2\n",
      "3\n",
      "4\n",
      "5\n",
      "6\n",
      "7\n",
      "8\n",
      "9\n",
      "10\n"
     ]
    }
   ],
   "source": [
    "#1 \n",
    "\n",
    "i =1\n",
    "while(i<=10):\n",
    "    print(i)\n",
    "    i = i+1"
   ]
  },
  {
   "cell_type": "code",
   "execution_count": 4,
   "id": "a68190aa",
   "metadata": {},
   "outputs": [
    {
     "name": "stdout",
     "output_type": "stream",
     "text": [
      "55\n"
     ]
    }
   ],
   "source": [
    "#2\n",
    "\n",
    "num = int(input(\"Enter the end number\"))\n",
    "sum = 0\n",
    "for i in range(1, num+1):\n",
    "    sum =sum+i\n",
    "print(sum)\n",
    "    \n",
    "    "
   ]
  },
  {
   "cell_type": "code",
   "execution_count": 6,
   "id": "d6744bda",
   "metadata": {},
   "outputs": [
    {
     "name": "stdout",
     "output_type": "stream",
     "text": [
      "2\n",
      "4\n",
      "6\n",
      "8\n",
      "10\n",
      "12\n",
      "14\n",
      "16\n",
      "18\n",
      "20\n",
      "22\n",
      "24\n",
      "26\n",
      "28\n",
      "30\n",
      "32\n",
      "34\n",
      "36\n",
      "38\n",
      "40\n",
      "42\n",
      "44\n",
      "46\n",
      "48\n",
      "50\n",
      "52\n",
      "54\n",
      "56\n",
      "58\n",
      "60\n",
      "62\n",
      "64\n",
      "66\n",
      "68\n",
      "70\n",
      "72\n",
      "74\n",
      "76\n",
      "78\n",
      "80\n",
      "82\n",
      "84\n",
      "86\n",
      "88\n",
      "90\n",
      "92\n",
      "94\n",
      "96\n",
      "98\n",
      "100\n"
     ]
    }
   ],
   "source": [
    "#3\n",
    "\n",
    "for i in range(1,101):\n",
    "    if i%2==0:\n",
    "        print(i)"
   ]
  },
  {
   "cell_type": "code",
   "execution_count": 9,
   "id": "7aee4ed2",
   "metadata": {},
   "outputs": [
    {
     "name": "stdout",
     "output_type": "stream",
     "text": [
      "10\n",
      "9\n",
      "8\n",
      "7\n",
      "6\n",
      "5\n",
      "4\n",
      "3\n",
      "2\n",
      "1\n"
     ]
    }
   ],
   "source": [
    "#4\n",
    "\n",
    "i = 10\n",
    "while i >=1:\n",
    "    print(i)\n",
    "    i = i-1\n"
   ]
  },
  {
   "cell_type": "code",
   "execution_count": 10,
   "id": "70e665a1",
   "metadata": {},
   "outputs": [
    {
     "name": "stdout",
     "output_type": "stream",
     "text": [
      "2 x 1 = 2\n",
      "2 x 2 = 4\n",
      "2 x 3 = 6\n",
      "2 x 4 = 8\n",
      "2 x 5 = 10\n",
      "2 x 6 = 12\n",
      "2 x 7 = 14\n",
      "2 x 8 = 16\n",
      "2 x 9 = 18\n",
      "2 x 10 = 20\n"
     ]
    }
   ],
   "source": [
    "#5\n",
    "\n",
    "num = int(input(\"enter the number for which you want table\"))\n",
    "\n",
    "for i in range(1,11):\n",
    "    print(num,\"x\",i,\"=\",num*i)"
   ]
  },
  {
   "cell_type": "markdown",
   "id": "fa7a3e55",
   "metadata": {},
   "source": [
    "Level 2 - Working with Collections\n",
    "\n",
    "6. Calculate the sum of all elements in the list [2, 5, 8, 3, 10].\n",
    "7. Count the number of vowels in a given string.\n",
    "8. Find the maximum element in a list without using max().\n",
    "9. Print each character of a string in reverse order using a loop.\n",
    "10. Count how many even numbers are in a list.\n"
   ]
  },
  {
   "cell_type": "code",
   "execution_count": 11,
   "id": "af0e916d",
   "metadata": {},
   "outputs": [
    {
     "name": "stdout",
     "output_type": "stream",
     "text": [
      "28\n"
     ]
    }
   ],
   "source": [
    "sum=0\n",
    "for i in [2,5,8,3,10]:\n",
    "    sum = sum+i\n",
    "print(sum)"
   ]
  },
  {
   "cell_type": "code",
   "execution_count": 30,
   "id": "311645a0",
   "metadata": {},
   "outputs": [
    {
     "name": "stdout",
     "output_type": "stream",
     "text": [
      "e\n",
      "e\n",
      "o\n",
      "i\n",
      "e\n",
      "a\n",
      "number of vowels in the string -> 6\n"
     ]
    }
   ],
   "source": [
    "s1 = \"I feel Python is easy \"\n",
    "\n",
    "count1=0\n",
    "for i in range(len(s1)):\n",
    "    if s1[i] in ['a','e','i','o','u']:\n",
    "        print(s1[i])\n",
    "        count1 = count1+1\n",
    "print(\"number of vowels in the string ->\",count1)\n",
    "        \n",
    "\n",
    "        \n",
    "        \n",
    "  "
   ]
  },
  {
   "cell_type": "code",
   "execution_count": 34,
   "id": "54257a30",
   "metadata": {},
   "outputs": [
    {
     "name": "stdout",
     "output_type": "stream",
     "text": [
      "10\n"
     ]
    }
   ],
   "source": [
    "lis = [2,5,7,4,10,1]\n",
    "\n",
    "max = lis[0]\n",
    "for i in lis[1:]:\n",
    "    if (i>max):\n",
    "        max=i\n",
    "print(max)"
   ]
  },
  {
   "cell_type": "code",
   "execution_count": 46,
   "id": "298d3054",
   "metadata": {},
   "outputs": [
    {
     "name": "stdout",
     "output_type": "stream",
     "text": [
      "[5, 6, 'shivani', 9]\n"
     ]
    }
   ],
   "source": [
    "lis2 = [5,6,\"shivani\",9]\n",
    "print(lis2)"
   ]
  },
  {
   "cell_type": "code",
   "execution_count": 47,
   "id": "472c4966",
   "metadata": {},
   "outputs": [],
   "source": [
    "lis2.reverse()"
   ]
  },
  {
   "cell_type": "code",
   "execution_count": 48,
   "id": "8ec1cdd2",
   "metadata": {},
   "outputs": [
    {
     "data": {
      "text/plain": [
       "[9, 'shivani', 6, 5]"
      ]
     },
     "execution_count": 48,
     "metadata": {},
     "output_type": "execute_result"
    }
   ],
   "source": [
    "lis2"
   ]
  },
  {
   "cell_type": "code",
   "execution_count": 49,
   "id": "3802c889",
   "metadata": {},
   "outputs": [
    {
     "name": "stdout",
     "output_type": "stream",
     "text": [
      "5\n",
      "6\n",
      "shivani\n",
      "9\n"
     ]
    }
   ],
   "source": [
    "for i in range(len(lis2)-1,-1,-1):\n",
    "    print(lis2[i])"
   ]
  },
  {
   "cell_type": "code",
   "execution_count": 50,
   "id": "9193fac1",
   "metadata": {},
   "outputs": [
    {
     "name": "stdout",
     "output_type": "stream",
     "text": [
      "7\n"
     ]
    }
   ],
   "source": [
    "lis3 = [4,8,6,0,2,32,5,8,9]\n",
    "\n",
    "count2= 0\n",
    "for i in lis3:\n",
    "    if i%2==0:\n",
    "        count2 +=1\n",
    "print(count2)"
   ]
  },
  {
   "cell_type": "markdown",
   "id": "9b250c3f",
   "metadata": {},
   "source": [
    "Level 3 - Patterns and Nested Loops\n",
    "\n",
    "11. Print a 4x4 square of stars using nested loops.\n",
    "12. Print a right-angled triangle pattern of stars of height 5.\n",
    "13. Print multiplication tables from 1 to 5 using nested loops.\n",
    "14. Print all prime numbers between 2 and 50.\n",
    "15. Implement FizzBuzz from 1 to 50 (print Fizz, Buzz, or FizzBuzz accordingly)."
   ]
  },
  {
   "cell_type": "code",
   "execution_count": 6,
   "id": "a11237f7",
   "metadata": {},
   "outputs": [
    {
     "name": "stdout",
     "output_type": "stream",
     "text": [
      "****\n",
      "\n",
      "****\n",
      "\n",
      "****\n",
      "\n",
      "****\n",
      "\n"
     ]
    }
   ],
   "source": [
    "for i in range(0,4):\n",
    "    for j in range(0,4):\n",
    "        print('*', end=\"\")\n",
    "    print(\"\\n\")"
   ]
  },
  {
   "cell_type": "code",
   "execution_count": 3,
   "id": "c6fe1832",
   "metadata": {},
   "outputs": [
    {
     "name": "stdout",
     "output_type": "stream",
     "text": [
      "* \n",
      "\n",
      "* * \n",
      "\n",
      "* * * \n",
      "\n",
      "* * * * \n",
      "\n",
      "* * * * * \n",
      "\n"
     ]
    }
   ],
   "source": [
    "for i in range(0,5):\n",
    "    for j in range(0,1+i):\n",
    "        print(\"*\", end=\" \")\n",
    "    print(\"\\n\")"
   ]
  },
  {
   "cell_type": "code",
   "execution_count": 4,
   "id": "4543a6d4",
   "metadata": {},
   "outputs": [
    {
     "name": "stdout",
     "output_type": "stream",
     "text": [
      "1 x 1 = 1\n",
      "1 x 2 = 2\n",
      "1 x 3 = 3\n",
      "1 x 4 = 4\n",
      "1 x 5 = 5\n",
      "1 x 6 = 6\n",
      "1 x 7 = 7\n",
      "1 x 8 = 8\n",
      "1 x 9 = 9\n",
      "1 x 10 = 10\n",
      "\n",
      "\n",
      "2 x 1 = 2\n",
      "2 x 2 = 4\n",
      "2 x 3 = 6\n",
      "2 x 4 = 8\n",
      "2 x 5 = 10\n",
      "2 x 6 = 12\n",
      "2 x 7 = 14\n",
      "2 x 8 = 16\n",
      "2 x 9 = 18\n",
      "2 x 10 = 20\n",
      "\n",
      "\n",
      "3 x 1 = 3\n",
      "3 x 2 = 6\n",
      "3 x 3 = 9\n",
      "3 x 4 = 12\n",
      "3 x 5 = 15\n",
      "3 x 6 = 18\n",
      "3 x 7 = 21\n",
      "3 x 8 = 24\n",
      "3 x 9 = 27\n",
      "3 x 10 = 30\n",
      "\n",
      "\n",
      "4 x 1 = 4\n",
      "4 x 2 = 8\n",
      "4 x 3 = 12\n",
      "4 x 4 = 16\n",
      "4 x 5 = 20\n",
      "4 x 6 = 24\n",
      "4 x 7 = 28\n",
      "4 x 8 = 32\n",
      "4 x 9 = 36\n",
      "4 x 10 = 40\n",
      "\n",
      "\n",
      "5 x 1 = 5\n",
      "5 x 2 = 10\n",
      "5 x 3 = 15\n",
      "5 x 4 = 20\n",
      "5 x 5 = 25\n",
      "5 x 6 = 30\n",
      "5 x 7 = 35\n",
      "5 x 8 = 40\n",
      "5 x 9 = 45\n",
      "5 x 10 = 50\n",
      "\n",
      "\n"
     ]
    }
   ],
   "source": [
    "for i in range(1,6):\n",
    "    for j in range(1,11):\n",
    "        print(i,\"x\",j,\"=\",i*j)\n",
    "    print(\"\\n\")"
   ]
  },
  {
   "cell_type": "code",
   "execution_count": 15,
   "id": "840c7b48",
   "metadata": {},
   "outputs": [
    {
     "name": "stdout",
     "output_type": "stream",
     "text": [
      "2\n",
      "3\n",
      "5\n",
      "7\n",
      "11\n",
      "13\n",
      "17\n",
      "19\n",
      "23\n",
      "29\n",
      "31\n",
      "37\n",
      "41\n",
      "43\n",
      "47\n"
     ]
    }
   ],
   "source": [
    "for i in range(2,51):\n",
    "    for j in range(2,i):\n",
    "        if i%j==0:\n",
    "            break\n",
    "    \n",
    "    else:\n",
    "        print(i)\n",
    "    "
   ]
  },
  {
   "cell_type": "code",
   "execution_count": 18,
   "id": "207bdcbc",
   "metadata": {},
   "outputs": [
    {
     "name": "stdout",
     "output_type": "stream",
     "text": [
      "FuzzBuzz\n",
      "Fuzz\n",
      "FuzzBuzz\n",
      "Fuzz\n",
      "Buzz\n",
      "\n",
      "\n",
      "FuzzBuzz\n",
      "Fuzz\n",
      "FuzzBuzz\n",
      "Fuzz\n",
      "Buzz\n",
      "\n",
      "\n",
      "FuzzBuzz\n",
      "Fuzz\n",
      "FuzzBuzz\n",
      "Fuzz\n",
      "Buzz\n",
      "\n",
      "\n",
      "FuzzBuzz\n",
      "Fuzz\n",
      "FuzzBuzz\n",
      "Fuzz\n",
      "Buzz\n",
      "\n",
      "\n",
      "FuzzBuzz\n",
      "Fuzz\n",
      "FuzzBuzz\n",
      "Fuzz\n",
      "Buzz\n",
      "\n",
      "\n",
      "FuzzBuzz\n",
      "Fuzz\n",
      "FuzzBuzz\n",
      "Fuzz\n",
      "Buzz\n",
      "\n",
      "\n",
      "FuzzBuzz\n",
      "Fuzz\n",
      "FuzzBuzz\n",
      "Fuzz\n",
      "Buzz\n",
      "\n",
      "\n",
      "FuzzBuzz\n",
      "Fuzz\n",
      "FuzzBuzz\n",
      "Fuzz\n",
      "Buzz\n",
      "\n",
      "\n",
      "FuzzBuzz\n",
      "Fuzz\n",
      "FuzzBuzz\n",
      "Fuzz\n",
      "Buzz\n",
      "\n",
      "\n",
      "FuzzBuzz\n",
      "Fuzz\n",
      "FuzzBuzz\n",
      "Fuzz\n",
      "Buzz\n",
      "\n",
      "\n",
      "FuzzBuzz\n",
      "Fuzz\n",
      "FuzzBuzz\n",
      "Fuzz\n",
      "Buzz\n",
      "\n",
      "\n",
      "FuzzBuzz\n",
      "Fuzz\n",
      "FuzzBuzz\n",
      "Fuzz\n",
      "Buzz\n",
      "\n",
      "\n",
      "FuzzBuzz\n",
      "Fuzz\n",
      "FuzzBuzz\n",
      "Fuzz\n",
      "Buzz\n",
      "\n",
      "\n",
      "FuzzBuzz\n",
      "Fuzz\n",
      "FuzzBuzz\n",
      "Fuzz\n",
      "Buzz\n",
      "\n",
      "\n",
      "FuzzBuzz\n",
      "Fuzz\n",
      "FuzzBuzz\n",
      "Fuzz\n",
      "Buzz\n",
      "\n",
      "\n",
      "FuzzBuzz\n",
      "Fuzz\n",
      "FuzzBuzz\n",
      "Fuzz\n",
      "Buzz\n",
      "\n",
      "\n",
      "FuzzBuzz\n",
      "Fuzz\n",
      "FuzzBuzz\n",
      "Fuzz\n",
      "Buzz\n",
      "\n",
      "\n",
      "FuzzBuzz\n",
      "Fuzz\n",
      "FuzzBuzz\n",
      "Fuzz\n",
      "Buzz\n",
      "\n",
      "\n",
      "FuzzBuzz\n",
      "Fuzz\n",
      "FuzzBuzz\n",
      "Fuzz\n",
      "Buzz\n",
      "\n",
      "\n",
      "FuzzBuzz\n",
      "Fuzz\n",
      "FuzzBuzz\n",
      "Fuzz\n",
      "Buzz\n",
      "\n",
      "\n",
      "FuzzBuzz\n",
      "Fuzz\n",
      "FuzzBuzz\n",
      "Fuzz\n",
      "Buzz\n",
      "\n",
      "\n",
      "FuzzBuzz\n",
      "Fuzz\n",
      "FuzzBuzz\n",
      "Fuzz\n",
      "Buzz\n",
      "\n",
      "\n",
      "FuzzBuzz\n",
      "Fuzz\n",
      "FuzzBuzz\n",
      "Fuzz\n",
      "Buzz\n",
      "\n",
      "\n",
      "FuzzBuzz\n",
      "Fuzz\n",
      "FuzzBuzz\n",
      "Fuzz\n",
      "Buzz\n",
      "\n",
      "\n",
      "FuzzBuzz\n",
      "Fuzz\n",
      "FuzzBuzz\n",
      "Fuzz\n",
      "Buzz\n",
      "\n",
      "\n",
      "FuzzBuzz\n",
      "Fuzz\n",
      "FuzzBuzz\n",
      "Fuzz\n",
      "Buzz\n",
      "\n",
      "\n",
      "FuzzBuzz\n",
      "Fuzz\n",
      "FuzzBuzz\n",
      "Fuzz\n",
      "Buzz\n",
      "\n",
      "\n",
      "FuzzBuzz\n",
      "Fuzz\n",
      "FuzzBuzz\n",
      "Fuzz\n",
      "Buzz\n",
      "\n",
      "\n",
      "FuzzBuzz\n",
      "Fuzz\n",
      "FuzzBuzz\n",
      "Fuzz\n",
      "Buzz\n",
      "\n",
      "\n",
      "FuzzBuzz\n",
      "Fuzz\n",
      "FuzzBuzz\n",
      "Fuzz\n",
      "Buzz\n",
      "\n",
      "\n",
      "FuzzBuzz\n",
      "Fuzz\n",
      "FuzzBuzz\n",
      "Fuzz\n",
      "Buzz\n",
      "\n",
      "\n",
      "FuzzBuzz\n",
      "Fuzz\n",
      "FuzzBuzz\n",
      "Fuzz\n",
      "Buzz\n",
      "\n",
      "\n",
      "FuzzBuzz\n",
      "Fuzz\n",
      "FuzzBuzz\n",
      "Fuzz\n",
      "Buzz\n",
      "\n",
      "\n",
      "FuzzBuzz\n",
      "Fuzz\n",
      "FuzzBuzz\n",
      "Fuzz\n",
      "Buzz\n",
      "\n",
      "\n",
      "FuzzBuzz\n",
      "Fuzz\n",
      "FuzzBuzz\n",
      "Fuzz\n",
      "Buzz\n",
      "\n",
      "\n",
      "FuzzBuzz\n",
      "Fuzz\n",
      "FuzzBuzz\n",
      "Fuzz\n",
      "Buzz\n",
      "\n",
      "\n",
      "FuzzBuzz\n",
      "Fuzz\n",
      "FuzzBuzz\n",
      "Fuzz\n",
      "Buzz\n",
      "\n",
      "\n",
      "FuzzBuzz\n",
      "Fuzz\n",
      "FuzzBuzz\n",
      "Fuzz\n",
      "Buzz\n",
      "\n",
      "\n",
      "FuzzBuzz\n",
      "Fuzz\n",
      "FuzzBuzz\n",
      "Fuzz\n",
      "Buzz\n",
      "\n",
      "\n",
      "FuzzBuzz\n",
      "Fuzz\n",
      "FuzzBuzz\n",
      "Fuzz\n",
      "Buzz\n",
      "\n",
      "\n",
      "FuzzBuzz\n",
      "Fuzz\n",
      "FuzzBuzz\n",
      "Fuzz\n",
      "Buzz\n",
      "\n",
      "\n",
      "FuzzBuzz\n",
      "Fuzz\n",
      "FuzzBuzz\n",
      "Fuzz\n",
      "Buzz\n",
      "\n",
      "\n",
      "FuzzBuzz\n",
      "Fuzz\n",
      "FuzzBuzz\n",
      "Fuzz\n",
      "Buzz\n",
      "\n",
      "\n",
      "FuzzBuzz\n",
      "Fuzz\n",
      "FuzzBuzz\n",
      "Fuzz\n",
      "Buzz\n",
      "\n",
      "\n",
      "FuzzBuzz\n",
      "Fuzz\n",
      "FuzzBuzz\n",
      "Fuzz\n",
      "Buzz\n",
      "\n",
      "\n",
      "FuzzBuzz\n",
      "Fuzz\n",
      "FuzzBuzz\n",
      "Fuzz\n",
      "Buzz\n",
      "\n",
      "\n",
      "FuzzBuzz\n",
      "Fuzz\n",
      "FuzzBuzz\n",
      "Fuzz\n",
      "Buzz\n",
      "\n",
      "\n",
      "FuzzBuzz\n",
      "Fuzz\n",
      "FuzzBuzz\n",
      "Fuzz\n",
      "Buzz\n",
      "\n",
      "\n",
      "FuzzBuzz\n",
      "Fuzz\n",
      "FuzzBuzz\n",
      "Fuzz\n",
      "Buzz\n",
      "\n",
      "\n",
      "FuzzBuzz\n",
      "Fuzz\n",
      "FuzzBuzz\n",
      "Fuzz\n",
      "Buzz\n",
      "\n",
      "\n"
     ]
    }
   ],
   "source": [
    "for i in range(1,51):\n",
    "    for j in range(1,6):\n",
    "        if j%2==0:\n",
    "             print(\"Fuzz\")\n",
    "        elif j%5==0:\n",
    "             print(\"Buzz\")\n",
    "        else:\n",
    "             print(\"FuzzBuzz\")\n",
    "    print(\"\\n\")"
   ]
  },
  {
   "cell_type": "markdown",
   "id": "d276233d",
   "metadata": {},
   "source": [
    "Level 4 - Intermediate/Complex Iteration Challenges\n",
    "\n",
    "16. Check if a number is a palindrome (reads same forward and backward).\n",
    "17. Print a pyramid of stars with n levels (center-aligned).\n",
    "18. Given a number, print its binary representation without using bin().\n",
    "19. Find the factorial of a number using a loop (not recursion).\n",
    "20. Find all unique pairs in a list that sum to a given target value.\n",
    "21. Print Fibonacci series up to N terms using iteration.\n",
    "22. Reverse a list using only a loop (do not use reversed() or slicing).\n",
    "23. Count the number of words in a sentence using loop only.\n",
    "24. Create a histogram of character frequencies in a string using a loop.\n",
    "25. Determine if a given string is a pangram (contains all letters A-Z)."
   ]
  },
  {
   "cell_type": "code",
   "execution_count": 22,
   "id": "fffa276d",
   "metadata": {},
   "outputs": [
    {
     "name": "stdout",
     "output_type": "stream",
     "text": [
      "number is not palindrome\n"
     ]
    }
   ],
   "source": [
    "num = int(input(\"Enter any number : \"))\n",
    "sum = 0\n",
    "pali = num\n",
    "\n",
    "while(num>0):\n",
    "    x = num%10\n",
    "    sum = sum*10+x\n",
    "    num//=10\n",
    "\n",
    "if sum == pali:\n",
    "    print(\"Number is palindrome\")\n",
    "else:\n",
    "    print(\"number is not palindrome\") \n"
   ]
  },
  {
   "cell_type": "code",
   "execution_count": 39,
   "id": "164d4eed",
   "metadata": {},
   "outputs": [
    {
     "name": "stdout",
     "output_type": "stream",
     "text": [
      "          * \n",
      "\n",
      "        * * * \n",
      "\n",
      "      * * * * * \n",
      "\n",
      "    * * * * * * * \n",
      "\n",
      "  * * * * * * * * * \n",
      "\n"
     ]
    }
   ],
   "source": [
    "for i in range(0,5):\n",
    "    for j in range(0+i,5):\n",
    "        print(\" \",end=\" \")\n",
    "    \n",
    "    \n",
    "    for k in range(5-i,5):\n",
    "        print(\"*\",end=\" \")\n",
    "    \n",
    "  \n",
    "    for l in range(0,1+i):\n",
    "        print(\"*\",end=\" \")\n",
    "        \n",
    "    print(\"\\n\")\n"
   ]
  },
  {
   "cell_type": "code",
   "execution_count": 40,
   "id": "93e1f7b2",
   "metadata": {},
   "outputs": [
    {
     "name": "stdout",
     "output_type": "stream",
     "text": [
      "10110\n"
     ]
    }
   ],
   "source": [
    "n = int(input(\"enter a number to find its binary\"))\n",
    "binary = \"\"\n",
    "while(n>0):\n",
    "  binary = str(n%2) +binary\n",
    "  n//=2\n",
    "   \n",
    "print(binary)"
   ]
  },
  {
   "cell_type": "code",
   "execution_count": 43,
   "id": "93d1bcce",
   "metadata": {},
   "outputs": [
    {
     "name": "stdout",
     "output_type": "stream",
     "text": [
      "24\n"
     ]
    }
   ],
   "source": [
    "num = int(input(\"enter number to find its factorial: \"))\n",
    "\n",
    "f=1\n",
    "for i in range(1,num+1):\n",
    "    f=f*i\n",
    "print(f)"
   ]
  },
  {
   "cell_type": "code",
   "execution_count": 49,
   "id": "9d25996c",
   "metadata": {},
   "outputs": [
    {
     "name": "stdout",
     "output_type": "stream",
     "text": [
      "0\n",
      "1\n",
      "1\n",
      "2\n",
      "3\n",
      "5\n",
      "8\n"
     ]
    }
   ],
   "source": [
    "num = int(input(\"enter the number to get fibonacci series \"))\n",
    "a = 0\n",
    "b=1\n",
    "print(f\"{a}\\n{b}\")\n",
    "\n",
    "for i in range(1,num):\n",
    "    c = a+b\n",
    "    print(c)\n",
    "    a=b\n",
    "    b=c\n"
   ]
  },
  {
   "cell_type": "code",
   "execution_count": 60,
   "id": "e53274e4",
   "metadata": {},
   "outputs": [
    {
     "name": "stdout",
     "output_type": "stream",
     "text": [
      "[4, 0, 55, 10, 8, 6, 5]\n"
     ]
    }
   ],
   "source": [
    "lis = [5,6,8,10,55,0,4]\n",
    "\n",
    "start = 0\n",
    "end = len(lis)-1\n",
    "while(start<end):\n",
    "    #lis[start],lis[end] = lis[end],lis[start]\n",
    "    \n",
    "    temp = lis[start]\n",
    "    lis[start] =lis[end]\n",
    "    lis[end]=temp\n",
    "    \n",
    "    start +=1\n",
    "    end -=1\n",
    "\n",
    "print(lis)\n",
    "    \n",
    "    "
   ]
  },
  {
   "cell_type": "code",
   "execution_count": 66,
   "id": "aeee3a96",
   "metadata": {},
   "outputs": [
    {
     "name": "stdout",
     "output_type": "stream",
     "text": [
      "5\n"
     ]
    }
   ],
   "source": [
    "sentence = \"Hello there, how are you\"\n",
    "\n",
    "count = 0\n",
    "for i in sentence.replace(\",\",\"\").split(\" \"):\n",
    "    count=count+1\n",
    "print(count)\n",
    "    \n"
   ]
  },
  {
   "cell_type": "code",
   "execution_count": null,
   "id": "81432290",
   "metadata": {},
   "outputs": [
    {
     "name": "stdout",
     "output_type": "stream",
     "text": [
      "o: ))))))))))))))\n",
      "n: )))))))))\n",
      "e: )))))))))))\n",
      "f: )\n",
      "t: ))))))))))))))))))))\n",
      "h: )))))))\n",
      "m: )))))))\n",
      "s: )))))))))))))))\n",
      "i: ))))))))))\n",
      "p: )))\n",
      "r: ))))))\n",
      "a: ))))))\n",
      "l: ))))))\n",
      "d: )))\n",
      "y: ))\n",
      "j: )\n",
      "u: )))))))\n",
      "b: ))\n",
      "w: )\n",
      "g: ))\n",
      "k: )\n"
     ]
    }
   ],
   "source": [
    "sent = \"\"\"One of the most important lessons I learned is that it’s easy to jump to solutions \n",
    "        but without truly understanding the problem, those solutions might miss the mark.\"\"\"\n",
    "\n",
    "s = sent.replace(\",\",\"\").replace(\".\",\"\").replace(\"’\",\"\").replace(\" \",\"\").lower()\n",
    "\n",
    "\n",
    "dic = {}   \n",
    "for i in s:\n",
    "    if i.isalpha():\n",
    "         if  i in dic:\n",
    "              dic[i]+=1\n",
    "         else:\n",
    "              dic[i]=1\n",
    "\n",
    "for i, count in dic.items():\n",
    "    print(f\"{i}: {''* count}\")\n",
    "    \n"
   ]
  },
  {
   "cell_type": "code",
   "execution_count": 109,
   "id": "d4dffb50",
   "metadata": {},
   "outputs": [
    {
     "name": "stdout",
     "output_type": "stream",
     "text": [
      "It's not a pangram.\n"
     ]
    }
   ],
   "source": [
    "str_pangram = input(\"Enter a sentence: \")\n",
    "\n",
    "alphabet = \"abcdefghijklmnopqrstuvwxyz\"\n",
    "found_letters = \"\"\n",
    "\n",
    "for char in str_pangram.replace(\" \", \"\").lower():\n",
    "    if char in alphabet and char not in found_letters:\n",
    "        found_letters += char\n",
    "\n",
    "if len(found_letters) == 26:\n",
    "    print(\"It's a pangram!\")\n",
    "else:\n",
    "    print(\"It's not a pangram.\")\n",
    "    "
   ]
  },
  {
   "cell_type": "code",
   "execution_count": null,
   "id": "d77f74ef",
   "metadata": {},
   "outputs": [
    {
     "name": "stdout",
     "output_type": "stream",
     "text": [
      "[1, 3]\n",
      "[2, 2]\n",
      "[0, 4]\n",
      "[-1, 5]\n"
     ]
    }
   ],
   "source": [
    "nums = [1, 2, 3, 4, 3, 2, 5, 0, -1]\n",
    "target = 4\n",
    "\n",
    "\n",
    "pairs = []\n",
    "\n",
    "for i in range(len(nums)):\n",
    "    for j in range(i + 1, len(nums)):\n",
    "        if nums[i] + nums[j] == target:\n",
    "            pair = sorted([nums[i], nums[j]])\n",
    "            if pair not in pairs:\n",
    "                pairs.append(pair)\n",
    "\n",
    "\n",
    "for pair in pairs:\n",
    "    print(pair)"
   ]
  },
  {
   "cell_type": "code",
   "execution_count": null,
   "id": "e44ea9a8",
   "metadata": {},
   "outputs": [],
   "source": []
  }
 ],
 "metadata": {
  "kernelspec": {
   "display_name": "Python 3",
   "language": "python",
   "name": "python3"
  },
  "language_info": {
   "codemirror_mode": {
    "name": "ipython",
    "version": 3
   },
   "file_extension": ".py",
   "mimetype": "text/x-python",
   "name": "python",
   "nbconvert_exporter": "python",
   "pygments_lexer": "ipython3",
   "version": "3.11.1"
  }
 },
 "nbformat": 4,
 "nbformat_minor": 5
}
