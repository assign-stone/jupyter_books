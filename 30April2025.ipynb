{
 "cells": [
  {
   "cell_type": "code",
   "execution_count": 1,
   "id": "41eb87bd",
   "metadata": {},
   "outputs": [
    {
     "data": {
      "text/plain": [
       "\"The journey of my Master of Technology has been both thrilling and challenging. I would like to acknowledge that, apart from God’s and my parents' blessings, the success of this dissertation work is the result of the invaluable encouragement and guidance of my mentor, Mr. Vandit Headu. I am deeply grateful to him for his unwavering support and for encouraging me to pursue the project with my own interest. His mentorship has been vital for nurturing my passion for research.\""
      ]
     },
     "execution_count": 1,
     "metadata": {},
     "output_type": "execute_result"
    }
   ],
   "source": [
    "a = \"\"\"The journey of my Master of Technology has been both thrilling and challenging. I would like to acknowledge that, apart from God’s and my parents' blessings, the success of this dissertation work is the result of the invaluable encouragement and guidance of my mentor, Mr. Vandit Headu. I am deeply grateful to him for his unwavering support and for encouraging me to pursue the project with my own interest. His mentorship has been vital for nurturing my passion for research.\"\"\"\n",
    "a"
   ]
  },
  {
   "cell_type": "code",
   "execution_count": 2,
   "id": "039ad667",
   "metadata": {},
   "outputs": [
    {
     "data": {
      "text/plain": [
       "'python is easy\\n       its open sourse\\n       dynamically typed'"
      ]
     },
     "execution_count": 2,
     "metadata": {},
     "output_type": "execute_result"
    }
   ],
   "source": [
    "b = \"\"\"python is easy\n",
    "       its open sourse\n",
    "       dynamically typed\"\"\"\n",
    "b"
   ]
  },
  {
   "cell_type": "code",
   "execution_count": 6,
   "id": "23b6b1aa",
   "metadata": {},
   "outputs": [
    {
     "name": "stdout",
     "output_type": "stream",
     "text": [
      " python is easy \n",
      " its open sourse \n",
      " dynamically typed   \n"
     ]
    }
   ],
   "source": [
    "d= \"\"\" python is easy \\n its open sourse \\n dynamically typed   \"\"\"\n",
    "print(d)"
   ]
  },
  {
   "cell_type": "code",
   "execution_count": 5,
   "id": "7726a8cc",
   "metadata": {},
   "outputs": [
    {
     "name": "stdout",
     "output_type": "stream",
     "text": [
      "python is easy\tits open sourse \n",
      " dynamically typed\n"
     ]
    }
   ],
   "source": [
    "d1= '''python is easy\\tits open sourse \\n dynamically typed'''\n",
    "print(d1)"
   ]
  },
  {
   "cell_type": "code",
   "execution_count": 9,
   "id": "d6e71fe5",
   "metadata": {},
   "outputs": [
    {
     "name": "stdout",
     "output_type": "stream",
     "text": [
      "python is easy \n",
      "      \t its open 'sourse' \n",
      " dynamically typed   \n"
     ]
    }
   ],
   "source": [
    "d2= '''python is easy \n",
    "      \\t its open 'sourse' \\n dynamically typed   '''\n",
    "print(d2)"
   ]
  },
  {
   "cell_type": "code",
   "execution_count": 11,
   "id": "1e07c589",
   "metadata": {},
   "outputs": [
    {
     "data": {
      "text/plain": [
       "'c:\\\\h\\n\\\\python'"
      ]
     },
     "execution_count": 11,
     "metadata": {},
     "output_type": "execute_result"
    }
   ],
   "source": [
    "h=\"c:\\h\\n\\python\"\n",
    "h"
   ]
  },
  {
   "cell_type": "code",
   "execution_count": 15,
   "id": "dad24d9c",
   "metadata": {},
   "outputs": [
    {
     "data": {
      "text/plain": [
       "'c:\\\\h\\\\n\\\\python'"
      ]
     },
     "execution_count": 15,
     "metadata": {},
     "output_type": "execute_result"
    }
   ],
   "source": [
    "h=r\"c:\\h\\n\\python\"\n",
    "h"
   ]
  },
  {
   "cell_type": "code",
   "execution_count": 16,
   "id": "d4ee162d",
   "metadata": {},
   "outputs": [
    {
     "name": "stdout",
     "output_type": "stream",
     "text": [
      "c:\\h\\n\\python\n"
     ]
    }
   ],
   "source": [
    "h=r\"c:\\h\\n\\python\"\n",
    "print(h)"
   ]
  },
  {
   "cell_type": "code",
   "execution_count": 19,
   "id": "b70eb239",
   "metadata": {},
   "outputs": [
    {
     "name": "stdout",
     "output_type": "stream",
     "text": [
      "python \\t is easy \n"
     ]
    }
   ],
   "source": [
    "k= \"python \\\\t is easy \"\n",
    "print(k)"
   ]
  },
  {
   "cell_type": "code",
   "execution_count": 20,
   "id": "650f3ce5",
   "metadata": {},
   "outputs": [
    {
     "data": {
      "text/plain": [
       "2004518414896"
      ]
     },
     "execution_count": 20,
     "metadata": {},
     "output_type": "execute_result"
    }
   ],
   "source": [
    "#to check address of variable\n",
    "id(k)"
   ]
  },
  {
   "cell_type": "code",
   "execution_count": 23,
   "id": "f2232c42",
   "metadata": {},
   "outputs": [
    {
     "data": {
      "text/plain": [
       "'0o2'"
      ]
     },
     "execution_count": 23,
     "metadata": {},
     "output_type": "execute_result"
    }
   ],
   "source": [
    "#convert to binary\n",
    "a=2\n",
    "bin(a)\n",
    "\n"
   ]
  },
  {
   "cell_type": "code",
   "execution_count": 24,
   "id": "0aae5b11",
   "metadata": {},
   "outputs": [
    {
     "data": {
      "text/plain": [
       "'0o2'"
      ]
     },
     "execution_count": 24,
     "metadata": {},
     "output_type": "execute_result"
    }
   ],
   "source": [
    "#convert to octal\n",
    "oct(a)"
   ]
  },
  {
   "cell_type": "code",
   "execution_count": 25,
   "id": "6f8347cc",
   "metadata": {},
   "outputs": [
    {
     "data": {
      "text/plain": [
       "'0x2'"
      ]
     },
     "execution_count": 25,
     "metadata": {},
     "output_type": "execute_result"
    }
   ],
   "source": [
    "#convert to hexadecimal\n",
    "hex(a)"
   ]
  },
  {
   "cell_type": "code",
   "execution_count": 26,
   "id": "3ed64c99",
   "metadata": {},
   "outputs": [],
   "source": [
    "#back to numerical for all binary, octal,hexa"
   ]
  },
  {
   "cell_type": "raw",
   "id": "e31da2d1",
   "metadata": {},
   "source": [
    "#typecasting\n",
    "\n",
    "#we can't typecast complex to int or float\n"
   ]
  },
  {
   "cell_type": "code",
   "execution_count": 27,
   "id": "867985f4",
   "metadata": {},
   "outputs": [
    {
     "data": {
      "text/plain": [
       "str"
      ]
     },
     "execution_count": 27,
     "metadata": {},
     "output_type": "execute_result"
    }
   ],
   "source": [
    "s=\"1\"\n",
    "type(s)"
   ]
  },
  {
   "cell_type": "code",
   "execution_count": 28,
   "id": "642f01fc",
   "metadata": {},
   "outputs": [
    {
     "data": {
      "text/plain": [
       "1"
      ]
     },
     "execution_count": 28,
     "metadata": {},
     "output_type": "execute_result"
    }
   ],
   "source": [
    "s1=int(s) #int constructor\n",
    "s1"
   ]
  },
  {
   "cell_type": "code",
   "execution_count": 29,
   "id": "8fab5d3f",
   "metadata": {},
   "outputs": [],
   "source": [
    "n=25\n",
    "m=float(n)"
   ]
  },
  {
   "cell_type": "code",
   "execution_count": 31,
   "id": "c0ff5cb1",
   "metadata": {},
   "outputs": [
    {
     "name": "stdout",
     "output_type": "stream",
     "text": [
      "25.0 <class 'float'>\n"
     ]
    }
   ],
   "source": [
    "print(m,type(m))"
   ]
  },
  {
   "cell_type": "code",
   "execution_count": 32,
   "id": "4e94c64c",
   "metadata": {},
   "outputs": [
    {
     "data": {
      "text/plain": [
       "'25'"
      ]
     },
     "execution_count": 32,
     "metadata": {},
     "output_type": "execute_result"
    }
   ],
   "source": [
    "st=str(n)\n",
    "st"
   ]
  },
  {
   "cell_type": "code",
   "execution_count": 34,
   "id": "61d4f495",
   "metadata": {},
   "outputs": [
    {
     "name": "stdout",
     "output_type": "stream",
     "text": [
      "we are learning python, it's very easy\n"
     ]
    }
   ],
   "source": [
    "text = \"we are learning python, it's very easy\"\n",
    "print(text)"
   ]
  },
  {
   "cell_type": "code",
   "execution_count": 36,
   "id": "c38d9c60",
   "metadata": {},
   "outputs": [
    {
     "name": "stdout",
     "output_type": "stream",
     "text": [
      "we are learning python, it's very easy\n"
     ]
    }
   ],
   "source": [
    "text = 'we are learning python, it\\'s very easy'\n",
    "print(text)"
   ]
  },
  {
   "cell_type": "code",
   "execution_count": 49,
   "id": "de60a15f",
   "metadata": {},
   "outputs": [
    {
     "name": "stdout",
     "output_type": "stream",
     "text": [
      "python very easy\n"
     ]
    }
   ],
   "source": [
    "text ='we are learning python, its very easy'\n",
    "print(text[16:22]+text[27:])"
   ]
  },
  {
   "cell_type": "code",
   "execution_count": 50,
   "id": "bcda1ad4",
   "metadata": {},
   "outputs": [
    {
     "name": "stdout",
     "output_type": "stream",
     "text": [
      "pythons very easy\n"
     ]
    }
   ],
   "source": [
    "print(text[16:22]+text[-11:])"
   ]
  },
  {
   "cell_type": "code",
   "execution_count": 51,
   "id": "dd9316ce",
   "metadata": {},
   "outputs": [],
   "source": [
    "li = [\"shivi\",\"kivi\",\"lily\"]\n"
   ]
  },
  {
   "cell_type": "code",
   "execution_count": 53,
   "id": "3a10afee",
   "metadata": {},
   "outputs": [
    {
     "data": {
      "text/plain": [
       "'shivi'"
      ]
     },
     "execution_count": 53,
     "metadata": {},
     "output_type": "execute_result"
    }
   ],
   "source": [
    "li[0]"
   ]
  },
  {
   "cell_type": "code",
   "execution_count": 54,
   "id": "729afaef",
   "metadata": {},
   "outputs": [
    {
     "data": {
      "text/plain": [
       "'kivi'"
      ]
     },
     "execution_count": 54,
     "metadata": {},
     "output_type": "execute_result"
    }
   ],
   "source": [
    "li[1]"
   ]
  },
  {
   "cell_type": "code",
   "execution_count": 55,
   "id": "b95cabd6",
   "metadata": {},
   "outputs": [
    {
     "data": {
      "text/plain": [
       "3"
      ]
     },
     "execution_count": 55,
     "metadata": {},
     "output_type": "execute_result"
    }
   ],
   "source": [
    "len(li)"
   ]
  },
  {
   "cell_type": "code",
   "execution_count": 56,
   "id": "a538c291",
   "metadata": {},
   "outputs": [
    {
     "data": {
      "text/plain": [
       "'shi'"
      ]
     },
     "execution_count": 56,
     "metadata": {},
     "output_type": "execute_result"
    }
   ],
   "source": [
    "li[0][0:3]"
   ]
  },
  {
   "cell_type": "code",
   "execution_count": 57,
   "id": "e5f15888",
   "metadata": {},
   "outputs": [
    {
     "data": {
      "text/plain": [
       "'kiv'"
      ]
     },
     "execution_count": 57,
     "metadata": {},
     "output_type": "execute_result"
    }
   ],
   "source": [
    "li[1][0:3]"
   ]
  },
  {
   "cell_type": "code",
   "execution_count": 63,
   "id": "ea7ec906",
   "metadata": {},
   "outputs": [
    {
     "name": "stdout",
     "output_type": "stream",
     "text": [
      "['shivi', 'kivi', 'lily']\n"
     ]
    }
   ],
   "source": [
    "lis=[\"shivi\",\"kivi\",\"lily\"] \n",
    "print(lis)"
   ]
  },
  {
   "cell_type": "code",
   "execution_count": 66,
   "id": "228bc999",
   "metadata": {},
   "outputs": [
    {
     "data": {
      "text/plain": [
       "'shikivlil'"
      ]
     },
     "execution_count": 66,
     "metadata": {},
     "output_type": "execute_result"
    }
   ],
   "source": [
    "t=li[0][0:3]+li[1][0:3]+li[2][0:3]\n",
    "t"
   ]
  },
  {
   "cell_type": "code",
   "execution_count": 64,
   "id": "62ce404a",
   "metadata": {},
   "outputs": [
    {
     "data": {
      "text/plain": [
       "('shi', 'kiv', 'lil')"
      ]
     },
     "execution_count": 64,
     "metadata": {},
     "output_type": "execute_result"
    }
   ],
   "source": [
    "t=li[0][0:3],li[1][0:3],li[2][0:3]  #if we give , saparated values to one variable it will be default tuple\n",
    "t"
   ]
  },
  {
   "cell_type": "code",
   "execution_count": 65,
   "id": "a3da494f",
   "metadata": {},
   "outputs": [
    {
     "data": {
      "text/plain": [
       "['shi', 'kiv', 'lil']"
      ]
     },
     "execution_count": 65,
     "metadata": {},
     "output_type": "execute_result"
    }
   ],
   "source": [
    "list(t)"
   ]
  },
  {
   "cell_type": "markdown",
   "id": "f72f14a0",
   "metadata": {},
   "source": [
    "# String methods"
   ]
  },
  {
   "cell_type": "code",
   "execution_count": 70,
   "id": "e151e0ff",
   "metadata": {},
   "outputs": [],
   "source": [
    "w = \"Shivani\""
   ]
  },
  {
   "cell_type": "code",
   "execution_count": 71,
   "id": "601214d4",
   "metadata": {},
   "outputs": [
    {
     "data": {
      "text/plain": [
       "'SHIVANI'"
      ]
     },
     "execution_count": 71,
     "metadata": {},
     "output_type": "execute_result"
    }
   ],
   "source": [
    "w.upper()"
   ]
  },
  {
   "cell_type": "code",
   "execution_count": 72,
   "id": "b76c9e31",
   "metadata": {},
   "outputs": [
    {
     "data": {
      "text/plain": [
       "'shivani'"
      ]
     },
     "execution_count": 72,
     "metadata": {},
     "output_type": "execute_result"
    }
   ],
   "source": [
    "w.lower()"
   ]
  },
  {
   "cell_type": "code",
   "execution_count": 73,
   "id": "7659c944",
   "metadata": {},
   "outputs": [],
   "source": [
    "str1 = \"neeta is the new data science trainer\""
   ]
  },
  {
   "cell_type": "code",
   "execution_count": 75,
   "id": "ab272d7a",
   "metadata": {},
   "outputs": [
    {
     "data": {
      "text/plain": [
       "'Neeta is the new data science trainer'"
      ]
     },
     "execution_count": 75,
     "metadata": {},
     "output_type": "execute_result"
    }
   ],
   "source": [
    "str1.capitalize()"
   ]
  },
  {
   "cell_type": "code",
   "execution_count": 76,
   "id": "181b0217",
   "metadata": {},
   "outputs": [
    {
     "data": {
      "text/plain": [
       "'Neeta Is The New Data Science Trainer'"
      ]
     },
     "execution_count": 76,
     "metadata": {},
     "output_type": "execute_result"
    }
   ],
   "source": [
    "str1.title()"
   ]
  },
  {
   "cell_type": "code",
   "execution_count": 77,
   "id": "1fd9873d",
   "metadata": {},
   "outputs": [
    {
     "data": {
      "text/plain": [
       "\"the journey of my master of technology has been both thrilling and challenging. i would like to acknowledge that, apart from god’s and my parents' blessings, the success of this dissertation work is the result of the invaluable encouragement and guidance of my mentor, mr. vandit headu. i am deeply grateful to him for his unwavering support and for encouraging me to pursue the project with my own interest. his mentorship has been vital for nurturing my passion for research.\""
      ]
     },
     "execution_count": 77,
     "metadata": {},
     "output_type": "execute_result"
    }
   ],
   "source": [
    "a = \"\"\"The journey of my Master of Technology has been both thrilling and challenging. I would like to acknowledge that, apart from God’s and my parents' blessings, the success of this dissertation work is the result of the invaluable encouragement and guidance of my mentor, Mr. Vandit Headu. I am deeply grateful to him for his unwavering support and for encouraging me to pursue the project with my own interest. His mentorship has been vital for nurturing my passion for research.\"\"\"\n",
    "a.lower()"
   ]
  },
  {
   "cell_type": "code",
   "execution_count": 78,
   "id": "180ea485",
   "metadata": {},
   "outputs": [
    {
     "data": {
      "text/plain": [
       "\"THE JOURNEY OF MY MASTER OF TECHNOLOGY HAS BEEN BOTH THRILLING AND CHALLENGING. I WOULD LIKE TO ACKNOWLEDGE THAT, APART FROM GOD’S AND MY PARENTS' BLESSINGS, THE SUCCESS OF THIS DISSERTATION WORK IS THE RESULT OF THE INVALUABLE ENCOURAGEMENT AND GUIDANCE OF MY MENTOR, MR. VANDIT HEADU. I AM DEEPLY GRATEFUL TO HIM FOR HIS UNWAVERING SUPPORT AND FOR ENCOURAGING ME TO PURSUE THE PROJECT WITH MY OWN INTEREST. HIS MENTORSHIP HAS BEEN VITAL FOR NURTURING MY PASSION FOR RESEARCH.\""
      ]
     },
     "execution_count": 78,
     "metadata": {},
     "output_type": "execute_result"
    }
   ],
   "source": [
    "a.upper()"
   ]
  },
  {
   "cell_type": "code",
   "execution_count": 79,
   "id": "2cc4d7ec",
   "metadata": {},
   "outputs": [
    {
     "data": {
      "text/plain": [
       "\"The journey of my master of technology has been both thrilling and challenging. i would like to acknowledge that, apart from god’s and my parents' blessings, the success of this dissertation work is the result of the invaluable encouragement and guidance of my mentor, mr. vandit headu. i am deeply grateful to him for his unwavering support and for encouraging me to pursue the project with my own interest. his mentorship has been vital for nurturing my passion for research.\""
      ]
     },
     "execution_count": 79,
     "metadata": {},
     "output_type": "execute_result"
    }
   ],
   "source": [
    "a.capitalize()"
   ]
  },
  {
   "cell_type": "code",
   "execution_count": 80,
   "id": "edcfd108",
   "metadata": {},
   "outputs": [
    {
     "data": {
      "text/plain": [
       "\"The Journey Of My Master Of Technology Has Been Both Thrilling And Challenging. I Would Like To Acknowledge That, Apart From God’S And My Parents' Blessings, The Success Of This Dissertation Work Is The Result Of The Invaluable Encouragement And Guidance Of My Mentor, Mr. Vandit Headu. I Am Deeply Grateful To Him For His Unwavering Support And For Encouraging Me To Pursue The Project With My Own Interest. His Mentorship Has Been Vital For Nurturing My Passion For Research.\""
      ]
     },
     "execution_count": 80,
     "metadata": {},
     "output_type": "execute_result"
    }
   ],
   "source": [
    "a.title()"
   ]
  },
  {
   "cell_type": "code",
   "execution_count": null,
   "id": "e4a32781",
   "metadata": {},
   "outputs": [],
   "source": [
    "w = \"Shivani\""
   ]
  },
  {
   "cell_type": "code",
   "execution_count": 95,
   "id": "1d95a530",
   "metadata": {},
   "outputs": [
    {
     "data": {
      "text/plain": [
       "False"
      ]
     },
     "execution_count": 95,
     "metadata": {},
     "output_type": "execute_result"
    }
   ],
   "source": [
    "w.isupper()"
   ]
  },
  {
   "cell_type": "code",
   "execution_count": 96,
   "id": "95e1a944",
   "metadata": {},
   "outputs": [
    {
     "data": {
      "text/plain": [
       "False"
      ]
     },
     "execution_count": 96,
     "metadata": {},
     "output_type": "execute_result"
    }
   ],
   "source": [
    "w.islower()"
   ]
  },
  {
   "cell_type": "code",
   "execution_count": 97,
   "id": "c80d092f",
   "metadata": {},
   "outputs": [
    {
     "data": {
      "text/plain": [
       "False"
      ]
     },
     "execution_count": 97,
     "metadata": {},
     "output_type": "execute_result"
    }
   ],
   "source": [
    "a.isupper()"
   ]
  },
  {
   "cell_type": "code",
   "execution_count": 98,
   "id": "1e7d86bd",
   "metadata": {},
   "outputs": [
    {
     "data": {
      "text/plain": [
       "False"
      ]
     },
     "execution_count": 98,
     "metadata": {},
     "output_type": "execute_result"
    }
   ],
   "source": [
    "a.islower()"
   ]
  },
  {
   "cell_type": "code",
   "execution_count": 99,
   "id": "f4e56c56",
   "metadata": {},
   "outputs": [
    {
     "data": {
      "text/plain": [
       "False"
      ]
     },
     "execution_count": 99,
     "metadata": {},
     "output_type": "execute_result"
    }
   ],
   "source": [
    "b=a.istitle()\n",
    "b"
   ]
  },
  {
   "cell_type": "code",
   "execution_count": 83,
   "id": "b041374b",
   "metadata": {},
   "outputs": [
    {
     "data": {
      "text/plain": [
       "'the'"
      ]
     },
     "execution_count": 83,
     "metadata": {},
     "output_type": "execute_result"
    }
   ],
   "source": [
    "a[0:3].lower()"
   ]
  },
  {
   "cell_type": "code",
   "execution_count": 84,
   "id": "1699d1e0",
   "metadata": {},
   "outputs": [
    {
     "data": {
      "text/plain": [
       "'MASTER OF TECHNOLOGY'"
      ]
     },
     "execution_count": 84,
     "metadata": {},
     "output_type": "execute_result"
    }
   ],
   "source": [
    "a[18:38].upper()"
   ]
  },
  {
   "cell_type": "code",
   "execution_count": 85,
   "id": "5b96e8d1",
   "metadata": {},
   "outputs": [
    {
     "data": {
      "text/plain": [
       "'Journey'"
      ]
     },
     "execution_count": 85,
     "metadata": {},
     "output_type": "execute_result"
    }
   ],
   "source": [
    "a[4:11].capitalize()"
   ]
  },
  {
   "cell_type": "code",
   "execution_count": 100,
   "id": "44a63b09",
   "metadata": {},
   "outputs": [
    {
     "data": {
      "text/plain": [
       "'shivaniJoshi'"
      ]
     },
     "execution_count": 100,
     "metadata": {},
     "output_type": "execute_result"
    }
   ],
   "source": [
    "name=\"shivani\"\n",
    "surname=\"Joshi\"\n",
    "\n",
    "name+surname"
   ]
  },
  {
   "cell_type": "code",
   "execution_count": 104,
   "id": "f1a65b14",
   "metadata": {},
   "outputs": [],
   "source": [
    "full_name=name+\" \"+surname"
   ]
  },
  {
   "cell_type": "code",
   "execution_count": 105,
   "id": "d5b700fd",
   "metadata": {},
   "outputs": [
    {
     "data": {
      "text/plain": [
       "['shivani', 'Joshi']"
      ]
     },
     "execution_count": 105,
     "metadata": {},
     "output_type": "execute_result"
    }
   ],
   "source": [
    "full_name.split()"
   ]
  },
  {
   "cell_type": "code",
   "execution_count": 106,
   "id": "654e0a2e",
   "metadata": {},
   "outputs": [
    {
     "data": {
      "text/plain": [
       "['The',\n",
       " 'journey',\n",
       " 'of',\n",
       " 'my',\n",
       " 'Master',\n",
       " 'of',\n",
       " 'Technology',\n",
       " 'has',\n",
       " 'been',\n",
       " 'both',\n",
       " 'thrilling',\n",
       " 'and',\n",
       " 'challenging.',\n",
       " 'I',\n",
       " 'would',\n",
       " 'like',\n",
       " 'to',\n",
       " 'acknowledge',\n",
       " 'that,',\n",
       " 'apart',\n",
       " 'from',\n",
       " 'God’s',\n",
       " 'and',\n",
       " 'my',\n",
       " \"parents'\",\n",
       " 'blessings,',\n",
       " 'the',\n",
       " 'success',\n",
       " 'of',\n",
       " 'this',\n",
       " 'dissertation',\n",
       " 'work',\n",
       " 'is',\n",
       " 'the',\n",
       " 'result',\n",
       " 'of',\n",
       " 'the',\n",
       " 'invaluable',\n",
       " 'encouragement',\n",
       " 'and',\n",
       " 'guidance',\n",
       " 'of',\n",
       " 'my',\n",
       " 'mentor,',\n",
       " 'Mr.',\n",
       " 'Vandit',\n",
       " 'Headu.',\n",
       " 'I',\n",
       " 'am',\n",
       " 'deeply',\n",
       " 'grateful',\n",
       " 'to',\n",
       " 'him',\n",
       " 'for',\n",
       " 'his',\n",
       " 'unwavering',\n",
       " 'support',\n",
       " 'and',\n",
       " 'for',\n",
       " 'encouraging',\n",
       " 'me',\n",
       " 'to',\n",
       " 'pursue',\n",
       " 'the',\n",
       " 'project',\n",
       " 'with',\n",
       " 'my',\n",
       " 'own',\n",
       " 'interest.',\n",
       " 'His',\n",
       " 'mentorship',\n",
       " 'has',\n",
       " 'been',\n",
       " 'vital',\n",
       " 'for',\n",
       " 'nurturing',\n",
       " 'my',\n",
       " 'passion',\n",
       " 'for',\n",
       " 'research.']"
      ]
     },
     "execution_count": 106,
     "metadata": {},
     "output_type": "execute_result"
    }
   ],
   "source": [
    "a.split()"
   ]
  },
  {
   "cell_type": "code",
   "execution_count": 107,
   "id": "693c0705",
   "metadata": {},
   "outputs": [
    {
     "name": "stdout",
     "output_type": "stream",
     "text": [
      "['The', 'journey', 'of', 'my', 'Master', 'of', 'Technology', 'has', 'been', 'both', 'thrilling', 'and', 'challenging.', 'I', 'would', 'like', 'to', 'acknowledge', 'that,', 'apart', 'from', 'God’s', 'and', 'my', \"parents'\", 'blessings,', 'the', 'success', 'of', 'this', 'dissertation', 'work', 'is', 'the', 'result', 'of', 'the', 'invaluable', 'encouragement', 'and', 'guidance', 'of', 'my', 'mentor,', 'Mr.', 'Vandit', 'Headu.', 'I', 'am', 'deeply', 'grateful', 'to', 'him', 'for', 'his', 'unwavering', 'support', 'and', 'for', 'encouraging', 'me', 'to', 'pursue', 'the', 'project', 'with', 'my', 'own', 'interest.', 'His', 'mentorship', 'has', 'been', 'vital', 'for', 'nurturing', 'my', 'passion', 'for', 'research.']\n"
     ]
    }
   ],
   "source": [
    "print(a.split())"
   ]
  },
  {
   "cell_type": "code",
   "execution_count": 108,
   "id": "476bc2f1",
   "metadata": {},
   "outputs": [
    {
     "data": {
      "text/plain": [
       "['Shivani', 'Joshi']"
      ]
     },
     "execution_count": 108,
     "metadata": {},
     "output_type": "execute_result"
    }
   ],
   "source": [
    "s=\"Shivani Joshi\"\n",
    "s.split()"
   ]
  },
  {
   "cell_type": "code",
   "execution_count": 109,
   "id": "38734c05",
   "metadata": {},
   "outputs": [
    {
     "data": {
      "text/plain": [
       "['Shivani', 'Joshi']"
      ]
     },
     "execution_count": 109,
     "metadata": {},
     "output_type": "execute_result"
    }
   ],
   "source": [
    "le=s.split()\n",
    "le"
   ]
  },
  {
   "cell_type": "code",
   "execution_count": 112,
   "id": "0a4fad68",
   "metadata": {},
   "outputs": [
    {
     "data": {
      "text/plain": [
       "'Shivani Joshi'"
      ]
     },
     "execution_count": 112,
     "metadata": {},
     "output_type": "execute_result"
    }
   ],
   "source": [
    "\" \".join(le)"
   ]
  },
  {
   "cell_type": "code",
   "execution_count": 113,
   "id": "54c8ff35",
   "metadata": {},
   "outputs": [
    {
     "data": {
      "text/plain": [
       "'ShivaniJoshi'"
      ]
     },
     "execution_count": 113,
     "metadata": {},
     "output_type": "execute_result"
    }
   ],
   "source": [
    "\"\".join(le)"
   ]
  },
  {
   "cell_type": "code",
   "execution_count": 115,
   "id": "66745a9f",
   "metadata": {},
   "outputs": [
    {
     "data": {
      "text/plain": [
       "'Shivani + Joshi'"
      ]
     },
     "execution_count": 115,
     "metadata": {},
     "output_type": "execute_result"
    }
   ],
   "source": [
    "\" + \".join(le)"
   ]
  },
  {
   "cell_type": "code",
   "execution_count": 116,
   "id": "38cc07b1",
   "metadata": {},
   "outputs": [
    {
     "data": {
      "text/plain": [
       "'1 2 3'"
      ]
     },
     "execution_count": 116,
     "metadata": {},
     "output_type": "execute_result"
    }
   ],
   "source": [
    "l = ['1','2','3']\n",
    "\" \".join(l)\n"
   ]
  },
  {
   "cell_type": "code",
   "execution_count": 2,
   "id": "7d9b942f",
   "metadata": {},
   "outputs": [],
   "source": [
    "text = \"Some collection classes are mutable. The methods that add, subtract, or rearrange their members in place, and don’t return a specific item, never return the collection instance itself but None.\""
   ]
  },
  {
   "cell_type": "code",
   "execution_count": 3,
   "id": "78fbc31f",
   "metadata": {},
   "outputs": [
    {
     "name": "stdout",
     "output_type": "stream",
     "text": [
      "['Some', 'collection', 'classes', 'are', 'mutable.', 'The', 'methods', 'that', 'add,', 'subtract,', 'or', 'rearrange', 'their', 'members', 'in', 'place,', 'and', 'don’t', 'return', 'a', 'specific', 'item,', 'never', 'return', 'the', 'collection', 'instance', 'itself', 'but', 'None.']\n"
     ]
    }
   ],
   "source": [
    "print(text.split())"
   ]
  },
  {
   "cell_type": "code",
   "execution_count": 4,
   "id": "2fbbe20c",
   "metadata": {},
   "outputs": [
    {
     "name": "stdout",
     "output_type": "stream",
     "text": [
      "Some collection classes are mutable. The methods that add, subtract, or rearrange their members in place, and don’t return a specific item, never return the collection instance itself but None.\n"
     ]
    }
   ],
   "source": [
    "print(\"\".join(text))"
   ]
  },
  {
   "cell_type": "code",
   "execution_count": 5,
   "id": "f4f68943",
   "metadata": {},
   "outputs": [
    {
     "name": "stdout",
     "output_type": "stream",
     "text": [
      "S o m e   c o l l e c t i o n   c l a s s e s   a r e   m u t a b l e .   T h e   m e t h o d s   t h a t   a d d ,   s u b t r a c t ,   o r   r e a r r a n g e   t h e i r   m e m b e r s   i n   p l a c e ,   a n d   d o n ’ t   r e t u r n   a   s p e c i f i c   i t e m ,   n e v e r   r e t u r n   t h e   c o l l e c t i o n   i n s t a n c e   i t s e l f   b u t   N o n e .\n"
     ]
    }
   ],
   "source": [
    "print(\" \".join(text))"
   ]
  },
  {
   "cell_type": "code",
   "execution_count": 125,
   "id": "d646e9f9",
   "metadata": {},
   "outputs": [
    {
     "name": "stdout",
     "output_type": "stream",
     "text": [
      "some collection classes are mutable. the methods that add, subtract, or rearrange their members in place, and don’t return a specific item, never return the collection instance itself but none.\n"
     ]
    }
   ],
   "source": [
    "print(\"\".join(text).lower())"
   ]
  },
  {
   "cell_type": "code",
   "execution_count": 127,
   "id": "fc9f5786",
   "metadata": {},
   "outputs": [
    {
     "data": {
      "text/plain": [
       "'Some collection classes are mutable. The methods that add, subtract, or rearrange their members in place, and don’t return a specific item, never return the collection instance itself but None.'"
      ]
     },
     "execution_count": 127,
     "metadata": {},
     "output_type": "execute_result"
    }
   ],
   "source": [
    "text"
   ]
  },
  {
   "cell_type": "code",
   "execution_count": 128,
   "id": "9d2d6ff6",
   "metadata": {},
   "outputs": [
    {
     "data": {
      "text/plain": [
       "24"
      ]
     },
     "execution_count": 128,
     "metadata": {},
     "output_type": "execute_result"
    }
   ],
   "source": [
    "text.find(\"are\") #1st index of the substring in the string"
   ]
  },
  {
   "cell_type": "code",
   "execution_count": 129,
   "id": "3bc08baa",
   "metadata": {},
   "outputs": [],
   "source": [
    "text2 = \"Numbers are created by numeric literals or as the result of built-in functions and operators. Unadorned integer literals (including hex, octal and binary numbers) yield integers. Numeric literals containing a decimal point or an exponent sign yield floating-point numbers. Appending 'j' or 'J' to a numeric literal yields an imaginary number (a complex number with a zero real part) which you can add to an integer or float to get a complex number with real and imaginary parts.\""
   ]
  },
  {
   "cell_type": "code",
   "execution_count": 130,
   "id": "82cab11b",
   "metadata": {},
   "outputs": [
    {
     "data": {
      "text/plain": [
       "273"
      ]
     },
     "execution_count": 130,
     "metadata": {},
     "output_type": "execute_result"
    }
   ],
   "source": [
    "text2.find(\"Appending\")"
   ]
  },
  {
   "cell_type": "code",
   "execution_count": 131,
   "id": "2d5ef38c",
   "metadata": {},
   "outputs": [
    {
     "data": {
      "text/plain": [
       "273"
      ]
     },
     "execution_count": 131,
     "metadata": {},
     "output_type": "execute_result"
    }
   ],
   "source": [
    "text2.index(\"Appending\")"
   ]
  },
  {
   "cell_type": "markdown",
   "id": "ff2d8abd",
   "metadata": {},
   "source": [
    "Difference b/w find and index"
   ]
  },
  {
   "cell_type": "code",
   "execution_count": 133,
   "id": "9e618452",
   "metadata": {},
   "outputs": [
    {
     "data": {
      "text/plain": [
       "-1"
      ]
     },
     "execution_count": 133,
     "metadata": {},
     "output_type": "execute_result"
    }
   ],
   "source": [
    "text2.find(\"Shivani\")"
   ]
  },
  {
   "cell_type": "code",
   "execution_count": 134,
   "id": "a8036c1b",
   "metadata": {},
   "outputs": [
    {
     "ename": "ValueError",
     "evalue": "substring not found",
     "output_type": "error",
     "traceback": [
      "\u001b[1;31m---------------------------------------------------------------------------\u001b[0m",
      "\u001b[1;31mValueError\u001b[0m                                Traceback (most recent call last)",
      "Input \u001b[1;32mIn [134]\u001b[0m, in \u001b[0;36m<cell line: 1>\u001b[1;34m()\u001b[0m\n\u001b[1;32m----> 1\u001b[0m \u001b[43mtext2\u001b[49m\u001b[38;5;241;43m.\u001b[39;49m\u001b[43mindex\u001b[49m\u001b[43m(\u001b[49m\u001b[38;5;124;43m\"\u001b[39;49m\u001b[38;5;124;43mShivani\u001b[39;49m\u001b[38;5;124;43m\"\u001b[39;49m\u001b[43m)\u001b[49m\n",
      "\u001b[1;31mValueError\u001b[0m: substring not found"
     ]
    }
   ],
   "source": [
    "text2.index(\"Shivani\")"
   ]
  },
  {
   "cell_type": "code",
   "execution_count": 135,
   "id": "c2a5d208",
   "metadata": {},
   "outputs": [
    {
     "data": {
      "text/plain": [
       "273"
      ]
     },
     "execution_count": 135,
     "metadata": {},
     "output_type": "execute_result"
    }
   ],
   "source": [
    "text2.rfind(\"Appending\") #last "
   ]
  },
  {
   "cell_type": "code",
   "execution_count": 136,
   "id": "b429bd41",
   "metadata": {},
   "outputs": [
    {
     "data": {
      "text/plain": [
       "\"Shivani are created by numeric literals or as the result of built-in functions and operators. Unadorned integer literals (including hex, octal and binary numbers) yield integers. Numeric literals containing a decimal point or an exponent sign yield floating-point numbers. Appending 'j' or 'J' to a numeric literal yields an imaginary number (a complex number with a zero real part) which you can add to an integer or float to get a complex number with real and imaginary parts.\""
      ]
     },
     "execution_count": 136,
     "metadata": {},
     "output_type": "execute_result"
    }
   ],
   "source": [
    "text2.replace(\"Numbers\",\"Shivani\")"
   ]
  },
  {
   "cell_type": "code",
   "execution_count": 138,
   "id": "8bd81bc0",
   "metadata": {},
   "outputs": [
    {
     "data": {
      "text/plain": [
       "'python is easy, its open sourse, dynamically typed'"
      ]
     },
     "execution_count": 138,
     "metadata": {},
     "output_type": "execute_result"
    }
   ],
   "source": [
    "b = \"\"\"python is easy, its open sourse, dynamically typed\"\"\"\n",
    "b"
   ]
  },
  {
   "cell_type": "code",
   "execution_count": 139,
   "id": "c141fbc4",
   "metadata": {},
   "outputs": [
    {
     "data": {
      "text/plain": [
       "('python is easy', 'its open sourse', 'dynamically typed')"
      ]
     },
     "execution_count": 139,
     "metadata": {},
     "output_type": "execute_result"
    }
   ],
   "source": [
    "b = \"python is easy\", \"its open sourse\", \"dynamically typed\"\n",
    "b"
   ]
  },
  {
   "cell_type": "code",
   "execution_count": null,
   "id": "2df63000",
   "metadata": {},
   "outputs": [],
   "source": []
  }
 ],
 "metadata": {
  "kernelspec": {
   "display_name": "Python 3",
   "language": "python",
   "name": "python3"
  },
  "language_info": {
   "codemirror_mode": {
    "name": "ipython",
    "version": 3
   },
   "file_extension": ".py",
   "mimetype": "text/x-python",
   "name": "python",
   "nbconvert_exporter": "python",
   "pygments_lexer": "ipython3",
   "version": "3.11.1"
  }
 },
 "nbformat": 4,
 "nbformat_minor": 5
}
