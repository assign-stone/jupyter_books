{
 "cells": [
  {
   "cell_type": "code",
   "execution_count": 4,
   "id": "2e2e8256",
   "metadata": {},
   "outputs": [],
   "source": [
    "# defiition\n",
    "def print_hello():\n",
    "    print('Hello')"
   ]
  },
  {
   "cell_type": "code",
   "execution_count": 5,
   "id": "85b2a34d",
   "metadata": {},
   "outputs": [
    {
     "name": "stdout",
     "output_type": "stream",
     "text": [
      "Hello\n"
     ]
    }
   ],
   "source": [
    "# calling\n",
    "print_hello()"
   ]
  },
  {
   "cell_type": "code",
   "execution_count": 7,
   "id": "d3dbaf32",
   "metadata": {},
   "outputs": [],
   "source": [
    "# defiition\n",
    "def print_hello():\n",
    "    print(1/0)"
   ]
  },
  {
   "cell_type": "code",
   "execution_count": 8,
   "id": "b6999e1e",
   "metadata": {},
   "outputs": [
    {
     "ename": "ZeroDivisionError",
     "evalue": "division by zero",
     "output_type": "error",
     "traceback": [
      "\u001b[31m---------------------------------------------------------------------------\u001b[39m",
      "\u001b[31mZeroDivisionError\u001b[39m                         Traceback (most recent call last)",
      "\u001b[36mCell\u001b[39m\u001b[36m \u001b[39m\u001b[32mIn[8]\u001b[39m\u001b[32m, line 1\u001b[39m\n\u001b[32m----> \u001b[39m\u001b[32m1\u001b[39m \u001b[43mprint_hello\u001b[49m\u001b[43m(\u001b[49m\u001b[43m)\u001b[49m\n",
      "\u001b[36mCell\u001b[39m\u001b[36m \u001b[39m\u001b[32mIn[7]\u001b[39m\u001b[32m, line 3\u001b[39m, in \u001b[36mprint_hello\u001b[39m\u001b[34m()\u001b[39m\n\u001b[32m      2\u001b[39m \u001b[38;5;28;01mdef\u001b[39;00m\u001b[38;5;250m \u001b[39m\u001b[34mprint_hello\u001b[39m():\n\u001b[32m----> \u001b[39m\u001b[32m3\u001b[39m     \u001b[38;5;28mprint\u001b[39m(\u001b[32;43m1\u001b[39;49m\u001b[43m/\u001b[49m\u001b[32;43m0\u001b[39;49m)\n",
      "\u001b[31mZeroDivisionError\u001b[39m: division by zero"
     ]
    }
   ],
   "source": [
    "print_hello()"
   ]
  },
  {
   "cell_type": "code",
   "execution_count": 79,
   "id": "93aa8a80",
   "metadata": {},
   "outputs": [],
   "source": [
    "# defiition\n",
    "def print_hello(name):\n",
    "    print('Hello', name)"
   ]
  },
  {
   "cell_type": "code",
   "execution_count": 80,
   "id": "7810eca0",
   "metadata": {},
   "outputs": [
    {
     "name": "stdout",
     "output_type": "stream",
     "text": [
      "Hello Himanshu\n"
     ]
    }
   ],
   "source": [
    "print_hello('Himanshu')"
   ]
  },
  {
   "cell_type": "code",
   "execution_count": 81,
   "id": "2d3515d4",
   "metadata": {},
   "outputs": [
    {
     "name": "stdout",
     "output_type": "stream",
     "text": [
      "Hello Aniket\n"
     ]
    }
   ],
   "source": [
    "print_hello('Aniket')"
   ]
  },
  {
   "cell_type": "code",
   "execution_count": null,
   "id": "49424bcb",
   "metadata": {},
   "outputs": [],
   "source": []
  },
  {
   "cell_type": "code",
   "execution_count": null,
   "id": "db2ea241",
   "metadata": {},
   "outputs": [],
   "source": []
  },
  {
   "cell_type": "code",
   "execution_count": 25,
   "id": "991e2861",
   "metadata": {},
   "outputs": [],
   "source": [
    "# function with paramters\n",
    "def print_name(name, age):\n",
    "    print('Hello ', name, 'you are', age, 'years old')"
   ]
  },
  {
   "cell_type": "code",
   "execution_count": 26,
   "id": "d832cf77",
   "metadata": {},
   "outputs": [
    {
     "name": "stdout",
     "output_type": "stream",
     "text": [
      "Hello  Himanshu you are 50 years old\n"
     ]
    }
   ],
   "source": [
    "print_name(name= 'Himanshu', age=50)"
   ]
  },
  {
   "cell_type": "code",
   "execution_count": 27,
   "id": "a6694759",
   "metadata": {},
   "outputs": [
    {
     "name": "stdout",
     "output_type": "stream",
     "text": [
      "Hello  Aniket you are 20 years old\n"
     ]
    }
   ],
   "source": [
    "print_name(name= 'Aniket', age=20)"
   ]
  },
  {
   "cell_type": "code",
   "execution_count": 43,
   "id": "5eea09bf",
   "metadata": {},
   "outputs": [],
   "source": [
    "a = len('sdjhdsmkjds')"
   ]
  },
  {
   "cell_type": "code",
   "execution_count": 32,
   "id": "cdcce588",
   "metadata": {},
   "outputs": [
    {
     "data": {
      "text/plain": [
       "11"
      ]
     },
     "execution_count": 32,
     "metadata": {},
     "output_type": "execute_result"
    }
   ],
   "source": [
    "a"
   ]
  },
  {
   "cell_type": "code",
   "execution_count": 44,
   "id": "78a22ebb",
   "metadata": {},
   "outputs": [
    {
     "name": "stdout",
     "output_type": "stream",
     "text": [
      "Hello  a you are 5 years old\n"
     ]
    }
   ],
   "source": [
    "res = print_name('a', 5)"
   ]
  },
  {
   "cell_type": "code",
   "execution_count": 45,
   "id": "4f7f865e",
   "metadata": {},
   "outputs": [],
   "source": [
    "res"
   ]
  },
  {
   "cell_type": "code",
   "execution_count": 60,
   "id": "e26e8059",
   "metadata": {},
   "outputs": [],
   "source": [
    "# function with paramters\n",
    "def print_name(name, age):\n",
    "    return 'Hello ', name, 'you are', age, 'years old'"
   ]
  },
  {
   "cell_type": "code",
   "execution_count": 61,
   "id": "e31cc5d9",
   "metadata": {},
   "outputs": [],
   "source": [
    "res = print_name('Himanshu', 50)"
   ]
  },
  {
   "cell_type": "code",
   "execution_count": 62,
   "id": "a18f2b76",
   "metadata": {},
   "outputs": [
    {
     "data": {
      "text/plain": [
       "('Hello ', 'Himanshu', 'you are', 50, 'years old')"
      ]
     },
     "execution_count": 62,
     "metadata": {},
     "output_type": "execute_result"
    }
   ],
   "source": [
    "res"
   ]
  },
  {
   "cell_type": "code",
   "execution_count": 65,
   "id": "631c5217",
   "metadata": {},
   "outputs": [],
   "source": [
    "def diff(a,b):\n",
    "    return(a-b)"
   ]
  },
  {
   "cell_type": "code",
   "execution_count": 69,
   "id": "a6aea355",
   "metadata": {},
   "outputs": [],
   "source": [
    "## positional paramters"
   ]
  },
  {
   "cell_type": "code",
   "execution_count": 70,
   "id": "81cab26b",
   "metadata": {},
   "outputs": [
    {
     "data": {
      "text/plain": [
       "-1"
      ]
     },
     "execution_count": 70,
     "metadata": {},
     "output_type": "execute_result"
    }
   ],
   "source": [
    "diff(1,2)"
   ]
  },
  {
   "cell_type": "code",
   "execution_count": 72,
   "id": "771f5ca3",
   "metadata": {},
   "outputs": [],
   "source": [
    "# keyword parameters"
   ]
  },
  {
   "cell_type": "code",
   "execution_count": 141,
   "id": "044df264",
   "metadata": {},
   "outputs": [
    {
     "data": {
      "text/plain": [
       "1"
      ]
     },
     "execution_count": 141,
     "metadata": {},
     "output_type": "execute_result"
    }
   ],
   "source": [
    "diff(a=2,b=1)"
   ]
  },
  {
   "cell_type": "code",
   "execution_count": 73,
   "id": "8f3628fa",
   "metadata": {},
   "outputs": [],
   "source": [
    "# keyword and positional paramters"
   ]
  },
  {
   "cell_type": "code",
   "execution_count": 74,
   "id": "5d60ff82",
   "metadata": {},
   "outputs": [],
   "source": [
    "def sum(a,b,c,d):\n",
    "    return a + b + c + d"
   ]
  },
  {
   "cell_type": "code",
   "execution_count": 83,
   "id": "86001be5",
   "metadata": {},
   "outputs": [
    {
     "ename": "TypeError",
     "evalue": "sum() got multiple values for argument 'b'",
     "output_type": "error",
     "traceback": [
      "\u001b[31m---------------------------------------------------------------------------\u001b[39m",
      "\u001b[31mTypeError\u001b[39m                                 Traceback (most recent call last)",
      "\u001b[36mCell\u001b[39m\u001b[36m \u001b[39m\u001b[32mIn[83]\u001b[39m\u001b[32m, line 1\u001b[39m\n\u001b[32m----> \u001b[39m\u001b[32m1\u001b[39m \u001b[38;5;28;43msum\u001b[39;49m\u001b[43m(\u001b[49m\u001b[32;43m1\u001b[39;49m\u001b[43m,\u001b[49m\u001b[32;43m2\u001b[39;49m\u001b[43m,\u001b[49m\u001b[43mb\u001b[49m\u001b[43m=\u001b[49m\u001b[32;43m3\u001b[39;49m\u001b[43m,\u001b[49m\u001b[43md\u001b[49m\u001b[43m=\u001b[49m\u001b[32;43m4\u001b[39;49m\u001b[43m)\u001b[49m\n",
      "\u001b[31mTypeError\u001b[39m: sum() got multiple values for argument 'b'"
     ]
    }
   ],
   "source": [
    "sum(1,2,b=3,d=4)"
   ]
  },
  {
   "cell_type": "code",
   "execution_count": 89,
   "id": "80f78006",
   "metadata": {},
   "outputs": [],
   "source": [
    "# default parameters"
   ]
  },
  {
   "cell_type": "code",
   "execution_count": 98,
   "id": "b3bb9dc5",
   "metadata": {},
   "outputs": [],
   "source": [
    "def summer(a=0,b=0,c=0,d=0):\n",
    "    print (\"a - \",a)\n",
    "    print (\"b - \",b)\n",
    "    print (\"c - \",c)\n",
    "    print (\"d - \",d)"
   ]
  },
  {
   "cell_type": "code",
   "execution_count": 102,
   "id": "f54292cc",
   "metadata": {},
   "outputs": [
    {
     "name": "stdout",
     "output_type": "stream",
     "text": [
      "a -  2\n",
      "b -  3\n",
      "c -  0\n",
      "d -  0\n"
     ]
    }
   ],
   "source": [
    "summer(2,3)"
   ]
  },
  {
   "cell_type": "code",
   "execution_count": 104,
   "id": "ba537947",
   "metadata": {},
   "outputs": [],
   "source": [
    "# n unnamed args"
   ]
  },
  {
   "cell_type": "code",
   "execution_count": 105,
   "id": "c3ac03b3",
   "metadata": {},
   "outputs": [],
   "source": [
    "def summer(a,b,c,d):\n",
    "    return a + b + c + d"
   ]
  },
  {
   "cell_type": "code",
   "execution_count": 109,
   "id": "a445b4b0",
   "metadata": {},
   "outputs": [],
   "source": [
    "def nunamed(*args):\n",
    "    print(args)"
   ]
  },
  {
   "cell_type": "code",
   "execution_count": 125,
   "id": "1d7d4b95",
   "metadata": {},
   "outputs": [
    {
     "name": "stdout",
     "output_type": "stream",
     "text": [
      "(1, 2, 3, 4, 5)\n"
     ]
    }
   ],
   "source": [
    "nunamed(1,2,3,4,5)"
   ]
  },
  {
   "cell_type": "code",
   "execution_count": 132,
   "id": "7f3d8553",
   "metadata": {},
   "outputs": [],
   "source": [
    "def new_sum(*nums):\n",
    "    return(sum(nums))"
   ]
  },
  {
   "cell_type": "code",
   "execution_count": 133,
   "id": "36e4bb92",
   "metadata": {},
   "outputs": [
    {
     "data": {
      "text/plain": [
       "15"
      ]
     },
     "execution_count": 133,
     "metadata": {},
     "output_type": "execute_result"
    }
   ],
   "source": [
    "new_sum(1,2,3,4,5)"
   ]
  },
  {
   "cell_type": "code",
   "execution_count": 142,
   "id": "648e98b8",
   "metadata": {},
   "outputs": [],
   "source": [
    "# n named parameters"
   ]
  },
  {
   "cell_type": "code",
   "execution_count": 143,
   "id": "148edcd0",
   "metadata": {},
   "outputs": [],
   "source": [
    "def address(**kwargs):\n",
    "    print(kwargs)"
   ]
  },
  {
   "cell_type": "code",
   "execution_count": 144,
   "id": "39c4a093",
   "metadata": {},
   "outputs": [
    {
     "name": "stdout",
     "output_type": "stream",
     "text": [
      "{'name': 'Himanshu', 'city': 'Pune', 'country': 'India', 'Taluka': 'Mulshi'}\n"
     ]
    }
   ],
   "source": [
    "address(name='Himanshu', city='Pune', country='India', Taluka='Mulshi')"
   ]
  },
  {
   "cell_type": "code",
   "execution_count": 151,
   "id": "7b33d25c",
   "metadata": {},
   "outputs": [
    {
     "data": {
      "text/plain": [
       "dict_items([('name', 'Himanshu'), ('city', 'Pune'), ('country', 'India'), ('Taluka', 'Mulshi')])"
      ]
     },
     "execution_count": 151,
     "metadata": {},
     "output_type": "execute_result"
    }
   ],
   "source": [
    "{'name': 'Himanshu', 'city': 'Pune', 'country': 'India', 'Taluka': 'Mulshi'}.items()"
   ]
  },
  {
   "cell_type": "code",
   "execution_count": 149,
   "id": "1e102450",
   "metadata": {},
   "outputs": [],
   "source": [
    "def address(**kwargs):\n",
    "    for k,v in kwargs.items():\n",
    "        print(k.upper(),'-', v)"
   ]
  },
  {
   "cell_type": "code",
   "execution_count": 150,
   "id": "44f722c3",
   "metadata": {},
   "outputs": [
    {
     "name": "stdout",
     "output_type": "stream",
     "text": [
      "NAME - Himanshu\n",
      "CITY - Pune\n",
      "COUNTRY - India\n",
      "TALUKA - Mulshi\n"
     ]
    }
   ],
   "source": [
    "address(name='Himanshu', city='Pune', country='India', Taluka='Mulshi')"
   ]
  },
  {
   "cell_type": "code",
   "execution_count": 153,
   "id": "c2fdfa56",
   "metadata": {},
   "outputs": [],
   "source": [
    "def even_or_ood(number):\n",
    "    if number%2==0:\n",
    "        return 'Even'\n",
    "    else:\n",
    "        return 'Odd'"
   ]
  },
  {
   "cell_type": "code",
   "execution_count": 154,
   "id": "1f5bada7",
   "metadata": {},
   "outputs": [
    {
     "data": {
      "text/plain": [
       "'Even'"
      ]
     },
     "execution_count": 154,
     "metadata": {},
     "output_type": "execute_result"
    }
   ],
   "source": [
    "even_or_ood(2)"
   ]
  },
  {
   "cell_type": "code",
   "execution_count": 155,
   "id": "9d3c8639",
   "metadata": {},
   "outputs": [
    {
     "data": {
      "text/plain": [
       "'Odd'"
      ]
     },
     "execution_count": 155,
     "metadata": {},
     "output_type": "execute_result"
    }
   ],
   "source": [
    "even_or_ood(3)"
   ]
  },
  {
   "cell_type": "code",
   "execution_count": 170,
   "id": "a6828ee1",
   "metadata": {},
   "outputs": [],
   "source": [
    "def vowel_counter(sentence):\n",
    "    ctr = []\n",
    "    vowels = ['a', 'e', 'i', 'o', 'u']\n",
    "    for letter in sentence:\n",
    "        if letter.lower() in vowels:\n",
    "            ctr.append(letter.lower())\n",
    "    return len(set(ctr))"
   ]
  },
  {
   "cell_type": "code",
   "execution_count": 171,
   "id": "2676af9c",
   "metadata": {},
   "outputs": [
    {
     "data": {
      "text/plain": [
       "3"
      ]
     },
     "execution_count": 171,
     "metadata": {},
     "output_type": "execute_result"
    }
   ],
   "source": [
    "vowel_counter('Himanshu Tyagi')"
   ]
  },
  {
   "cell_type": "code",
   "execution_count": 172,
   "id": "410266d9",
   "metadata": {},
   "outputs": [
    {
     "ename": "NameError",
     "evalue": "name 'ctr' is not defined",
     "output_type": "error",
     "traceback": [
      "\u001b[31m---------------------------------------------------------------------------\u001b[39m",
      "\u001b[31mNameError\u001b[39m                                 Traceback (most recent call last)",
      "\u001b[36mCell\u001b[39m\u001b[36m \u001b[39m\u001b[32mIn[172]\u001b[39m\u001b[32m, line 1\u001b[39m\n\u001b[32m----> \u001b[39m\u001b[32m1\u001b[39m \u001b[43mctr\u001b[49m\n",
      "\u001b[31mNameError\u001b[39m: name 'ctr' is not defined"
     ]
    }
   ],
   "source": [
    "ctr"
   ]
  },
  {
   "cell_type": "code",
   "execution_count": 173,
   "id": "20826c79",
   "metadata": {},
   "outputs": [],
   "source": [
    "# recursion"
   ]
  },
  {
   "cell_type": "code",
   "execution_count": 175,
   "id": "4ced6755",
   "metadata": {},
   "outputs": [],
   "source": [
    "# calling a function inside itself is called recursion"
   ]
  },
  {
   "cell_type": "code",
   "execution_count": 179,
   "id": "1ec554cc",
   "metadata": {},
   "outputs": [],
   "source": [
    "def factorial(n):\n",
    "    if n == 0 or n == 1:\n",
    "        return 1\n",
    "    else:\n",
    "        return n * factorial(n - 1)"
   ]
  },
  {
   "cell_type": "code",
   "execution_count": 181,
   "id": "96a0df3b",
   "metadata": {},
   "outputs": [
    {
     "data": {
      "text/plain": [
       "24"
      ]
     },
     "execution_count": 181,
     "metadata": {},
     "output_type": "execute_result"
    }
   ],
   "source": [
    "factorial(4)"
   ]
  },
  {
   "cell_type": "code",
   "execution_count": null,
   "id": "c190d998",
   "metadata": {},
   "outputs": [],
   "source": [
    "# factorial(4) > \n",
    "\n",
    "# 4 * factorial(3)\n",
    "# 4 * 3 * factorial(2)\n",
    "# 4 * 3 * 2 *  factorial(1)\n",
    "# 4 * 3 * 2 *  1"
   ]
  },
  {
   "cell_type": "code",
   "execution_count": 1,
   "id": "97d97d90",
   "metadata": {},
   "outputs": [],
   "source": [
    "### lambda functions"
   ]
  },
  {
   "cell_type": "code",
   "execution_count": 3,
   "id": "dc4e888f",
   "metadata": {},
   "outputs": [],
   "source": [
    "lambda_x = lambda x: x+2"
   ]
  },
  {
   "cell_type": "code",
   "execution_count": 6,
   "id": "c1895894",
   "metadata": {},
   "outputs": [],
   "source": [
    "def even_or_ood(number):\n",
    "    if number%2==0:\n",
    "        return 'Even'\n",
    "    else:\n",
    "        return 'Odd'"
   ]
  },
  {
   "cell_type": "code",
   "execution_count": 7,
   "id": "2938e735",
   "metadata": {},
   "outputs": [
    {
     "data": {
      "text/plain": [
       "'Even'"
      ]
     },
     "execution_count": 7,
     "metadata": {},
     "output_type": "execute_result"
    }
   ],
   "source": [
    "even_or_ood(2)"
   ]
  },
  {
   "cell_type": "code",
   "execution_count": 9,
   "id": "2b8201e8",
   "metadata": {},
   "outputs": [],
   "source": [
    "even_odd_lambda = lambda x : 'Even' if x%2==0 else 'Odd'"
   ]
  },
  {
   "cell_type": "code",
   "execution_count": 10,
   "id": "5263e0ee",
   "metadata": {},
   "outputs": [
    {
     "data": {
      "text/plain": [
       "'Even'"
      ]
     },
     "execution_count": 10,
     "metadata": {},
     "output_type": "execute_result"
    }
   ],
   "source": [
    "even_odd_lambda(2)"
   ]
  },
  {
   "cell_type": "code",
   "execution_count": 11,
   "id": "8f80bfac",
   "metadata": {},
   "outputs": [],
   "source": [
    "summer = lambda x,y : x+y"
   ]
  },
  {
   "cell_type": "code",
   "execution_count": 12,
   "id": "5110b102",
   "metadata": {},
   "outputs": [
    {
     "data": {
      "text/plain": [
       "3"
      ]
     },
     "execution_count": 12,
     "metadata": {},
     "output_type": "execute_result"
    }
   ],
   "source": [
    "summer(1,2)"
   ]
  },
  {
   "cell_type": "code",
   "execution_count": 14,
   "id": "db0786b1",
   "metadata": {},
   "outputs": [
    {
     "data": {
      "text/plain": [
       "['Odd', 'Even', 'Odd', 'Even', 'Odd', 'Even']"
      ]
     },
     "execution_count": 14,
     "metadata": {},
     "output_type": "execute_result"
    }
   ],
   "source": [
    "list(map(even_odd_lambda, [1,2,3,4,5,6]))"
   ]
  },
  {
   "cell_type": "code",
   "execution_count": 15,
   "id": "0d095845",
   "metadata": {},
   "outputs": [
    {
     "data": {
      "text/plain": [
       "['hey', 'there', 'how', 'are', 'you?']"
      ]
     },
     "execution_count": 15,
     "metadata": {},
     "output_type": "execute_result"
    }
   ],
   "source": [
    "'hey there how are you?'.split()"
   ]
  },
  {
   "cell_type": "code",
   "execution_count": null,
   "id": "8cd43b9d",
   "metadata": {},
   "outputs": [],
   "source": [
    "words = ['hey', 'there', 'how', 'are', 'you?']\n",
    "vowels = ['a', 'e', 'i', 'o', 'u']"
   ]
  },
  {
   "cell_type": "code",
   "execution_count": null,
   "id": "857f88c9",
   "metadata": {},
   "outputs": [],
   "source": [
    "vowel_check = lambda word : len([char for char in word if char in vowels])"
   ]
  },
  {
   "cell_type": "code",
   "execution_count": 26,
   "id": "5a85c17c",
   "metadata": {},
   "outputs": [
    {
     "data": {
      "text/plain": [
       "1"
      ]
     },
     "execution_count": 26,
     "metadata": {},
     "output_type": "execute_result"
    }
   ],
   "source": [
    "vowel_check('hey')"
   ]
  },
  {
   "cell_type": "code",
   "execution_count": 30,
   "id": "c0ffdf48",
   "metadata": {},
   "outputs": [],
   "source": [
    "# nested loop list comprehension\n",
    "words = ['hey', 'there', 'how', 'are', 'you?']"
   ]
  },
  {
   "cell_type": "code",
   "execution_count": 33,
   "id": "0a5711f9",
   "metadata": {},
   "outputs": [
    {
     "data": {
      "text/plain": [
       "['h',\n",
       " 'e',\n",
       " 'y',\n",
       " 't',\n",
       " 'h',\n",
       " 'e',\n",
       " 'r',\n",
       " 'e',\n",
       " 'h',\n",
       " 'o',\n",
       " 'w',\n",
       " 'a',\n",
       " 'r',\n",
       " 'e',\n",
       " 'y',\n",
       " 'o',\n",
       " 'u',\n",
       " '?']"
      ]
     },
     "execution_count": 33,
     "metadata": {},
     "output_type": "execute_result"
    }
   ],
   "source": [
    "[char for word in words for char in word]"
   ]
  },
  {
   "cell_type": "code",
   "execution_count": 35,
   "id": "10cb7176",
   "metadata": {},
   "outputs": [
    {
     "data": {
      "text/plain": [
       "[1, 2, 1, 2, 2]"
      ]
     },
     "execution_count": 35,
     "metadata": {},
     "output_type": "execute_result"
    }
   ],
   "source": [
    "list(map(vowel_check, words))"
   ]
  },
  {
   "cell_type": "code",
   "execution_count": null,
   "id": "f5b0151a",
   "metadata": {},
   "outputs": [],
   "source": []
  },
  {
   "cell_type": "code",
   "execution_count": 49,
   "id": "2f9bdd70",
   "metadata": {},
   "outputs": [],
   "source": [
    "div_by_5 = lambda  num : num if num%5==0 else False"
   ]
  },
  {
   "cell_type": "code",
   "execution_count": 50,
   "id": "88b3cd7f",
   "metadata": {},
   "outputs": [
    {
     "data": {
      "text/plain": [
       "False"
      ]
     },
     "execution_count": 50,
     "metadata": {},
     "output_type": "execute_result"
    }
   ],
   "source": [
    "div_by_5(11)"
   ]
  },
  {
   "cell_type": "code",
   "execution_count": 52,
   "id": "66c246d6",
   "metadata": {},
   "outputs": [
    {
     "data": {
      "text/plain": [
       "{0, 5, 10, 15, 20, 25, 30, 35, 40, 45, 50, 55, 60, 65, 70, 75, 80, 85, 90, 95}"
      ]
     },
     "execution_count": 52,
     "metadata": {},
     "output_type": "execute_result"
    }
   ],
   "source": [
    "set(map(div_by_5, range(100)))"
   ]
  },
  {
   "cell_type": "code",
   "execution_count": null,
   "id": "9a478894",
   "metadata": {},
   "outputs": [
    {
     "name": "stdout",
     "output_type": "stream",
     "text": [
      "0\n",
      "5\n",
      "10\n",
      "15\n",
      "20\n",
      "25\n",
      "30\n",
      "35\n",
      "40\n",
      "45\n",
      "50\n",
      "55\n",
      "60\n",
      "65\n",
      "70\n",
      "75\n",
      "80\n",
      "85\n",
      "90\n",
      "95\n"
     ]
    }
   ],
   "source": [
    "for i in range(100):\n",
    "    if div_by_5(i) ==  True:\n",
    "        print(i)\n",
    "        "
   ]
  },
  {
   "cell_type": "code",
   "execution_count": 55,
   "id": "99b50a35",
   "metadata": {},
   "outputs": [
    {
     "data": {
      "text/plain": [
       "[0, 5, 10, 15, 20, 25, 30, 35, 40, 45, 50, 55, 60, 65, 70, 75, 80, 85, 90, 95]"
      ]
     },
     "execution_count": 55,
     "metadata": {},
     "output_type": "execute_result"
    }
   ],
   "source": [
    "list(filter(lambda x : x%5==0, range(100)))"
   ]
  },
  {
   "cell_type": "code",
   "execution_count": 58,
   "id": "3738b5e2",
   "metadata": {},
   "outputs": [],
   "source": [
    "l1 = ['hey', 'there', 'how', 'are', 'you?']"
   ]
  },
  {
   "cell_type": "code",
   "execution_count": 59,
   "id": "a568e318",
   "metadata": {},
   "outputs": [
    {
     "data": {
      "text/plain": [
       "['HEY', 'THERE', 'HOW', 'ARE', 'YOU?']"
      ]
     },
     "execution_count": 59,
     "metadata": {},
     "output_type": "execute_result"
    }
   ],
   "source": [
    "[i.upper() for i in l1]"
   ]
  },
  {
   "cell_type": "code",
   "execution_count": 57,
   "id": "31865dd2",
   "metadata": {},
   "outputs": [
    {
     "data": {
      "text/plain": [
       "['HEY', 'THERE', 'HOW', 'ARE', 'YOU?']"
      ]
     },
     "execution_count": 57,
     "metadata": {},
     "output_type": "execute_result"
    }
   ],
   "source": [
    "list(map(lambda x: x.upper(), ['hey', 'there', 'how', 'are', 'you?']))"
   ]
  }
 ],
 "metadata": {
  "kernelspec": {
   "display_name": "Python 3",
   "language": "python",
   "name": "python3"
  },
  "language_info": {
   "codemirror_mode": {
    "name": "ipython",
    "version": 3
   },
   "file_extension": ".py",
   "mimetype": "text/x-python",
   "name": "python",
   "nbconvert_exporter": "python",
   "pygments_lexer": "ipython3",
   "version": "3.11.0"
  }
 },
 "nbformat": 4,
 "nbformat_minor": 5
}
