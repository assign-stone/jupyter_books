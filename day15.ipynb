{
 "cells": [
  {
   "cell_type": "markdown",
   "id": "e1a6e351",
   "metadata": {
    "vscode": {
     "languageId": "plaintext"
    }
   },
   "source": [
    "#### OOPS - Object oriented prohramming"
   ]
  },
  {
   "cell_type": "code",
   "execution_count": null,
   "id": "62483d77",
   "metadata": {},
   "outputs": [],
   "source": [
    "# Classes  ### frame\n",
    "# objects  ### brick"
   ]
  },
  {
   "cell_type": "code",
   "execution_count": 9,
   "id": "fee8fe94",
   "metadata": {},
   "outputs": [],
   "source": [
    "class Student():\n",
    "    # class variable - constant across all objects\n",
    "    School_name = 'ABC Internaltion School'"
   ]
  },
  {
   "cell_type": "code",
   "execution_count": 10,
   "id": "13728515",
   "metadata": {},
   "outputs": [],
   "source": [
    "# object creation\n",
    "Sanket = Student()\n",
    "Jatin = Student()"
   ]
  },
  {
   "cell_type": "code",
   "execution_count": 11,
   "id": "4411a339",
   "metadata": {},
   "outputs": [
    {
     "data": {
      "text/plain": [
       "__main__.Student"
      ]
     },
     "execution_count": 11,
     "metadata": {},
     "output_type": "execute_result"
    }
   ],
   "source": [
    "type(Jatin)"
   ]
  },
  {
   "cell_type": "code",
   "execution_count": 13,
   "id": "5c81f3cd",
   "metadata": {},
   "outputs": [],
   "source": [
    "Jatin.name = 'Jatin'"
   ]
  },
  {
   "cell_type": "code",
   "execution_count": 14,
   "id": "ff123edb",
   "metadata": {},
   "outputs": [
    {
     "data": {
      "text/plain": [
       "'Jatin'"
      ]
     },
     "execution_count": 14,
     "metadata": {},
     "output_type": "execute_result"
    }
   ],
   "source": [
    "Jatin.name"
   ]
  },
  {
   "cell_type": "code",
   "execution_count": 27,
   "id": "cff5ea2f",
   "metadata": {},
   "outputs": [
    {
     "data": {
      "text/plain": [
       "'ABC Internaltion School'"
      ]
     },
     "execution_count": 27,
     "metadata": {},
     "output_type": "execute_result"
    }
   ],
   "source": [
    "Jatin.School_name"
   ]
  },
  {
   "cell_type": "code",
   "execution_count": 28,
   "id": "1c7021f8",
   "metadata": {},
   "outputs": [
    {
     "data": {
      "text/plain": [
       "'ABC Internaltion School'"
      ]
     },
     "execution_count": 28,
     "metadata": {},
     "output_type": "execute_result"
    }
   ],
   "source": [
    "Sanket.School_name"
   ]
  },
  {
   "cell_type": "code",
   "execution_count": null,
   "id": "68afe0da",
   "metadata": {},
   "outputs": [],
   "source": [
    "# Jatin.name = 'Jatin'"
   ]
  },
  {
   "cell_type": "code",
   "execution_count": 14,
   "id": "9df40a1a",
   "metadata": {},
   "outputs": [
    {
     "data": {
      "text/plain": [
       "'Jatin'"
      ]
     },
     "execution_count": 14,
     "metadata": {},
     "output_type": "execute_result"
    }
   ],
   "source": [
    "Sanket.name"
   ]
  },
  {
   "cell_type": "code",
   "execution_count": 3,
   "id": "b4b82a50",
   "metadata": {},
   "outputs": [
    {
     "data": {
      "text/plain": [
       "__main__.Student"
      ]
     },
     "execution_count": 3,
     "metadata": {},
     "output_type": "execute_result"
    }
   ],
   "source": [
    "type(Sanket)"
   ]
  },
  {
   "cell_type": "code",
   "execution_count": null,
   "id": "9e995e91",
   "metadata": {},
   "outputs": [
    {
     "data": {
      "text/plain": [
       "str"
      ]
     },
     "execution_count": 6,
     "metadata": {},
     "output_type": "execute_result"
    }
   ],
   "source": [
    "a = '1'\n",
    "a."
   ]
  },
  {
   "cell_type": "code",
   "execution_count": 20,
   "id": "af2e386e",
   "metadata": {},
   "outputs": [],
   "source": [
    "# help(str)"
   ]
  },
  {
   "cell_type": "code",
   "execution_count": null,
   "id": "ba91b528",
   "metadata": {},
   "outputs": [],
   "source": [
    "class Student():\n",
    "    School_name = 'ABC Internaltion School'\n",
    "    # runs automatically once object creation is done\n",
    "    # object variables - differrent for differnt objects\n",
    "    def __init__(self, name, age, gender):   \n",
    "            self.name = name       \n",
    "            self.age = age       \n",
    "            self.gender = gender               \n",
    "    def details(self):\n",
    "        print('Your name is ', self.name)\n",
    "        print('Your age is ', self.age)\n",
    "        print('Your gender is ', self.gender)\n",
    "\n",
    "# Car class\n",
    "\n",
    "# attributes - brand, no of wheels, engine_cc, no_of doors, zero_to_hundred \n",
    "# details() \n",
    "#     Brand\n",
    "#     I can accelerate from 0-100 in X secs\n"
   ]
  },
  {
   "cell_type": "code",
   "execution_count": 41,
   "id": "1bcf3578",
   "metadata": {},
   "outputs": [],
   "source": [
    "Sanket = Student(name='Sanket Darekar', age=20, gender='M')  #### __init__(self = Sanket, name=\"SANKET DAREKAR\")\n",
    "Anjali = Student(name = 'Anjali', age=24, gender='F')"
   ]
  },
  {
   "cell_type": "code",
   "execution_count": 42,
   "id": "0a41f986",
   "metadata": {},
   "outputs": [
    {
     "data": {
      "text/plain": [
       "'Anjali'"
      ]
     },
     "execution_count": 42,
     "metadata": {},
     "output_type": "execute_result"
    }
   ],
   "source": [
    "Anjali.name"
   ]
  },
  {
   "cell_type": "code",
   "execution_count": 43,
   "id": "f1ee1884",
   "metadata": {},
   "outputs": [
    {
     "data": {
      "text/plain": [
       "'ABC Internaltion School'"
      ]
     },
     "execution_count": 43,
     "metadata": {},
     "output_type": "execute_result"
    }
   ],
   "source": [
    "Anjali.School_name"
   ]
  },
  {
   "cell_type": "code",
   "execution_count": 44,
   "id": "96adbc6e",
   "metadata": {},
   "outputs": [
    {
     "data": {
      "text/plain": [
       "24"
      ]
     },
     "execution_count": 44,
     "metadata": {},
     "output_type": "execute_result"
    }
   ],
   "source": [
    "Anjali.age"
   ]
  },
  {
   "cell_type": "code",
   "execution_count": 45,
   "id": "48425429",
   "metadata": {},
   "outputs": [
    {
     "data": {
      "text/plain": [
       "'F'"
      ]
     },
     "execution_count": 45,
     "metadata": {},
     "output_type": "execute_result"
    }
   ],
   "source": [
    "Anjali.gender"
   ]
  },
  {
   "cell_type": "code",
   "execution_count": 46,
   "id": "d9031ddf",
   "metadata": {},
   "outputs": [
    {
     "data": {
      "text/plain": [
       "'ABC Internaltion School'"
      ]
     },
     "execution_count": 46,
     "metadata": {},
     "output_type": "execute_result"
    }
   ],
   "source": [
    "Jatin.School_name"
   ]
  },
  {
   "cell_type": "code",
   "execution_count": 47,
   "id": "3d9d1a3f",
   "metadata": {},
   "outputs": [
    {
     "name": "stdout",
     "output_type": "stream",
     "text": [
      "Your name is  Anjali\n",
      "Your age is  24\n",
      "Your gender is  F\n"
     ]
    }
   ],
   "source": [
    "Anjali.details()"
   ]
  },
  {
   "cell_type": "code",
   "execution_count": 48,
   "id": "cc453402",
   "metadata": {},
   "outputs": [],
   "source": [
    "class init_test():\n",
    "    def __init__(self):\n",
    "        print('I am running')"
   ]
  },
  {
   "cell_type": "code",
   "execution_count": null,
   "id": "fd2a4682",
   "metadata": {},
   "outputs": [
    {
     "name": "stdout",
     "output_type": "stream",
     "text": [
      "I am running\n"
     ]
    }
   ],
   "source": [
    "obj_test = init_test()"
   ]
  },
  {
   "cell_type": "code",
   "execution_count": null,
   "id": "21df255a",
   "metadata": {},
   "outputs": [],
   "source": [
    "Car class\n",
    "    \n",
    "\n",
    "attributes - brand, no of wheels, engine_cc, no_of doors, zero_to_hundred \n",
    "details() \n",
    "    Brand\n",
    "    I can accelerate from 0-100 in X secs\n"
   ]
  },
  {
   "cell_type": "code",
   "execution_count": null,
   "id": "73c0f2d8",
   "metadata": {},
   "outputs": [],
   "source": [
    "shape\n",
    "    length\n",
    "    breadth\n",
    "    height\n",
    "\n",
    "area_or_volumne()\n",
    "    l*b\n",
    "    l*b*h"
   ]
  },
  {
   "cell_type": "code",
   "execution_count": 68,
   "id": "861289f1",
   "metadata": {},
   "outputs": [],
   "source": [
    "class Student():\n",
    "    School_name = 'ABC Internaltion School'\n",
    "    # runs automatically once object creation is done\n",
    "    # object variables - differrent for differnt objects\n",
    "    def __init__(self, name, age, gender):   \n",
    "            self.name = name       \n",
    "            self.age = age       \n",
    "            self.gender = gender               \n",
    "    def details(self):\n",
    "        print('Your name is ', self.name)\n",
    "        print('Your age is ', self.age)\n",
    "        print('Your gender is ', self.gender)\n",
    "\n",
    "    def __str__(self):\n",
    "         return('I am an object of Student class')"
   ]
  },
  {
   "cell_type": "code",
   "execution_count": 69,
   "id": "c9dd3300",
   "metadata": {},
   "outputs": [],
   "source": [
    "jatin = Student('jatin', 20, 'M')"
   ]
  },
  {
   "cell_type": "code",
   "execution_count": 70,
   "id": "a434d5f3",
   "metadata": {},
   "outputs": [
    {
     "name": "stdout",
     "output_type": "stream",
     "text": [
      "I am an object of Student class\n"
     ]
    }
   ],
   "source": [
    "print(jatin)"
   ]
  },
  {
   "cell_type": "code",
   "execution_count": 71,
   "id": "2aad2539",
   "metadata": {},
   "outputs": [
    {
     "data": {
      "text/plain": [
       "'I am an object of Student class'"
      ]
     },
     "execution_count": 71,
     "metadata": {},
     "output_type": "execute_result"
    }
   ],
   "source": [
    "jatin.__str__()"
   ]
  },
  {
   "cell_type": "code",
   "execution_count": 64,
   "id": "df0fd8a3",
   "metadata": {},
   "outputs": [],
   "source": [
    "# help(int)"
   ]
  },
  {
   "cell_type": "code",
   "execution_count": null,
   "id": "dc6b62dd",
   "metadata": {},
   "outputs": [],
   "source": []
  }
 ],
 "metadata": {
  "kernelspec": {
   "display_name": "Python 3",
   "language": "python",
   "name": "python3"
  },
  "language_info": {
   "codemirror_mode": {
    "name": "ipython",
    "version": 3
   },
   "file_extension": ".py",
   "mimetype": "text/x-python",
   "name": "python",
   "nbconvert_exporter": "python",
   "pygments_lexer": "ipython3",
   "version": "3.11.0"
  }
 },
 "nbformat": 4,
 "nbformat_minor": 5
}
