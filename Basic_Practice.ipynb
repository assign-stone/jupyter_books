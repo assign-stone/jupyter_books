{
 "cells": [
  {
   "cell_type": "raw",
   "id": "cb820a4b-df5c-43cd-aa00-e6df44a21057",
   "metadata": {},
   "source": [
    "## Write a Python program to print the following string in a specific format (see the output).\n",
    "Sample String : \"Twinkle, twinkle, little star, How I wonder what you are! Up above the world so high, Like a diamond in the sky. Twinkle, twinkle, little star, How I wonder what you are\"\n",
    "Output :\n",
    "\n",
    "Twinkle, twinkle, little star,\n",
    "\tHow I wonder what you are! \n",
    "\t\tUp above the world so high,  \n",
    "\t\tLike a diamond in the sky. \n",
    "Twinkle, twinkle, little star, \n",
    "\tHow I wonder what you are"
   ]
  },
  {
   "cell_type": "code",
   "execution_count": 1,
   "id": "fcb7e7c1-e9b0-4ada-a950-7a300e74fcb5",
   "metadata": {},
   "outputs": [],
   "source": [
    "str4 = \"Twinkle, twinkle, little star,\\n      How I wonder what you are! \\n        Up above the world so high, \\n        Like a diamond in the sky. \\nTwinkle, twinkle, little star, \\n      How I wonder what you are\""
   ]
  },
  {
   "cell_type": "code",
   "execution_count": 2,
   "id": "e38d188d-f913-47c1-98c4-c1bdfb988cad",
   "metadata": {},
   "outputs": [
    {
     "name": "stdout",
     "output_type": "stream",
     "text": [
      "Twinkle, twinkle, little star,\n",
      "      How I wonder what you are! \n",
      "        Up above the world so high, \n",
      "        Like a diamond in the sky. \n",
      "Twinkle, twinkle, little star, \n",
      "      How I wonder what you are\n"
     ]
    }
   ],
   "source": [
    "print(str4)"
   ]
  },
  {
   "cell_type": "raw",
   "id": "6eaa59d9-8858-40d9-8bf8-365d59f4e5a1",
   "metadata": {},
   "source": [
    "## Write a Python program to find out what version of Python you are using."
   ]
  },
  {
   "cell_type": "code",
   "execution_count": 3,
   "id": "fdef7a41-2b22-4dfd-9e33-49a87c925bfe",
   "metadata": {},
   "outputs": [
    {
     "name": "stdout",
     "output_type": "stream",
     "text": [
      "3.9.12 (main, Apr  4 2022, 05:22:27) [MSC v.1916 64 bit (AMD64)]\n"
     ]
    }
   ],
   "source": [
    "import sys\n",
    "\n",
    "print(sys.version)"
   ]
  },
  {
   "cell_type": "code",
   "execution_count": 4,
   "id": "2ac8ba8f-4ccb-4b65-b221-66134862ecd6",
   "metadata": {},
   "outputs": [
    {
     "name": "stdout",
     "output_type": "stream",
     "text": [
      "sys.version_info(major=3, minor=9, micro=12, releaselevel='final', serial=0)\n"
     ]
    }
   ],
   "source": [
    "print(sys.version_info)"
   ]
  },
  {
   "cell_type": "code",
   "execution_count": 5,
   "id": "6ce47aa8-874e-4e47-87e2-23887c65f054",
   "metadata": {},
   "outputs": [],
   "source": [
    "import platform"
   ]
  },
  {
   "cell_type": "code",
   "execution_count": 8,
   "id": "1a6c5f3f-cbf9-4538-8cfc-c10e73db1913",
   "metadata": {},
   "outputs": [
    {
     "name": "stdout",
     "output_type": "stream",
     "text": [
      "3.9.12\n"
     ]
    }
   ],
   "source": [
    "print(platform.python_version())"
   ]
  },
  {
   "cell_type": "code",
   "execution_count": 31,
   "id": "cd88a4eb-f512-48bd-b67e-5df2bbcadf90",
   "metadata": {},
   "outputs": [],
   "source": [
    "string1= \"i\" #am learning python"
   ]
  },
  {
   "cell_type": "code",
   "execution_count": 32,
   "id": "036d1761-6c15-4a48-bed1-02dcb7088652",
   "metadata": {},
   "outputs": [
    {
     "name": "stdout",
     "output_type": "stream",
     "text": [
      "*\n"
     ]
    }
   ],
   "source": [
    "if len(string1)<2:\n",
    "    print(\"*\")\n",
    "else:\n",
    "    print(string1[0:2]+string1[-2:])"
   ]
  },
  {
   "cell_type": "raw",
   "id": "3a884240-3f14-48ca-99e7-26aabfa86c3c",
   "metadata": {},
   "source": [
    "Write a Python program to get a string from a given string where all occurrences of its first char have been changed to '$', except the first char itself.\n",
    "Sample String : 'restart'\n",
    "Expected Result : 'resta$t'"
   ]
  },
  {
   "cell_type": "code",
   "execution_count": 40,
   "id": "fc7e261f-30c0-4529-b5b9-b532c019a795",
   "metadata": {},
   "outputs": [
    {
     "name": "stdout",
     "output_type": "stream",
     "text": [
      "resta$t\n"
     ]
    }
   ],
   "source": [
    "str1 = \"restart\"\n",
    "ch = str1[0]\n",
    "str1= str1.replace(ch,\"$\")\n",
    "str1 = ch+str1[1:]\n",
    "print(str1)"
   ]
  },
  {
   "cell_type": "code",
   "execution_count": 41,
   "id": "0ef0b6d6-7386-440a-9dcf-ef1bee4ade1e",
   "metadata": {},
   "outputs": [
    {
     "data": {
      "text/plain": [
       "('abc', 'xyz')"
      ]
     },
     "execution_count": 41,
     "metadata": {},
     "output_type": "execute_result"
    }
   ],
   "source": [
    "a  =  'abc', 'xyz'\n",
    "a"
   ]
  },
  {
   "cell_type": "code",
   "execution_count": 50,
   "id": "b76f3263-fe94-41a6-8f9e-448bc0e71b1c",
   "metadata": {},
   "outputs": [
    {
     "data": {
      "text/plain": [
       "'xyc abz'"
      ]
     },
     "execution_count": 50,
     "metadata": {},
     "output_type": "execute_result"
    }
   ],
   "source": [
    "a[1][0:2]+a[-2][2]+\" \"+a[0][0:2]+a[-1][2]"
   ]
  },
  {
   "cell_type": "code",
   "execution_count": 84,
   "id": "1becfd38-57f3-45c5-8494-9de3c99cfcba",
   "metadata": {},
   "outputs": [],
   "source": [
    "s3 = \"abc\"\n",
    "s2 = \"string\"\n",
    "\n",
    "#s1[0:2]+s1[2].replace(\"\",\"ing\")"
   ]
  },
  {
   "cell_type": "code",
   "execution_count": 76,
   "id": "46ab47fd-41f3-41cf-b20a-4acc7809478e",
   "metadata": {},
   "outputs": [
    {
     "name": "stdout",
     "output_type": "stream",
     "text": [
      "abcing strly\n"
     ]
    }
   ],
   "source": [
    "if len(s1)<2:\n",
    "    print('*')\n",
    "else:\n",
    "    s1=s1+\"ing\"\n",
    "    s2 = s2.replace(\"ing\",\"ly\")\n",
    "    print(s1,s2)"
   ]
  },
  {
   "cell_type": "code",
   "execution_count": 89,
   "id": "52702d22-8343-42b5-b0b3-b4f03c603eb9",
   "metadata": {},
   "outputs": [
    {
     "name": "stdout",
     "output_type": "stream",
     "text": [
      "abcinginging \n",
      "  stringly\n"
     ]
    }
   ],
   "source": [
    "if len(s3)<2:\n",
    "    print('*')\n",
    "else:\n",
    "    s3 =s3+'ing'\n",
    "    if s2[-3:]=='ing':\n",
    "        s2=s2+'ly'\n",
    "    print(s3,\"\\n \",s2)"
   ]
  },
  {
   "cell_type": "code",
   "execution_count": 75,
   "id": "03f396e4-1642-4783-a9bb-a236c23102d6",
   "metadata": {},
   "outputs": [
    {
     "name": "stdout",
     "output_type": "stream",
     "text": [
      "'The lyrics is good!' 'The lyrics is poor!'\n"
     ]
    }
   ],
   "source": [
    "s3 = \"'The lyrics is not that poor!' 'The lyrics is poor!'\"\n",
    "print(s3.replace(\"not that poor\",\"good\"))\n"
   ]
  },
  {
   "cell_type": "code",
   "execution_count": 92,
   "id": "44efd0d8-6fdf-495e-b241-4c35a7f72741",
   "metadata": {},
   "outputs": [
    {
     "name": "stdout",
     "output_type": "stream",
     "text": [
      "['Write', 'a', 'Python', 'function', 'that', 'takes', 'a', 'list', 'of', 'words', 'and', 'return', 'the', 'longest', 'word', 'and', 'the', 'length', 'of', 'the', 'longest', 'one.']\n"
     ]
    }
   ],
   "source": [
    "s = \"Write a Python function that takes a list of words and return the longest word and the length of the longest one.\"\n",
    "s=s.split()\n",
    "print(s)"
   ]
  },
  {
   "cell_type": "markdown",
   "id": "cc7cf9ae-607d-44f1-b26a-0660dcc8b914",
   "metadata": {},
   "source": [
    "---------------------------------------------"
   ]
  },
  {
   "cell_type": "code",
   "execution_count": 103,
   "id": "25173b83-6add-4cde-b9ab-e7816992fca3",
   "metadata": {},
   "outputs": [
    {
     "data": {
      "text/plain": [
       "'Pyton'"
      ]
     },
     "execution_count": 103,
     "metadata": {},
     "output_type": "execute_result"
    }
   ],
   "source": [
    "st= \"Python\"\n",
    "n=3\n",
    "\n",
    "first =st[0:n]\n",
    "last =st[n+1:]\n",
    "\n",
    "first+last\n",
    "\n",
    "#st.replace('h',\"\")"
   ]
  },
  {
   "cell_type": "code",
   "execution_count": 110,
   "id": "70e4ba39-dc57-4cec-a273-3363fafac9e5",
   "metadata": {},
   "outputs": [
    {
     "data": {
      "text/plain": [
       "'dbca'"
      ]
     },
     "execution_count": 110,
     "metadata": {},
     "output_type": "execute_result"
    }
   ],
   "source": [
    "full_str = \"abcd\"\n",
    "\n",
    "full_str[-1]+full_str[1:3]+full_str[0]"
   ]
  },
  {
   "cell_type": "code",
   "execution_count": 112,
   "id": "04cd0080-caad-44fd-9bf1-f33270688750",
   "metadata": {},
   "outputs": [
    {
     "name": "stdout",
     "output_type": "stream",
     "text": [
      "srn\n"
     ]
    }
   ],
   "source": [
    "odd_in = \"string\"\n",
    "result = \"\"\n",
    "\n",
    "for i in range(len(odd_in)):\n",
    "    if i%2==0:\n",
    "        result = result+odd_in[i]\n",
    "print(result)"
   ]
  },
  {
   "cell_type": "code",
   "execution_count": 125,
   "id": "9240fcd9-3a08-46d9-a7d2-cecd02bdc1b2",
   "metadata": {},
   "outputs": [
    {
     "name": "stdout",
     "output_type": "stream",
     "text": [
      "['Write', 'a', 'Python', 'program', 'to', 'count', 'the', 'occurrences', 'of', 'each', 'word', 'in', 'a', 'given', 'sentence']\n"
     ]
    }
   ],
   "source": [
    "str_long =\"Write a Python program to count the occurrences of each word in a given sentence.\"\n",
    "l = str_long.strip('.').split()\n",
    "\n",
    "print(l)"
   ]
  },
  {
   "cell_type": "code",
   "execution_count": 126,
   "id": "8e8d54bb-f2c8-4270-8a41-d4ed44a55bb1",
   "metadata": {},
   "outputs": [
    {
     "name": "stdout",
     "output_type": "stream",
     "text": [
      "Write 1\n",
      "a 2\n",
      "Python 1\n",
      "program 1\n",
      "to 1\n",
      "count 1\n",
      "the 1\n",
      "occurrences 1\n",
      "of 1\n",
      "each 1\n",
      "word 1\n",
      "in 1\n",
      "a 2\n",
      "given 1\n",
      "sentence 1\n"
     ]
    }
   ],
   "source": [
    "for i in l:\n",
    "    j=l.count(i)\n",
    "    print(i,j)\n",
    "    "
   ]
  },
  {
   "cell_type": "code",
   "execution_count": 2,
   "id": "3d610ecb-f026-4e18-968e-5d40bbc33360",
   "metadata": {},
   "outputs": [
    {
     "name": "stdin",
     "output_type": "stream",
     "text": [
      "Enter any string : \"Shivani Joshi\"\n"
     ]
    }
   ],
   "source": [
    "input_user = input(\"Enter any string :\")"
   ]
  },
  {
   "cell_type": "code",
   "execution_count": 3,
   "id": "f1e80bd1-4266-47cf-8516-228d7c7f629e",
   "metadata": {},
   "outputs": [
    {
     "data": {
      "text/plain": [
       "'\"SHIVANI JOSHI\"'"
      ]
     },
     "execution_count": 3,
     "metadata": {},
     "output_type": "execute_result"
    }
   ],
   "source": [
    "input_user.upper()"
   ]
  },
  {
   "cell_type": "code",
   "execution_count": 4,
   "id": "6843c88c-8dcb-452a-9162-5c414d7aa9cb",
   "metadata": {},
   "outputs": [
    {
     "data": {
      "text/plain": [
       "'\"shivani joshi\"'"
      ]
     },
     "execution_count": 4,
     "metadata": {},
     "output_type": "execute_result"
    }
   ],
   "source": [
    "input_user.lower()"
   ]
  },
  {
   "cell_type": "code",
   "execution_count": 5,
   "id": "437cebd9-bf6f-47a2-9503-2a37c9a39916",
   "metadata": {},
   "outputs": [
    {
     "data": {
      "text/plain": [
       "'\"shivani joshi\"'"
      ]
     },
     "execution_count": 5,
     "metadata": {},
     "output_type": "execute_result"
    }
   ],
   "source": [
    "input_user.capitalize()"
   ]
  },
  {
   "cell_type": "code",
   "execution_count": 6,
   "id": "376db218-4559-4319-a362-8586dae97113",
   "metadata": {},
   "outputs": [
    {
     "data": {
      "text/plain": [
       "'\"Shivani Joshi\"'"
      ]
     },
     "execution_count": 6,
     "metadata": {},
     "output_type": "execute_result"
    }
   ],
   "source": [
    "input_user.title()"
   ]
  },
  {
   "cell_type": "code",
   "execution_count": 7,
   "id": "cf6f88e6-4fc9-4f26-a63b-570444592d4c",
   "metadata": {},
   "outputs": [
    {
     "data": {
      "text/plain": [
       "15"
      ]
     },
     "execution_count": 7,
     "metadata": {},
     "output_type": "execute_result"
    }
   ],
   "source": [
    "len(input_user)"
   ]
  },
  {
   "cell_type": "code",
   "execution_count": 8,
   "id": "a0674a4d-b3ca-4435-93a8-52a26968ada7",
   "metadata": {},
   "outputs": [
    {
     "data": {
      "text/plain": [
       "0"
      ]
     },
     "execution_count": 8,
     "metadata": {},
     "output_type": "execute_result"
    }
   ],
   "source": [
    "input_user.count('O')"
   ]
  },
  {
   "cell_type": "code",
   "execution_count": 9,
   "id": "02ec7a27-0ca6-42b8-b8bc-a23b5d768004",
   "metadata": {},
   "outputs": [
    {
     "data": {
      "text/plain": [
       "1"
      ]
     },
     "execution_count": 9,
     "metadata": {},
     "output_type": "execute_result"
    }
   ],
   "source": [
    "input_user.count('o')"
   ]
  },
  {
   "cell_type": "code",
   "execution_count": 10,
   "id": "d212a7d3-49ef-4340-ad84-6b477bc7310d",
   "metadata": {},
   "outputs": [
    {
     "data": {
      "text/plain": [
       "['\"Shivani', 'Joshi\"']"
      ]
     },
     "execution_count": 10,
     "metadata": {},
     "output_type": "execute_result"
    }
   ],
   "source": [
    "g =input_user.split()\n",
    "g"
   ]
  },
  {
   "cell_type": "code",
   "execution_count": 12,
   "id": "b05f3fc9-de1d-4b8d-baa9-5fe06df10885",
   "metadata": {},
   "outputs": [
    {
     "name": "stdout",
     "output_type": "stream",
     "text": [
      "\"Shivani Joshi\"\n"
     ]
    }
   ],
   "source": [
    "print(\" \".join(g))"
   ]
  },
  {
   "cell_type": "code",
   "execution_count": 158,
   "id": "f59760a0-a33e-4f07-938e-b552946edac5",
   "metadata": {},
   "outputs": [
    {
     "name": "stdout",
     "output_type": "stream",
     "text": [
      "onononon \n",
      " eseseses\n"
     ]
    }
   ],
   "source": [
    "word = \"python\"\n",
    "word2 = \"Exercises\"\n",
    "print(word[-2:]*4 ,\"\\n\",word2[-2:]*4)"
   ]
  },
  {
   "cell_type": "code",
   "execution_count": 164,
   "id": "87aee2c3-cc82-4c11-8be7-e506316400ad",
   "metadata": {},
   "outputs": [
    {
     "name": "stdout",
     "output_type": "stream",
     "text": [
      "pyt \n",
      " Exe\n"
     ]
    }
   ],
   "source": [
    "#Get first 3 chars of a string.\n",
    "\n",
    "print(word[0:3],\"\\n\",word2[-9:-6])"
   ]
  },
  {
   "cell_type": "code",
   "execution_count": 166,
   "id": "936bbf81-ecfd-4552-a79f-ef3145c55be3",
   "metadata": {},
   "outputs": [
    {
     "data": {
      "text/plain": [
       "['https://www.w3resource.com/python-exercises', 'string']"
      ]
     },
     "execution_count": 166,
     "metadata": {},
     "output_type": "execute_result"
    }
   ],
   "source": [
    "str_1 = 'https://www.w3resource.com/python-exercises/string'\n",
    "str_1.rsplit(\"/\",1) #\"split\" means dividing the string wherever the delimiter (\"/\" in this case) appears. \"at most once\" means it will not split more than one time, even if the delimiter appears multiple times."
   ]
  },
  {
   "cell_type": "code",
   "execution_count": 168,
   "id": "d4f13258-a304-4ea9-97f4-8019a0eb7f52",
   "metadata": {},
   "outputs": [
    {
     "data": {
      "text/plain": [
       "'https://www.w3resource.com/python-exercises'"
      ]
     },
     "execution_count": 168,
     "metadata": {},
     "output_type": "execute_result"
    }
   ],
   "source": [
    "str_1.rsplit(\"/\",1)[0]  #\"Split the string once from the right, and [0] means give me the first part of the result.\""
   ]
  },
  {
   "cell_type": "code",
   "execution_count": 169,
   "id": "73632823-c96c-4003-8c6f-331c1bd366b4",
   "metadata": {},
   "outputs": [
    {
     "name": "stdout",
     "output_type": "stream",
     "text": [
      "tluser eht fo trap tsrif eht em evig\n"
     ]
    }
   ],
   "source": [
    "collection_of_words = \"give me the first part of the result\"\n",
    "if len(collection_of_words)%4==0:\n",
    "    d = collection_of_words[::-1]\n",
    "    print(d)"
   ]
  },
  {
   "cell_type": "markdown",
   "id": "24a6e345-ec1a-4ff2-bfbf-350c9c0b3ae8",
   "metadata": {},
   "source": [
    "\"Lexicographically\" refers to the dictionary order — the way words are sorted in a dictionary.\n",
    "\n",
    "In programming, it usually means comparing strings based on alphabetical order, character by character, using their Unicode (ASCII) values.\n",
    "\n"
   ]
  },
  {
   "cell_type": "code",
   "execution_count": 171,
   "id": "90120566-65e1-434c-81d2-73905f71810d",
   "metadata": {},
   "outputs": [
    {
     "data": {
      "text/plain": [
       "True"
      ]
     },
     "execution_count": 171,
     "metadata": {},
     "output_type": "execute_result"
    }
   ],
   "source": [
    "string3 = \"programming\"\n",
    "string3.startswith('p')"
   ]
  },
  {
   "cell_type": "code",
   "execution_count": 172,
   "id": "861bc30a-d0da-42ba-8c4f-799628099661",
   "metadata": {},
   "outputs": [
    {
     "data": {
      "text/plain": [
       "False"
      ]
     },
     "execution_count": 172,
     "metadata": {},
     "output_type": "execute_result"
    }
   ],
   "source": [
    "string3.startswith('P')"
   ]
  },
  {
   "cell_type": "code",
   "execution_count": 173,
   "id": "c56a74a9-14cb-483a-8e13-a161c352e763",
   "metadata": {},
   "outputs": [
    {
     "data": {
      "text/plain": [
       "True"
      ]
     },
     "execution_count": 173,
     "metadata": {},
     "output_type": "execute_result"
    }
   ],
   "source": [
    "string3.endswith('g')"
   ]
  },
  {
   "cell_type": "code",
   "execution_count": 174,
   "id": "99d44f2b-6186-4fab-b9e9-3f852fa0d48e",
   "metadata": {},
   "outputs": [
    {
     "data": {
      "text/plain": [
       "False"
      ]
     },
     "execution_count": 174,
     "metadata": {},
     "output_type": "execute_result"
    }
   ],
   "source": [
    "string3.endswith('.')"
   ]
  },
  {
   "cell_type": "markdown",
   "id": "a74da9a4-3502-46bb-9f1d-d2382cbcbc85",
   "metadata": {},
   "source": [
    "-------------------------------------------------------------------------------------------------------------------------------"
   ]
  },
  {
   "cell_type": "code",
   "execution_count": 4,
   "id": "d932d5dc-8253-41e8-9b55-7461ca4d0f5e",
   "metadata": {},
   "outputs": [
    {
     "data": {
      "text/plain": [
       "(3, 5, 7, 23)"
      ]
     },
     "execution_count": 4,
     "metadata": {},
     "output_type": "execute_result"
    }
   ],
   "source": [
    "l = 3, 5, 7, 23\n",
    "l"
   ]
  },
  {
   "cell_type": "code",
   "execution_count": 5,
   "id": "b8d574f6-a3d7-4f8a-8b6d-185d0c14f788",
   "metadata": {},
   "outputs": [],
   "source": [
    "a = list(l)"
   ]
  },
  {
   "cell_type": "code",
   "execution_count": 6,
   "id": "195a4d0e-e2f4-462b-8fb5-e4647e1fee28",
   "metadata": {},
   "outputs": [
    {
     "data": {
      "text/plain": [
       "[3, 5, 7, 23]"
      ]
     },
     "execution_count": 6,
     "metadata": {},
     "output_type": "execute_result"
    }
   ],
   "source": [
    "a"
   ]
  },
  {
   "cell_type": "code",
   "execution_count": 7,
   "id": "1f6658d4-8e1a-495a-a920-dafc31c217c5",
   "metadata": {},
   "outputs": [
    {
     "name": "stdin",
     "output_type": "stream",
     "text": [
      "Write file name shivani.pdf\n"
     ]
    }
   ],
   "source": [
    "file_name = input(\"Write file name\")"
   ]
  },
  {
   "cell_type": "code",
   "execution_count": 8,
   "id": "c6cee5d0-04a1-4967-b40d-b84377269833",
   "metadata": {},
   "outputs": [
    {
     "data": {
      "text/plain": [
       "['shivani', 'pdf']"
      ]
     },
     "execution_count": 8,
     "metadata": {},
     "output_type": "execute_result"
    }
   ],
   "source": [
    "file_name.split('.')"
   ]
  },
  {
   "cell_type": "code",
   "execution_count": 14,
   "id": "c328e8fa-caa8-4168-81b3-a3adb80d55f7",
   "metadata": {},
   "outputs": [
    {
     "name": "stdout",
     "output_type": "stream",
     "text": [
      "['Red', 'Black']\n"
     ]
    }
   ],
   "source": [
    "#Write a Python program to display the first and last colors from the following list.\n",
    "color_list = [\"Red\",\"Green\",\"White\" ,\"Black\"]\n",
    "b =color_list[0]+\" \"+color_list[3]\n",
    "print(b.split())"
   ]
  },
  {
   "cell_type": "code",
   "execution_count": 15,
   "id": "3829d135-4a4d-4389-aa06-4588be6343bf",
   "metadata": {},
   "outputs": [
    {
     "name": "stdout",
     "output_type": "stream",
     "text": [
      "The examination will start from : 11 / 12 / 2014\n"
     ]
    }
   ],
   "source": [
    "\"\"\"Write a Python program to display the examination schedule. (extract the date from exam_st_date).\n",
    "exam_st_date = (11, 12, 2014)\n",
    "Sample Output : The examination will start from : 11 / 12 / 2014\"\"\"\n",
    "\n",
    "exam_st_date = (11, 12, 2014)\n",
    "print(f\"The examination will start from :\", exam_st_date[0],\"/\",exam_st_date[1],\"/\",exam_st_date[2])\n"
   ]
  },
  {
   "cell_type": "code",
   "execution_count": 16,
   "id": "5fe78dd0-b7cf-4625-af70-296bb1a32fab",
   "metadata": {},
   "outputs": [
    {
     "name": "stdout",
     "output_type": "stream",
     "text": [
      "803.84\n"
     ]
    }
   ],
   "source": [
    "#volumn = 4*3.14*r*r*r\n",
    "\n",
    "r = 4\n",
    "volumn = 4*3.14*r*r*r\n",
    "print(volumn)"
   ]
  },
  {
   "cell_type": "code",
   "execution_count": 23,
   "id": "6426bd46-6ce7-48f6-8637-972c0e5f0404",
   "metadata": {},
   "outputs": [
    {
     "name": "stdout",
     "output_type": "stream",
     "text": [
      "9 days\n"
     ]
    }
   ],
   "source": [
    "\"\"\"Write a Python program to calculate the number of days between two dates.\n",
    "Sample dates : (2014, 7, 2), (2014, 7, 11)\n",
    "Expected output : 9 days\"\"\"\n",
    "\n",
    "date1= (2014, 7, 2)\n",
    "date2= (2014, 7, 11)\n",
    "\n",
    "date = abs(date1[2]-date2[2])\n",
    "\n",
    "print(date,\"days\")"
   ]
  },
  {
   "cell_type": "code",
   "execution_count": 27,
   "id": "d144a77c-ab3b-4116-90a3-99dfa6677166",
   "metadata": {},
   "outputs": [
    {
     "name": "stdin",
     "output_type": "stream",
     "text": [
      "enter any number 100 and 2000 3000\n"
     ]
    },
    {
     "name": "stdout",
     "output_type": "stream",
     "text": [
      "Doesn't exist\n"
     ]
    }
   ],
   "source": [
    "#Write a Python program to test whether a number is within 100 of 1000 or 2000.\n",
    "num = int(input(\"enter any number 100 and 2000\"))\n",
    "if num>=100 and num<=2000:\n",
    "    print(\"Within\")\n",
    "else:\n",
    "    print(\"Doesn't exist\")"
   ]
  },
  {
   "cell_type": "code",
   "execution_count": 29,
   "id": "030822ee-de79-409c-8443-2869f11f0859",
   "metadata": {},
   "outputs": [
    {
     "name": "stdout",
     "output_type": "stream",
     "text": [
      "36\n"
     ]
    }
   ],
   "source": [
    "\"\"\"Write a Python program to calculate the sum of three given numbers. If the values are equal, return three times their sum.\"\"\"\n",
    "\n",
    "x =4\n",
    "y = 4\n",
    "z = 4\n",
    "\n",
    "if x==y and y==z and z==x:\n",
    "    c = z+y+x\n",
    "    print(c*3)\n",
    "else:\n",
    "    c = z+y+x\n",
    "    print(c)"
   ]
  },
  {
   "cell_type": "code",
   "execution_count": 36,
   "id": "96958372-559f-487c-9df3-3626d3f9909f",
   "metadata": {},
   "outputs": [
    {
     "name": "stdout",
     "output_type": "stream",
     "text": [
      "Ispython *****\n"
     ]
    }
   ],
   "source": [
    "'''Write a Python program to get a newly-generated string from a given string where \n",
    "\"Is\" has been added to the front. Return the string unchanged if the given string already begins with \"Is\".'''\n",
    "\n",
    "string = \"python\"\n",
    "if string[0]=='I' and string[1]=='s':\n",
    "    print(string)\n",
    "    \n",
    "else:\n",
    "    st1 = \"Is\"+string\n",
    "    print(st1,'*****')\n"
   ]
  },
  {
   "cell_type": "code",
   "execution_count": 35,
   "id": "5a81facb-0577-496a-9229-2bb06c11b1d5",
   "metadata": {},
   "outputs": [
    {
     "name": "stdout",
     "output_type": "stream",
     "text": [
      "Ishello\n"
     ]
    }
   ],
   "source": [
    "string = \"Ishello\"\n",
    "if string[0]=='I' and string[1]=='s':\n",
    "    print(string)\n",
    "    \n",
    "else:\n",
    "    st1 = \"Is\"+string\n",
    "    print(st1,\"****\")"
   ]
  },
  {
   "cell_type": "code",
   "execution_count": 42,
   "id": "02776e87-0ba9-48d4-b8d5-48f86547641c",
   "metadata": {},
   "outputs": [
    {
     "name": "stdin",
     "output_type": "stream",
     "text": [
      "Enter any number:  78\n"
     ]
    },
    {
     "name": "stdout",
     "output_type": "stream",
     "text": [
      "Even\n"
     ]
    }
   ],
   "source": [
    "number = int(input(\"Enter any number: \"))\n",
    "\n",
    "if (number%2==0):\n",
    "             print(\"Even\")\n",
    "else:\n",
    "      print(\"Odd\")"
   ]
  },
  {
   "cell_type": "code",
   "execution_count": 43,
   "id": "97d13118-799d-405b-98cf-c12b42ead2cf",
   "metadata": {},
   "outputs": [
    {
     "data": {
      "text/plain": [
       "2"
      ]
     },
     "execution_count": 43,
     "metadata": {},
     "output_type": "execute_result"
    }
   ],
   "source": [
    "#Write a Python program to count the number 4 in a given list.\n",
    "\n",
    "li =[1,3,4,5,7,8,5,4,3,325,443,3,3]\n",
    "li.count(4)"
   ]
  },
  {
   "cell_type": "code",
   "execution_count": 44,
   "id": "b0195281-fce5-4818-954d-d06979ae5e9e",
   "metadata": {},
   "outputs": [
    {
     "name": "stdin",
     "output_type": "stream",
     "text": [
      "Enter any letter a\n"
     ]
    },
    {
     "name": "stdout",
     "output_type": "stream",
     "text": [
      "character is vowel\n"
     ]
    }
   ],
   "source": [
    "char = input(\"Enter any letter\")\n",
    "\n",
    "if char=='a' or char=='A' or char=='e' or char=='E' or char=='i' or char=='I' or char=='o' or char=='O' or char=='u' or char=='U' :\n",
    "    print(\"character is vowel\")\n",
    "else:\n",
    "    print(\"not a vowel\")\n",
    "\n"
   ]
  },
  {
   "cell_type": "code",
   "execution_count": 48,
   "id": "d93fd0b4-7101-4023-a441-d8be07f70784",
   "metadata": {},
   "outputs": [
    {
     "name": "stdout",
     "output_type": "stream",
     "text": [
      "4 \n",
      " 9 \n",
      " 36 \n",
      " 16\n"
     ]
    }
   ],
   "source": [
    "l2 = [2,3,6,4]\n",
    "print(l2[0]*2,\"\\n\",l2[1]*3,\"\\n\",l2[2]*6,\"\\n\",l2[3]*4)"
   ]
  },
  {
   "cell_type": "code",
   "execution_count": 53,
   "id": "c971f1a6-cbce-4524-86d1-cfa1147f68f6",
   "metadata": {},
   "outputs": [
    {
     "name": "stdout",
     "output_type": "stream",
     "text": [
      "2364 <class 'str'>\n"
     ]
    }
   ],
   "source": [
    "#Write a Python program that concatenates all elements in a list into a string and returns it.\n",
    "\n",
    "l2 = [2,3,6,4]\n",
    "concat = \"\"\n",
    "for i in l2:\n",
    "    concat =concat + str(i)\n",
    "print(concat, type(concat))"
   ]
  },
  {
   "cell_type": "code",
   "execution_count": 63,
   "id": "b60d2e68-183f-4db1-b56e-05f3218729db",
   "metadata": {},
   "outputs": [
    {
     "name": "stdout",
     "output_type": "stream",
     "text": [
      "386\n",
      "462\n",
      "47\n",
      "418\n",
      "907\n",
      "344\n",
      "236\n",
      "375\n",
      "823\n",
      "566\n",
      "597\n",
      "978\n",
      "328\n",
      "615\n",
      "953\n",
      "345\n",
      "399\n",
      "162\n",
      "758\n",
      "219\n",
      "918\n"
     ]
    }
   ],
   "source": [
    "numbers = [386, 462, 47, 418, 907, 344, 236, 375, 823, 566, 597, 978, 328, 615, 953, 345, 399, 162, 758, 219,\n",
    "           918, 237, 412, 566, 826, 248, 866, 950, 626, 949, 687, 217, 815, 67, 104, 58, 512, 24, 892, 894, 767, \n",
    "           553, 81, 379, 843, 831, 445, 742, 717, 958,743, 527] \n",
    "\n",
    "for i in numbers:\n",
    "  \n",
    "    if i==237:\n",
    "        break\n",
    "    print(i)\n",
    "   \n",
    "    \n",
    "\n",
    "    \n",
    "\n"
   ]
  },
  {
   "cell_type": "code",
   "execution_count": null,
   "id": "25d6af0d-c290-4f2c-9be7-1e0a4f7054d4",
   "metadata": {},
   "outputs": [],
   "source": []
  },
  {
   "cell_type": "code",
   "execution_count": null,
   "id": "fc8ddd1b-ea12-4975-b499-cf1956eddec7",
   "metadata": {},
   "outputs": [],
   "source": []
  }
 ],
 "metadata": {
  "kernelspec": {
   "display_name": "Python 3 (ipykernel)",
   "language": "python",
   "name": "python3"
  },
  "language_info": {
   "codemirror_mode": {
    "name": "ipython",
    "version": 3
   },
   "file_extension": ".py",
   "mimetype": "text/x-python",
   "name": "python",
   "nbconvert_exporter": "python",
   "pygments_lexer": "ipython3",
   "version": "3.9.12"
  }
 },
 "nbformat": 4,
 "nbformat_minor": 5
}
