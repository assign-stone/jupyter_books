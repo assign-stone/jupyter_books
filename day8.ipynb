{
 "cells": [
  {
   "cell_type": "markdown",
   "id": "24db6c25",
   "metadata": {
    "id": "24db6c25"
   },
   "source": [
    "### Conditional Statements"
   ]
  },
  {
   "cell_type": "code",
   "execution_count": null,
   "id": "3f0c560e",
   "metadata": {
    "id": "3f0c560e"
   },
   "outputs": [],
   "source": [
    "# Synatx\n",
    "\n",
    "# if condition:\n",
    "#     code which i dependent on if\n"
   ]
  },
  {
   "cell_type": "code",
   "execution_count": null,
   "id": "3f1d4915",
   "metadata": {
    "id": "3f1d4915",
    "outputId": "5d92c9de-8451-4ae2-9095-5a23dcad029b"
   },
   "outputs": [
    {
     "name": "stdout",
     "output_type": "stream",
     "text": [
      "Code ended\n"
     ]
    }
   ],
   "source": [
    "a = 30\n",
    "b = 20\n",
    "\n",
    "if a < b:\n",
    "    print('a is less than b')\n",
    "print('Code ended')"
   ]
  },
  {
   "cell_type": "code",
   "execution_count": null,
   "id": "e4c53a1a",
   "metadata": {
    "id": "e4c53a1a",
    "outputId": "68e5fd70-c5e9-4613-a440-6728547fdd7e"
   },
   "outputs": [
    {
     "name": "stdout",
     "output_type": "stream",
     "text": [
      "a is greater than b\n"
     ]
    }
   ],
   "source": [
    "a = 30\n",
    "b = 20\n",
    "\n",
    "if a < b:\n",
    "    print('a is less than b')\n",
    "    print('Hello')\n",
    "else:\n",
    "    print('a is greater than b')"
   ]
  },
  {
   "cell_type": "code",
   "execution_count": null,
   "id": "9e083a4c",
   "metadata": {
    "id": "9e083a4c",
    "outputId": "f07320ca-9673-46f9-c79f-ef9c4ff6c121"
   },
   "outputs": [
    {
     "name": "stdout",
     "output_type": "stream",
     "text": [
      "a is less than b\n",
      "I will Run in all cases\n"
     ]
    }
   ],
   "source": [
    "a = 10\n",
    "b = 20\n",
    "\n",
    "if a < b:\n",
    "    print('a is less than b')\n",
    "else:\n",
    "    print('a is greater than b')\n",
    "print('I will Run in all cases')"
   ]
  },
  {
   "cell_type": "code",
   "execution_count": null,
   "id": "267dad8c",
   "metadata": {
    "id": "267dad8c",
    "outputId": "94fdf8fe-86dc-4bbc-80a4-4a49c1bdec9b"
   },
   "outputs": [
    {
     "name": "stdout",
     "output_type": "stream",
     "text": [
      "a is positive\n"
     ]
    }
   ],
   "source": [
    "a = 10\n",
    "\n",
    "if a > 0:\n",
    "    print('a is positive')\n",
    "elif a < 0:\n",
    "    print('a is negative')\n",
    "else:\n",
    "    print('a is 0')"
   ]
  },
  {
   "cell_type": "code",
   "execution_count": null,
   "id": "91744d44",
   "metadata": {
    "id": "91744d44"
   },
   "outputs": [],
   "source": [
    "# if..else chain statement\n",
    "letter = \"A\"\n",
    "\n",
    "if letter == \"B\":\n",
    "    print(\"letter is B\")\n",
    "\n",
    "else:\n",
    "\n",
    "    if letter == \"C\":\n",
    "        print(\"letter is C\")\n",
    "\n",
    "    else:\n",
    "\n",
    "        if letter == \"A\":\n",
    "            print(\"letter is A\")\n",
    "\n",
    "        else:\n",
    "            print(\"letter isn't A, B and C\")"
   ]
  },
  {
   "cell_type": "code",
   "execution_count": null,
   "id": "890fd695",
   "metadata": {
    "id": "890fd695",
    "outputId": "bfccc524-823d-4d3e-ed15-3fa0353954e3"
   },
   "outputs": [
    {
     "name": "stdout",
     "output_type": "stream",
     "text": [
      "letter is A\n"
     ]
    }
   ],
   "source": [
    "# if..else chain statement\n",
    "letter = \"A\"\n",
    "\n",
    "if letter == \"B\":\n",
    "    print(\"letter is B\")\n",
    "elif letter == \"C\":\n",
    "    print(\"letter is C\")\n",
    "elif letter == \"A\":\n",
    "    print(\"letter is A\")\n",
    "else:\n",
    "    print(\"letter isn't A, B and C\")"
   ]
  },
  {
   "cell_type": "code",
   "execution_count": null,
   "id": "e6a46c1a",
   "metadata": {
    "id": "e6a46c1a"
   },
   "outputs": [],
   "source": []
  },
  {
   "cell_type": "code",
   "execution_count": null,
   "id": "2905fb83",
   "metadata": {
    "id": "2905fb83"
   },
   "outputs": [],
   "source": [
    "# user input"
   ]
  },
  {
   "cell_type": "code",
   "execution_count": null,
   "id": "46355d7f",
   "metadata": {
    "id": "46355d7f",
    "outputId": "85d2fb18-ea60-4a5a-d337-412e536259ba"
   },
   "outputs": [
    {
     "name": "stdout",
     "output_type": "stream",
     "text": [
      "you entered -  ahd\n"
     ]
    }
   ],
   "source": [
    "num = input('enter a number')\n",
    "print('you entered - ', num)"
   ]
  },
  {
   "cell_type": "code",
   "execution_count": null,
   "id": "30e175c7",
   "metadata": {
    "id": "30e175c7"
   },
   "outputs": [],
   "source": [
    "a = int(input('enter a'))\n",
    "b = int(input('enter b'))\n"
   ]
  },
  {
   "cell_type": "code",
   "execution_count": null,
   "id": "10c49f80",
   "metadata": {
    "id": "10c49f80",
    "outputId": "6c60cb9f-a654-46ad-a160-57ee444932d9"
   },
   "outputs": [
    {
     "data": {
      "text/plain": [
       "10"
      ]
     },
     "execution_count": 52,
     "metadata": {},
     "output_type": "execute_result"
    }
   ],
   "source": [
    "a"
   ]
  },
  {
   "cell_type": "code",
   "execution_count": null,
   "id": "afc290df",
   "metadata": {
    "id": "afc290df",
    "outputId": "3e4427be-36a9-464b-c47c-d81259bce14e"
   },
   "outputs": [
    {
     "data": {
      "text/plain": [
       "20"
      ]
     },
     "execution_count": 53,
     "metadata": {},
     "output_type": "execute_result"
    }
   ],
   "source": [
    "b"
   ]
  },
  {
   "cell_type": "code",
   "execution_count": null,
   "id": "043a3129",
   "metadata": {
    "id": "043a3129",
    "outputId": "e678d431-c549-4759-a50e-03762f59ede6"
   },
   "outputs": [
    {
     "name": "stdout",
     "output_type": "stream",
     "text": [
      "a is less than b\n"
     ]
    }
   ],
   "source": [
    "a = int(input('enter a'))\n",
    "b = int(input('enter b'))\n",
    "\n",
    "if a < b:\n",
    "    print('a is less than b')\n",
    "else:\n",
    "    print('a is greater than b')\n",
    "# print('I will Run in all cases')"
   ]
  },
  {
   "cell_type": "code",
   "execution_count": null,
   "id": "e4ea8a78",
   "metadata": {
    "id": "e4ea8a78"
   },
   "outputs": [],
   "source": [
    "# user input a number\n",
    "# check if it is divisible by only 3\n",
    "# check if it is divisible by only 7\n",
    "# check if it is divisible by both 3 and 7"
   ]
  },
  {
   "cell_type": "code",
   "execution_count": 1,
   "id": "b5159406",
   "metadata": {
    "id": "b5159406"
   },
   "outputs": [
    {
     "name": "stdout",
     "output_type": "stream",
     "text": [
      "result -  30\n"
     ]
    }
   ],
   "source": [
    "a = int(input('enter a: '))\n",
    "operation = input('enter operation (+, -, *, /): ')\n",
    "b = int(input('enter b: '))\n",
    "\n",
    "\n",
    "match operation:\n",
    "    case \"+\":\n",
    "        result = a+b\n",
    "        print('result - ', result)\n",
    "    case \"-\":\n",
    "        result = a-b\n",
    "        print('result - ', result)\n",
    "    case '*':\n",
    "        result = a*b\n",
    "        print('result - ', result)\n",
    "    case \"/\":\n",
    "        if b ==0:\n",
    "            print('Division by zero is not allowed')\n",
    "        else:\n",
    "            result = a/b\n",
    "            print('result - ', result)\n",
    "    case _:\n",
    "        print('invalid operation')"
   ]
  },
  {
   "cell_type": "code",
   "execution_count": null,
   "id": "34dfe72e",
   "metadata": {
    "id": "34dfe72e"
   },
   "outputs": [],
   "source": []
  }
 ],
 "metadata": {
  "colab": {
   "provenance": []
  },
  "kernelspec": {
   "display_name": "Python 3",
   "language": "python",
   "name": "python3"
  },
  "language_info": {
   "codemirror_mode": {
    "name": "ipython",
    "version": 3
   },
   "file_extension": ".py",
   "mimetype": "text/x-python",
   "name": "python",
   "nbconvert_exporter": "python",
   "pygments_lexer": "ipython3",
   "version": "3.11.1"
  }
 },
 "nbformat": 4,
 "nbformat_minor": 5
}
