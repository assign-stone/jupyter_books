{
 "cells": [
  {
   "cell_type": "code",
   "execution_count": null,
   "id": "38a51011",
   "metadata": {},
   "outputs": [],
   "source": [
    "a = 10 # global variable"
   ]
  },
  {
   "cell_type": "code",
   "execution_count": 24,
   "id": "fc83c853",
   "metadata": {},
   "outputs": [
    {
     "data": {
      "text/plain": [
       "<module 'my_mod' from 'd:\\\\local_synced\\\\workspace\\\\Batches\\\\B9\\\\my_mod.py'>"
      ]
     },
     "execution_count": 24,
     "metadata": {},
     "output_type": "execute_result"
    }
   ],
   "source": [
    "import importlib\n",
    "import my_mod\n",
    "importlib.reload(my_mod)\n"
   ]
  },
  {
   "cell_type": "code",
   "execution_count": 25,
   "id": "26acbd30",
   "metadata": {},
   "outputs": [
    {
     "name": "stdout",
     "output_type": "stream",
     "text": [
      "2025-06-11 11:22:16.516258\n",
      "my_mod\n"
     ]
    }
   ],
   "source": [
    "my_mod.main()"
   ]
  },
  {
   "cell_type": "markdown",
   "id": "5f940ee9",
   "metadata": {},
   "source": [
    "### Exception Handling"
   ]
  },
  {
   "cell_type": "code",
   "execution_count": 28,
   "id": "a697f2e4",
   "metadata": {},
   "outputs": [
    {
     "ename": "ZeroDivisionError",
     "evalue": "division by zero",
     "output_type": "error",
     "traceback": [
      "\u001b[31m---------------------------------------------------------------------------\u001b[39m",
      "\u001b[31mZeroDivisionError\u001b[39m                         Traceback (most recent call last)",
      "\u001b[36mCell\u001b[39m\u001b[36m \u001b[39m\u001b[32mIn[28]\u001b[39m\u001b[32m, line 1\u001b[39m\n\u001b[32m----> \u001b[39m\u001b[32m1\u001b[39m \u001b[38;5;28mprint\u001b[39m(\u001b[32;43m1\u001b[39;49m\u001b[43m/\u001b[49m\u001b[32;43m0\u001b[39;49m)\n",
      "\u001b[31mZeroDivisionError\u001b[39m: division by zero"
     ]
    }
   ],
   "source": [
    "print(1/0)"
   ]
  },
  {
   "cell_type": "code",
   "execution_count": 38,
   "id": "a8c8bb18",
   "metadata": {},
   "outputs": [
    {
     "ename": "ValueError",
     "evalue": "invalid literal for int() with base 10: 'a'",
     "output_type": "error",
     "traceback": [
      "\u001b[31m---------------------------------------------------------------------------\u001b[39m",
      "\u001b[31mValueError\u001b[39m                                Traceback (most recent call last)",
      "\u001b[36mCell\u001b[39m\u001b[36m \u001b[39m\u001b[32mIn[38]\u001b[39m\u001b[32m, line 2\u001b[39m\n\u001b[32m      1\u001b[39m num1 = \u001b[38;5;28mint\u001b[39m(\u001b[38;5;28minput\u001b[39m(\u001b[33m'\u001b[39m\u001b[33mEnter 1st number\u001b[39m\u001b[33m'\u001b[39m))\n\u001b[32m----> \u001b[39m\u001b[32m2\u001b[39m num2 = \u001b[38;5;28;43mint\u001b[39;49m\u001b[43m(\u001b[49m\u001b[38;5;28;43minput\u001b[39;49m\u001b[43m(\u001b[49m\u001b[33;43m'\u001b[39;49m\u001b[33;43mEnter 2nd number\u001b[39;49m\u001b[33;43m'\u001b[39;49m\u001b[43m)\u001b[49m\u001b[43m)\u001b[49m\n\u001b[32m      3\u001b[39m \u001b[38;5;28mprint\u001b[39m(num1/num2)\n",
      "\u001b[31mValueError\u001b[39m: invalid literal for int() with base 10: 'a'"
     ]
    }
   ],
   "source": [
    "    num1 = int(input('Enter 1st number'))\n",
    "    num2 = int(input('Enter 2nd number'))\n",
    "    print(num1/num2)"
   ]
  },
  {
   "cell_type": "code",
   "execution_count": 42,
   "id": "1589563b",
   "metadata": {},
   "outputs": [
    {
     "name": "stdout",
     "output_type": "stream",
     "text": [
      "seems like you enetered a string\n"
     ]
    }
   ],
   "source": [
    "try:\n",
    "    num1 = int(input('Enter 1st number'))\n",
    "    num2 = int(input('Enter 2nd number'))\n",
    "    print(num1/num2)\n",
    "except ValueError:\n",
    "    print('seems like you enetered a string')\n",
    "except ZeroDivisionError:\n",
    "    print('Seems like you enetered 0 in denominator')"
   ]
  },
  {
   "cell_type": "code",
   "execution_count": 69,
   "id": "6774d015",
   "metadata": {},
   "outputs": [
    {
     "name": "stdout",
     "output_type": "stream",
     "text": [
      "Kuch aur error hai bhai\n"
     ]
    }
   ],
   "source": [
    "try:\n",
    "    fr = open('test.txt', 'r')\n",
    "    fr.write('Hello')\n",
    "except FileNotFoundError:\n",
    "    print('File nahi hai')\n",
    "except:\n",
    "    print('Kuch aur error hai bhai')"
   ]
  },
  {
   "cell_type": "code",
   "execution_count": 72,
   "id": "3d0d2a41",
   "metadata": {},
   "outputs": [
    {
     "data": {
      "text/plain": [
       "20"
      ]
     },
     "execution_count": 72,
     "metadata": {},
     "output_type": "execute_result"
    }
   ],
   "source": [
    "b"
   ]
  },
  {
   "cell_type": "code",
   "execution_count": 75,
   "id": "a5504e2b",
   "metadata": {},
   "outputs": [
    {
     "ename": "ZeroDivisionError",
     "evalue": "Numerator should be greater than denominator",
     "output_type": "error",
     "traceback": [
      "\u001b[31m---------------------------------------------------------------------------\u001b[39m",
      "\u001b[31mZeroDivisionError\u001b[39m                         Traceback (most recent call last)",
      "\u001b[36mCell\u001b[39m\u001b[36m \u001b[39m\u001b[32mIn[75]\u001b[39m\u001b[32m, line 2\u001b[39m\n\u001b[32m      1\u001b[39m \u001b[38;5;28;01mif\u001b[39;00m a<b:\n\u001b[32m----> \u001b[39m\u001b[32m2\u001b[39m     \u001b[38;5;28;01mraise\u001b[39;00m \u001b[38;5;167;01mZeroDivisionError\u001b[39;00m(\u001b[33m'\u001b[39m\u001b[33mNumerator should be greater than denominator\u001b[39m\u001b[33m'\u001b[39m)\n",
      "\u001b[31mZeroDivisionError\u001b[39m: Numerator should be greater than denominator"
     ]
    }
   ],
   "source": [
    "if a<b:\n",
    "    raise ZeroDivisionError('Numerator should be greater than denominator')"
   ]
  },
  {
   "cell_type": "code",
   "execution_count": 78,
   "id": "edcb7cc5",
   "metadata": {},
   "outputs": [],
   "source": [
    "class MaxLimitReached(Exception):\n",
    "    def __init__(self, message):\n",
    "        self.message = message\n",
    "\n",
    "    def __str__(self):\n",
    "        return f'MyException: {self.message}'"
   ]
  },
  {
   "cell_type": "code",
   "execution_count": 79,
   "id": "9fa6ce09",
   "metadata": {},
   "outputs": [
    {
     "ename": "MaxLimitReached",
     "evalue": "MyException: Numerator should be greater than denominator",
     "output_type": "error",
     "traceback": [
      "\u001b[31m---------------------------------------------------------------------------\u001b[39m",
      "\u001b[31mMaxLimitReached\u001b[39m                           Traceback (most recent call last)",
      "\u001b[36mCell\u001b[39m\u001b[36m \u001b[39m\u001b[32mIn[79]\u001b[39m\u001b[32m, line 2\u001b[39m\n\u001b[32m      1\u001b[39m \u001b[38;5;28;01mif\u001b[39;00m a<b:\n\u001b[32m----> \u001b[39m\u001b[32m2\u001b[39m     \u001b[38;5;28;01mraise\u001b[39;00m MaxLimitReached(\u001b[33m'\u001b[39m\u001b[33mNumerator should be greater than denominator\u001b[39m\u001b[33m'\u001b[39m)\n",
      "\u001b[31mMaxLimitReached\u001b[39m: MyException: Numerator should be greater than denominator"
     ]
    }
   ],
   "source": [
    "if a<b:\n",
    "    raise MaxLimitReached('Numerator should be greater than denominator')"
   ]
  },
  {
   "cell_type": "code",
   "execution_count": 80,
   "id": "98df86e8",
   "metadata": {},
   "outputs": [],
   "source": [
    "### Closures and Decorators"
   ]
  },
  {
   "cell_type": "code",
   "execution_count": 81,
   "id": "c05d246c",
   "metadata": {},
   "outputs": [],
   "source": [
    "def my_func():\n",
    "    print('I am output of my func')"
   ]
  },
  {
   "cell_type": "code",
   "execution_count": 86,
   "id": "4cfe4041",
   "metadata": {},
   "outputs": [],
   "source": [
    "new_func = my_func"
   ]
  },
  {
   "cell_type": "code",
   "execution_count": 87,
   "id": "ea8ca7b6",
   "metadata": {},
   "outputs": [
    {
     "name": "stdout",
     "output_type": "stream",
     "text": [
      "I am output of my func\n"
     ]
    }
   ],
   "source": [
    "new_func()"
   ]
  },
  {
   "cell_type": "code",
   "execution_count": null,
   "id": "e48b8080",
   "metadata": {},
   "outputs": [],
   "source": [
    "def function_test():\n",
    "    balance = 10000  ### local variable\n",
    "    return balance"
   ]
  },
  {
   "cell_type": "code",
   "execution_count": 103,
   "id": "cbe67212",
   "metadata": {},
   "outputs": [
    {
     "data": {
      "text/plain": [
       "10000"
      ]
     },
     "execution_count": 103,
     "metadata": {},
     "output_type": "execute_result"
    }
   ],
   "source": [
    "function_test()"
   ]
  },
  {
   "cell_type": "code",
   "execution_count": 102,
   "id": "7a3c1eac",
   "metadata": {},
   "outputs": [
    {
     "ename": "NameError",
     "evalue": "name 'balance' is not defined",
     "output_type": "error",
     "traceback": [
      "\u001b[31m---------------------------------------------------------------------------\u001b[39m",
      "\u001b[31mNameError\u001b[39m                                 Traceback (most recent call last)",
      "\u001b[36mCell\u001b[39m\u001b[36m \u001b[39m\u001b[32mIn[102]\u001b[39m\u001b[32m, line 1\u001b[39m\n\u001b[32m----> \u001b[39m\u001b[32m1\u001b[39m \u001b[43mbalance\u001b[49m\n",
      "\u001b[31mNameError\u001b[39m: name 'balance' is not defined"
     ]
    }
   ],
   "source": [
    "balance"
   ]
  },
  {
   "cell_type": "code",
   "execution_count": 134,
   "id": "2d4f14cc",
   "metadata": {},
   "outputs": [],
   "source": [
    "def outer():\n",
    "    output1= 'outer var'    #### non - local variable\n",
    "    def inner():\n",
    "        output2 = 'inner var'   ### local variable\n",
    "        print(output1, output2)\n",
    "    return inner"
   ]
  },
  {
   "cell_type": "code",
   "execution_count": 138,
   "id": "437a5f2f",
   "metadata": {},
   "outputs": [
    {
     "name": "stdout",
     "output_type": "stream",
     "text": [
      "outer var inner var\n"
     ]
    }
   ],
   "source": [
    "outer()()  ### inner()"
   ]
  },
  {
   "cell_type": "code",
   "execution_count": 132,
   "id": "35888f19",
   "metadata": {},
   "outputs": [],
   "source": [
    "new_func = outer()"
   ]
  },
  {
   "cell_type": "code",
   "execution_count": 133,
   "id": "314527d9",
   "metadata": {},
   "outputs": [
    {
     "name": "stdout",
     "output_type": "stream",
     "text": [
      "outer var inner var\n"
     ]
    }
   ],
   "source": [
    "new_func()"
   ]
  },
  {
   "cell_type": "code",
   "execution_count": 97,
   "id": "29a937f9",
   "metadata": {},
   "outputs": [
    {
     "name": "stdout",
     "output_type": "stream",
     "text": [
      "I am inner function\n"
     ]
    }
   ],
   "source": [
    "outer()()"
   ]
  },
  {
   "cell_type": "code",
   "execution_count": null,
   "id": "7dc6622e",
   "metadata": {},
   "outputs": [],
   "source": [
    "# https://youtu.be/swU3c34d2NQ?feature=shared"
   ]
  },
  {
   "cell_type": "code",
   "execution_count": null,
   "id": "a1be8d38",
   "metadata": {},
   "outputs": [],
   "source": [
    "# decorator"
   ]
  },
  {
   "cell_type": "code",
   "execution_count": 140,
   "id": "82c16878",
   "metadata": {},
   "outputs": [],
   "source": [
    "def name_print(name):\n",
    "    return(name)"
   ]
  },
  {
   "cell_type": "code",
   "execution_count": null,
   "id": "41a93ffc",
   "metadata": {},
   "outputs": [
    {
     "data": {
      "text/plain": [
       "'Mr.Amit'"
      ]
     },
     "execution_count": 142,
     "metadata": {},
     "output_type": "execute_result"
    }
   ],
   "source": [
    "# 'Mr.' + name_print('Amit')"
   ]
  },
  {
   "cell_type": "code",
   "execution_count": 143,
   "id": "0992365b",
   "metadata": {},
   "outputs": [
    {
     "data": {
      "text/plain": [
       "'Amit'"
      ]
     },
     "execution_count": 143,
     "metadata": {},
     "output_type": "execute_result"
    }
   ],
   "source": [
    "name_print('Amit')"
   ]
  },
  {
   "cell_type": "code",
   "execution_count": 148,
   "id": "263133bb",
   "metadata": {},
   "outputs": [],
   "source": [
    "def outer(func):\n",
    "    def inner(*args):\n",
    "        res = func(args[0])  # name_print('Amit')\n",
    "        print('Mr. ', res)\n",
    "    return inner"
   ]
  },
  {
   "cell_type": "code",
   "execution_count": 149,
   "id": "3a14c8bd",
   "metadata": {},
   "outputs": [],
   "source": [
    "new_func = outer(func=name_print)"
   ]
  },
  {
   "cell_type": "code",
   "execution_count": 150,
   "id": "a9b92e7c",
   "metadata": {},
   "outputs": [
    {
     "name": "stdout",
     "output_type": "stream",
     "text": [
      "Mr.  Amit\n"
     ]
    }
   ],
   "source": [
    "new_func('Amit')"
   ]
  },
  {
   "cell_type": "code",
   "execution_count": 144,
   "id": "a6a9cfb7",
   "metadata": {},
   "outputs": [
    {
     "ename": "TypeError",
     "evalue": "outer() got an unexpected keyword argument 'func'",
     "output_type": "error",
     "traceback": [
      "\u001b[31m---------------------------------------------------------------------------\u001b[39m",
      "\u001b[31mTypeError\u001b[39m                                 Traceback (most recent call last)",
      "\u001b[36mCell\u001b[39m\u001b[36m \u001b[39m\u001b[32mIn[144]\u001b[39m\u001b[32m, line 1\u001b[39m\n\u001b[32m----> \u001b[39m\u001b[32m1\u001b[39m \u001b[43mouter\u001b[49m\u001b[43m(\u001b[49m\u001b[43mfunc\u001b[49m\u001b[43m \u001b[49m\u001b[43m=\u001b[49m\u001b[43m \u001b[49m\u001b[43mname_print\u001b[49m\u001b[43m)\u001b[49m\n",
      "\u001b[31mTypeError\u001b[39m: outer() got an unexpected keyword argument 'func'"
     ]
    }
   ],
   "source": [
    "outer(func = name_print)"
   ]
  },
  {
   "cell_type": "code",
   "execution_count": null,
   "id": "b1806e48",
   "metadata": {},
   "outputs": [],
   "source": [
    "# @outer\n",
    "# def name_print(name):\n",
    "#     return(name)"
   ]
  },
  {
   "cell_type": "code",
   "execution_count": null,
   "id": "11669c3b",
   "metadata": {},
   "outputs": [],
   "source": []
  },
  {
   "cell_type": "code",
   "execution_count": 130,
   "id": "1391590b",
   "metadata": {},
   "outputs": [
    {
     "name": "stdout",
     "output_type": "stream",
     "text": [
      "Mr.  Rohit\n"
     ]
    }
   ],
   "source": [
    "name_print('Rohit')"
   ]
  },
  {
   "cell_type": "code",
   "execution_count": null,
   "id": "d1e0348a",
   "metadata": {},
   "outputs": [],
   "source": []
  }
 ],
 "metadata": {
  "kernelspec": {
   "display_name": "Python 3",
   "language": "python",
   "name": "python3"
  },
  "language_info": {
   "codemirror_mode": {
    "name": "ipython",
    "version": 3
   },
   "file_extension": ".py",
   "mimetype": "text/x-python",
   "name": "python",
   "nbconvert_exporter": "python",
   "pygments_lexer": "ipython3",
   "version": "3.11.0"
  }
 },
 "nbformat": 4,
 "nbformat_minor": 5
}
