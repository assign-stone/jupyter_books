{
 "cells": [
  {
   "cell_type": "markdown",
   "id": "8a7b289b",
   "metadata": {},
   "source": [
    "# Day 1 (Python)"
   ]
  },
  {
   "cell_type": "code",
   "execution_count": 106,
   "id": "76a85729",
   "metadata": {},
   "outputs": [],
   "source": [
    "name=10"
   ]
  },
  {
   "cell_type": "code",
   "execution_count": 107,
   "id": "97bd8b63",
   "metadata": {},
   "outputs": [
    {
     "data": {
      "text/plain": [
       "int"
      ]
     },
     "execution_count": 107,
     "metadata": {},
     "output_type": "execute_result"
    }
   ],
   "source": [
    "type(name)"
   ]
  },
  {
   "cell_type": "code",
   "execution_count": 108,
   "id": "4e67ca65",
   "metadata": {},
   "outputs": [
    {
     "data": {
      "text/plain": [
       "True"
      ]
     },
     "execution_count": 108,
     "metadata": {},
     "output_type": "execute_result"
    }
   ],
   "source": [
    "a=10\n",
    "b=10\n",
    "\n",
    "a==b"
   ]
  },
  {
   "cell_type": "code",
   "execution_count": 109,
   "id": "79f464d5",
   "metadata": {},
   "outputs": [
    {
     "data": {
      "text/plain": [
       "'Shivani'"
      ]
     },
     "execution_count": 109,
     "metadata": {},
     "output_type": "execute_result"
    }
   ],
   "source": [
    "full_name=\"Shivani\"\n",
    "full_name"
   ]
  },
  {
   "cell_type": "code",
   "execution_count": 110,
   "id": "590a9020",
   "metadata": {},
   "outputs": [
    {
     "data": {
      "text/plain": [
       "'Joshi'"
      ]
     },
     "execution_count": 110,
     "metadata": {},
     "output_type": "execute_result"
    }
   ],
   "source": [
    "_lastName=\"Joshi\"\n",
    "_lastName"
   ]
  },
  {
   "cell_type": "code",
   "execution_count": 111,
   "id": "1ff86506",
   "metadata": {},
   "outputs": [
    {
     "name": "stdout",
     "output_type": "stream",
     "text": [
      "10\n"
     ]
    }
   ],
   "source": [
    "print(a)"
   ]
  },
  {
   "cell_type": "code",
   "execution_count": 112,
   "id": "2cf68a93",
   "metadata": {},
   "outputs": [
    {
     "name": "stdout",
     "output_type": "stream",
     "text": [
      "hello world\n"
     ]
    }
   ],
   "source": [
    "print(\"hello world\")"
   ]
  },
  {
   "cell_type": "code",
   "execution_count": 113,
   "id": "027fad6c",
   "metadata": {},
   "outputs": [
    {
     "data": {
      "text/plain": [
       "20"
      ]
     },
     "execution_count": 113,
     "metadata": {},
     "output_type": "execute_result"
    }
   ],
   "source": [
    "a+b"
   ]
  },
  {
   "cell_type": "code",
   "execution_count": 114,
   "id": "b169c6d9",
   "metadata": {},
   "outputs": [
    {
     "name": "stdout",
     "output_type": "stream",
     "text": [
      "20\n"
     ]
    }
   ],
   "source": [
    "c=a+b\n",
    "print(c)"
   ]
  },
  {
   "cell_type": "code",
   "execution_count": 115,
   "id": "01dc7552",
   "metadata": {},
   "outputs": [
    {
     "name": "stdout",
     "output_type": "stream",
     "text": [
      "value of b is: 10\n"
     ]
    }
   ],
   "source": [
    "print(\"value of b is:\", b)"
   ]
  },
  {
   "cell_type": "code",
   "execution_count": 116,
   "id": "2d435d2b",
   "metadata": {},
   "outputs": [
    {
     "data": {
      "text/plain": [
       "78"
      ]
     },
     "execution_count": 116,
     "metadata": {},
     "output_type": "execute_result"
    }
   ],
   "source": [
    "# 12+56+10\n",
    "12+56+10"
   ]
  },
  {
   "cell_type": "code",
   "execution_count": 117,
   "id": "a77d3d64",
   "metadata": {},
   "outputs": [],
   "source": [
    "d=2*8"
   ]
  },
  {
   "cell_type": "code",
   "execution_count": 118,
   "id": "7201ed3d",
   "metadata": {},
   "outputs": [
    {
     "data": {
      "text/plain": [
       "4.0"
      ]
     },
     "execution_count": 118,
     "metadata": {},
     "output_type": "execute_result"
    }
   ],
   "source": [
    "d/4"
   ]
  },
  {
   "cell_type": "code",
   "execution_count": 119,
   "id": "8f20d5ac",
   "metadata": {},
   "outputs": [
    {
     "name": "stdout",
     "output_type": "stream",
     "text": [
      "a is 10 b is 10 both values are equal and addition of both is 20\n"
     ]
    }
   ],
   "source": [
    "print(\"a is\",a,\"b is\",b,\"both values are equal and addition of both is\",a+b)"
   ]
  },
  {
   "cell_type": "code",
   "execution_count": 120,
   "id": "8ec1bb3b",
   "metadata": {},
   "outputs": [
    {
     "name": "stdout",
     "output_type": "stream",
     "text": [
      "A=10, B=10, addtion of both will be 20\n"
     ]
    }
   ],
   "source": [
    "print(f\"A={a}, B={b}, addtion of both will be {a+b}\")"
   ]
  },
  {
   "cell_type": "code",
   "execution_count": 121,
   "id": "e2b0cc81",
   "metadata": {},
   "outputs": [
    {
     "name": "stdout",
     "output_type": "stream",
     "text": [
      "Multiplication of 2 and 10 is 20\n"
     ]
    }
   ],
   "source": [
    "x=2\n",
    "y=10\n",
    "\n",
    "print(f\"Multiplication of {x} and {y} is {x*y}\")"
   ]
  },
  {
   "cell_type": "code",
   "execution_count": 122,
   "id": "9cce1a31",
   "metadata": {},
   "outputs": [
    {
     "data": {
      "text/plain": [
       "(8+7j)"
      ]
     },
     "execution_count": 122,
     "metadata": {},
     "output_type": "execute_result"
    }
   ],
   "source": [
    "s=8+7j\n",
    "s"
   ]
  },
  {
   "cell_type": "code",
   "execution_count": 123,
   "id": "9d306935",
   "metadata": {},
   "outputs": [
    {
     "name": "stdout",
     "output_type": "stream",
     "text": [
      "19 20 21\n"
     ]
    }
   ],
   "source": [
    "a,b,c=19,20,21\n",
    "print(a,b,c)"
   ]
  },
  {
   "cell_type": "code",
   "execution_count": 124,
   "id": "7e7142c4",
   "metadata": {},
   "outputs": [
    {
     "name": "stdout",
     "output_type": "stream",
     "text": [
      "10 10 10\n"
     ]
    }
   ],
   "source": [
    "a,b,c=10,10,10\n",
    "print(a,b,c)"
   ]
  },
  {
   "cell_type": "code",
   "execution_count": 125,
   "id": "a4bcb0c3",
   "metadata": {},
   "outputs": [],
   "source": [
    "#List[]\n",
    "# heterogenous - int,float,str,boolean, complex,list , tuple\n",
    "#l1=[]"
   ]
  },
  {
   "cell_type": "code",
   "execution_count": 126,
   "id": "f4333e28",
   "metadata": {},
   "outputs": [
    {
     "data": {
      "text/plain": [
       "[]"
      ]
     },
     "execution_count": 126,
     "metadata": {},
     "output_type": "execute_result"
    }
   ],
   "source": [
    "li=[]\n",
    "li"
   ]
  },
  {
   "cell_type": "code",
   "execution_count": 127,
   "id": "42a3e66c",
   "metadata": {},
   "outputs": [
    {
     "data": {
      "text/plain": [
       "[10, 20, 2.5, True, (8+9j), 'Shivani', [1, 2, 3], (4, 5, 6)]"
      ]
     },
     "execution_count": 127,
     "metadata": {},
     "output_type": "execute_result"
    }
   ],
   "source": [
    "l1=[10,20,2.5,True,8+9j,\"Shivani\",[1,2,3],(4,5,6)]\n",
    "l1"
   ]
  },
  {
   "cell_type": "code",
   "execution_count": 128,
   "id": "0a149bca",
   "metadata": {},
   "outputs": [
    {
     "data": {
      "text/plain": [
       "10"
      ]
     },
     "execution_count": 128,
     "metadata": {},
     "output_type": "execute_result"
    }
   ],
   "source": [
    "l1[0]"
   ]
  },
  {
   "cell_type": "code",
   "execution_count": 129,
   "id": "51bc7f7e",
   "metadata": {},
   "outputs": [
    {
     "data": {
      "text/plain": [
       "(8+9j)"
      ]
     },
     "execution_count": 129,
     "metadata": {},
     "output_type": "execute_result"
    }
   ],
   "source": [
    "l1[4]"
   ]
  },
  {
   "cell_type": "code",
   "execution_count": 130,
   "id": "24f771f9",
   "metadata": {},
   "outputs": [
    {
     "data": {
      "text/plain": [
       "8"
      ]
     },
     "execution_count": 130,
     "metadata": {},
     "output_type": "execute_result"
    }
   ],
   "source": [
    "len(l1)"
   ]
  },
  {
   "cell_type": "code",
   "execution_count": 131,
   "id": "a589f754",
   "metadata": {},
   "outputs": [],
   "source": [
    "#positive indexing - 0,1,2,3,4\n",
    "#negative indexing - -1,-2,-3,-4"
   ]
  },
  {
   "cell_type": "markdown",
   "id": "cd7066c0",
   "metadata": {},
   "source": [
    "Tuple -> datatype,(), \n",
    "Multiple value to a single variable python by default makes it tuple,  ordered, immutable"
   ]
  },
  {
   "cell_type": "markdown",
   "id": "22f355af",
   "metadata": {},
   "source": [
    "Set -> datatype, {}, do not allow duplicates, unordered"
   ]
  },
  {
   "cell_type": "markdown",
   "id": "8cdb8372",
   "metadata": {},
   "source": [
    "dictionary -> datatype, {key:value}, key is immutable but value is mutable, key cant be duplicate but value can be duplicate."
   ]
  },
  {
   "cell_type": "code",
   "execution_count": 132,
   "id": "91cfad0d",
   "metadata": {},
   "outputs": [
    {
     "data": {
      "text/plain": [
       "['Shivani', 9424073536, 32, 'Pune']"
      ]
     },
     "execution_count": 132,
     "metadata": {},
     "output_type": "execute_result"
    }
   ],
   "source": [
    "l11=[\"Shivani\",9424073536,32,\"Pune\"]\n",
    "l11"
   ]
  },
  {
   "cell_type": "code",
   "execution_count": 133,
   "id": "c4c4b164",
   "metadata": {},
   "outputs": [
    {
     "data": {
      "text/plain": [
       "['Shivani', 9424073536, 26, 'Pune']"
      ]
     },
     "execution_count": 133,
     "metadata": {},
     "output_type": "execute_result"
    }
   ],
   "source": [
    "l11[2]=26\n",
    "l11"
   ]
  },
  {
   "cell_type": "code",
   "execution_count": 134,
   "id": "0ee0f4d2",
   "metadata": {},
   "outputs": [
    {
     "data": {
      "text/plain": [
       "'Shivani'"
      ]
     },
     "execution_count": 134,
     "metadata": {},
     "output_type": "execute_result"
    }
   ],
   "source": [
    "l11[0]"
   ]
  },
  {
   "cell_type": "code",
   "execution_count": 135,
   "id": "fcd04ae8",
   "metadata": {},
   "outputs": [
    {
     "data": {
      "text/plain": [
       "['Shivani', 7986543210, 26, 'Pune']"
      ]
     },
     "execution_count": 135,
     "metadata": {},
     "output_type": "execute_result"
    }
   ],
   "source": [
    "l11[1]=7986543210\n",
    "l11"
   ]
  },
  {
   "cell_type": "code",
   "execution_count": 136,
   "id": "d0cd9b64",
   "metadata": {},
   "outputs": [
    {
     "data": {
      "text/plain": [
       "26"
      ]
     },
     "execution_count": 136,
     "metadata": {},
     "output_type": "execute_result"
    }
   ],
   "source": [
    "l11[2]"
   ]
  },
  {
   "cell_type": "code",
   "execution_count": 137,
   "id": "72cfe993",
   "metadata": {},
   "outputs": [
    {
     "data": {
      "text/plain": [
       "'Pune'"
      ]
     },
     "execution_count": 137,
     "metadata": {},
     "output_type": "execute_result"
    }
   ],
   "source": [
    "l11[3]"
   ]
  },
  {
   "cell_type": "code",
   "execution_count": 138,
   "id": "fdb188e9",
   "metadata": {},
   "outputs": [
    {
     "data": {
      "text/plain": [
       "'Pune'"
      ]
     },
     "execution_count": 138,
     "metadata": {},
     "output_type": "execute_result"
    }
   ],
   "source": [
    "l11[-1]"
   ]
  },
  {
   "cell_type": "code",
   "execution_count": 139,
   "id": "cce9809a",
   "metadata": {},
   "outputs": [
    {
     "data": {
      "text/plain": [
       "26"
      ]
     },
     "execution_count": 139,
     "metadata": {},
     "output_type": "execute_result"
    }
   ],
   "source": [
    "l11[-2]"
   ]
  },
  {
   "cell_type": "code",
   "execution_count": 140,
   "id": "b616f687",
   "metadata": {},
   "outputs": [
    {
     "data": {
      "text/plain": [
       "7986543210"
      ]
     },
     "execution_count": 140,
     "metadata": {},
     "output_type": "execute_result"
    }
   ],
   "source": [
    "l11[-3]"
   ]
  },
  {
   "cell_type": "code",
   "execution_count": 141,
   "id": "8a347d64",
   "metadata": {},
   "outputs": [
    {
     "data": {
      "text/plain": [
       "'Shivani'"
      ]
     },
     "execution_count": 141,
     "metadata": {},
     "output_type": "execute_result"
    }
   ],
   "source": [
    "l11[-4]"
   ]
  },
  {
   "cell_type": "code",
   "execution_count": 142,
   "id": "ee0e9e43",
   "metadata": {},
   "outputs": [
    {
     "data": {
      "text/plain": [
       "['Shivani', 7986543210, 26, 'Mumbai']"
      ]
     },
     "execution_count": 142,
     "metadata": {},
     "output_type": "execute_result"
    }
   ],
   "source": [
    "l11[-1]=\"Mumbai\"\n",
    "l11"
   ]
  },
  {
   "cell_type": "code",
   "execution_count": 143,
   "id": "3edc2827",
   "metadata": {},
   "outputs": [
    {
     "data": {
      "text/plain": [
       "['Shivani', 7986543210]"
      ]
     },
     "execution_count": 143,
     "metadata": {},
     "output_type": "execute_result"
    }
   ],
   "source": [
    "#positive slicing\n",
    "l11[0:2]"
   ]
  },
  {
   "cell_type": "code",
   "execution_count": 144,
   "id": "43b5522e",
   "metadata": {},
   "outputs": [
    {
     "data": {
      "text/plain": [
       "['Shivani', 26]"
      ]
     },
     "execution_count": 144,
     "metadata": {},
     "output_type": "execute_result"
    }
   ],
   "source": [
    "l11[0:3:2]"
   ]
  },
  {
   "cell_type": "code",
   "execution_count": 145,
   "id": "86f4f351",
   "metadata": {},
   "outputs": [
    {
     "data": {
      "text/plain": [
       "['Shivani', 'Mumbai']"
      ]
     },
     "execution_count": 145,
     "metadata": {},
     "output_type": "execute_result"
    }
   ],
   "source": [
    "l11[0:4:3]"
   ]
  },
  {
   "cell_type": "code",
   "execution_count": 146,
   "id": "3e17ae7c",
   "metadata": {},
   "outputs": [
    {
     "data": {
      "text/plain": [
       "[7986543210, 26]"
      ]
     },
     "execution_count": 146,
     "metadata": {},
     "output_type": "execute_result"
    }
   ],
   "source": [
    "#negative slicing\n",
    "l11[-3:-1]"
   ]
  },
  {
   "cell_type": "code",
   "execution_count": 147,
   "id": "44a212fd",
   "metadata": {},
   "outputs": [
    {
     "data": {
      "text/plain": [
       "[]"
      ]
     },
     "execution_count": 147,
     "metadata": {},
     "output_type": "execute_result"
    }
   ],
   "source": [
    "l11[-1:-3]"
   ]
  },
  {
   "cell_type": "code",
   "execution_count": 148,
   "id": "5fbdfb07",
   "metadata": {},
   "outputs": [
    {
     "data": {
      "text/plain": [
       "[26]"
      ]
     },
     "execution_count": 148,
     "metadata": {},
     "output_type": "execute_result"
    }
   ],
   "source": [
    "l11[2:-1]  #['Shivani', 7986543210, 26, 'Mumbai']"
   ]
  },
  {
   "cell_type": "code",
   "execution_count": 149,
   "id": "c60625bb",
   "metadata": {},
   "outputs": [
    {
     "data": {
      "text/plain": [
       "[]"
      ]
     },
     "execution_count": 149,
     "metadata": {},
     "output_type": "execute_result"
    }
   ],
   "source": [
    "l11[4:-1]"
   ]
  },
  {
   "cell_type": "code",
   "execution_count": 150,
   "id": "056f3928",
   "metadata": {},
   "outputs": [
    {
     "data": {
      "text/plain": [
       "[7986543210, 26, 'Mumbai']"
      ]
     },
     "execution_count": 150,
     "metadata": {},
     "output_type": "execute_result"
    }
   ],
   "source": [
    "l11[-3:4]"
   ]
  },
  {
   "cell_type": "code",
   "execution_count": 151,
   "id": "4d6695b3",
   "metadata": {},
   "outputs": [
    {
     "data": {
      "text/plain": [
       "[26]"
      ]
     },
     "execution_count": 151,
     "metadata": {},
     "output_type": "execute_result"
    }
   ],
   "source": [
    "l11[-2:3]   #['Shivani', 7986543210, 26, 'Mumbai']"
   ]
  },
  {
   "cell_type": "code",
   "execution_count": 152,
   "id": "7fe230a2",
   "metadata": {},
   "outputs": [
    {
     "data": {
      "text/plain": [
       "[7986543210, 26]"
      ]
     },
     "execution_count": 152,
     "metadata": {},
     "output_type": "execute_result"
    }
   ],
   "source": [
    "l11[-3:-1]      #['Shivani', 7986543210, 26, 'Mumbai']"
   ]
  },
  {
   "cell_type": "code",
   "execution_count": 153,
   "id": "fce886c0",
   "metadata": {},
   "outputs": [
    {
     "data": {
      "text/plain": [
       "['Shivani', 7986543210, 26, 'Mumbai']"
      ]
     },
     "execution_count": 153,
     "metadata": {},
     "output_type": "execute_result"
    }
   ],
   "source": [
    "l11"
   ]
  },
  {
   "cell_type": "code",
   "execution_count": 154,
   "id": "77d2ae0c",
   "metadata": {},
   "outputs": [
    {
     "data": {
      "text/plain": [
       "['Shivani', 26]"
      ]
     },
     "execution_count": 154,
     "metadata": {},
     "output_type": "execute_result"
    }
   ],
   "source": [
    "l11[-4:-1:2]"
   ]
  },
  {
   "cell_type": "code",
   "execution_count": 155,
   "id": "2a192a1a",
   "metadata": {},
   "outputs": [
    {
     "data": {
      "text/plain": [
       "['Mumbai', 26, 7986543210, 'Shivani']"
      ]
     },
     "execution_count": 155,
     "metadata": {},
     "output_type": "execute_result"
    }
   ],
   "source": [
    "l11[::-1]"
   ]
  },
  {
   "cell_type": "code",
   "execution_count": 156,
   "id": "0f6f1416",
   "metadata": {},
   "outputs": [
    {
     "data": {
      "text/plain": [
       "13"
      ]
     },
     "execution_count": 156,
     "metadata": {},
     "output_type": "execute_result"
    }
   ],
   "source": [
    "name=\"Shivani Joshi\"\n",
    "len(name)"
   ]
  },
  {
   "cell_type": "code",
   "execution_count": 157,
   "id": "3128a31e",
   "metadata": {},
   "outputs": [
    {
     "data": {
      "text/plain": [
       "'S'"
      ]
     },
     "execution_count": 157,
     "metadata": {},
     "output_type": "execute_result"
    }
   ],
   "source": [
    "name[0]"
   ]
  },
  {
   "cell_type": "code",
   "execution_count": 158,
   "id": "1ac34887",
   "metadata": {},
   "outputs": [
    {
     "data": {
      "text/plain": [
       "'h'"
      ]
     },
     "execution_count": 158,
     "metadata": {},
     "output_type": "execute_result"
    }
   ],
   "source": [
    "name[1]"
   ]
  },
  {
   "cell_type": "code",
   "execution_count": 159,
   "id": "cba5e707",
   "metadata": {},
   "outputs": [
    {
     "data": {
      "text/plain": [
       "' '"
      ]
     },
     "execution_count": 159,
     "metadata": {},
     "output_type": "execute_result"
    }
   ],
   "source": [
    "name[7]"
   ]
  },
  {
   "cell_type": "code",
   "execution_count": 160,
   "id": "0eab8f20",
   "metadata": {},
   "outputs": [
    {
     "data": {
      "text/plain": [
       "'Joshi'"
      ]
     },
     "execution_count": 160,
     "metadata": {},
     "output_type": "execute_result"
    }
   ],
   "source": [
    "name[8:14]"
   ]
  },
  {
   "cell_type": "code",
   "execution_count": 161,
   "id": "48002f0a",
   "metadata": {},
   "outputs": [
    {
     "data": {
      "text/plain": [
       "'ihsoJ inavihS'"
      ]
     },
     "execution_count": 161,
     "metadata": {},
     "output_type": "execute_result"
    }
   ],
   "source": [
    "name[::-1]"
   ]
  },
  {
   "cell_type": "code",
   "execution_count": 162,
   "id": "a898ef5a",
   "metadata": {},
   "outputs": [
    {
     "data": {
      "text/plain": [
       "'Joshi'"
      ]
     },
     "execution_count": 162,
     "metadata": {},
     "output_type": "execute_result"
    }
   ],
   "source": [
    "name[-5:]"
   ]
  },
  {
   "cell_type": "markdown",
   "id": "055d953b",
   "metadata": {},
   "source": [
    "# Practice "
   ]
  },
  {
   "cell_type": "code",
   "execution_count": 1,
   "id": "471a662f",
   "metadata": {},
   "outputs": [
    {
     "name": "stdout",
     "output_type": "stream",
     "text": [
      "<class 'int'>\n"
     ]
    }
   ],
   "source": [
    "#Assign your age to a variable and print its data type.\n",
    "age=32\n",
    "print(type(age))"
   ]
  },
  {
   "cell_type": "code",
   "execution_count": 2,
   "id": "05e5b7e3",
   "metadata": {},
   "outputs": [
    {
     "data": {
      "text/plain": [
       "'ShivaniJoshi'"
      ]
     },
     "execution_count": 2,
     "metadata": {},
     "output_type": "execute_result"
    }
   ],
   "source": [
    "#Create variables for your first name and last name, and then concatenate them.\n",
    "first_name=\"Shivani\"\n",
    "last_name=\"Joshi\"\n",
    "\n",
    "first_name+last_name"
   ]
  },
  {
   "cell_type": "code",
   "execution_count": 4,
   "id": "31fdd604",
   "metadata": {},
   "outputs": [
    {
     "data": {
      "text/plain": [
       "'Shivani Joshi'"
      ]
     },
     "execution_count": 4,
     "metadata": {},
     "output_type": "execute_result"
    }
   ],
   "source": [
    "first_name+ \" \"+ last_name"
   ]
  },
  {
   "cell_type": "code",
   "execution_count": 5,
   "id": "4e81a57f",
   "metadata": {},
   "outputs": [
    {
     "name": "stdout",
     "output_type": "stream",
     "text": [
      "<class 'float'>\n"
     ]
    }
   ],
   "source": [
    "#Assign a float value to a variable and check its type using type().\n",
    "a=1.2\n",
    "print(type(a))"
   ]
  },
  {
   "cell_type": "code",
   "execution_count": 6,
   "id": "13e728fb",
   "metadata": {},
   "outputs": [
    {
     "name": "stdout",
     "output_type": "stream",
     "text": [
      "4.0\n"
     ]
    }
   ],
   "source": [
    "#Write a Python expression that divides two numbers and stores the result in a new variable.\n",
    "x = 44\n",
    "y = 11\n",
    "\n",
    "c= x/y\n",
    "print(c)"
   ]
  },
  {
   "cell_type": "code",
   "execution_count": 7,
   "id": "64bdcd0e",
   "metadata": {},
   "outputs": [
    {
     "data": {
      "text/plain": [
       "26.0"
      ]
     },
     "execution_count": 7,
     "metadata": {},
     "output_type": "execute_result"
    }
   ],
   "source": [
    "15 + 8 * 2 - (10 / 2)"
   ]
  },
  {
   "cell_type": "code",
   "execution_count": 8,
   "id": "80a35913",
   "metadata": {},
   "outputs": [
    {
     "data": {
      "text/plain": [
       "2.0"
      ]
     },
     "execution_count": 8,
     "metadata": {},
     "output_type": "execute_result"
    }
   ],
   "source": [
    "2/2*2-2+2"
   ]
  },
  {
   "cell_type": "code",
   "execution_count": 10,
   "id": "301c968e",
   "metadata": {},
   "outputs": [],
   "source": [
    "fullName = \"Avinash Singh\""
   ]
  },
  {
   "cell_type": "code",
   "execution_count": 11,
   "id": "e721fb39",
   "metadata": {},
   "outputs": [
    {
     "data": {
      "text/plain": [
       "'A'"
      ]
     },
     "execution_count": 11,
     "metadata": {},
     "output_type": "execute_result"
    }
   ],
   "source": [
    "fullName[0]"
   ]
  },
  {
   "cell_type": "code",
   "execution_count": 12,
   "id": "c415b415",
   "metadata": {},
   "outputs": [
    {
     "data": {
      "text/plain": [
       "'ingh'"
      ]
     },
     "execution_count": 12,
     "metadata": {},
     "output_type": "execute_result"
    }
   ],
   "source": [
    "fullName[-4:]"
   ]
  },
  {
   "cell_type": "code",
   "execution_count": 13,
   "id": "8056ba44",
   "metadata": {},
   "outputs": [
    {
     "data": {
      "text/plain": [
       "'hgniS hsanivA'"
      ]
     },
     "execution_count": 13,
     "metadata": {},
     "output_type": "execute_result"
    }
   ],
   "source": [
    "fullName[::-1]"
   ]
  },
  {
   "cell_type": "code",
   "execution_count": 14,
   "id": "4675b260",
   "metadata": {},
   "outputs": [
    {
     "data": {
      "text/plain": [
       "'ia'"
      ]
     },
     "execution_count": 14,
     "metadata": {},
     "output_type": "execute_result"
    }
   ],
   "source": [
    "fullName[2:6:2]"
   ]
  },
  {
   "cell_type": "code",
   "execution_count": 15,
   "id": "aa2685de",
   "metadata": {},
   "outputs": [
    {
     "data": {
      "text/plain": [
       "' i'"
      ]
     },
     "execution_count": 15,
     "metadata": {},
     "output_type": "execute_result"
    }
   ],
   "source": [
    "fullName[-6:-2:2]"
   ]
  },
  {
   "cell_type": "code",
   "execution_count": 18,
   "id": "db6573a0",
   "metadata": {},
   "outputs": [
    {
     "data": {
      "text/plain": [
       "[2, 8, 2.8, 11, 'shivi', True]"
      ]
     },
     "execution_count": 18,
     "metadata": {},
     "output_type": "execute_result"
    }
   ],
   "source": [
    "li = [2,8,2.8,11,\"shivi\",True]\n",
    "li"
   ]
  },
  {
   "cell_type": "code",
   "execution_count": 17,
   "id": "6d2ff566",
   "metadata": {},
   "outputs": [
    {
     "data": {
      "text/plain": [
       "[2, 5, 2.8, 11, 'shivi', True]"
      ]
     },
     "execution_count": 17,
     "metadata": {},
     "output_type": "execute_result"
    }
   ],
   "source": [
    "li[1]=5\n",
    "li"
   ]
  },
  {
   "cell_type": "code",
   "execution_count": 20,
   "id": "2a02b0e9",
   "metadata": {},
   "outputs": [
    {
     "ename": "IndexError",
     "evalue": "list assignment index out of range",
     "output_type": "error",
     "traceback": [
      "\u001b[1;31m---------------------------------------------------------------------------\u001b[0m",
      "\u001b[1;31mIndexError\u001b[0m                                Traceback (most recent call last)",
      "Input \u001b[1;32mIn [20]\u001b[0m, in \u001b[0;36m<cell line: 1>\u001b[1;34m()\u001b[0m\n\u001b[1;32m----> 1\u001b[0m li[\u001b[38;5;241m6\u001b[39m]\u001b[38;5;241m=\u001b[39m\u001b[38;5;124m\"\u001b[39m\u001b[38;5;124mjoshi\u001b[39m\u001b[38;5;124m\"\u001b[39m\n\u001b[0;32m      2\u001b[0m li\n",
      "\u001b[1;31mIndexError\u001b[0m: list assignment index out of range"
     ]
    }
   ],
   "source": [
    "#can't assign non existent index\n",
    "li[6]=\"joshi\"\n",
    "li"
   ]
  },
  {
   "cell_type": "code",
   "execution_count": 22,
   "id": "afa0cd33",
   "metadata": {},
   "outputs": [
    {
     "data": {
      "text/plain": [
       "[2, 8, 2.8]"
      ]
     },
     "execution_count": 22,
     "metadata": {},
     "output_type": "execute_result"
    }
   ],
   "source": [
    "li[0:3]"
   ]
  },
  {
   "cell_type": "code",
   "execution_count": 23,
   "id": "38f752d6",
   "metadata": {},
   "outputs": [
    {
     "data": {
      "text/plain": [
       "6"
      ]
     },
     "execution_count": 23,
     "metadata": {},
     "output_type": "execute_result"
    }
   ],
   "source": [
    "len(li)"
   ]
  },
  {
   "cell_type": "code",
   "execution_count": 24,
   "id": "a7cd5d76",
   "metadata": {},
   "outputs": [
    {
     "data": {
      "text/plain": [
       "[True, 'shivi', 11, 2.8, 8, 2]"
      ]
     },
     "execution_count": 24,
     "metadata": {},
     "output_type": "execute_result"
    }
   ],
   "source": [
    "li[::-1]"
   ]
  },
  {
   "cell_type": "code",
   "execution_count": 26,
   "id": "ea4e567c",
   "metadata": {},
   "outputs": [
    {
     "data": {
      "text/plain": [
       "(6, 'avi', 7.7, 0)"
      ]
     },
     "execution_count": 26,
     "metadata": {},
     "output_type": "execute_result"
    }
   ],
   "source": [
    "tup=(6,\"avi\",7.7,0)\n",
    "tup"
   ]
  },
  {
   "cell_type": "code",
   "execution_count": 29,
   "id": "96cff962",
   "metadata": {},
   "outputs": [
    {
     "ename": "TypeError",
     "evalue": "'tuple' object does not support item assignment",
     "output_type": "error",
     "traceback": [
      "\u001b[1;31m---------------------------------------------------------------------------\u001b[0m",
      "\u001b[1;31mTypeError\u001b[0m                                 Traceback (most recent call last)",
      "Input \u001b[1;32mIn [29]\u001b[0m, in \u001b[0;36m<cell line: 1>\u001b[1;34m()\u001b[0m\n\u001b[1;32m----> 1\u001b[0m tup[\u001b[38;5;241m0\u001b[39m]\u001b[38;5;241m=\u001b[39m\u001b[38;5;241m4\u001b[39m\n\u001b[0;32m      2\u001b[0m tup\n",
      "\u001b[1;31mTypeError\u001b[0m: 'tuple' object does not support item assignment"
     ]
    }
   ],
   "source": [
    "#can't change the elements it is immutable\n",
    "tup[0]=4\n",
    "tup"
   ]
  },
  {
   "cell_type": "code",
   "execution_count": 27,
   "id": "0e51adb6",
   "metadata": {},
   "outputs": [
    {
     "data": {
      "text/plain": [
       "6"
      ]
     },
     "execution_count": 27,
     "metadata": {},
     "output_type": "execute_result"
    }
   ],
   "source": [
    "tup[0]"
   ]
  },
  {
   "cell_type": "code",
   "execution_count": 28,
   "id": "04b02c18",
   "metadata": {},
   "outputs": [
    {
     "data": {
      "text/plain": [
       "(6, 'avi')"
      ]
     },
     "execution_count": 28,
     "metadata": {},
     "output_type": "execute_result"
    }
   ],
   "source": [
    "tup[0:2]"
   ]
  },
  {
   "cell_type": "code",
   "execution_count": 30,
   "id": "9f11f6be",
   "metadata": {},
   "outputs": [
    {
     "data": {
      "text/plain": [
       "{1, 3, 5}"
      ]
     },
     "execution_count": 30,
     "metadata": {},
     "output_type": "execute_result"
    }
   ],
   "source": [
    "#Create a set with some duplicate values. Print the set and observe what happens.\n",
    "set1={1,3,5,3,5}\n",
    "set1"
   ]
  },
  {
   "cell_type": "code",
   "execution_count": 31,
   "id": "dc53fa95",
   "metadata": {},
   "outputs": [
    {
     "ename": "TypeError",
     "evalue": "'set' object does not support item assignment",
     "output_type": "error",
     "traceback": [
      "\u001b[1;31m---------------------------------------------------------------------------\u001b[0m",
      "\u001b[1;31mTypeError\u001b[0m                                 Traceback (most recent call last)",
      "Input \u001b[1;32mIn [31]\u001b[0m, in \u001b[0;36m<cell line: 2>\u001b[1;34m()\u001b[0m\n\u001b[0;32m      1\u001b[0m \u001b[38;5;66;03m#Add a new item to the set.\u001b[39;00m\n\u001b[1;32m----> 2\u001b[0m set1[\u001b[38;5;241m2\u001b[39m]\u001b[38;5;241m=\u001b[39m\u001b[38;5;241m3\u001b[39m\n",
      "\u001b[1;31mTypeError\u001b[0m: 'set' object does not support item assignment"
     ]
    }
   ],
   "source": [
    "#Add a new item to the set.\n",
    "set1[2]=3"
   ]
  },
  {
   "cell_type": "code",
   "execution_count": 32,
   "id": "90a43c89",
   "metadata": {},
   "outputs": [
    {
     "ename": "TypeError",
     "evalue": "'type' object does not support item assignment",
     "output_type": "error",
     "traceback": [
      "\u001b[1;31m---------------------------------------------------------------------------\u001b[0m",
      "\u001b[1;31mTypeError\u001b[0m                                 Traceback (most recent call last)",
      "Input \u001b[1;32mIn [32]\u001b[0m, in \u001b[0;36m<cell line: 1>\u001b[1;34m()\u001b[0m\n\u001b[1;32m----> 1\u001b[0m \u001b[38;5;28mset\u001b[39m[\u001b[38;5;241m5\u001b[39m]\u001b[38;5;241m=\u001b[39m\u001b[38;5;241m3\u001b[39m\n",
      "\u001b[1;31mTypeError\u001b[0m: 'type' object does not support item assignment"
     ]
    }
   ],
   "source": [
    "set[5]=3"
   ]
  },
  {
   "cell_type": "code",
   "execution_count": null,
   "id": "9c96f353",
   "metadata": {},
   "outputs": [],
   "source": []
  },
  {
   "cell_type": "code",
   "execution_count": null,
   "id": "f6951a82",
   "metadata": {},
   "outputs": [],
   "source": []
  }
 ],
 "metadata": {
  "kernelspec": {
   "display_name": "Python 3 (ipykernel)",
   "language": "python",
   "name": "python3"
  },
  "language_info": {
   "codemirror_mode": {
    "name": "ipython",
    "version": 3
   },
   "file_extension": ".py",
   "mimetype": "text/x-python",
   "name": "python",
   "nbconvert_exporter": "python",
   "pygments_lexer": "ipython3",
   "version": "3.9.12"
  }
 },
 "nbformat": 4,
 "nbformat_minor": 5
}
