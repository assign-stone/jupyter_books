{
 "cells": [
  {
   "cell_type": "markdown",
   "id": "9582baf6",
   "metadata": {},
   "source": [
    "Functions - 10 Questions\n",
    "\n",
    "1. Write a function `greet(name)` that returns a greeting message with the given name.\n",
    "2. Write a function `sum_list(lst)` that returns the sum of all numbers in a list.\n",
    "3. Create a function `is_prime(n)` that returns `True` if `n` is a prime number.\n",
    "4. Write a function `reverse_string(s)` that returns the reverse of a given string.\n",
    "5. Write a function that accepts a list and returns a new list with only unique elements.\n",
    "6. Write a function `max_of_three(a, b, c)` that returns the maximum of three numbers.\n",
    "7. Create a function `count_vowels(s)` that counts vowels in a given string.\n",
    "8. Write a function `fibonacci(n)` that returns the first `n` Fibonacci numbers.\n",
    "9. Create a function `to_celsius(f)` that converts Fahrenheit to Celsius.\n",
    "10. Create a function `calculate_area(shape, **kwargs)` to compute area for rectangle, triangle, or\n",
    "circle using keyword arguments."
   ]
  },
  {
   "cell_type": "code",
   "execution_count": 1,
   "id": "e3ddade5",
   "metadata": {},
   "outputs": [],
   "source": [
    "def greet(name):\n",
    "    return \"Hi!\", name"
   ]
  },
  {
   "cell_type": "code",
   "execution_count": 3,
   "id": "66467e3a",
   "metadata": {},
   "outputs": [
    {
     "name": "stdout",
     "output_type": "stream",
     "text": [
      "('Hi!', 'Shivani')\n"
     ]
    }
   ],
   "source": [
    "print(greet(\"Shivani\"))"
   ]
  },
  {
   "cell_type": "code",
   "execution_count": 4,
   "id": "462e670a",
   "metadata": {},
   "outputs": [],
   "source": [
    "def greet(name):\n",
    "    print(\"Hi!\",name)"
   ]
  },
  {
   "cell_type": "code",
   "execution_count": 5,
   "id": "ba454252",
   "metadata": {},
   "outputs": [
    {
     "name": "stdout",
     "output_type": "stream",
     "text": [
      "Hi! Shivani\n"
     ]
    }
   ],
   "source": [
    "greet(\"Shivani\")"
   ]
  },
  {
   "cell_type": "code",
   "execution_count": 10,
   "id": "60ea8309",
   "metadata": {},
   "outputs": [],
   "source": [
    "sum =0\n",
    "def sum_list(lst):\n",
    "    global sum\n",
    "    for i in lst:\n",
    "        sum = sum +i\n",
    "    return sum"
   ]
  },
  {
   "cell_type": "code",
   "execution_count": 11,
   "id": "08361700",
   "metadata": {},
   "outputs": [
    {
     "name": "stdout",
     "output_type": "stream",
     "text": [
      "44\n"
     ]
    }
   ],
   "source": [
    "result = sum_list([2,5,7,4,9,17])\n",
    "print(result)"
   ]
  },
  {
   "cell_type": "code",
   "execution_count": 12,
   "id": "1f9319ee",
   "metadata": {},
   "outputs": [],
   "source": [
    "def is_prime(n):\n",
    "    if n <2:\n",
    "        return False\n",
    "    for i in range(2,n):\n",
    "        if n%i==0:\n",
    "            return False\n",
    "    return True"
   ]
  },
  {
   "cell_type": "code",
   "execution_count": 15,
   "id": "2a0760cd",
   "metadata": {},
   "outputs": [
    {
     "data": {
      "text/plain": [
       "False"
      ]
     },
     "execution_count": 15,
     "metadata": {},
     "output_type": "execute_result"
    }
   ],
   "source": [
    "is_prime(15)"
   ]
  },
  {
   "cell_type": "code",
   "execution_count": 16,
   "id": "67104fe5",
   "metadata": {},
   "outputs": [],
   "source": [
    "def reverse_string(s):\n",
    "     s=s[::-1]\n",
    "     return s\n",
    "        "
   ]
  },
  {
   "cell_type": "code",
   "execution_count": 17,
   "id": "b45b4a48",
   "metadata": {},
   "outputs": [
    {
     "data": {
      "text/plain": [
       "'tsohlacol'"
      ]
     },
     "execution_count": 17,
     "metadata": {},
     "output_type": "execute_result"
    }
   ],
   "source": [
    "reverse_string(\"localhost\")"
   ]
  },
  {
   "cell_type": "code",
   "execution_count": 18,
   "id": "e9ad6e19",
   "metadata": {},
   "outputs": [],
   "source": [
    "def new_unique_list(lst):\n",
    "    list_new = set(lst)\n",
    "    return list_new"
   ]
  },
  {
   "cell_type": "code",
   "execution_count": 22,
   "id": "4895c6af",
   "metadata": {},
   "outputs": [
    {
     "name": "stdout",
     "output_type": "stream",
     "text": [
      "{1, 2, 5, 6, 8}\n"
     ]
    }
   ],
   "source": [
    "lst1 = input(\"enter numbers to create list separated by space\")\n",
    "lst2 = [int(x) for x in lst1.split()]\n",
    "result = new_unique_list(lst2)\n",
    "print(result)"
   ]
  },
  {
   "cell_type": "code",
   "execution_count": 30,
   "id": "f2a7d51d",
   "metadata": {},
   "outputs": [],
   "source": [
    "def max_of_three(a, b, c):\n",
    "    if a < b:\n",
    "        if b < c:\n",
    "            return c\n",
    "        else:\n",
    "            return b\n",
    "    elif a>b:\n",
    "        if a>c:\n",
    "            return a\n",
    "        else:\n",
    "            return c\n",
    "        "
   ]
  },
  {
   "cell_type": "code",
   "execution_count": 31,
   "id": "0f4e7323",
   "metadata": {},
   "outputs": [
    {
     "data": {
      "text/plain": [
       "11"
      ]
     },
     "execution_count": 31,
     "metadata": {},
     "output_type": "execute_result"
    }
   ],
   "source": [
    "max_of_three(10,5,11)"
   ]
  },
  {
   "cell_type": "code",
   "execution_count": 35,
   "id": "43ad28dc",
   "metadata": {},
   "outputs": [],
   "source": [
    "def count_vowels(s):\n",
    "    count = 0\n",
    "    for i in s:\n",
    "        if i.lower() in \"aeiou\":\n",
    "            count =count+1\n",
    "    return count"
   ]
  },
  {
   "cell_type": "code",
   "execution_count": 36,
   "id": "99d8ff84",
   "metadata": {},
   "outputs": [
    {
     "name": "stdout",
     "output_type": "stream",
     "text": [
      "3\n"
     ]
    }
   ],
   "source": [
    "result = count_vowels(\"Localhost\")\n",
    "print(result)"
   ]
  },
  {
   "cell_type": "code",
   "execution_count": 1,
   "id": "b4651890",
   "metadata": {},
   "outputs": [],
   "source": [
    "def to_celsius(f):\n",
    "    cel = (f-32)*5/9\n",
    "    return cel"
   ]
  },
  {
   "cell_type": "code",
   "execution_count": 2,
   "id": "d02668ee",
   "metadata": {},
   "outputs": [
    {
     "data": {
      "text/plain": [
       "36.666666666666664"
      ]
     },
     "execution_count": 2,
     "metadata": {},
     "output_type": "execute_result"
    }
   ],
   "source": [
    "to_celsius(98)"
   ]
  },
  {
   "cell_type": "code",
   "execution_count": null,
   "id": "22ecbb8d",
   "metadata": {},
   "outputs": [],
   "source": []
  }
 ],
 "metadata": {
  "kernelspec": {
   "display_name": "Python 3",
   "language": "python",
   "name": "python3"
  },
  "language_info": {
   "codemirror_mode": {
    "name": "ipython",
    "version": 3
   },
   "file_extension": ".py",
   "mimetype": "text/x-python",
   "name": "python",
   "nbconvert_exporter": "python",
   "pygments_lexer": "ipython3",
   "version": "3.11.1"
  }
 },
 "nbformat": 4,
 "nbformat_minor": 5
}
