{
 "cells": [
  {
   "cell_type": "markdown",
   "id": "aba919ee",
   "metadata": {},
   "source": [
    "#### Modules"
   ]
  },
  {
   "cell_type": "code",
   "execution_count": 15,
   "id": "6933c960",
   "metadata": {},
   "outputs": [
    {
     "data": {
      "text/plain": [
       "<module 'teachers' from 'd:\\\\local_synced\\\\workspace\\\\Batches\\\\B9\\\\teachers.py'>"
      ]
     },
     "execution_count": 15,
     "metadata": {},
     "output_type": "execute_result"
    }
   ],
   "source": [
    "import student, teachers, importlib\n",
    "importlib.reload(student)\n",
    "importlib.reload(teachers)  "
   ]
  },
  {
   "cell_type": "code",
   "execution_count": null,
   "id": "6bbed83c",
   "metadata": {},
   "outputs": [],
   "source": []
  },
  {
   "cell_type": "code",
   "execution_count": 16,
   "id": "fa5f5009",
   "metadata": {},
   "outputs": [
    {
     "data": {
      "text/plain": [
       "'Student Attendance Taken'"
      ]
     },
     "execution_count": 16,
     "metadata": {},
     "output_type": "execute_result"
    }
   ],
   "source": [
    "student.attendance()"
   ]
  },
  {
   "cell_type": "code",
   "execution_count": 17,
   "id": "c04412f1",
   "metadata": {},
   "outputs": [
    {
     "data": {
      "text/plain": [
       "'Teachers Attendance Taken'"
      ]
     },
     "execution_count": 17,
     "metadata": {},
     "output_type": "execute_result"
    }
   ],
   "source": [
    "teachers.attendance()"
   ]
  },
  {
   "cell_type": "code",
   "execution_count": 18,
   "id": "46971fd2",
   "metadata": {},
   "outputs": [
    {
     "data": {
      "text/plain": [
       "'Teachers File'"
      ]
     },
     "execution_count": 18,
     "metadata": {},
     "output_type": "execute_result"
    }
   ],
   "source": [
    "teachers.name"
   ]
  },
  {
   "cell_type": "code",
   "execution_count": 19,
   "id": "1f3cb8cc",
   "metadata": {},
   "outputs": [
    {
     "data": {
      "text/plain": [
       "'Modified File'"
      ]
     },
     "execution_count": 19,
     "metadata": {},
     "output_type": "execute_result"
    }
   ],
   "source": [
    "student.name"
   ]
  },
  {
   "cell_type": "code",
   "execution_count": 25,
   "id": "16392487",
   "metadata": {},
   "outputs": [],
   "source": [
    "from student import I_am_building_student_attendance as sdfvsd\n",
    "# from teachers import attendance"
   ]
  },
  {
   "cell_type": "code",
   "execution_count": 26,
   "id": "1b875103",
   "metadata": {},
   "outputs": [
    {
     "data": {
      "text/plain": [
       "'Student Attendance Taken'"
      ]
     },
     "execution_count": 26,
     "metadata": {},
     "output_type": "execute_result"
    }
   ],
   "source": [
    "sdfvsd()"
   ]
  },
  {
   "cell_type": "code",
   "execution_count": 29,
   "id": "dd4b3e6e",
   "metadata": {},
   "outputs": [],
   "source": [
    "from school.academics import ECA"
   ]
  },
  {
   "cell_type": "code",
   "execution_count": 30,
   "id": "b57f475a",
   "metadata": {},
   "outputs": [
    {
     "data": {
      "text/plain": [
       "'Extra curriculur activities file'"
      ]
     },
     "execution_count": 30,
     "metadata": {},
     "output_type": "execute_result"
    }
   ],
   "source": [
    "ECA.name"
   ]
  },
  {
   "cell_type": "code",
   "execution_count": 33,
   "id": "65c58755",
   "metadata": {},
   "outputs": [],
   "source": [
    "from school.hr import student"
   ]
  },
  {
   "cell_type": "code",
   "execution_count": null,
   "id": "ebdcd3b2",
   "metadata": {},
   "outputs": [
    {
     "data": {
      "text/plain": [
       "'Modified File'"
      ]
     },
     "execution_count": 34,
     "metadata": {},
     "output_type": "execute_result"
    }
   ],
   "source": [
    "student.name"
   ]
  },
  {
   "cell_type": "code",
   "execution_count": 2,
   "id": "602e6da0",
   "metadata": {},
   "outputs": [
    {
     "data": {
      "text/plain": [
       "'Extra curriculur activities file'"
      ]
     },
     "execution_count": 2,
     "metadata": {},
     "output_type": "execute_result"
    }
   ],
   "source": [
    "import school\n",
    "import school.academics.ECA\n",
    "school.academics.ECA.name"
   ]
  },
  {
   "cell_type": "code",
   "execution_count": 3,
   "id": "c5a3e67e",
   "metadata": {},
   "outputs": [
    {
     "ename": "ModuleNotFoundError",
     "evalue": "No module named 'desktop_mod'",
     "output_type": "error",
     "traceback": [
      "\u001b[31m---------------------------------------------------------------------------\u001b[39m",
      "\u001b[31mModuleNotFoundError\u001b[39m                       Traceback (most recent call last)",
      "\u001b[36mCell\u001b[39m\u001b[36m \u001b[39m\u001b[32mIn[3]\u001b[39m\u001b[32m, line 1\u001b[39m\n\u001b[32m----> \u001b[39m\u001b[32m1\u001b[39m \u001b[38;5;28;01mimport\u001b[39;00m\u001b[38;5;250m \u001b[39m\u001b[34;01mdesktop_mod\u001b[39;00m\n",
      "\u001b[31mModuleNotFoundError\u001b[39m: No module named 'desktop_mod'"
     ]
    }
   ],
   "source": [
    "import desktop_mod"
   ]
  },
  {
   "cell_type": "code",
   "execution_count": 6,
   "id": "bc848d3f",
   "metadata": {},
   "outputs": [],
   "source": [
    "import sys\n",
    "sys.path.append(r\"C:\\Users\\himan\\OneDrive\\Desktop\")"
   ]
  },
  {
   "cell_type": "code",
   "execution_count": 7,
   "id": "2e7ac411",
   "metadata": {},
   "outputs": [
    {
     "data": {
      "text/plain": [
       "['c:\\\\Users\\\\himan\\\\AppData\\\\Local\\\\Programs\\\\Python\\\\Python311\\\\python311.zip',\n",
       " 'c:\\\\Users\\\\himan\\\\AppData\\\\Local\\\\Programs\\\\Python\\\\Python311\\\\Lib',\n",
       " 'c:\\\\Users\\\\himan\\\\AppData\\\\Local\\\\Programs\\\\Python\\\\Python311\\\\DLLs',\n",
       " '',\n",
       " 'C:\\\\Users\\\\himan\\\\AppData\\\\Roaming\\\\Python\\\\Python311\\\\site-packages',\n",
       " 'C:\\\\Users\\\\himan\\\\AppData\\\\Roaming\\\\Python\\\\Python311\\\\site-packages\\\\win32',\n",
       " 'C:\\\\Users\\\\himan\\\\AppData\\\\Roaming\\\\Python\\\\Python311\\\\site-packages\\\\win32\\\\lib',\n",
       " 'C:\\\\Users\\\\himan\\\\AppData\\\\Roaming\\\\Python\\\\Python311\\\\site-packages\\\\Pythonwin',\n",
       " 'c:\\\\Users\\\\himan\\\\AppData\\\\Local\\\\Programs\\\\Python\\\\Python311',\n",
       " 'c:\\\\Users\\\\himan\\\\AppData\\\\Local\\\\Programs\\\\Python\\\\Python311\\\\Lib\\\\site-packages',\n",
       " 'C:\\\\Users\\\\himan\\\\OneDrive\\\\Desktop']"
      ]
     },
     "execution_count": 7,
     "metadata": {},
     "output_type": "execute_result"
    }
   ],
   "source": [
    "sys.path"
   ]
  },
  {
   "cell_type": "code",
   "execution_count": 8,
   "id": "141ddb09",
   "metadata": {},
   "outputs": [],
   "source": [
    "import desktop_mod"
   ]
  },
  {
   "cell_type": "code",
   "execution_count": 11,
   "id": "b3380382",
   "metadata": {},
   "outputs": [
    {
     "data": {
      "text/plain": [
       "'Desktop File'"
      ]
     },
     "execution_count": 11,
     "metadata": {},
     "output_type": "execute_result"
    }
   ],
   "source": [
    "desktop_mod.var"
   ]
  },
  {
   "cell_type": "code",
   "execution_count": 1,
   "id": "da17636d",
   "metadata": {},
   "outputs": [],
   "source": [
    "import desktop_mod"
   ]
  },
  {
   "cell_type": "code",
   "execution_count": 1,
   "id": "32d0ee88",
   "metadata": {},
   "outputs": [
    {
     "data": {
      "text/plain": [
       "['C:\\\\Users\\\\himan\\\\OneDrive\\\\Desktop',\n",
       " 'd:\\\\local_synced\\\\workspace\\\\Batches\\\\B9\\\\ C:',\n",
       " 'c:\\\\Users\\\\himan\\\\AppData\\\\Local\\\\Programs\\\\Python\\\\Python311\\\\python311.zip',\n",
       " 'c:\\\\Users\\\\himan\\\\AppData\\\\Local\\\\Programs\\\\Python\\\\Python311\\\\Lib',\n",
       " 'c:\\\\Users\\\\himan\\\\AppData\\\\Local\\\\Programs\\\\Python\\\\Python311\\\\DLLs',\n",
       " '',\n",
       " 'C:\\\\Users\\\\himan\\\\AppData\\\\Roaming\\\\Python\\\\Python311\\\\site-packages',\n",
       " 'C:\\\\Users\\\\himan\\\\AppData\\\\Roaming\\\\Python\\\\Python311\\\\site-packages\\\\win32',\n",
       " 'C:\\\\Users\\\\himan\\\\AppData\\\\Roaming\\\\Python\\\\Python311\\\\site-packages\\\\win32\\\\lib',\n",
       " 'C:\\\\Users\\\\himan\\\\AppData\\\\Roaming\\\\Python\\\\Python311\\\\site-packages\\\\Pythonwin',\n",
       " 'c:\\\\Users\\\\himan\\\\AppData\\\\Local\\\\Programs\\\\Python\\\\Python311',\n",
       " 'c:\\\\Users\\\\himan\\\\AppData\\\\Local\\\\Programs\\\\Python\\\\Python311\\\\Lib\\\\site-packages']"
      ]
     },
     "execution_count": 1,
     "metadata": {},
     "output_type": "execute_result"
    }
   ],
   "source": [
    "import sys\n",
    "sys.path"
   ]
  },
  {
   "cell_type": "code",
   "execution_count": 3,
   "id": "0a3b76b2",
   "metadata": {},
   "outputs": [
    {
     "data": {
      "text/plain": [
       "[-1, 0]"
      ]
     },
     "execution_count": 3,
     "metadata": {},
     "output_type": "execute_result"
    }
   ],
   "source": [
    "# n max\n",
    "sorted([-2, -3, -1, -2, -4, 0, -5])[-2:]\n"
   ]
  },
  {
   "cell_type": "code",
   "execution_count": null,
   "id": "afec9cc8",
   "metadata": {},
   "outputs": [],
   "source": []
  }
 ],
 "metadata": {
  "kernelspec": {
   "display_name": "Python 3",
   "language": "python",
   "name": "python3"
  },
  "language_info": {
   "codemirror_mode": {
    "name": "ipython",
    "version": 3
   },
   "file_extension": ".py",
   "mimetype": "text/x-python",
   "name": "python",
   "nbconvert_exporter": "python",
   "pygments_lexer": "ipython3",
   "version": "3.11.0"
  }
 },
 "nbformat": 4,
 "nbformat_minor": 5
}
