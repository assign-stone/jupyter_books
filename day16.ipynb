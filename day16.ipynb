{
 "cells": [
  {
   "cell_type": "code",
   "execution_count": null,
   "id": "38715ad8",
   "metadata": {},
   "outputs": [],
   "source": [
    "class Car():\n",
    "    ### class variable\n",
    "    no_of_wheel = 4\n",
    "\n",
    "    ### object variable/instance variables\n",
    "    def __init__(self, brand, top_speed):\n",
    "        self.brand = brand\n",
    "        self.top_speed = top_speed"
   ]
  },
  {
   "cell_type": "code",
   "execution_count": 18,
   "id": "09b9abec",
   "metadata": {},
   "outputs": [],
   "source": [
    "maruti_800 = Car(brand='Maruti Suzuki', top_speed=120)"
   ]
  },
  {
   "cell_type": "code",
   "execution_count": 19,
   "id": "9be8b58b",
   "metadata": {},
   "outputs": [],
   "source": [
    "maruti_wagonr = Car(brand='Maruti Suzuki', top_speed=150)"
   ]
  },
  {
   "cell_type": "code",
   "execution_count": 20,
   "id": "b6bd2920",
   "metadata": {},
   "outputs": [],
   "source": [
    "seltos = Car(brand='KIA', top_speed=220)"
   ]
  },
  {
   "cell_type": "code",
   "execution_count": 21,
   "id": "02557759",
   "metadata": {},
   "outputs": [
    {
     "data": {
      "text/plain": [
       "220"
      ]
     },
     "execution_count": 21,
     "metadata": {},
     "output_type": "execute_result"
    }
   ],
   "source": [
    "seltos.top_speed"
   ]
  },
  {
   "cell_type": "code",
   "execution_count": 22,
   "id": "1260a43e",
   "metadata": {},
   "outputs": [],
   "source": [
    "seltos.top_speed =250"
   ]
  },
  {
   "cell_type": "code",
   "execution_count": 23,
   "id": "7dd1d42d",
   "metadata": {},
   "outputs": [
    {
     "data": {
      "text/plain": [
       "250"
      ]
     },
     "execution_count": 23,
     "metadata": {},
     "output_type": "execute_result"
    }
   ],
   "source": [
    "seltos.top_speed"
   ]
  },
  {
   "cell_type": "code",
   "execution_count": 24,
   "id": "0b79501f",
   "metadata": {},
   "outputs": [],
   "source": [
    "class Account():\n",
    "    bank_name = 'Laxmi Bank'\n",
    "\n",
    "    def __init__(self, balance):\n",
    "        self.balance = balance"
   ]
  },
  {
   "cell_type": "code",
   "execution_count": 25,
   "id": "98c178a2",
   "metadata": {},
   "outputs": [],
   "source": [
    "amit = Account(balance=1000)"
   ]
  },
  {
   "cell_type": "code",
   "execution_count": 26,
   "id": "f7741032",
   "metadata": {},
   "outputs": [
    {
     "data": {
      "text/plain": [
       "1000"
      ]
     },
     "execution_count": 26,
     "metadata": {},
     "output_type": "execute_result"
    }
   ],
   "source": [
    "amit.balance"
   ]
  },
  {
   "cell_type": "code",
   "execution_count": 27,
   "id": "dd4ed029",
   "metadata": {},
   "outputs": [],
   "source": [
    "amit.balance = 3405943"
   ]
  },
  {
   "cell_type": "code",
   "execution_count": 28,
   "id": "637401df",
   "metadata": {},
   "outputs": [
    {
     "data": {
      "text/plain": [
       "3405943"
      ]
     },
     "execution_count": 28,
     "metadata": {},
     "output_type": "execute_result"
    }
   ],
   "source": [
    "amit.balance"
   ]
  },
  {
   "cell_type": "code",
   "execution_count": null,
   "id": "baa82a5c",
   "metadata": {},
   "outputs": [],
   "source": [
    "#### Pillar of OOPS\n",
    "# Encapsulation"
   ]
  },
  {
   "cell_type": "code",
   "execution_count": 14,
   "id": "f5d91a88",
   "metadata": {},
   "outputs": [],
   "source": [
    "#### getter and setter"
   ]
  },
  {
   "cell_type": "code",
   "execution_count": null,
   "id": "8336d51f",
   "metadata": {},
   "outputs": [],
   "source": [
    "class Account():\n",
    "    bank_name = 'Laxmi Bank'\n",
    "\n",
    "    def __init__(self, balance):\n",
    "        self.balance = balance \n",
    "\n",
    "\n",
    "    def get_balance(self):\n",
    "        return(self.balance)\n",
    "    \n",
    "    def set_balance(self,new_balance):\n",
    "        if self.balance < new_balance:\n",
    "            return(f'Not Allowed! {self.balance} is lesser than {new_balance}')\n",
    "        else:\n",
    "            self.balance = new_balance\n",
    "            print(f'balance updatedt to {new_balance}')"
   ]
  },
  {
   "cell_type": "code",
   "execution_count": 50,
   "id": "f14500fc",
   "metadata": {},
   "outputs": [],
   "source": [
    "Amit = Account(1000)"
   ]
  },
  {
   "cell_type": "code",
   "execution_count": null,
   "id": "748377d8",
   "metadata": {},
   "outputs": [
    {
     "data": {
      "text/plain": [
       "1000"
      ]
     },
     "execution_count": 51,
     "metadata": {},
     "output_type": "execute_result"
    }
   ],
   "source": [
    "Amit.get_balance()"
   ]
  },
  {
   "cell_type": "code",
   "execution_count": 46,
   "id": "dd49f2b7",
   "metadata": {},
   "outputs": [
    {
     "ename": "AttributeError",
     "evalue": "'Account' object has no attribute 'new_balance'",
     "output_type": "error",
     "traceback": [
      "\u001b[31m---------------------------------------------------------------------------\u001b[39m",
      "\u001b[31mAttributeError\u001b[39m                            Traceback (most recent call last)",
      "\u001b[36mCell\u001b[39m\u001b[36m \u001b[39m\u001b[32mIn[52]\u001b[39m\u001b[32m, line 1\u001b[39m\n\u001b[32m----> \u001b[39m\u001b[32m1\u001b[39m \u001b[43mAmit\u001b[49m\u001b[43m.\u001b[49m\u001b[43mset_balance\u001b[49m\u001b[43m(\u001b[49m\u001b[32;43m2000\u001b[39;49m\u001b[43m)\u001b[49m\n",
      "\u001b[36mCell\u001b[39m\u001b[36m \u001b[39m\u001b[32mIn[49]\u001b[39m\u001b[32m, line 13\u001b[39m, in \u001b[36mAccount.set_balance\u001b[39m\u001b[34m(self, new_balance)\u001b[39m\n\u001b[32m     11\u001b[39m \u001b[38;5;28;01mdef\u001b[39;00m\u001b[38;5;250m \u001b[39m\u001b[34mset_balance\u001b[39m(\u001b[38;5;28mself\u001b[39m,new_balance):\n\u001b[32m     12\u001b[39m     \u001b[38;5;28;01mif\u001b[39;00m \u001b[38;5;28mself\u001b[39m.balance < new_balance:\n\u001b[32m---> \u001b[39m\u001b[32m13\u001b[39m         \u001b[38;5;28;01mreturn\u001b[39;00m(\u001b[33mf\u001b[39m\u001b[33m'\u001b[39m\u001b[33mNot Allowed! \u001b[39m\u001b[38;5;132;01m{\u001b[39;00m\u001b[38;5;28mself\u001b[39m.balance\u001b[38;5;132;01m}\u001b[39;00m\u001b[33m is lesser than \u001b[39m\u001b[38;5;132;01m{\u001b[39;00m\u001b[38;5;28;43mself\u001b[39;49m\u001b[43m.\u001b[49m\u001b[43mnew_balance\u001b[49m\u001b[38;5;132;01m}\u001b[39;00m\u001b[33m'\u001b[39m)\n\u001b[32m     14\u001b[39m     \u001b[38;5;28;01melse\u001b[39;00m:\n\u001b[32m     15\u001b[39m         \u001b[38;5;28mself\u001b[39m.balance = new_balance\n",
      "\u001b[31mAttributeError\u001b[39m: 'Account' object has no attribute 'new_balance'"
     ]
    }
   ],
   "source": [
    "Amit.set_balance(2000)"
   ]
  },
  {
   "cell_type": "code",
   "execution_count": 47,
   "id": "a817b55c",
   "metadata": {},
   "outputs": [
    {
     "name": "stdout",
     "output_type": "stream",
     "text": [
      "balance updatedt to 100\n"
     ]
    }
   ],
   "source": [
    "Amit.set_balance(100)"
   ]
  },
  {
   "cell_type": "code",
   "execution_count": 48,
   "id": "cb72180f",
   "metadata": {},
   "outputs": [
    {
     "data": {
      "text/plain": [
       "100"
      ]
     },
     "execution_count": 48,
     "metadata": {},
     "output_type": "execute_result"
    }
   ],
   "source": [
    "Amit.get_balance()"
   ]
  },
  {
   "cell_type": "code",
   "execution_count": 57,
   "id": "539d2671",
   "metadata": {},
   "outputs": [],
   "source": [
    "class trial():\n",
    "    def __init__(self, _private, __tooPrivate):\n",
    "        self._private = _private\n",
    "        self.__tooPrivate = __tooPrivate"
   ]
  },
  {
   "cell_type": "code",
   "execution_count": 61,
   "id": "5732df2c",
   "metadata": {},
   "outputs": [],
   "source": [
    "obj = trial(10,20)"
   ]
  },
  {
   "cell_type": "code",
   "execution_count": 62,
   "id": "56a23eb3",
   "metadata": {},
   "outputs": [
    {
     "data": {
      "text/plain": [
       "10"
      ]
     },
     "execution_count": 62,
     "metadata": {},
     "output_type": "execute_result"
    }
   ],
   "source": [
    "obj._private"
   ]
  },
  {
   "cell_type": "code",
   "execution_count": 68,
   "id": "215674d9",
   "metadata": {},
   "outputs": [
    {
     "data": {
      "text/plain": [
       "20"
      ]
     },
     "execution_count": 68,
     "metadata": {},
     "output_type": "execute_result"
    }
   ],
   "source": [
    "obj._trial__tooPrivate"
   ]
  },
  {
   "cell_type": "code",
   "execution_count": null,
   "id": "26a2a444",
   "metadata": {},
   "outputs": [],
   "source": [
    "class Bank2():\n",
    "    def __init__(self, __balance):\n",
    "        self.__balance = __balance\n"
   ]
  },
  {
   "cell_type": "code",
   "execution_count": 70,
   "id": "578cc1a1",
   "metadata": {},
   "outputs": [],
   "source": [
    "acc1 = Bank2(1000)"
   ]
  },
  {
   "cell_type": "code",
   "execution_count": 72,
   "id": "73110920",
   "metadata": {},
   "outputs": [
    {
     "data": {
      "text/plain": [
       "1000"
      ]
     },
     "execution_count": 72,
     "metadata": {},
     "output_type": "execute_result"
    }
   ],
   "source": [
    "acc1._Bank2__balance"
   ]
  },
  {
   "cell_type": "code",
   "execution_count": null,
   "id": "609d4ca5",
   "metadata": {},
   "outputs": [],
   "source": []
  },
  {
   "cell_type": "code",
   "execution_count": null,
   "id": "039cf2ed",
   "metadata": {},
   "outputs": [],
   "source": []
  },
  {
   "cell_type": "code",
   "execution_count": 78,
   "id": "66587705",
   "metadata": {},
   "outputs": [],
   "source": [
    "class living_organism():\n",
    "    sleep = True\n",
    "    def breathing(self):\n",
    "        return('I can Breathe')\n",
    "    def thinking(self):\n",
    "        return('I can Think')"
   ]
  },
  {
   "cell_type": "code",
   "execution_count": 79,
   "id": "d3312dd0",
   "metadata": {},
   "outputs": [],
   "source": [
    "dog = living_organism()"
   ]
  },
  {
   "cell_type": "code",
   "execution_count": 81,
   "id": "a43dfeba",
   "metadata": {},
   "outputs": [
    {
     "data": {
      "text/plain": [
       "True"
      ]
     },
     "execution_count": 81,
     "metadata": {},
     "output_type": "execute_result"
    }
   ],
   "source": [
    "dog.breathing()\n",
    "dog.thinking()\n",
    "dog.sleep"
   ]
  },
  {
   "cell_type": "code",
   "execution_count": 82,
   "id": "4a813540",
   "metadata": {},
   "outputs": [],
   "source": [
    "class Human_being(living_organism):\n",
    "    limbs= 4\n"
   ]
  },
  {
   "cell_type": "code",
   "execution_count": 83,
   "id": "a47d57d5",
   "metadata": {},
   "outputs": [],
   "source": [
    "Sanket = Human_being()"
   ]
  },
  {
   "cell_type": "code",
   "execution_count": 84,
   "id": "ac305cae",
   "metadata": {},
   "outputs": [
    {
     "data": {
      "text/plain": [
       "'I can Breathe'"
      ]
     },
     "execution_count": 84,
     "metadata": {},
     "output_type": "execute_result"
    }
   ],
   "source": [
    "Sanket.breathing()"
   ]
  },
  {
   "cell_type": "code",
   "execution_count": 85,
   "id": "21f844ca",
   "metadata": {},
   "outputs": [
    {
     "data": {
      "text/plain": [
       "4"
      ]
     },
     "execution_count": 85,
     "metadata": {},
     "output_type": "execute_result"
    }
   ],
   "source": [
    "Sanket.limbs"
   ]
  },
  {
   "cell_type": "code",
   "execution_count": 87,
   "id": "d973aec9",
   "metadata": {},
   "outputs": [
    {
     "data": {
      "text/plain": [
       "True"
      ]
     },
     "execution_count": 87,
     "metadata": {},
     "output_type": "execute_result"
    }
   ],
   "source": [
    "Sanket.sleep"
   ]
  },
  {
   "cell_type": "code",
   "execution_count": 88,
   "id": "6c0dc6f8",
   "metadata": {},
   "outputs": [],
   "source": [
    "class fast_car():\n",
    "    zero_to_hundred_less_than_5_secs = True"
   ]
  },
  {
   "cell_type": "code",
   "execution_count": 89,
   "id": "60670927",
   "metadata": {},
   "outputs": [],
   "source": [
    "class luxury_car():\n",
    "    smooth_driving_experience = True"
   ]
  },
  {
   "cell_type": "code",
   "execution_count": 90,
   "id": "1fd44c1f",
   "metadata": {},
   "outputs": [],
   "source": [
    "class super_car(fast_car, luxury_car):\n",
    "    very_expensive = True"
   ]
  },
  {
   "cell_type": "code",
   "execution_count": 91,
   "id": "f376b473",
   "metadata": {},
   "outputs": [],
   "source": [
    "Lamborghini = super_car()"
   ]
  },
  {
   "cell_type": "code",
   "execution_count": 92,
   "id": "05c4a61f",
   "metadata": {},
   "outputs": [
    {
     "data": {
      "text/plain": [
       "True"
      ]
     },
     "execution_count": 92,
     "metadata": {},
     "output_type": "execute_result"
    }
   ],
   "source": [
    "Lamborghini.smooth_driving_experience"
   ]
  },
  {
   "cell_type": "code",
   "execution_count": 93,
   "id": "351e54fe",
   "metadata": {},
   "outputs": [
    {
     "data": {
      "text/plain": [
       "True"
      ]
     },
     "execution_count": 93,
     "metadata": {},
     "output_type": "execute_result"
    }
   ],
   "source": [
    "Lamborghini.very_expensive"
   ]
  },
  {
   "cell_type": "code",
   "execution_count": 94,
   "id": "46baf3bc",
   "metadata": {},
   "outputs": [
    {
     "data": {
      "text/plain": [
       "True"
      ]
     },
     "execution_count": 94,
     "metadata": {},
     "output_type": "execute_result"
    }
   ],
   "source": [
    "Lamborghini.zero_to_hundred_less_than_5_secs"
   ]
  },
  {
   "cell_type": "code",
   "execution_count": 95,
   "id": "26d098f4",
   "metadata": {},
   "outputs": [],
   "source": [
    "# a > b > c\n",
    "\n",
    "# class a\n",
    "\n",
    "# class b(a)\n",
    "    \n",
    "# class c(b) "
   ]
  },
  {
   "cell_type": "code",
   "execution_count": 111,
   "id": "51376613",
   "metadata": {},
   "outputs": [],
   "source": [
    "# diamond\n",
    "\n",
    "class a():\n",
    "    var = 'a'\n",
    "\n",
    "class b(a):\n",
    "    var = 'b'\n",
    "\n",
    "class c(a):\n",
    "    var='c'\n",
    "\n",
    "class d(b,c):\n",
    "    var= 'd'"
   ]
  },
  {
   "cell_type": "code",
   "execution_count": 112,
   "id": "598ec666",
   "metadata": {},
   "outputs": [
    {
     "data": {
      "text/plain": [
       "[__main__.d, __main__.b, __main__.c, __main__.a, object]"
      ]
     },
     "execution_count": 112,
     "metadata": {},
     "output_type": "execute_result"
    }
   ],
   "source": [
    "d.mro()"
   ]
  },
  {
   "cell_type": "code",
   "execution_count": 113,
   "id": "032f0e8f",
   "metadata": {},
   "outputs": [
    {
     "data": {
      "text/plain": [
       "'d'"
      ]
     },
     "execution_count": 113,
     "metadata": {},
     "output_type": "execute_result"
    }
   ],
   "source": [
    "obj_d = d()\n",
    "obj_d.var"
   ]
  },
  {
   "cell_type": "code",
   "execution_count": 110,
   "id": "6cdc8708",
   "metadata": {},
   "outputs": [
    {
     "data": {
      "text/plain": [
       "[__main__.c, __main__.a, object]"
      ]
     },
     "execution_count": 110,
     "metadata": {},
     "output_type": "execute_result"
    }
   ],
   "source": [
    "c.mro()"
   ]
  },
  {
   "cell_type": "code",
   "execution_count": 115,
   "id": "02122de5",
   "metadata": {},
   "outputs": [
    {
     "ename": "SyntaxError",
     "evalue": "invalid syntax (625271535.py, line 1)",
     "output_type": "error",
     "traceback": [
      "  \u001b[36mCell\u001b[39m\u001b[36m \u001b[39m\u001b[32mIn[115]\u001b[39m\u001b[32m, line 1\u001b[39m\n\u001b[31m    \u001b[39m\u001b[31mhttps://www.youtube.com/channel/UCCezIgC97PvUuR4_gbFUs5g\u001b[39m\n          ^\n\u001b[31mSyntaxError\u001b[39m\u001b[31m:\u001b[39m invalid syntax\n"
     ]
    }
   ],
   "source": [
    "https://www.youtube.com/channel/UCCezIgC97PvUuR4_gbFUs5g"
   ]
  },
  {
   "cell_type": "code",
   "execution_count": 152,
   "id": "dc1b6bef",
   "metadata": {},
   "outputs": [],
   "source": [
    "class Student():\n",
    "    def __init__(self,marks):\n",
    "        self.marks = marks\n",
    "\n",
    "    def __add__(self, other):\n",
    "        return(self.marks+other.marks)\n",
    "\n",
    "    def __gt__(self, other):\n",
    "        return(self.marks>other.marks)\n",
    "    \n",
    "    def __len__(self):\n",
    "        return(0)"
   ]
  },
  {
   "cell_type": "code",
   "execution_count": 153,
   "id": "9b9c50c4",
   "metadata": {},
   "outputs": [],
   "source": [
    "Sanket = Student(marks=85)"
   ]
  },
  {
   "cell_type": "code",
   "execution_count": 154,
   "id": "820f6c81",
   "metadata": {},
   "outputs": [],
   "source": [
    "Sneha = Student(marks=90)"
   ]
  },
  {
   "cell_type": "code",
   "execution_count": 155,
   "id": "5a3ad11c",
   "metadata": {},
   "outputs": [
    {
     "data": {
      "text/plain": [
       "False"
      ]
     },
     "execution_count": 155,
     "metadata": {},
     "output_type": "execute_result"
    }
   ],
   "source": [
    "Sanket>Sneha\n",
    "\n",
    "# Sanket.__gt__(Sneha)"
   ]
  },
  {
   "cell_type": "code",
   "execution_count": 156,
   "id": "ef6ba3df",
   "metadata": {},
   "outputs": [
    {
     "data": {
      "text/plain": [
       "175"
      ]
     },
     "execution_count": 156,
     "metadata": {},
     "output_type": "execute_result"
    }
   ],
   "source": [
    "Sneha+Sanket"
   ]
  },
  {
   "cell_type": "code",
   "execution_count": 157,
   "id": "b739cf7b",
   "metadata": {},
   "outputs": [
    {
     "data": {
      "text/plain": [
       "0"
      ]
     },
     "execution_count": 157,
     "metadata": {},
     "output_type": "execute_result"
    }
   ],
   "source": [
    "len(Sneha)"
   ]
  },
  {
   "cell_type": "code",
   "execution_count": null,
   "id": "75e46c9c",
   "metadata": {},
   "outputs": [],
   "source": []
  }
 ],
 "metadata": {
  "kernelspec": {
   "display_name": "Python 3",
   "language": "python",
   "name": "python3"
  },
  "language_info": {
   "codemirror_mode": {
    "name": "ipython",
    "version": 3
   },
   "file_extension": ".py",
   "mimetype": "text/x-python",
   "name": "python",
   "nbconvert_exporter": "python",
   "pygments_lexer": "ipython3",
   "version": "3.11.0"
  }
 },
 "nbformat": 4,
 "nbformat_minor": 5
}
