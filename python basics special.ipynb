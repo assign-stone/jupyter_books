{
 "cells": [
  {
   "cell_type": "code",
   "execution_count": 1,
   "id": "5b1c7825",
   "metadata": {},
   "outputs": [
    {
     "name": "stdout",
     "output_type": "stream",
     "text": [
      "enter any letter: a\n",
      "it is vowel\n"
     ]
    }
   ],
   "source": [
    "n = input(\"enter any letter: \")\n",
    "\n",
    "if n == \"a\" or n == \"e\" or n == \"i\" or n == \"o\" or n == \"u\":\n",
    "    print(\"it is vowel\")"
   ]
  },
  {
   "cell_type": "code",
   "execution_count": null,
   "id": "5a1eda35",
   "metadata": {},
   "outputs": [],
   "source": []
  },
  {
   "cell_type": "code",
   "execution_count": null,
   "id": "82e63e31",
   "metadata": {},
   "outputs": [],
   "source": []
  },
  {
   "cell_type": "code",
   "execution_count": 2,
   "id": "a640616b",
   "metadata": {},
   "outputs": [
    {
     "name": "stdout",
     "output_type": "stream",
     "text": [
      "enter any letter: b\n",
      "it is vowel\n"
     ]
    }
   ],
   "source": [
    "n = input(\"enter any letter: \")\n",
    "\n",
    "if n == \"a\" or \"e\" or \"i\" or \"o\" or \"u\":\n",
    "    print(\"it is vowel\")\n",
    "else:\n",
    "    print(\"conso\")"
   ]
  },
  {
   "cell_type": "code",
   "execution_count": 3,
   "id": "66712cbb",
   "metadata": {},
   "outputs": [
    {
     "name": "stdout",
     "output_type": "stream",
     "text": [
      "1 2 3 4 5 6 7 8 9 10 "
     ]
    }
   ],
   "source": [
    "n = 1\n",
    "\n",
    "while n<=10:\n",
    "    print(n, end=\" \")\n",
    "    n += 1\n",
    "    "
   ]
  },
  {
   "cell_type": "code",
   "execution_count": 12,
   "id": "bbd0231d",
   "metadata": {},
   "outputs": [
    {
     "name": "stdout",
     "output_type": "stream",
     "text": [
      "1+2+3+4+5+6+7+8+9+10\n"
     ]
    }
   ],
   "source": [
    "n = 1\n",
    "\n",
    "while n<=10:\n",
    "    if n <= 9:\n",
    "        print(n, end=\"+\")\n",
    "    else:\n",
    "        print(n)\n",
    "    n += 1\n",
    "    \n",
    "    "
   ]
  },
  {
   "cell_type": "code",
   "execution_count": 7,
   "id": "f416d6b6",
   "metadata": {},
   "outputs": [
    {
     "name": "stdout",
     "output_type": "stream",
     "text": [
      "enter number: 153\n",
      "9\n"
     ]
    }
   ],
   "source": [
    "#write a program  to enter a no. from user and then print sum of its individual values.\n",
    "n =int(input(\"enter number: \"))\n",
    "sum = 0\n",
    "\n",
    "\n",
    "while n>0:\n",
    "    x = n%10\n",
    "    sum = sum + x\n",
    "    n = n // 10\n",
    "\n",
    "print(sum)\n",
    "    "
   ]
  },
  {
   "cell_type": "code",
   "execution_count": 8,
   "id": "e557a63d",
   "metadata": {},
   "outputs": [
    {
     "name": "stdout",
     "output_type": "stream",
     "text": [
      "enter number: 121\n",
      "its panindrome\n"
     ]
    }
   ],
   "source": [
    "n =int(input(\"enter number: \"))\n",
    "sum = 0\n",
    "pen = n\n",
    "\n",
    "while n>0:\n",
    "    x = n%10\n",
    "    sum = sum*10 + x\n",
    "    n = n // 10\n",
    "\n",
    "if sum == pen:\n",
    "    print(\"its panindrome\")\n",
    "else:\n",
    "    print(\"not\")\n",
    "\n"
   ]
  },
  {
   "cell_type": "code",
   "execution_count": 9,
   "id": "1359500d",
   "metadata": {},
   "outputs": [
    {
     "name": "stdout",
     "output_type": "stream",
     "text": [
      "enter number: 153\n",
      "its armstrong\n"
     ]
    }
   ],
   "source": [
    "#write a program to check its armstrong or not\n",
    "\n",
    "n =int(input(\"enter number: \"))\n",
    "sum = 0\n",
    "pen = n\n",
    "\n",
    "while n>0:\n",
    "    x = n%10\n",
    "    sum = sum + x**3\n",
    "    n = n // 10\n",
    "\n",
    "if sum == pen:\n",
    "    print(\"its armstrong\")\n",
    "else:\n",
    "    print(\"not\")\n"
   ]
  },
  {
   "cell_type": "code",
   "execution_count": 13,
   "id": "c609823e",
   "metadata": {},
   "outputs": [
    {
     "name": "stdout",
     "output_type": "stream",
     "text": [
      "enter number: 153\n",
      "1\n",
      "5\n",
      "3\n"
     ]
    }
   ],
   "source": [
    "#write a program to print induvidual digits on saparete line\n",
    "\n",
    "n =int(input(\"enter number: \"))\n",
    "sum = 0\n",
    "\n",
    "while n>0:\n",
    "    x = n%10\n",
    "    sum = sum*10 + x\n",
    "    n = n // 10\n",
    "\n",
    "while sum>0:\n",
    "    x = sum %10\n",
    "    print(x)\n",
    "    sum = sum // 10\n",
    "\n"
   ]
  },
  {
   "cell_type": "code",
   "execution_count": 14,
   "id": "388278d2",
   "metadata": {},
   "outputs": [
    {
     "ename": "SyntaxError",
     "evalue": "invalid syntax (1245559398.py, line 15)",
     "output_type": "error",
     "traceback": [
      "\u001b[1;36m  Input \u001b[1;32mIn [14]\u001b[1;36m\u001b[0m\n\u001b[1;33m    else x == 3:\u001b[0m\n\u001b[1;37m         ^\u001b[0m\n\u001b[1;31mSyntaxError\u001b[0m\u001b[1;31m:\u001b[0m invalid syntax\n"
     ]
    }
   ],
   "source": [
    "n = int(input(\"enter the number\"))\n",
    "sum = 0\n",
    "\n",
    "while n>0:\n",
    "    x = n%10\n",
    "    sum = sum*10 + x\n",
    "    n = n // 10\n",
    "\n",
    "while sum>0:\n",
    "    x = sum %10\n",
    "    if x == 1:\n",
    "        print(\"one\")\n",
    "    elif x == 2:\n",
    "        print(\"two\")\n",
    "    elif x == 3:\n",
    "        print(\"three\")\n",
    "    elif x == 4:\n",
    "        print(\"four\")\n",
    "    elif x == 5:\n",
    "        print(\"five\")\n",
    "    elif x == 6:\n",
    "        print(\"six\")\n",
    "    elif x == 7:\n",
    "        print(\"seven\")\n",
    "    elif x == 8:\n",
    "        print(\"eight\")\n",
    "    elif x == 9:\n",
    "        print(\"nine\")\n",
    "    elif x == 10:\n",
    "        print(\"ten\")\n",
    "    elif x:\n",
    "        print()\n",
    "    sum = sum // 10\n",
    "    \n"
   ]
  },
  {
   "cell_type": "code",
   "execution_count": 1,
   "id": "44c553a6",
   "metadata": {},
   "outputs": [
    {
     "data": {
      "text/plain": [
       "[]"
      ]
     },
     "execution_count": 1,
     "metadata": {},
     "output_type": "execute_result"
    }
   ],
   "source": [
    "l = [10,20,30,40,33,22,55,11,20]\n",
    "l[1:8:-1]"
   ]
  },
  {
   "cell_type": "code",
   "execution_count": 2,
   "id": "ac4f61b1",
   "metadata": {},
   "outputs": [
    {
     "data": {
      "text/plain": [
       "[20, 11, 55, 22, 33, 40, 30]"
      ]
     },
     "execution_count": 2,
     "metadata": {},
     "output_type": "execute_result"
    }
   ],
   "source": [
    "l[8:1:-1]"
   ]
  },
  {
   "cell_type": "code",
   "execution_count": 24,
   "id": "ac7e5de1",
   "metadata": {},
   "outputs": [
    {
     "name": "stdout",
     "output_type": "stream",
     "text": [
      "['apple', 'banana', 'orange', 'papaya']\n"
     ]
    }
   ],
   "source": [
    "i = []\n",
    "\n",
    "m = \"apple banana orange papaya\"\n",
    "n = m.split(\" \")\n",
    "for j in n:\n",
    "    i.append(j)\n",
    "print(i)"
   ]
  },
  {
   "cell_type": "code",
   "execution_count": 25,
   "id": "9e48cc16",
   "metadata": {},
   "outputs": [
    {
     "name": "stdout",
     "output_type": "stream",
     "text": [
      "1+2+3+4+5+6\n"
     ]
    }
   ],
   "source": [
    "s = '1+2+3+4+5+6'\n",
    "s.split(\" \")\n",
    "print(s)"
   ]
  },
  {
   "cell_type": "code",
   "execution_count": 26,
   "id": "88678b10",
   "metadata": {},
   "outputs": [
    {
     "name": "stdout",
     "output_type": "stream",
     "text": [
      "['1+2+3+4+5+6']\n"
     ]
    }
   ],
   "source": [
    "s = '1+2+3+4+5+6'\n",
    "o = s.split(\" \")\n",
    "print(o)"
   ]
  },
  {
   "cell_type": "code",
   "execution_count": 29,
   "id": "3fef1508",
   "metadata": {},
   "outputs": [
    {
     "name": "stdout",
     "output_type": "stream",
     "text": [
      "50\n"
     ]
    }
   ],
   "source": [
    "u = [10,20,30,40,50,9,5]\n",
    "\n",
    "m = u[0]\n",
    "i = 1\n",
    "\n",
    "while i <len(u):\n",
    "    if m < u[i]:\n",
    "        m = u[i]\n",
    "    i+= 1\n",
    "\n",
    "print(m)"
   ]
  },
  {
   "cell_type": "code",
   "execution_count": 30,
   "id": "f917da79",
   "metadata": {},
   "outputs": [
    {
     "name": "stdout",
     "output_type": "stream",
     "text": [
      "enter a number; 11\n",
      "fail\n"
     ]
    }
   ],
   "source": [
    "#linear search\n",
    "l = [10,20,30,40,50,9,5,55,100]\n",
    "\n",
    "n = int(input(\"enter a number; \"))\n",
    "i = 0\n",
    "\n",
    "f = 0\n",
    "\n",
    "while i< len(l):\n",
    "    if n == l[i]:\n",
    "        f= 1\n",
    "        break\n",
    "    i += 1\n",
    "if f == 1:\n",
    "    print(\"search success\")\n",
    "else:\n",
    "    print(\"fail\")"
   ]
  },
  {
   "cell_type": "code",
   "execution_count": 31,
   "id": "0c5c3786",
   "metadata": {},
   "outputs": [
    {
     "name": "stdout",
     "output_type": "stream",
     "text": [
      "enter a number; 55\n",
      "search success\n"
     ]
    }
   ],
   "source": [
    "l = [10,20,30,40,50,9,5,55,100]\n",
    "\n",
    "n = int(input(\"enter a number; \"))\n",
    "i = 0\n",
    "\n",
    "f = 0\n",
    "\n",
    "while i< len(l):\n",
    "    if n == l[i]:\n",
    "        f= 1\n",
    "        break\n",
    "    i += 1\n",
    "if f == 1:\n",
    "    print(\"search success\")\n",
    "else:\n",
    "    print(\"fail\")"
   ]
  },
  {
   "cell_type": "code",
   "execution_count": null,
   "id": "77716c47",
   "metadata": {},
   "outputs": [],
   "source": [
    "num = 1\n",
    "while num<1001:\n",
    "    if num%3==0 or num%5==0:\n",
    "        print(num)\n",
    "    num += 1"
   ]
  },
  {
   "cell_type": "code",
   "execution_count": 32,
   "id": "26967fd5",
   "metadata": {},
   "outputs": [
    {
     "name": "stdout",
     "output_type": "stream",
     "text": [
      "3\n",
      "5\n",
      "6\n",
      "9\n",
      "10\n",
      "12\n",
      "15\n",
      "18\n",
      "20\n",
      "21\n",
      "24\n",
      "25\n",
      "27\n",
      "30\n",
      "33\n",
      "35\n",
      "36\n",
      "39\n",
      "40\n",
      "42\n",
      "45\n",
      "48\n",
      "50\n",
      "51\n",
      "54\n",
      "55\n",
      "57\n",
      "60\n",
      "63\n",
      "65\n",
      "66\n",
      "69\n",
      "70\n",
      "72\n",
      "75\n",
      "78\n",
      "80\n",
      "81\n",
      "84\n",
      "85\n",
      "87\n",
      "90\n",
      "93\n",
      "95\n",
      "96\n",
      "99\n",
      "100\n",
      "102\n",
      "105\n",
      "108\n",
      "110\n",
      "111\n",
      "114\n",
      "115\n",
      "117\n",
      "120\n",
      "123\n",
      "125\n",
      "126\n",
      "129\n",
      "130\n",
      "132\n",
      "135\n",
      "138\n",
      "140\n",
      "141\n",
      "144\n",
      "145\n",
      "147\n",
      "150\n",
      "153\n",
      "155\n",
      "156\n",
      "159\n",
      "160\n",
      "162\n",
      "165\n",
      "168\n",
      "170\n",
      "171\n",
      "174\n",
      "175\n",
      "177\n",
      "180\n",
      "183\n",
      "185\n",
      "186\n",
      "189\n",
      "190\n",
      "192\n",
      "195\n",
      "198\n",
      "200\n",
      "201\n",
      "204\n",
      "205\n",
      "207\n",
      "210\n",
      "213\n",
      "215\n",
      "216\n",
      "219\n",
      "220\n",
      "222\n",
      "225\n",
      "228\n",
      "230\n",
      "231\n",
      "234\n",
      "235\n",
      "237\n",
      "240\n",
      "243\n",
      "245\n",
      "246\n",
      "249\n",
      "250\n",
      "252\n",
      "255\n",
      "258\n",
      "260\n",
      "261\n",
      "264\n",
      "265\n",
      "267\n",
      "270\n",
      "273\n",
      "275\n",
      "276\n",
      "279\n",
      "280\n",
      "282\n",
      "285\n",
      "288\n",
      "290\n",
      "291\n",
      "294\n",
      "295\n",
      "297\n",
      "300\n",
      "303\n",
      "305\n",
      "306\n",
      "309\n",
      "310\n",
      "312\n",
      "315\n",
      "318\n",
      "320\n",
      "321\n",
      "324\n",
      "325\n",
      "327\n",
      "330\n",
      "333\n",
      "335\n",
      "336\n",
      "339\n",
      "340\n",
      "342\n",
      "345\n",
      "348\n",
      "350\n",
      "351\n",
      "354\n",
      "355\n",
      "357\n",
      "360\n",
      "363\n",
      "365\n",
      "366\n",
      "369\n",
      "370\n",
      "372\n",
      "375\n",
      "378\n",
      "380\n",
      "381\n",
      "384\n",
      "385\n",
      "387\n",
      "390\n",
      "393\n",
      "395\n",
      "396\n",
      "399\n",
      "400\n",
      "402\n",
      "405\n",
      "408\n",
      "410\n",
      "411\n",
      "414\n",
      "415\n",
      "417\n",
      "420\n",
      "423\n",
      "425\n",
      "426\n",
      "429\n",
      "430\n",
      "432\n",
      "435\n",
      "438\n",
      "440\n",
      "441\n",
      "444\n",
      "445\n",
      "447\n",
      "450\n",
      "453\n",
      "455\n",
      "456\n",
      "459\n",
      "460\n",
      "462\n",
      "465\n",
      "468\n",
      "470\n",
      "471\n",
      "474\n",
      "475\n",
      "477\n",
      "480\n",
      "483\n",
      "485\n",
      "486\n",
      "489\n",
      "490\n",
      "492\n",
      "495\n",
      "498\n",
      "500\n",
      "501\n",
      "504\n",
      "505\n",
      "507\n",
      "510\n",
      "513\n",
      "515\n",
      "516\n",
      "519\n",
      "520\n",
      "522\n",
      "525\n",
      "528\n",
      "530\n",
      "531\n",
      "534\n",
      "535\n",
      "537\n",
      "540\n",
      "543\n",
      "545\n",
      "546\n",
      "549\n",
      "550\n",
      "552\n",
      "555\n",
      "558\n",
      "560\n",
      "561\n",
      "564\n",
      "565\n",
      "567\n",
      "570\n",
      "573\n",
      "575\n",
      "576\n",
      "579\n",
      "580\n",
      "582\n",
      "585\n",
      "588\n",
      "590\n",
      "591\n",
      "594\n",
      "595\n",
      "597\n",
      "600\n",
      "603\n",
      "605\n",
      "606\n",
      "609\n",
      "610\n",
      "612\n",
      "615\n",
      "618\n",
      "620\n",
      "621\n",
      "624\n",
      "625\n",
      "627\n",
      "630\n",
      "633\n",
      "635\n",
      "636\n",
      "639\n",
      "640\n",
      "642\n",
      "645\n",
      "648\n",
      "650\n",
      "651\n",
      "654\n",
      "655\n",
      "657\n",
      "660\n",
      "663\n",
      "665\n",
      "666\n",
      "669\n",
      "670\n",
      "672\n",
      "675\n",
      "678\n",
      "680\n",
      "681\n",
      "684\n",
      "685\n",
      "687\n",
      "690\n",
      "693\n",
      "695\n",
      "696\n",
      "699\n",
      "700\n",
      "702\n",
      "705\n",
      "708\n",
      "710\n",
      "711\n",
      "714\n",
      "715\n",
      "717\n",
      "720\n",
      "723\n",
      "725\n",
      "726\n",
      "729\n",
      "730\n",
      "732\n",
      "735\n",
      "738\n",
      "740\n",
      "741\n",
      "744\n",
      "745\n",
      "747\n",
      "750\n",
      "753\n",
      "755\n",
      "756\n",
      "759\n",
      "760\n",
      "762\n",
      "765\n",
      "768\n",
      "770\n",
      "771\n",
      "774\n",
      "775\n",
      "777\n",
      "780\n",
      "783\n",
      "785\n",
      "786\n",
      "789\n",
      "790\n",
      "792\n",
      "795\n",
      "798\n",
      "800\n",
      "801\n",
      "804\n",
      "805\n",
      "807\n",
      "810\n",
      "813\n",
      "815\n",
      "816\n",
      "819\n",
      "820\n",
      "822\n",
      "825\n",
      "828\n",
      "830\n",
      "831\n",
      "834\n",
      "835\n",
      "837\n",
      "840\n",
      "843\n",
      "845\n",
      "846\n",
      "849\n",
      "850\n",
      "852\n",
      "855\n",
      "858\n",
      "860\n",
      "861\n",
      "864\n",
      "865\n",
      "867\n",
      "870\n",
      "873\n",
      "875\n",
      "876\n",
      "879\n",
      "880\n",
      "882\n",
      "885\n",
      "888\n",
      "890\n",
      "891\n",
      "894\n",
      "895\n",
      "897\n",
      "900\n",
      "903\n",
      "905\n",
      "906\n",
      "909\n",
      "910\n",
      "912\n",
      "915\n",
      "918\n",
      "920\n",
      "921\n",
      "924\n",
      "925\n",
      "927\n",
      "930\n",
      "933\n",
      "935\n",
      "936\n",
      "939\n",
      "940\n",
      "942\n",
      "945\n",
      "948\n",
      "950\n",
      "951\n",
      "954\n",
      "955\n",
      "957\n",
      "960\n",
      "963\n",
      "965\n",
      "966\n",
      "969\n",
      "970\n",
      "972\n",
      "975\n",
      "978\n",
      "980\n",
      "981\n",
      "984\n",
      "985\n",
      "987\n",
      "990\n",
      "993\n",
      "995\n",
      "996\n",
      "999\n",
      "1000\n"
     ]
    }
   ],
   "source": [
    "for i in range(1,1001):\n",
    "    if i%3==0 or i%5==0:\n",
    "        print(i)"
   ]
  },
  {
   "cell_type": "code",
   "execution_count": null,
   "id": "3cd07c46",
   "metadata": {},
   "outputs": [],
   "source": [
    "l = [10,20,30,40,50,9,5,55,100]\n",
    "\n"
   ]
  },
  {
   "cell_type": "code",
   "execution_count": 2,
   "id": "f8e2576f",
   "metadata": {},
   "outputs": [
    {
     "data": {
      "text/plain": [
       "[0, 1, 2, 3, 4, 5, 6, 7, 8, 9]"
      ]
     },
     "execution_count": 2,
     "metadata": {},
     "output_type": "execute_result"
    }
   ],
   "source": [
    "a = list(range(10))\n",
    "a"
   ]
  },
  {
   "cell_type": "code",
   "execution_count": 1,
   "id": "7ed5432e",
   "metadata": {},
   "outputs": [
    {
     "name": "stdout",
     "output_type": "stream",
     "text": [
      "A\n",
      "B\n",
      "C\n",
      "D\n"
     ]
    }
   ],
   "source": [
    "x = 'abcd'\n",
    "\n",
    "for i in x:\n",
    "    print(i.upper())"
   ]
  },
  {
   "cell_type": "code",
   "execution_count": 4,
   "id": "48c3fc9e",
   "metadata": {},
   "outputs": [
    {
     "name": "stdout",
     "output_type": "stream",
     "text": [
      "0\n",
      "1\n",
      "2\n",
      "3\n"
     ]
    }
   ],
   "source": [
    "x = 'abcd'\n",
    "\n",
    "for i in range(len(x)):\n",
    "    print(i)"
   ]
  },
  {
   "cell_type": "code",
   "execution_count": 3,
   "id": "a833fb37",
   "metadata": {},
   "outputs": [
    {
     "data": {
      "text/plain": [
       "[0, 3, 6, 9, 12, 15, 18]"
      ]
     },
     "execution_count": 3,
     "metadata": {},
     "output_type": "execute_result"
    }
   ],
   "source": [
    "a = list(range(0,20,3))\n",
    "a"
   ]
  },
  {
   "cell_type": "code",
   "execution_count": 6,
   "id": "d62b9389",
   "metadata": {},
   "outputs": [
    {
     "name": "stdout",
     "output_type": "stream",
     "text": [
      "1 4 9 16 25 36 49 64 81 100 "
     ]
    }
   ],
   "source": [
    "# wap to print series 1,4,9,16....100\n",
    "\n",
    "a = range(1,11)\n",
    "\n",
    "for i in a:\n",
    "    print(i*i, end=\" \")       "
   ]
  },
  {
   "cell_type": "code",
   "execution_count": 11,
   "id": "cfeea434",
   "metadata": {},
   "outputs": [
    {
     "name": "stdout",
     "output_type": "stream",
     "text": [
      "11  12  13  \n",
      "21  22  23  \n",
      "31  32  33  \n"
     ]
    }
   ],
   "source": [
    "i = 1\n",
    "j = 1\n",
    "\n",
    "for i in range(1,4):\n",
    "    for j in range(1,4):\n",
    "        print(i, end=\"\")\n",
    "        print(j, end=\"  \")\n",
    "    print()"
   ]
  },
  {
   "cell_type": "code",
   "execution_count": 14,
   "id": "6914638f",
   "metadata": {},
   "outputs": [
    {
     "name": "stdout",
     "output_type": "stream",
     "text": [
      "* \n",
      "* * \n",
      "* * * \n",
      "* * * * \n",
      "* * * * * \n"
     ]
    }
   ],
   "source": [
    "for i in range(0,5):\n",
    "    for j in range(6-i,7):\n",
    "        print(\"*\", end=\" \")\n",
    "    print()"
   ]
  },
  {
   "cell_type": "code",
   "execution_count": 15,
   "id": "602f5723",
   "metadata": {},
   "outputs": [
    {
     "name": "stdout",
     "output_type": "stream",
     "text": [
      "* \n",
      "* * \n",
      "* * * \n",
      "* * * * \n",
      "* * * * * \n"
     ]
    }
   ],
   "source": [
    "for i in range(1,6):\n",
    "    for j in range(1,1+i):\n",
    "        print(\"*\", end=\" \")\n",
    "    print()"
   ]
  },
  {
   "cell_type": "code",
   "execution_count": 16,
   "id": "07ede8a6",
   "metadata": {},
   "outputs": [
    {
     "name": "stdout",
     "output_type": "stream",
     "text": [
      "1 \n",
      "1 2 \n",
      "1 2 3 \n",
      "1 2 3 4 \n",
      "1 2 3 4 5 \n"
     ]
    }
   ],
   "source": [
    "for i in range(1,6):\n",
    "    for j in range(1,1+i):\n",
    "        print(j, end=\" \")\n",
    "    print()"
   ]
  },
  {
   "cell_type": "code",
   "execution_count": 17,
   "id": "77775b9f",
   "metadata": {},
   "outputs": [
    {
     "ename": "TypeError",
     "evalue": "unhashable type: 'list'",
     "output_type": "error",
     "traceback": [
      "\u001b[1;31m---------------------------------------------------------------------------\u001b[0m",
      "\u001b[1;31mTypeError\u001b[0m                                 Traceback (most recent call last)",
      "Input \u001b[1;32mIn [17]\u001b[0m, in \u001b[0;36m<cell line: 1>\u001b[1;34m()\u001b[0m\n\u001b[1;32m----> 1\u001b[0m d \u001b[38;5;241m=\u001b[39m {[\u001b[38;5;241m1\u001b[39m,\u001b[38;5;241m2\u001b[39m]: \u001b[38;5;124m\"\u001b[39m\u001b[38;5;124mhello\u001b[39m\u001b[38;5;124m\"\u001b[39m}\n\u001b[0;32m      2\u001b[0m d\n",
      "\u001b[1;31mTypeError\u001b[0m: unhashable type: 'list'"
     ]
    }
   ],
   "source": [
    "d = {[1,2]: \"hello\"}\n",
    "d\n",
    "#list are mutable and it will change the value of key we can only use immutables"
   ]
  },
  {
   "cell_type": "code",
   "execution_count": null,
   "id": "3cdc10e1",
   "metadata": {},
   "outputs": [],
   "source": [
    "#there cant be similar keys"
   ]
  },
  {
   "cell_type": "code",
   "execution_count": 18,
   "id": "a1702ade",
   "metadata": {},
   "outputs": [
    {
     "name": "stdout",
     "output_type": "stream",
     "text": [
      "{1: 1, 2: 4, 3: 9, 4: 16, 5: 25, 6: 36, 7: 49, 8: 64, 9: 81, 10: 100}\n"
     ]
    }
   ],
   "source": [
    "#{1:1,2:4,3:9...10:100}\n",
    "\n",
    "d = {}\n",
    "\n",
    "for i in range(1,11):\n",
    "    d[i] = i*i\n",
    "print(d)"
   ]
  },
  {
   "cell_type": "code",
   "execution_count": null,
   "id": "d6eb8ecb",
   "metadata": {},
   "outputs": [],
   "source": [
    "1000"
   ]
  },
  {
   "cell_type": "code",
   "execution_count": 1,
   "id": "b5fb5e3d",
   "metadata": {},
   "outputs": [
    {
     "name": "stdout",
     "output_type": "stream",
     "text": [
      "bat bat bat\n"
     ]
    }
   ],
   "source": [
    "class Test:\n",
    "    def bat(self):\n",
    "        print(\"bat bat bat\")\n",
    "#a=10 10 is object         \n",
    "t= Test()\n",
    "t.bat()"
   ]
  },
  {
   "cell_type": "code",
   "execution_count": 2,
   "id": "33f5c023",
   "metadata": {},
   "outputs": [
    {
     "name": "stdout",
     "output_type": "stream",
     "text": [
      "<__main__.Test object at 0x0000023674D138E0>\n"
     ]
    }
   ],
   "source": [
    "print(t)"
   ]
  },
  {
   "cell_type": "code",
   "execution_count": null,
   "id": "6ea6bf68",
   "metadata": {},
   "outputs": [],
   "source": [
    "\n",
    "# <__main__.Test object at 0x0000023674D138E0>\n",
    "# class in main function "
   ]
  },
  {
   "cell_type": "code",
   "execution_count": 3,
   "id": "b4e10dda",
   "metadata": {},
   "outputs": [
    {
     "name": "stdout",
     "output_type": "stream",
     "text": [
      "<class '__main__.Test'>\n"
     ]
    }
   ],
   "source": [
    "print(type(t))"
   ]
  },
  {
   "cell_type": "code",
   "execution_count": null,
   "id": "1eda9107",
   "metadata": {},
   "outputs": [],
   "source": [
    "#constructor\n",
    "\n",
    "class Cricket:\n",
    "    def __init__(self):\n",
    "        print(\"this is constructor\")"
   ]
  },
  {
   "cell_type": "code",
   "execution_count": null,
   "id": "3c958415",
   "metadata": {},
   "outputs": [],
   "source": []
  },
  {
   "cell_type": "code",
   "execution_count": null,
   "id": "684e7be0",
   "metadata": {},
   "outputs": [],
   "source": [
    "#single inheritance\n",
    "a - windows 7\n",
    "|\n",
    "b - windows 10\n"
   ]
  },
  {
   "cell_type": "code",
   "execution_count": null,
   "id": "ede266b2",
   "metadata": {},
   "outputs": [],
   "source": [
    "#if __name__ == '__main__'"
   ]
  },
  {
   "cell_type": "code",
   "execution_count": null,
   "id": "dfdfb4ac",
   "metadata": {},
   "outputs": [],
   "source": [
    "TV                     #class\n",
    "-BLUETOOTH\n",
    "-WIFI\n",
    "-USB\n",
    "-HDMI\n",
    "\n",
    "ACTUAL TV             #object\n",
    "\n",
    "\n",
    "REMOTE                #reference"
   ]
  },
  {
   "cell_type": "code",
   "execution_count": 6,
   "id": "80a63370",
   "metadata": {},
   "outputs": [
    {
     "data": {
      "text/plain": [
       "'C:\\\\Users\\\\os'"
      ]
     },
     "execution_count": 6,
     "metadata": {},
     "output_type": "execute_result"
    }
   ],
   "source": [
    "pwd"
   ]
  },
  {
   "cell_type": "code",
   "execution_count": 1,
   "id": "91a68277",
   "metadata": {},
   "outputs": [
    {
     "data": {
      "text/html": [
       "<div>\n",
       "<style scoped>\n",
       "    .dataframe tbody tr th:only-of-type {\n",
       "        vertical-align: middle;\n",
       "    }\n",
       "\n",
       "    .dataframe tbody tr th {\n",
       "        vertical-align: top;\n",
       "    }\n",
       "\n",
       "    .dataframe thead th {\n",
       "        text-align: right;\n",
       "    }\n",
       "</style>\n",
       "<table border=\"1\" class=\"dataframe\">\n",
       "  <thead>\n",
       "    <tr style=\"text-align: right;\">\n",
       "      <th></th>\n",
       "      <th>sepal_length</th>\n",
       "      <th>sepal_width</th>\n",
       "      <th>petal_length</th>\n",
       "      <th>petal_width</th>\n",
       "      <th>plant</th>\n",
       "    </tr>\n",
       "  </thead>\n",
       "  <tbody>\n",
       "    <tr>\n",
       "      <th>0</th>\n",
       "      <td>5.1</td>\n",
       "      <td>3.5</td>\n",
       "      <td>1.4</td>\n",
       "      <td>0.2</td>\n",
       "      <td>0</td>\n",
       "    </tr>\n",
       "    <tr>\n",
       "      <th>1</th>\n",
       "      <td>4.9</td>\n",
       "      <td>3.0</td>\n",
       "      <td>1.4</td>\n",
       "      <td>0.2</td>\n",
       "      <td>0</td>\n",
       "    </tr>\n",
       "    <tr>\n",
       "      <th>2</th>\n",
       "      <td>4.7</td>\n",
       "      <td>3.2</td>\n",
       "      <td>1.3</td>\n",
       "      <td>0.2</td>\n",
       "      <td>0</td>\n",
       "    </tr>\n",
       "    <tr>\n",
       "      <th>3</th>\n",
       "      <td>4.6</td>\n",
       "      <td>3.1</td>\n",
       "      <td>1.5</td>\n",
       "      <td>0.2</td>\n",
       "      <td>0</td>\n",
       "    </tr>\n",
       "    <tr>\n",
       "      <th>4</th>\n",
       "      <td>5.0</td>\n",
       "      <td>3.6</td>\n",
       "      <td>1.4</td>\n",
       "      <td>0.2</td>\n",
       "      <td>0</td>\n",
       "    </tr>\n",
       "    <tr>\n",
       "      <th>...</th>\n",
       "      <td>...</td>\n",
       "      <td>...</td>\n",
       "      <td>...</td>\n",
       "      <td>...</td>\n",
       "      <td>...</td>\n",
       "    </tr>\n",
       "    <tr>\n",
       "      <th>145</th>\n",
       "      <td>6.7</td>\n",
       "      <td>3.0</td>\n",
       "      <td>5.2</td>\n",
       "      <td>2.3</td>\n",
       "      <td>2</td>\n",
       "    </tr>\n",
       "    <tr>\n",
       "      <th>146</th>\n",
       "      <td>6.3</td>\n",
       "      <td>2.5</td>\n",
       "      <td>5.0</td>\n",
       "      <td>1.9</td>\n",
       "      <td>2</td>\n",
       "    </tr>\n",
       "    <tr>\n",
       "      <th>147</th>\n",
       "      <td>6.5</td>\n",
       "      <td>3.0</td>\n",
       "      <td>5.2</td>\n",
       "      <td>2.0</td>\n",
       "      <td>2</td>\n",
       "    </tr>\n",
       "    <tr>\n",
       "      <th>148</th>\n",
       "      <td>6.2</td>\n",
       "      <td>3.4</td>\n",
       "      <td>5.4</td>\n",
       "      <td>2.3</td>\n",
       "      <td>2</td>\n",
       "    </tr>\n",
       "    <tr>\n",
       "      <th>149</th>\n",
       "      <td>5.9</td>\n",
       "      <td>3.0</td>\n",
       "      <td>5.1</td>\n",
       "      <td>1.8</td>\n",
       "      <td>2</td>\n",
       "    </tr>\n",
       "  </tbody>\n",
       "</table>\n",
       "<p>150 rows × 5 columns</p>\n",
       "</div>"
      ],
      "text/plain": [
       "     sepal_length  sepal_width  petal_length  petal_width  plant\n",
       "0             5.1          3.5           1.4          0.2      0\n",
       "1             4.9          3.0           1.4          0.2      0\n",
       "2             4.7          3.2           1.3          0.2      0\n",
       "3             4.6          3.1           1.5          0.2      0\n",
       "4             5.0          3.6           1.4          0.2      0\n",
       "..            ...          ...           ...          ...    ...\n",
       "145           6.7          3.0           5.2          2.3      2\n",
       "146           6.3          2.5           5.0          1.9      2\n",
       "147           6.5          3.0           5.2          2.0      2\n",
       "148           6.2          3.4           5.4          2.3      2\n",
       "149           5.9          3.0           5.1          1.8      2\n",
       "\n",
       "[150 rows x 5 columns]"
      ]
     },
     "execution_count": 1,
     "metadata": {},
     "output_type": "execute_result"
    }
   ],
   "source": [
    "import pandas as pd\n",
    "df=pd.read_csv(\"iris.csv\")\n",
    "df\n",
    "\n"
   ]
  },
  {
   "cell_type": "code",
   "execution_count": 4,
   "id": "76d728d9",
   "metadata": {},
   "outputs": [
    {
     "data": {
      "text/plain": [
       "numpy.float64"
      ]
     },
     "execution_count": 4,
     "metadata": {},
     "output_type": "execute_result"
    }
   ],
   "source": [
    "type(df['sepal_length'][0])"
   ]
  },
  {
   "cell_type": "code",
   "execution_count": 5,
   "id": "36683ba9",
   "metadata": {},
   "outputs": [
    {
     "data": {
      "text/html": [
       "<div>\n",
       "<style scoped>\n",
       "    .dataframe tbody tr th:only-of-type {\n",
       "        vertical-align: middle;\n",
       "    }\n",
       "\n",
       "    .dataframe tbody tr th {\n",
       "        vertical-align: top;\n",
       "    }\n",
       "\n",
       "    .dataframe thead th {\n",
       "        text-align: right;\n",
       "    }\n",
       "</style>\n",
       "<table border=\"1\" class=\"dataframe\">\n",
       "  <thead>\n",
       "    <tr style=\"text-align: right;\">\n",
       "      <th></th>\n",
       "      <th>sepal_length</th>\n",
       "    </tr>\n",
       "  </thead>\n",
       "  <tbody>\n",
       "    <tr>\n",
       "      <th>0</th>\n",
       "      <td>5.1</td>\n",
       "    </tr>\n",
       "    <tr>\n",
       "      <th>1</th>\n",
       "      <td>4.9</td>\n",
       "    </tr>\n",
       "    <tr>\n",
       "      <th>2</th>\n",
       "      <td>4.7</td>\n",
       "    </tr>\n",
       "    <tr>\n",
       "      <th>3</th>\n",
       "      <td>4.6</td>\n",
       "    </tr>\n",
       "    <tr>\n",
       "      <th>4</th>\n",
       "      <td>5.0</td>\n",
       "    </tr>\n",
       "    <tr>\n",
       "      <th>...</th>\n",
       "      <td>...</td>\n",
       "    </tr>\n",
       "    <tr>\n",
       "      <th>145</th>\n",
       "      <td>6.7</td>\n",
       "    </tr>\n",
       "    <tr>\n",
       "      <th>146</th>\n",
       "      <td>6.3</td>\n",
       "    </tr>\n",
       "    <tr>\n",
       "      <th>147</th>\n",
       "      <td>6.5</td>\n",
       "    </tr>\n",
       "    <tr>\n",
       "      <th>148</th>\n",
       "      <td>6.2</td>\n",
       "    </tr>\n",
       "    <tr>\n",
       "      <th>149</th>\n",
       "      <td>5.9</td>\n",
       "    </tr>\n",
       "  </tbody>\n",
       "</table>\n",
       "<p>150 rows × 1 columns</p>\n",
       "</div>"
      ],
      "text/plain": [
       "     sepal_length\n",
       "0             5.1\n",
       "1             4.9\n",
       "2             4.7\n",
       "3             4.6\n",
       "4             5.0\n",
       "..            ...\n",
       "145           6.7\n",
       "146           6.3\n",
       "147           6.5\n",
       "148           6.2\n",
       "149           5.9\n",
       "\n",
       "[150 rows x 1 columns]"
      ]
     },
     "execution_count": 5,
     "metadata": {},
     "output_type": "execute_result"
    }
   ],
   "source": [
    "df[['sepal_length']]"
   ]
  },
  {
   "cell_type": "code",
   "execution_count": 11,
   "id": "bb41b465",
   "metadata": {},
   "outputs": [
    {
     "data": {
      "text/plain": [
       "7.9"
      ]
     },
     "execution_count": 11,
     "metadata": {},
     "output_type": "execute_result"
    }
   ],
   "source": [
    "df['sepal_length'].max()"
   ]
  },
  {
   "cell_type": "code",
   "execution_count": 12,
   "id": "c08579bc",
   "metadata": {},
   "outputs": [
    {
     "data": {
      "text/html": [
       "<div>\n",
       "<style scoped>\n",
       "    .dataframe tbody tr th:only-of-type {\n",
       "        vertical-align: middle;\n",
       "    }\n",
       "\n",
       "    .dataframe tbody tr th {\n",
       "        vertical-align: top;\n",
       "    }\n",
       "\n",
       "    .dataframe thead th {\n",
       "        text-align: right;\n",
       "    }\n",
       "</style>\n",
       "<table border=\"1\" class=\"dataframe\">\n",
       "  <thead>\n",
       "    <tr style=\"text-align: right;\">\n",
       "      <th></th>\n",
       "      <th>sepal_length</th>\n",
       "    </tr>\n",
       "  </thead>\n",
       "  <tbody>\n",
       "    <tr>\n",
       "      <th>131</th>\n",
       "      <td>7.9</td>\n",
       "    </tr>\n",
       "  </tbody>\n",
       "</table>\n",
       "</div>"
      ],
      "text/plain": [
       "     sepal_length\n",
       "131           7.9"
      ]
     },
     "execution_count": 12,
     "metadata": {},
     "output_type": "execute_result"
    }
   ],
   "source": [
    "df[['sepal_length']][df['sepal_length']==df['sepal_length'].max()]"
   ]
  },
  {
   "cell_type": "code",
   "execution_count": 15,
   "id": "07c86e28",
   "metadata": {},
   "outputs": [
    {
     "data": {
      "text/html": [
       "<div>\n",
       "<style scoped>\n",
       "    .dataframe tbody tr th:only-of-type {\n",
       "        vertical-align: middle;\n",
       "    }\n",
       "\n",
       "    .dataframe tbody tr th {\n",
       "        vertical-align: top;\n",
       "    }\n",
       "\n",
       "    .dataframe thead th {\n",
       "        text-align: right;\n",
       "    }\n",
       "</style>\n",
       "<table border=\"1\" class=\"dataframe\">\n",
       "  <thead>\n",
       "    <tr style=\"text-align: right;\">\n",
       "      <th></th>\n",
       "      <th>sepal_length</th>\n",
       "      <th>sepal_width</th>\n",
       "      <th>petal_length</th>\n",
       "      <th>petal_width</th>\n",
       "      <th>plant</th>\n",
       "    </tr>\n",
       "  </thead>\n",
       "  <tbody>\n",
       "    <tr>\n",
       "      <th>145</th>\n",
       "      <td>6.7</td>\n",
       "      <td>3.0</td>\n",
       "      <td>5.2</td>\n",
       "      <td>2.3</td>\n",
       "      <td>2</td>\n",
       "    </tr>\n",
       "    <tr>\n",
       "      <th>146</th>\n",
       "      <td>6.3</td>\n",
       "      <td>2.5</td>\n",
       "      <td>5.0</td>\n",
       "      <td>1.9</td>\n",
       "      <td>2</td>\n",
       "    </tr>\n",
       "    <tr>\n",
       "      <th>147</th>\n",
       "      <td>6.5</td>\n",
       "      <td>3.0</td>\n",
       "      <td>5.2</td>\n",
       "      <td>2.0</td>\n",
       "      <td>2</td>\n",
       "    </tr>\n",
       "    <tr>\n",
       "      <th>148</th>\n",
       "      <td>6.2</td>\n",
       "      <td>3.4</td>\n",
       "      <td>5.4</td>\n",
       "      <td>2.3</td>\n",
       "      <td>2</td>\n",
       "    </tr>\n",
       "    <tr>\n",
       "      <th>149</th>\n",
       "      <td>5.9</td>\n",
       "      <td>3.0</td>\n",
       "      <td>5.1</td>\n",
       "      <td>1.8</td>\n",
       "      <td>2</td>\n",
       "    </tr>\n",
       "  </tbody>\n",
       "</table>\n",
       "</div>"
      ],
      "text/plain": [
       "     sepal_length  sepal_width  petal_length  petal_width  plant\n",
       "145           6.7          3.0           5.2          2.3      2\n",
       "146           6.3          2.5           5.0          1.9      2\n",
       "147           6.5          3.0           5.2          2.0      2\n",
       "148           6.2          3.4           5.4          2.3      2\n",
       "149           5.9          3.0           5.1          1.8      2"
      ]
     },
     "execution_count": 15,
     "metadata": {},
     "output_type": "execute_result"
    }
   ],
   "source": [
    "df.head(3)\n"
   ]
  },
  {
   "cell_type": "code",
   "execution_count": 16,
   "id": "c3b1abe6",
   "metadata": {},
   "outputs": [
    {
     "data": {
      "text/html": [
       "<div>\n",
       "<style scoped>\n",
       "    .dataframe tbody tr th:only-of-type {\n",
       "        vertical-align: middle;\n",
       "    }\n",
       "\n",
       "    .dataframe tbody tr th {\n",
       "        vertical-align: top;\n",
       "    }\n",
       "\n",
       "    .dataframe thead th {\n",
       "        text-align: right;\n",
       "    }\n",
       "</style>\n",
       "<table border=\"1\" class=\"dataframe\">\n",
       "  <thead>\n",
       "    <tr style=\"text-align: right;\">\n",
       "      <th></th>\n",
       "      <th>sepal_length</th>\n",
       "      <th>sepal_width</th>\n",
       "      <th>petal_length</th>\n",
       "      <th>petal_width</th>\n",
       "      <th>plant</th>\n",
       "    </tr>\n",
       "  </thead>\n",
       "  <tbody>\n",
       "    <tr>\n",
       "      <th>145</th>\n",
       "      <td>6.7</td>\n",
       "      <td>3.0</td>\n",
       "      <td>5.2</td>\n",
       "      <td>2.3</td>\n",
       "      <td>2</td>\n",
       "    </tr>\n",
       "    <tr>\n",
       "      <th>146</th>\n",
       "      <td>6.3</td>\n",
       "      <td>2.5</td>\n",
       "      <td>5.0</td>\n",
       "      <td>1.9</td>\n",
       "      <td>2</td>\n",
       "    </tr>\n",
       "    <tr>\n",
       "      <th>147</th>\n",
       "      <td>6.5</td>\n",
       "      <td>3.0</td>\n",
       "      <td>5.2</td>\n",
       "      <td>2.0</td>\n",
       "      <td>2</td>\n",
       "    </tr>\n",
       "    <tr>\n",
       "      <th>148</th>\n",
       "      <td>6.2</td>\n",
       "      <td>3.4</td>\n",
       "      <td>5.4</td>\n",
       "      <td>2.3</td>\n",
       "      <td>2</td>\n",
       "    </tr>\n",
       "    <tr>\n",
       "      <th>149</th>\n",
       "      <td>5.9</td>\n",
       "      <td>3.0</td>\n",
       "      <td>5.1</td>\n",
       "      <td>1.8</td>\n",
       "      <td>2</td>\n",
       "    </tr>\n",
       "  </tbody>\n",
       "</table>\n",
       "</div>"
      ],
      "text/plain": [
       "     sepal_length  sepal_width  petal_length  petal_width  plant\n",
       "145           6.7          3.0           5.2          2.3      2\n",
       "146           6.3          2.5           5.0          1.9      2\n",
       "147           6.5          3.0           5.2          2.0      2\n",
       "148           6.2          3.4           5.4          2.3      2\n",
       "149           5.9          3.0           5.1          1.8      2"
      ]
     },
     "execution_count": 16,
     "metadata": {},
     "output_type": "execute_result"
    }
   ],
   "source": [
    "df.tail()"
   ]
  },
  {
   "cell_type": "code",
   "execution_count": 19,
   "id": "322db1c8",
   "metadata": {},
   "outputs": [
    {
     "data": {
      "text/html": [
       "<div>\n",
       "<style scoped>\n",
       "    .dataframe tbody tr th:only-of-type {\n",
       "        vertical-align: middle;\n",
       "    }\n",
       "\n",
       "    .dataframe tbody tr th {\n",
       "        vertical-align: top;\n",
       "    }\n",
       "\n",
       "    .dataframe thead th {\n",
       "        text-align: right;\n",
       "    }\n",
       "</style>\n",
       "<table border=\"1\" class=\"dataframe\">\n",
       "  <thead>\n",
       "    <tr style=\"text-align: right;\">\n",
       "      <th></th>\n",
       "      <th>sepal_length</th>\n",
       "      <th>sepal_width</th>\n",
       "      <th>petal_length</th>\n",
       "      <th>petal_width</th>\n",
       "      <th>plant</th>\n",
       "    </tr>\n",
       "  </thead>\n",
       "  <tbody>\n",
       "    <tr>\n",
       "      <th>0</th>\n",
       "      <td>5.1</td>\n",
       "      <td>3.5</td>\n",
       "      <td>1.4</td>\n",
       "      <td>0.2</td>\n",
       "      <td>0</td>\n",
       "    </tr>\n",
       "    <tr>\n",
       "      <th>1</th>\n",
       "      <td>4.9</td>\n",
       "      <td>3.0</td>\n",
       "      <td>1.4</td>\n",
       "      <td>0.2</td>\n",
       "      <td>0</td>\n",
       "    </tr>\n",
       "    <tr>\n",
       "      <th>2</th>\n",
       "      <td>4.7</td>\n",
       "      <td>3.2</td>\n",
       "      <td>1.3</td>\n",
       "      <td>0.2</td>\n",
       "      <td>0</td>\n",
       "    </tr>\n",
       "    <tr>\n",
       "      <th>3</th>\n",
       "      <td>4.6</td>\n",
       "      <td>3.1</td>\n",
       "      <td>1.5</td>\n",
       "      <td>0.2</td>\n",
       "      <td>0</td>\n",
       "    </tr>\n",
       "    <tr>\n",
       "      <th>4</th>\n",
       "      <td>5.0</td>\n",
       "      <td>3.6</td>\n",
       "      <td>1.4</td>\n",
       "      <td>0.2</td>\n",
       "      <td>0</td>\n",
       "    </tr>\n",
       "    <tr>\n",
       "      <th>...</th>\n",
       "      <td>...</td>\n",
       "      <td>...</td>\n",
       "      <td>...</td>\n",
       "      <td>...</td>\n",
       "      <td>...</td>\n",
       "    </tr>\n",
       "    <tr>\n",
       "      <th>145</th>\n",
       "      <td>6.7</td>\n",
       "      <td>3.0</td>\n",
       "      <td>5.2</td>\n",
       "      <td>2.3</td>\n",
       "      <td>2</td>\n",
       "    </tr>\n",
       "    <tr>\n",
       "      <th>146</th>\n",
       "      <td>6.3</td>\n",
       "      <td>2.5</td>\n",
       "      <td>5.0</td>\n",
       "      <td>1.9</td>\n",
       "      <td>2</td>\n",
       "    </tr>\n",
       "    <tr>\n",
       "      <th>147</th>\n",
       "      <td>6.5</td>\n",
       "      <td>3.0</td>\n",
       "      <td>5.2</td>\n",
       "      <td>2.0</td>\n",
       "      <td>2</td>\n",
       "    </tr>\n",
       "    <tr>\n",
       "      <th>148</th>\n",
       "      <td>6.2</td>\n",
       "      <td>3.4</td>\n",
       "      <td>5.4</td>\n",
       "      <td>2.3</td>\n",
       "      <td>2</td>\n",
       "    </tr>\n",
       "    <tr>\n",
       "      <th>149</th>\n",
       "      <td>5.9</td>\n",
       "      <td>3.0</td>\n",
       "      <td>5.1</td>\n",
       "      <td>1.8</td>\n",
       "      <td>2</td>\n",
       "    </tr>\n",
       "  </tbody>\n",
       "</table>\n",
       "<p>150 rows × 5 columns</p>\n",
       "</div>"
      ],
      "text/plain": [
       "     sepal_length  sepal_width  petal_length  petal_width  plant\n",
       "0             5.1          3.5           1.4          0.2      0\n",
       "1             4.9          3.0           1.4          0.2      0\n",
       "2             4.7          3.2           1.3          0.2      0\n",
       "3             4.6          3.1           1.5          0.2      0\n",
       "4             5.0          3.6           1.4          0.2      0\n",
       "..            ...          ...           ...          ...    ...\n",
       "145           6.7          3.0           5.2          2.3      2\n",
       "146           6.3          2.5           5.0          1.9      2\n",
       "147           6.5          3.0           5.2          2.0      2\n",
       "148           6.2          3.4           5.4          2.3      2\n",
       "149           5.9          3.0           5.1          1.8      2\n",
       "\n",
       "[150 rows x 5 columns]"
      ]
     },
     "execution_count": 19,
     "metadata": {},
     "output_type": "execute_result"
    }
   ],
   "source": [
    "new_df = df.fillna(0)\n",
    "new_df"
   ]
  },
  {
   "cell_type": "code",
   "execution_count": 20,
   "id": "4c1cbe62",
   "metadata": {},
   "outputs": [
    {
     "data": {
      "text/plain": [
       "sepal_length    0\n",
       "sepal_width     0\n",
       "petal_length    0\n",
       "petal_width     0\n",
       "plant           0\n",
       "dtype: int64"
      ]
     },
     "execution_count": 20,
     "metadata": {},
     "output_type": "execute_result"
    }
   ],
   "source": [
    "df.isnull().sum()"
   ]
  },
  {
   "cell_type": "code",
   "execution_count": 23,
   "id": "2925da55",
   "metadata": {},
   "outputs": [
    {
     "data": {
      "text/plain": [
       "<pandas.core.groupby.generic.DataFrameGroupBy object at 0x000002B31258F6A0>"
      ]
     },
     "execution_count": 23,
     "metadata": {},
     "output_type": "execute_result"
    }
   ],
   "source": [
    "gb=df.groupby('sepal_length')\n",
    "gb"
   ]
  },
  {
   "cell_type": "code",
   "execution_count": null,
   "id": "dfcb0ce8",
   "metadata": {},
   "outputs": [],
   "source": []
  },
  {
   "cell_type": "code",
   "execution_count": 24,
   "id": "a2007f91",
   "metadata": {},
   "outputs": [
    {
     "name": "stdout",
     "output_type": "stream",
     "text": [
      "4.3\n",
      "\n",
      "    sepal_length  sepal_width  petal_length  petal_width  plant\n",
      "13           4.3          3.0           1.1          0.1      0\n",
      "4.4\n",
      "\n",
      "    sepal_length  sepal_width  petal_length  petal_width  plant\n",
      "8            4.4          2.9           1.4          0.2      0\n",
      "38           4.4          3.0           1.3          0.2      0\n",
      "42           4.4          3.2           1.3          0.2      0\n",
      "4.5\n",
      "\n",
      "    sepal_length  sepal_width  petal_length  petal_width  plant\n",
      "41           4.5          2.3           1.3          0.3      0\n",
      "4.6\n",
      "\n",
      "    sepal_length  sepal_width  petal_length  petal_width  plant\n",
      "3            4.6          3.1           1.5          0.2      0\n",
      "6            4.6          3.4           1.4          0.3      0\n",
      "22           4.6          3.6           1.0          0.2      0\n",
      "47           4.6          3.2           1.4          0.2      0\n",
      "4.7\n",
      "\n",
      "    sepal_length  sepal_width  petal_length  petal_width  plant\n",
      "2            4.7          3.2           1.3          0.2      0\n",
      "29           4.7          3.2           1.6          0.2      0\n",
      "4.8\n",
      "\n",
      "    sepal_length  sepal_width  petal_length  petal_width  plant\n",
      "11           4.8          3.4           1.6          0.2      0\n",
      "12           4.8          3.0           1.4          0.1      0\n",
      "24           4.8          3.4           1.9          0.2      0\n",
      "30           4.8          3.1           1.6          0.2      0\n",
      "45           4.8          3.0           1.4          0.3      0\n",
      "4.9\n",
      "\n",
      "     sepal_length  sepal_width  petal_length  petal_width  plant\n",
      "1             4.9          3.0           1.4          0.2      0\n",
      "9             4.9          3.1           1.5          0.1      0\n",
      "34            4.9          3.1           1.5          0.1      0\n",
      "37            4.9          3.1           1.5          0.1      0\n",
      "57            4.9          2.4           3.3          1.0      1\n",
      "106           4.9          2.5           4.5          1.7      2\n",
      "5.0\n",
      "\n",
      "    sepal_length  sepal_width  petal_length  petal_width  plant\n",
      "4            5.0          3.6           1.4          0.2      0\n",
      "7            5.0          3.4           1.5          0.2      0\n",
      "25           5.0          3.0           1.6          0.2      0\n",
      "26           5.0          3.4           1.6          0.4      0\n",
      "35           5.0          3.2           1.2          0.2      0\n",
      "40           5.0          3.5           1.3          0.3      0\n",
      "43           5.0          3.5           1.6          0.6      0\n",
      "49           5.0          3.3           1.4          0.2      0\n",
      "60           5.0          2.0           3.5          1.0      1\n",
      "93           5.0          2.3           3.3          1.0      1\n",
      "5.1\n",
      "\n",
      "    sepal_length  sepal_width  petal_length  petal_width  plant\n",
      "0            5.1          3.5           1.4          0.2      0\n",
      "17           5.1          3.5           1.4          0.3      0\n",
      "19           5.1          3.8           1.5          0.3      0\n",
      "21           5.1          3.7           1.5          0.4      0\n",
      "23           5.1          3.3           1.7          0.5      0\n",
      "39           5.1          3.4           1.5          0.2      0\n",
      "44           5.1          3.8           1.9          0.4      0\n",
      "46           5.1          3.8           1.6          0.2      0\n",
      "98           5.1          2.5           3.0          1.1      1\n",
      "5.2\n",
      "\n",
      "    sepal_length  sepal_width  petal_length  petal_width  plant\n",
      "27           5.2          3.5           1.5          0.2      0\n",
      "28           5.2          3.4           1.4          0.2      0\n",
      "32           5.2          4.1           1.5          0.1      0\n",
      "59           5.2          2.7           3.9          1.4      1\n",
      "5.3\n",
      "\n",
      "    sepal_length  sepal_width  petal_length  petal_width  plant\n",
      "48           5.3          3.7           1.5          0.2      0\n",
      "5.4\n",
      "\n",
      "    sepal_length  sepal_width  petal_length  petal_width  plant\n",
      "5            5.4          3.9           1.7          0.4      0\n",
      "10           5.4          3.7           1.5          0.2      0\n",
      "16           5.4          3.9           1.3          0.4      0\n",
      "20           5.4          3.4           1.7          0.2      0\n",
      "31           5.4          3.4           1.5          0.4      0\n",
      "84           5.4          3.0           4.5          1.5      1\n",
      "5.5\n",
      "\n",
      "    sepal_length  sepal_width  petal_length  petal_width  plant\n",
      "33           5.5          4.2           1.4          0.2      0\n",
      "36           5.5          3.5           1.3          0.2      0\n",
      "53           5.5          2.3           4.0          1.3      1\n",
      "80           5.5          2.4           3.8          1.1      1\n",
      "81           5.5          2.4           3.7          1.0      1\n",
      "89           5.5          2.5           4.0          1.3      1\n",
      "90           5.5          2.6           4.4          1.2      1\n",
      "5.6\n",
      "\n",
      "     sepal_length  sepal_width  petal_length  petal_width  plant\n",
      "64            5.6          2.9           3.6          1.3      1\n",
      "66            5.6          3.0           4.5          1.5      1\n",
      "69            5.6          2.5           3.9          1.1      1\n",
      "88            5.6          3.0           4.1          1.3      1\n",
      "94            5.6          2.7           4.2          1.3      1\n",
      "121           5.6          2.8           4.9          2.0      2\n",
      "5.7\n",
      "\n",
      "     sepal_length  sepal_width  petal_length  petal_width  plant\n",
      "15            5.7          4.4           1.5          0.4      0\n",
      "18            5.7          3.8           1.7          0.3      0\n",
      "55            5.7          2.8           4.5          1.3      1\n",
      "79            5.7          2.6           3.5          1.0      1\n",
      "95            5.7          3.0           4.2          1.2      1\n",
      "96            5.7          2.9           4.2          1.3      1\n",
      "99            5.7          2.8           4.1          1.3      1\n",
      "113           5.7          2.5           5.0          2.0      2\n",
      "5.8\n",
      "\n",
      "     sepal_length  sepal_width  petal_length  petal_width  plant\n",
      "14            5.8          4.0           1.2          0.2      0\n",
      "67            5.8          2.7           4.1          1.0      1\n",
      "82            5.8          2.7           3.9          1.2      1\n",
      "92            5.8          2.6           4.0          1.2      1\n",
      "101           5.8          2.7           5.1          1.9      2\n",
      "114           5.8          2.8           5.1          2.4      2\n",
      "142           5.8          2.7           5.1          1.9      2\n",
      "5.9\n",
      "\n",
      "     sepal_length  sepal_width  petal_length  petal_width  plant\n",
      "61            5.9          3.0           4.2          1.5      1\n",
      "70            5.9          3.2           4.8          1.8      1\n",
      "149           5.9          3.0           5.1          1.8      2\n",
      "6.0\n",
      "\n",
      "     sepal_length  sepal_width  petal_length  petal_width  plant\n",
      "62            6.0          2.2           4.0          1.0      1\n",
      "78            6.0          2.9           4.5          1.5      1\n",
      "83            6.0          2.7           5.1          1.6      1\n",
      "85            6.0          3.4           4.5          1.6      1\n",
      "119           6.0          2.2           5.0          1.5      2\n",
      "138           6.0          3.0           4.8          1.8      2\n",
      "6.1\n",
      "\n",
      "     sepal_length  sepal_width  petal_length  petal_width  plant\n",
      "63            6.1          2.9           4.7          1.4      1\n",
      "71            6.1          2.8           4.0          1.3      1\n",
      "73            6.1          2.8           4.7          1.2      1\n",
      "91            6.1          3.0           4.6          1.4      1\n",
      "127           6.1          3.0           4.9          1.8      2\n",
      "134           6.1          2.6           5.6          1.4      2\n",
      "6.2\n",
      "\n",
      "     sepal_length  sepal_width  petal_length  petal_width  plant\n",
      "68            6.2          2.2           4.5          1.5      1\n",
      "97            6.2          2.9           4.3          1.3      1\n",
      "126           6.2          2.8           4.8          1.8      2\n",
      "148           6.2          3.4           5.4          2.3      2\n",
      "6.3\n",
      "\n",
      "     sepal_length  sepal_width  petal_length  petal_width  plant\n",
      "56            6.3          3.3           4.7          1.6      1\n",
      "72            6.3          2.5           4.9          1.5      1\n",
      "87            6.3          2.3           4.4          1.3      1\n",
      "100           6.3          3.3           6.0          2.5      2\n",
      "103           6.3          2.9           5.6          1.8      2\n",
      "123           6.3          2.7           4.9          1.8      2\n",
      "133           6.3          2.8           5.1          1.5      2\n",
      "136           6.3          3.4           5.6          2.4      2\n",
      "146           6.3          2.5           5.0          1.9      2\n",
      "6.4\n",
      "\n",
      "     sepal_length  sepal_width  petal_length  petal_width  plant\n",
      "51            6.4          3.2           4.5          1.5      1\n",
      "74            6.4          2.9           4.3          1.3      1\n",
      "111           6.4          2.7           5.3          1.9      2\n",
      "115           6.4          3.2           5.3          2.3      2\n",
      "128           6.4          2.8           5.6          2.1      2\n",
      "132           6.4          2.8           5.6          2.2      2\n",
      "137           6.4          3.1           5.5          1.8      2\n",
      "6.5\n",
      "\n",
      "     sepal_length  sepal_width  petal_length  petal_width  plant\n",
      "54            6.5          2.8           4.6          1.5      1\n",
      "104           6.5          3.0           5.8          2.2      2\n",
      "110           6.5          3.2           5.1          2.0      2\n",
      "116           6.5          3.0           5.5          1.8      2\n",
      "147           6.5          3.0           5.2          2.0      2\n",
      "6.6\n",
      "\n",
      "    sepal_length  sepal_width  petal_length  petal_width  plant\n",
      "58           6.6          2.9           4.6          1.3      1\n",
      "75           6.6          3.0           4.4          1.4      1\n",
      "6.7\n",
      "\n",
      "     sepal_length  sepal_width  petal_length  petal_width  plant\n",
      "65            6.7          3.1           4.4          1.4      1\n",
      "77            6.7          3.0           5.0          1.7      1\n",
      "86            6.7          3.1           4.7          1.5      1\n",
      "108           6.7          2.5           5.8          1.8      2\n",
      "124           6.7          3.3           5.7          2.1      2\n",
      "140           6.7          3.1           5.6          2.4      2\n",
      "144           6.7          3.3           5.7          2.5      2\n",
      "145           6.7          3.0           5.2          2.3      2\n",
      "6.8\n",
      "\n",
      "     sepal_length  sepal_width  petal_length  petal_width  plant\n",
      "76            6.8          2.8           4.8          1.4      1\n",
      "112           6.8          3.0           5.5          2.1      2\n",
      "143           6.8          3.2           5.9          2.3      2\n",
      "6.9\n",
      "\n",
      "     sepal_length  sepal_width  petal_length  petal_width  plant\n",
      "52            6.9          3.1           4.9          1.5      1\n",
      "120           6.9          3.2           5.7          2.3      2\n",
      "139           6.9          3.1           5.4          2.1      2\n",
      "141           6.9          3.1           5.1          2.3      2\n",
      "7.0\n",
      "\n",
      "    sepal_length  sepal_width  petal_length  petal_width  plant\n",
      "50           7.0          3.2           4.7          1.4      1\n",
      "7.1\n",
      "\n",
      "     sepal_length  sepal_width  petal_length  petal_width  plant\n",
      "102           7.1          3.0           5.9          2.1      2\n",
      "7.2\n",
      "\n",
      "     sepal_length  sepal_width  petal_length  petal_width  plant\n",
      "109           7.2          3.6           6.1          2.5      2\n",
      "125           7.2          3.2           6.0          1.8      2\n",
      "129           7.2          3.0           5.8          1.6      2\n",
      "7.3\n",
      "\n",
      "     sepal_length  sepal_width  petal_length  petal_width  plant\n",
      "107           7.3          2.9           6.3          1.8      2\n",
      "7.4\n",
      "\n",
      "     sepal_length  sepal_width  petal_length  petal_width  plant\n",
      "130           7.4          2.8           6.1          1.9      2\n",
      "7.6\n",
      "\n",
      "     sepal_length  sepal_width  petal_length  petal_width  plant\n",
      "105           7.6          3.0           6.6          2.1      2\n",
      "7.7\n",
      "\n",
      "     sepal_length  sepal_width  petal_length  petal_width  plant\n",
      "117           7.7          3.8           6.7          2.2      2\n",
      "118           7.7          2.6           6.9          2.3      2\n",
      "122           7.7          2.8           6.7          2.0      2\n",
      "135           7.7          3.0           6.1          2.3      2\n",
      "7.9\n",
      "\n",
      "     sepal_length  sepal_width  petal_length  petal_width  plant\n",
      "131           7.9          3.8           6.4          2.0      2\n"
     ]
    }
   ],
   "source": [
    "for key, data in gb:\n",
    "    print(key)\n",
    "    print()\n",
    "    print(data)"
   ]
  },
  {
   "cell_type": "code",
   "execution_count": 2,
   "id": "c8eb50cd",
   "metadata": {},
   "outputs": [],
   "source": [
    "###EDA\n",
    "import numpy as np\n",
    "import pandas as pd\n",
    "import matplotlib.pyplot as plt\n",
    "import seaborn as sns\n"
   ]
  },
  {
   "cell_type": "code",
   "execution_count": 3,
   "id": "6baacdd9",
   "metadata": {},
   "outputs": [
    {
     "data": {
      "text/html": [
       "<div>\n",
       "<style scoped>\n",
       "    .dataframe tbody tr th:only-of-type {\n",
       "        vertical-align: middle;\n",
       "    }\n",
       "\n",
       "    .dataframe tbody tr th {\n",
       "        vertical-align: top;\n",
       "    }\n",
       "\n",
       "    .dataframe thead th {\n",
       "        text-align: right;\n",
       "    }\n",
       "</style>\n",
       "<table border=\"1\" class=\"dataframe\">\n",
       "  <thead>\n",
       "    <tr style=\"text-align: right;\">\n",
       "      <th></th>\n",
       "      <th>PassengerId</th>\n",
       "      <th>Survived</th>\n",
       "      <th>Pclass</th>\n",
       "      <th>Name</th>\n",
       "      <th>Sex</th>\n",
       "      <th>Age</th>\n",
       "      <th>SibSp</th>\n",
       "      <th>Parch</th>\n",
       "      <th>Ticket</th>\n",
       "      <th>Fare</th>\n",
       "      <th>Cabin</th>\n",
       "      <th>Embarked</th>\n",
       "    </tr>\n",
       "  </thead>\n",
       "  <tbody>\n",
       "    <tr>\n",
       "      <th>0</th>\n",
       "      <td>1</td>\n",
       "      <td>0</td>\n",
       "      <td>3</td>\n",
       "      <td>Braund, Mr. Owen Harris</td>\n",
       "      <td>male</td>\n",
       "      <td>22.0</td>\n",
       "      <td>1</td>\n",
       "      <td>0</td>\n",
       "      <td>A/5 21171</td>\n",
       "      <td>7.2500</td>\n",
       "      <td>NaN</td>\n",
       "      <td>S</td>\n",
       "    </tr>\n",
       "    <tr>\n",
       "      <th>1</th>\n",
       "      <td>2</td>\n",
       "      <td>1</td>\n",
       "      <td>1</td>\n",
       "      <td>Cumings, Mrs. John Bradley (Florence Briggs Th...</td>\n",
       "      <td>female</td>\n",
       "      <td>38.0</td>\n",
       "      <td>1</td>\n",
       "      <td>0</td>\n",
       "      <td>PC 17599</td>\n",
       "      <td>71.2833</td>\n",
       "      <td>C85</td>\n",
       "      <td>C</td>\n",
       "    </tr>\n",
       "    <tr>\n",
       "      <th>2</th>\n",
       "      <td>3</td>\n",
       "      <td>1</td>\n",
       "      <td>3</td>\n",
       "      <td>Heikkinen, Miss. Laina</td>\n",
       "      <td>female</td>\n",
       "      <td>26.0</td>\n",
       "      <td>0</td>\n",
       "      <td>0</td>\n",
       "      <td>STON/O2. 3101282</td>\n",
       "      <td>7.9250</td>\n",
       "      <td>NaN</td>\n",
       "      <td>S</td>\n",
       "    </tr>\n",
       "    <tr>\n",
       "      <th>3</th>\n",
       "      <td>4</td>\n",
       "      <td>1</td>\n",
       "      <td>1</td>\n",
       "      <td>Futrelle, Mrs. Jacques Heath (Lily May Peel)</td>\n",
       "      <td>female</td>\n",
       "      <td>35.0</td>\n",
       "      <td>1</td>\n",
       "      <td>0</td>\n",
       "      <td>113803</td>\n",
       "      <td>53.1000</td>\n",
       "      <td>C123</td>\n",
       "      <td>S</td>\n",
       "    </tr>\n",
       "    <tr>\n",
       "      <th>4</th>\n",
       "      <td>5</td>\n",
       "      <td>0</td>\n",
       "      <td>3</td>\n",
       "      <td>Allen, Mr. William Henry</td>\n",
       "      <td>male</td>\n",
       "      <td>35.0</td>\n",
       "      <td>0</td>\n",
       "      <td>0</td>\n",
       "      <td>373450</td>\n",
       "      <td>8.0500</td>\n",
       "      <td>NaN</td>\n",
       "      <td>S</td>\n",
       "    </tr>\n",
       "  </tbody>\n",
       "</table>\n",
       "</div>"
      ],
      "text/plain": [
       "   PassengerId  Survived  Pclass  \\\n",
       "0            1         0       3   \n",
       "1            2         1       1   \n",
       "2            3         1       3   \n",
       "3            4         1       1   \n",
       "4            5         0       3   \n",
       "\n",
       "                                                Name     Sex   Age  SibSp  \\\n",
       "0                            Braund, Mr. Owen Harris    male  22.0      1   \n",
       "1  Cumings, Mrs. John Bradley (Florence Briggs Th...  female  38.0      1   \n",
       "2                             Heikkinen, Miss. Laina  female  26.0      0   \n",
       "3       Futrelle, Mrs. Jacques Heath (Lily May Peel)  female  35.0      1   \n",
       "4                           Allen, Mr. William Henry    male  35.0      0   \n",
       "\n",
       "   Parch            Ticket     Fare Cabin Embarked  \n",
       "0      0         A/5 21171   7.2500   NaN        S  \n",
       "1      0          PC 17599  71.2833   C85        C  \n",
       "2      0  STON/O2. 3101282   7.9250   NaN        S  \n",
       "3      0            113803  53.1000  C123        S  \n",
       "4      0            373450   8.0500   NaN        S  "
      ]
     },
     "execution_count": 3,
     "metadata": {},
     "output_type": "execute_result"
    }
   ],
   "source": [
    "titanic= pd.read_csv('titanic.csv')\n",
    "\n",
    "titanic.head()"
   ]
  },
  {
   "cell_type": "code",
   "execution_count": 4,
   "id": "48851269",
   "metadata": {},
   "outputs": [
    {
     "data": {
      "text/plain": [
       "PassengerId      0\n",
       "Survived         0\n",
       "Pclass           0\n",
       "Name             0\n",
       "Sex              0\n",
       "Age            177\n",
       "SibSp            0\n",
       "Parch            0\n",
       "Ticket           0\n",
       "Fare             0\n",
       "Cabin          687\n",
       "Embarked         2\n",
       "dtype: int64"
      ]
     },
     "execution_count": 4,
     "metadata": {},
     "output_type": "execute_result"
    }
   ],
   "source": [
    "titanic.isnull().sum()"
   ]
  },
  {
   "cell_type": "code",
   "execution_count": 6,
   "id": "d7123c07",
   "metadata": {},
   "outputs": [
    {
     "data": {
      "text/plain": [
       "(891, 12)"
      ]
     },
     "execution_count": 6,
     "metadata": {},
     "output_type": "execute_result"
    }
   ],
   "source": [
    "titanic.shape"
   ]
  },
  {
   "cell_type": "code",
   "execution_count": 10,
   "id": "838a30a2",
   "metadata": {},
   "outputs": [
    {
     "data": {
      "text/plain": [
       "<AxesSubplot:>"
      ]
     },
     "execution_count": 10,
     "metadata": {},
     "output_type": "execute_result"
    },
    {
     "data": {
      "image/png": "[encoded data removed]",
      "text/plain": [
       "<Figure size 720x720 with 1 Axes>"
      ]
     },
     "metadata": {
      "needs_background": "light"
     },
     "output_type": "display_data"
    }
   ],
   "source": [
    "plt.figure(figsize=(10,10))\n",
    "\n",
    "sns.heatmap(titanic.isnull(), yticklabels=False, cbar=False, cmap='viridis')"
   ]
  },
  {
   "cell_type": "code",
   "execution_count": 12,
   "id": "845da98f",
   "metadata": {},
   "outputs": [
    {
     "data": {
      "text/plain": [
       "<AxesSubplot:xlabel='Survived', ylabel='count'>"
      ]
     },
     "execution_count": 12,
     "metadata": {},
     "output_type": "execute_result"
    },
    {
     "data": {
      "image/png": "[encoded data removed]",
      "text/plain": [
       "<Figure size 432x288 with 1 Axes>"
      ]
     },
     "metadata": {
      "needs_background": "light"
     },
     "output_type": "display_data"
    }
   ],
   "source": [
    "sns.countplot(x='Survived', data=titanic, palette=None)"
   ]
  },
  {
   "cell_type": "code",
   "execution_count": 13,
   "id": "cc70bb26",
   "metadata": {},
   "outputs": [
    {
     "data": {
      "text/plain": [
       "<AxesSubplot:xlabel='Survived', ylabel='count'>"
      ]
     },
     "execution_count": 13,
     "metadata": {},
     "output_type": "execute_result"
    },
    {
     "data": {
      "image/png": "[encoded data removed]",
      "text/plain": [
       "<Figure size 432x288 with 1 Axes>"
      ]
     },
     "metadata": {
      "needs_background": "light"
     },
     "output_type": "display_data"
    }
   ],
   "source": [
    "sns.countplot(x='Survived', hue='Pclass',data=titanic, palette=None)"
   ]
  },
  {
   "cell_type": "code",
   "execution_count": null,
   "id": "82399aa4",
   "metadata": {},
   "outputs": [],
   "source": [
    "sns.countplot(x='Survived', data=titanic, palette=None)"
   ]
  },
  {
   "cell_type": "code",
   "execution_count": 14,
   "id": "6c84eb89",
   "metadata": {},
   "outputs": [
    {
     "data": {
      "text/html": [
       "<div>\n",
       "<style scoped>\n",
       "    .dataframe tbody tr th:only-of-type {\n",
       "        vertical-align: middle;\n",
       "    }\n",
       "\n",
       "    .dataframe tbody tr th {\n",
       "        vertical-align: top;\n",
       "    }\n",
       "\n",
       "    .dataframe thead th {\n",
       "        text-align: right;\n",
       "    }\n",
       "</style>\n",
       "<table border=\"1\" class=\"dataframe\">\n",
       "  <thead>\n",
       "    <tr style=\"text-align: right;\">\n",
       "      <th></th>\n",
       "      <th>count</th>\n",
       "      <th>mean</th>\n",
       "      <th>std</th>\n",
       "      <th>min</th>\n",
       "      <th>25%</th>\n",
       "      <th>50%</th>\n",
       "      <th>75%</th>\n",
       "      <th>max</th>\n",
       "    </tr>\n",
       "    <tr>\n",
       "      <th>Pclass</th>\n",
       "      <th></th>\n",
       "      <th></th>\n",
       "      <th></th>\n",
       "      <th></th>\n",
       "      <th></th>\n",
       "      <th></th>\n",
       "      <th></th>\n",
       "      <th></th>\n",
       "    </tr>\n",
       "  </thead>\n",
       "  <tbody>\n",
       "    <tr>\n",
       "      <th>1</th>\n",
       "      <td>186.0</td>\n",
       "      <td>38.233441</td>\n",
       "      <td>14.802856</td>\n",
       "      <td>0.92</td>\n",
       "      <td>27.0</td>\n",
       "      <td>37.0</td>\n",
       "      <td>49.0</td>\n",
       "      <td>80.0</td>\n",
       "    </tr>\n",
       "    <tr>\n",
       "      <th>2</th>\n",
       "      <td>173.0</td>\n",
       "      <td>29.877630</td>\n",
       "      <td>14.001077</td>\n",
       "      <td>0.67</td>\n",
       "      <td>23.0</td>\n",
       "      <td>29.0</td>\n",
       "      <td>36.0</td>\n",
       "      <td>70.0</td>\n",
       "    </tr>\n",
       "    <tr>\n",
       "      <th>3</th>\n",
       "      <td>355.0</td>\n",
       "      <td>25.140620</td>\n",
       "      <td>12.495398</td>\n",
       "      <td>0.42</td>\n",
       "      <td>18.0</td>\n",
       "      <td>24.0</td>\n",
       "      <td>32.0</td>\n",
       "      <td>74.0</td>\n",
       "    </tr>\n",
       "  </tbody>\n",
       "</table>\n",
       "</div>"
      ],
      "text/plain": [
       "        count       mean        std   min   25%   50%   75%   max\n",
       "Pclass                                                           \n",
       "1       186.0  38.233441  14.802856  0.92  27.0  37.0  49.0  80.0\n",
       "2       173.0  29.877630  14.001077  0.67  23.0  29.0  36.0  70.0\n",
       "3       355.0  25.140620  12.495398  0.42  18.0  24.0  32.0  74.0"
      ]
     },
     "execution_count": 14,
     "metadata": {},
     "output_type": "execute_result"
    }
   ],
   "source": [
    "###deleting rows\n",
    "titanic.groupby('Pclass')['Age'].describe()"
   ]
  },
  {
   "cell_type": "code",
   "execution_count": 15,
   "id": "0c88b178",
   "metadata": {},
   "outputs": [],
   "source": [
    "def age_calculator(cols):\n",
    "    age_map = [38, 30, 25]\n",
    "    \n",
    "    age, pclass = cols[0], cols[1]\n",
    "    \n",
    "    if pd.isnull(age):\n",
    "        return age_map[int(pclass)-1]\n",
    "    else:\n",
    "        return age\n",
    "    "
   ]
  },
  {
   "cell_type": "code",
   "execution_count": null,
   "id": "47a6eaaa",
   "metadata": {},
   "outputs": [],
   "source": []
  },
  {
   "cell_type": "code",
   "execution_count": 16,
   "id": "55c5ca91",
   "metadata": {},
   "outputs": [],
   "source": [
    "titanic['Age']= titanic[['Age', 'Pclass']].apply(age_calculator, axis=1)"
   ]
  },
  {
   "cell_type": "code",
   "execution_count": 18,
   "id": "9220efe2",
   "metadata": {},
   "outputs": [],
   "source": [
    "titanic.drop('Cabin',axis=1, inplace=True)"
   ]
  },
  {
   "cell_type": "code",
   "execution_count": 20,
   "id": "78e92d7e",
   "metadata": {},
   "outputs": [],
   "source": [
    "titanic.dropna(inplace=True)"
   ]
  },
  {
   "cell_type": "code",
   "execution_count": 21,
   "id": "01ed0e5b",
   "metadata": {},
   "outputs": [
    {
     "data": {
      "text/plain": [
       "(202, 11)"
      ]
     },
     "execution_count": 21,
     "metadata": {},
     "output_type": "execute_result"
    }
   ],
   "source": [
    "titanic.shape"
   ]
  },
  {
   "cell_type": "code",
   "execution_count": 22,
   "id": "27db0cd2",
   "metadata": {},
   "outputs": [
    {
     "name": "stdout",
     "output_type": "stream",
     "text": [
      "<class 'pandas.core.frame.DataFrame'>\n",
      "Int64Index: 202 entries, 1 to 889\n",
      "Data columns (total 11 columns):\n",
      " #   Column       Non-Null Count  Dtype  \n",
      "---  ------       --------------  -----  \n",
      " 0   PassengerId  202 non-null    int64  \n",
      " 1   Survived     202 non-null    int64  \n",
      " 2   Pclass       202 non-null    int64  \n",
      " 3   Name         202 non-null    object \n",
      " 4   Sex          202 non-null    object \n",
      " 5   Age          202 non-null    float64\n",
      " 6   SibSp        202 non-null    int64  \n",
      " 7   Parch        202 non-null    int64  \n",
      " 8   Ticket       202 non-null    object \n",
      " 9   Fare         202 non-null    float64\n",
      " 10  Embarked     202 non-null    object \n",
      "dtypes: float64(2), int64(5), object(4)\n",
      "memory usage: 18.9+ KB\n"
     ]
    }
   ],
   "source": [
    "titanic.info()"
   ]
  },
  {
   "cell_type": "code",
   "execution_count": 23,
   "id": "0f41e698",
   "metadata": {},
   "outputs": [
    {
     "data": {
      "text/html": [
       "<div>\n",
       "<style scoped>\n",
       "    .dataframe tbody tr th:only-of-type {\n",
       "        vertical-align: middle;\n",
       "    }\n",
       "\n",
       "    .dataframe tbody tr th {\n",
       "        vertical-align: top;\n",
       "    }\n",
       "\n",
       "    .dataframe thead th {\n",
       "        text-align: right;\n",
       "    }\n",
       "</style>\n",
       "<table border=\"1\" class=\"dataframe\">\n",
       "  <thead>\n",
       "    <tr style=\"text-align: right;\">\n",
       "      <th></th>\n",
       "      <th>PassengerId</th>\n",
       "      <th>Survived</th>\n",
       "      <th>Pclass</th>\n",
       "      <th>Name</th>\n",
       "      <th>Sex</th>\n",
       "      <th>Age</th>\n",
       "      <th>SibSp</th>\n",
       "      <th>Parch</th>\n",
       "      <th>Ticket</th>\n",
       "      <th>Fare</th>\n",
       "      <th>Embarked</th>\n",
       "    </tr>\n",
       "  </thead>\n",
       "  <tbody>\n",
       "    <tr>\n",
       "      <th>1</th>\n",
       "      <td>2</td>\n",
       "      <td>1</td>\n",
       "      <td>1</td>\n",
       "      <td>Cumings, Mrs. John Bradley (Florence Briggs Th...</td>\n",
       "      <td>female</td>\n",
       "      <td>38.0</td>\n",
       "      <td>1</td>\n",
       "      <td>0</td>\n",
       "      <td>PC 17599</td>\n",
       "      <td>71.2833</td>\n",
       "      <td>C</td>\n",
       "    </tr>\n",
       "    <tr>\n",
       "      <th>3</th>\n",
       "      <td>4</td>\n",
       "      <td>1</td>\n",
       "      <td>1</td>\n",
       "      <td>Futrelle, Mrs. Jacques Heath (Lily May Peel)</td>\n",
       "      <td>female</td>\n",
       "      <td>35.0</td>\n",
       "      <td>1</td>\n",
       "      <td>0</td>\n",
       "      <td>113803</td>\n",
       "      <td>53.1000</td>\n",
       "      <td>S</td>\n",
       "    </tr>\n",
       "    <tr>\n",
       "      <th>6</th>\n",
       "      <td>7</td>\n",
       "      <td>0</td>\n",
       "      <td>1</td>\n",
       "      <td>McCarthy, Mr. Timothy J</td>\n",
       "      <td>male</td>\n",
       "      <td>54.0</td>\n",
       "      <td>0</td>\n",
       "      <td>0</td>\n",
       "      <td>17463</td>\n",
       "      <td>51.8625</td>\n",
       "      <td>S</td>\n",
       "    </tr>\n",
       "    <tr>\n",
       "      <th>10</th>\n",
       "      <td>11</td>\n",
       "      <td>1</td>\n",
       "      <td>3</td>\n",
       "      <td>Sandstrom, Miss. Marguerite Rut</td>\n",
       "      <td>female</td>\n",
       "      <td>4.0</td>\n",
       "      <td>1</td>\n",
       "      <td>1</td>\n",
       "      <td>PP 9549</td>\n",
       "      <td>16.7000</td>\n",
       "      <td>S</td>\n",
       "    </tr>\n",
       "    <tr>\n",
       "      <th>11</th>\n",
       "      <td>12</td>\n",
       "      <td>1</td>\n",
       "      <td>1</td>\n",
       "      <td>Bonnell, Miss. Elizabeth</td>\n",
       "      <td>female</td>\n",
       "      <td>58.0</td>\n",
       "      <td>0</td>\n",
       "      <td>0</td>\n",
       "      <td>113783</td>\n",
       "      <td>26.5500</td>\n",
       "      <td>S</td>\n",
       "    </tr>\n",
       "  </tbody>\n",
       "</table>\n",
       "</div>"
      ],
      "text/plain": [
       "    PassengerId  Survived  Pclass  \\\n",
       "1             2         1       1   \n",
       "3             4         1       1   \n",
       "6             7         0       1   \n",
       "10           11         1       3   \n",
       "11           12         1       1   \n",
       "\n",
       "                                                 Name     Sex   Age  SibSp  \\\n",
       "1   Cumings, Mrs. John Bradley (Florence Briggs Th...  female  38.0      1   \n",
       "3        Futrelle, Mrs. Jacques Heath (Lily May Peel)  female  35.0      1   \n",
       "6                             McCarthy, Mr. Timothy J    male  54.0      0   \n",
       "10                    Sandstrom, Miss. Marguerite Rut  female   4.0      1   \n",
       "11                           Bonnell, Miss. Elizabeth  female  58.0      0   \n",
       "\n",
       "    Parch    Ticket     Fare Embarked  \n",
       "1       0  PC 17599  71.2833        C  \n",
       "3       0    113803  53.1000        S  \n",
       "6       0     17463  51.8625        S  \n",
       "10      1   PP 9549  16.7000        S  \n",
       "11      0    113783  26.5500        S  "
      ]
     },
     "execution_count": 23,
     "metadata": {},
     "output_type": "execute_result"
    }
   ],
   "source": [
    "#feature engineering\n",
    "\n",
    "titanic.head()"
   ]
  },
  {
   "cell_type": "code",
   "execution_count": 25,
   "id": "0445b334",
   "metadata": {},
   "outputs": [
    {
     "data": {
      "text/html": [
       "<div>\n",
       "<style scoped>\n",
       "    .dataframe tbody tr th:only-of-type {\n",
       "        vertical-align: middle;\n",
       "    }\n",
       "\n",
       "    .dataframe tbody tr th {\n",
       "        vertical-align: top;\n",
       "    }\n",
       "\n",
       "    .dataframe thead th {\n",
       "        text-align: right;\n",
       "    }\n",
       "</style>\n",
       "<table border=\"1\" class=\"dataframe\">\n",
       "  <thead>\n",
       "    <tr style=\"text-align: right;\">\n",
       "      <th></th>\n",
       "      <th>male</th>\n",
       "    </tr>\n",
       "  </thead>\n",
       "  <tbody>\n",
       "    <tr>\n",
       "      <th>1</th>\n",
       "      <td>0</td>\n",
       "    </tr>\n",
       "    <tr>\n",
       "      <th>3</th>\n",
       "      <td>0</td>\n",
       "    </tr>\n",
       "    <tr>\n",
       "      <th>6</th>\n",
       "      <td>1</td>\n",
       "    </tr>\n",
       "    <tr>\n",
       "      <th>10</th>\n",
       "      <td>0</td>\n",
       "    </tr>\n",
       "    <tr>\n",
       "      <th>11</th>\n",
       "      <td>0</td>\n",
       "    </tr>\n",
       "    <tr>\n",
       "      <th>...</th>\n",
       "      <td>...</td>\n",
       "    </tr>\n",
       "    <tr>\n",
       "      <th>871</th>\n",
       "      <td>0</td>\n",
       "    </tr>\n",
       "    <tr>\n",
       "      <th>872</th>\n",
       "      <td>1</td>\n",
       "    </tr>\n",
       "    <tr>\n",
       "      <th>879</th>\n",
       "      <td>0</td>\n",
       "    </tr>\n",
       "    <tr>\n",
       "      <th>887</th>\n",
       "      <td>0</td>\n",
       "    </tr>\n",
       "    <tr>\n",
       "      <th>889</th>\n",
       "      <td>1</td>\n",
       "    </tr>\n",
       "  </tbody>\n",
       "</table>\n",
       "<p>202 rows × 1 columns</p>\n",
       "</div>"
      ],
      "text/plain": [
       "     male\n",
       "1       0\n",
       "3       0\n",
       "6       1\n",
       "10      0\n",
       "11      0\n",
       "..    ...\n",
       "871     0\n",
       "872     1\n",
       "879     0\n",
       "887     0\n",
       "889     1\n",
       "\n",
       "[202 rows x 1 columns]"
      ]
     },
     "execution_count": 25,
     "metadata": {},
     "output_type": "execute_result"
    }
   ],
   "source": [
    "gender = pd.get_dummies(titanic['Sex'], drop_first=True)\n",
    "\n",
    "gender"
   ]
  },
  {
   "cell_type": "code",
   "execution_count": 27,
   "id": "e76b2491",
   "metadata": {},
   "outputs": [
    {
     "data": {
      "text/html": [
       "<div>\n",
       "<style scoped>\n",
       "    .dataframe tbody tr th:only-of-type {\n",
       "        vertical-align: middle;\n",
       "    }\n",
       "\n",
       "    .dataframe tbody tr th {\n",
       "        vertical-align: top;\n",
       "    }\n",
       "\n",
       "    .dataframe thead th {\n",
       "        text-align: right;\n",
       "    }\n",
       "</style>\n",
       "<table border=\"1\" class=\"dataframe\">\n",
       "  <thead>\n",
       "    <tr style=\"text-align: right;\">\n",
       "      <th></th>\n",
       "      <th>Q</th>\n",
       "      <th>S</th>\n",
       "    </tr>\n",
       "  </thead>\n",
       "  <tbody>\n",
       "    <tr>\n",
       "      <th>1</th>\n",
       "      <td>0</td>\n",
       "      <td>0</td>\n",
       "    </tr>\n",
       "    <tr>\n",
       "      <th>3</th>\n",
       "      <td>0</td>\n",
       "      <td>1</td>\n",
       "    </tr>\n",
       "    <tr>\n",
       "      <th>6</th>\n",
       "      <td>0</td>\n",
       "      <td>1</td>\n",
       "    </tr>\n",
       "    <tr>\n",
       "      <th>10</th>\n",
       "      <td>0</td>\n",
       "      <td>1</td>\n",
       "    </tr>\n",
       "    <tr>\n",
       "      <th>11</th>\n",
       "      <td>0</td>\n",
       "      <td>1</td>\n",
       "    </tr>\n",
       "    <tr>\n",
       "      <th>...</th>\n",
       "      <td>...</td>\n",
       "      <td>...</td>\n",
       "    </tr>\n",
       "    <tr>\n",
       "      <th>871</th>\n",
       "      <td>0</td>\n",
       "      <td>1</td>\n",
       "    </tr>\n",
       "    <tr>\n",
       "      <th>872</th>\n",
       "      <td>0</td>\n",
       "      <td>1</td>\n",
       "    </tr>\n",
       "    <tr>\n",
       "      <th>879</th>\n",
       "      <td>0</td>\n",
       "      <td>0</td>\n",
       "    </tr>\n",
       "    <tr>\n",
       "      <th>887</th>\n",
       "      <td>0</td>\n",
       "      <td>1</td>\n",
       "    </tr>\n",
       "    <tr>\n",
       "      <th>889</th>\n",
       "      <td>0</td>\n",
       "      <td>0</td>\n",
       "    </tr>\n",
       "  </tbody>\n",
       "</table>\n",
       "<p>202 rows × 2 columns</p>\n",
       "</div>"
      ],
      "text/plain": [
       "     Q  S\n",
       "1    0  0\n",
       "3    0  1\n",
       "6    0  1\n",
       "10   0  1\n",
       "11   0  1\n",
       "..  .. ..\n",
       "871  0  1\n",
       "872  0  1\n",
       "879  0  0\n",
       "887  0  1\n",
       "889  0  0\n",
       "\n",
       "[202 rows x 2 columns]"
      ]
     },
     "execution_count": 27,
     "metadata": {},
     "output_type": "execute_result"
    }
   ],
   "source": [
    "embark = pd.get_dummies(titanic['Embarked'], drop_first=True)\n",
    "\n",
    "embark"
   ]
  },
  {
   "cell_type": "code",
   "execution_count": 28,
   "id": "77f6c67d",
   "metadata": {},
   "outputs": [
    {
     "data": {
      "text/html": [
       "<div>\n",
       "<style scoped>\n",
       "    .dataframe tbody tr th:only-of-type {\n",
       "        vertical-align: middle;\n",
       "    }\n",
       "\n",
       "    .dataframe tbody tr th {\n",
       "        vertical-align: top;\n",
       "    }\n",
       "\n",
       "    .dataframe thead th {\n",
       "        text-align: right;\n",
       "    }\n",
       "</style>\n",
       "<table border=\"1\" class=\"dataframe\">\n",
       "  <thead>\n",
       "    <tr style=\"text-align: right;\">\n",
       "      <th></th>\n",
       "      <th>SibSp_0</th>\n",
       "      <th>SibSp_1</th>\n",
       "      <th>SibSp_2</th>\n",
       "      <th>SibSp_3</th>\n",
       "    </tr>\n",
       "  </thead>\n",
       "  <tbody>\n",
       "    <tr>\n",
       "      <th>1</th>\n",
       "      <td>0</td>\n",
       "      <td>1</td>\n",
       "      <td>0</td>\n",
       "      <td>0</td>\n",
       "    </tr>\n",
       "    <tr>\n",
       "      <th>3</th>\n",
       "      <td>0</td>\n",
       "      <td>1</td>\n",
       "      <td>0</td>\n",
       "      <td>0</td>\n",
       "    </tr>\n",
       "    <tr>\n",
       "      <th>6</th>\n",
       "      <td>1</td>\n",
       "      <td>0</td>\n",
       "      <td>0</td>\n",
       "      <td>0</td>\n",
       "    </tr>\n",
       "    <tr>\n",
       "      <th>10</th>\n",
       "      <td>0</td>\n",
       "      <td>1</td>\n",
       "      <td>0</td>\n",
       "      <td>0</td>\n",
       "    </tr>\n",
       "    <tr>\n",
       "      <th>11</th>\n",
       "      <td>1</td>\n",
       "      <td>0</td>\n",
       "      <td>0</td>\n",
       "      <td>0</td>\n",
       "    </tr>\n",
       "    <tr>\n",
       "      <th>...</th>\n",
       "      <td>...</td>\n",
       "      <td>...</td>\n",
       "      <td>...</td>\n",
       "      <td>...</td>\n",
       "    </tr>\n",
       "    <tr>\n",
       "      <th>871</th>\n",
       "      <td>0</td>\n",
       "      <td>1</td>\n",
       "      <td>0</td>\n",
       "      <td>0</td>\n",
       "    </tr>\n",
       "    <tr>\n",
       "      <th>872</th>\n",
       "      <td>1</td>\n",
       "      <td>0</td>\n",
       "      <td>0</td>\n",
       "      <td>0</td>\n",
       "    </tr>\n",
       "    <tr>\n",
       "      <th>879</th>\n",
       "      <td>1</td>\n",
       "      <td>0</td>\n",
       "      <td>0</td>\n",
       "      <td>0</td>\n",
       "    </tr>\n",
       "    <tr>\n",
       "      <th>887</th>\n",
       "      <td>1</td>\n",
       "      <td>0</td>\n",
       "      <td>0</td>\n",
       "      <td>0</td>\n",
       "    </tr>\n",
       "    <tr>\n",
       "      <th>889</th>\n",
       "      <td>1</td>\n",
       "      <td>0</td>\n",
       "      <td>0</td>\n",
       "      <td>0</td>\n",
       "    </tr>\n",
       "  </tbody>\n",
       "</table>\n",
       "<p>202 rows × 4 columns</p>\n",
       "</div>"
      ],
      "text/plain": [
       "     SibSp_0  SibSp_1  SibSp_2  SibSp_3\n",
       "1          0        1        0        0\n",
       "3          0        1        0        0\n",
       "6          1        0        0        0\n",
       "10         0        1        0        0\n",
       "11         1        0        0        0\n",
       "..       ...      ...      ...      ...\n",
       "871        0        1        0        0\n",
       "872        1        0        0        0\n",
       "879        1        0        0        0\n",
       "887        1        0        0        0\n",
       "889        1        0        0        0\n",
       "\n",
       "[202 rows x 4 columns]"
      ]
     },
     "execution_count": 28,
     "metadata": {},
     "output_type": "execute_result"
    }
   ],
   "source": [
    "sibsp = pd.get_dummies(titanic['SibSp'], prefix= 'SibSp')\n",
    "\n",
    "sibsp"
   ]
  },
  {
   "cell_type": "code",
   "execution_count": 29,
   "id": "8134b6a2",
   "metadata": {},
   "outputs": [
    {
     "data": {
      "text/html": [
       "<div>\n",
       "<style scoped>\n",
       "    .dataframe tbody tr th:only-of-type {\n",
       "        vertical-align: middle;\n",
       "    }\n",
       "\n",
       "    .dataframe tbody tr th {\n",
       "        vertical-align: top;\n",
       "    }\n",
       "\n",
       "    .dataframe thead th {\n",
       "        text-align: right;\n",
       "    }\n",
       "</style>\n",
       "<table border=\"1\" class=\"dataframe\">\n",
       "  <thead>\n",
       "    <tr style=\"text-align: right;\">\n",
       "      <th></th>\n",
       "      <th>Parch_0</th>\n",
       "      <th>Parch_1</th>\n",
       "      <th>Parch_2</th>\n",
       "      <th>Parch_4</th>\n",
       "    </tr>\n",
       "  </thead>\n",
       "  <tbody>\n",
       "    <tr>\n",
       "      <th>1</th>\n",
       "      <td>1</td>\n",
       "      <td>0</td>\n",
       "      <td>0</td>\n",
       "      <td>0</td>\n",
       "    </tr>\n",
       "    <tr>\n",
       "      <th>3</th>\n",
       "      <td>1</td>\n",
       "      <td>0</td>\n",
       "      <td>0</td>\n",
       "      <td>0</td>\n",
       "    </tr>\n",
       "    <tr>\n",
       "      <th>6</th>\n",
       "      <td>1</td>\n",
       "      <td>0</td>\n",
       "      <td>0</td>\n",
       "      <td>0</td>\n",
       "    </tr>\n",
       "    <tr>\n",
       "      <th>10</th>\n",
       "      <td>0</td>\n",
       "      <td>1</td>\n",
       "      <td>0</td>\n",
       "      <td>0</td>\n",
       "    </tr>\n",
       "    <tr>\n",
       "      <th>11</th>\n",
       "      <td>1</td>\n",
       "      <td>0</td>\n",
       "      <td>0</td>\n",
       "      <td>0</td>\n",
       "    </tr>\n",
       "    <tr>\n",
       "      <th>...</th>\n",
       "      <td>...</td>\n",
       "      <td>...</td>\n",
       "      <td>...</td>\n",
       "      <td>...</td>\n",
       "    </tr>\n",
       "    <tr>\n",
       "      <th>871</th>\n",
       "      <td>0</td>\n",
       "      <td>1</td>\n",
       "      <td>0</td>\n",
       "      <td>0</td>\n",
       "    </tr>\n",
       "    <tr>\n",
       "      <th>872</th>\n",
       "      <td>1</td>\n",
       "      <td>0</td>\n",
       "      <td>0</td>\n",
       "      <td>0</td>\n",
       "    </tr>\n",
       "    <tr>\n",
       "      <th>879</th>\n",
       "      <td>0</td>\n",
       "      <td>1</td>\n",
       "      <td>0</td>\n",
       "      <td>0</td>\n",
       "    </tr>\n",
       "    <tr>\n",
       "      <th>887</th>\n",
       "      <td>1</td>\n",
       "      <td>0</td>\n",
       "      <td>0</td>\n",
       "      <td>0</td>\n",
       "    </tr>\n",
       "    <tr>\n",
       "      <th>889</th>\n",
       "      <td>1</td>\n",
       "      <td>0</td>\n",
       "      <td>0</td>\n",
       "      <td>0</td>\n",
       "    </tr>\n",
       "  </tbody>\n",
       "</table>\n",
       "<p>202 rows × 4 columns</p>\n",
       "</div>"
      ],
      "text/plain": [
       "     Parch_0  Parch_1  Parch_2  Parch_4\n",
       "1          1        0        0        0\n",
       "3          1        0        0        0\n",
       "6          1        0        0        0\n",
       "10         0        1        0        0\n",
       "11         1        0        0        0\n",
       "..       ...      ...      ...      ...\n",
       "871        0        1        0        0\n",
       "872        1        0        0        0\n",
       "879        0        1        0        0\n",
       "887        1        0        0        0\n",
       "889        1        0        0        0\n",
       "\n",
       "[202 rows x 4 columns]"
      ]
     },
     "execution_count": 29,
     "metadata": {},
     "output_type": "execute_result"
    }
   ],
   "source": [
    "Parch = pd.get_dummies(titanic['Parch'], prefix= 'Parch')\n",
    "\n",
    "Parch"
   ]
  },
  {
   "cell_type": "code",
   "execution_count": 30,
   "id": "3617ce92",
   "metadata": {},
   "outputs": [
    {
     "data": {
      "text/plain": [
       "Index(['PassengerId', 'Survived', 'Pclass', 'Name', 'Sex', 'Age', 'SibSp',\n",
       "       'Parch', 'Ticket', 'Fare', 'Embarked'],\n",
       "      dtype='object')"
      ]
     },
     "execution_count": 30,
     "metadata": {},
     "output_type": "execute_result"
    }
   ],
   "source": [
    "titanic.columns"
   ]
  },
  {
   "cell_type": "code",
   "execution_count": 33,
   "id": "f2fb9c9e",
   "metadata": {},
   "outputs": [
    {
     "ename": "KeyError",
     "evalue": "\"['PassengerId', 'Name', 'Sex', 'SibSp', 'Parch', 'Ticket', 'Embarked'] not found in axis\"",
     "output_type": "error",
     "traceback": [
      "\u001b[1;31m---------------------------------------------------------------------------\u001b[0m",
      "\u001b[1;31mKeyError\u001b[0m                                  Traceback (most recent call last)",
      "Input \u001b[1;32mIn [33]\u001b[0m, in \u001b[0;36m<cell line: 1>\u001b[1;34m()\u001b[0m\n\u001b[1;32m----> 1\u001b[0m titanic \u001b[38;5;241m=\u001b[39m \u001b[43mtitanic\u001b[49m\u001b[38;5;241;43m.\u001b[39;49m\u001b[43mdrop\u001b[49m\u001b[43m(\u001b[49m\u001b[43m[\u001b[49m\u001b[38;5;124;43m'\u001b[39;49m\u001b[38;5;124;43mPassengerId\u001b[39;49m\u001b[38;5;124;43m'\u001b[39;49m\u001b[43m,\u001b[49m\u001b[43m \u001b[49m\u001b[38;5;124;43m'\u001b[39;49m\u001b[38;5;124;43mName\u001b[39;49m\u001b[38;5;124;43m'\u001b[39;49m\u001b[43m,\u001b[49m\u001b[43m \u001b[49m\u001b[38;5;124;43m'\u001b[39;49m\u001b[38;5;124;43mSex\u001b[39;49m\u001b[38;5;124;43m'\u001b[39;49m\u001b[43m,\u001b[49m\u001b[43m \u001b[49m\u001b[38;5;124;43m'\u001b[39;49m\u001b[38;5;124;43mSibSp\u001b[39;49m\u001b[38;5;124;43m'\u001b[39;49m\u001b[43m,\u001b[49m\n\u001b[0;32m      2\u001b[0m \u001b[43m       \u001b[49m\u001b[38;5;124;43m'\u001b[39;49m\u001b[38;5;124;43mParch\u001b[39;49m\u001b[38;5;124;43m'\u001b[39;49m\u001b[43m,\u001b[49m\u001b[43m \u001b[49m\u001b[38;5;124;43m'\u001b[39;49m\u001b[38;5;124;43mTicket\u001b[39;49m\u001b[38;5;124;43m'\u001b[39;49m\u001b[43m \u001b[49m\u001b[43m,\u001b[49m\u001b[43m \u001b[49m\u001b[38;5;124;43m'\u001b[39;49m\u001b[38;5;124;43mEmbarked\u001b[39;49m\u001b[38;5;124;43m'\u001b[39;49m\u001b[43m]\u001b[49m\u001b[43m)\u001b[49m\n\u001b[0;32m      4\u001b[0m titanic\u001b[38;5;241m.\u001b[39mhead()\n",
      "File \u001b[1;32m~\\anaconda3\\lib\\site-packages\\pandas\\util\\_decorators.py:311\u001b[0m, in \u001b[0;36mdeprecate_nonkeyword_arguments.<locals>.decorate.<locals>.wrapper\u001b[1;34m(*args, **kwargs)\u001b[0m\n\u001b[0;32m    305\u001b[0m \u001b[38;5;28;01mif\u001b[39;00m \u001b[38;5;28mlen\u001b[39m(args) \u001b[38;5;241m>\u001b[39m num_allow_args:\n\u001b[0;32m    306\u001b[0m     warnings\u001b[38;5;241m.\u001b[39mwarn(\n\u001b[0;32m    307\u001b[0m         msg\u001b[38;5;241m.\u001b[39mformat(arguments\u001b[38;5;241m=\u001b[39marguments),\n\u001b[0;32m    308\u001b[0m         \u001b[38;5;167;01mFutureWarning\u001b[39;00m,\n\u001b[0;32m    309\u001b[0m         stacklevel\u001b[38;5;241m=\u001b[39mstacklevel,\n\u001b[0;32m    310\u001b[0m     )\n\u001b[1;32m--> 311\u001b[0m \u001b[38;5;28;01mreturn\u001b[39;00m func(\u001b[38;5;241m*\u001b[39margs, \u001b[38;5;241m*\u001b[39m\u001b[38;5;241m*\u001b[39mkwargs)\n",
      "File \u001b[1;32m~\\anaconda3\\lib\\site-packages\\pandas\\core\\frame.py:4954\u001b[0m, in \u001b[0;36mDataFrame.drop\u001b[1;34m(self, labels, axis, index, columns, level, inplace, errors)\u001b[0m\n\u001b[0;32m   4806\u001b[0m \u001b[38;5;129m@deprecate_nonkeyword_arguments\u001b[39m(version\u001b[38;5;241m=\u001b[39m\u001b[38;5;28;01mNone\u001b[39;00m, allowed_args\u001b[38;5;241m=\u001b[39m[\u001b[38;5;124m\"\u001b[39m\u001b[38;5;124mself\u001b[39m\u001b[38;5;124m\"\u001b[39m, \u001b[38;5;124m\"\u001b[39m\u001b[38;5;124mlabels\u001b[39m\u001b[38;5;124m\"\u001b[39m])\n\u001b[0;32m   4807\u001b[0m \u001b[38;5;28;01mdef\u001b[39;00m \u001b[38;5;21mdrop\u001b[39m(\n\u001b[0;32m   4808\u001b[0m     \u001b[38;5;28mself\u001b[39m,\n\u001b[1;32m   (...)\u001b[0m\n\u001b[0;32m   4815\u001b[0m     errors: \u001b[38;5;28mstr\u001b[39m \u001b[38;5;241m=\u001b[39m \u001b[38;5;124m\"\u001b[39m\u001b[38;5;124mraise\u001b[39m\u001b[38;5;124m\"\u001b[39m,\n\u001b[0;32m   4816\u001b[0m ):\n\u001b[0;32m   4817\u001b[0m     \u001b[38;5;124;03m\"\"\"\u001b[39;00m\n\u001b[0;32m   4818\u001b[0m \u001b[38;5;124;03m    Drop specified labels from rows or columns.\u001b[39;00m\n\u001b[0;32m   4819\u001b[0m \n\u001b[1;32m   (...)\u001b[0m\n\u001b[0;32m   4952\u001b[0m \u001b[38;5;124;03m            weight  1.0     0.8\u001b[39;00m\n\u001b[0;32m   4953\u001b[0m \u001b[38;5;124;03m    \"\"\"\u001b[39;00m\n\u001b[1;32m-> 4954\u001b[0m     \u001b[38;5;28;01mreturn\u001b[39;00m \u001b[38;5;28;43msuper\u001b[39;49m\u001b[43m(\u001b[49m\u001b[43m)\u001b[49m\u001b[38;5;241;43m.\u001b[39;49m\u001b[43mdrop\u001b[49m\u001b[43m(\u001b[49m\n\u001b[0;32m   4955\u001b[0m \u001b[43m        \u001b[49m\u001b[43mlabels\u001b[49m\u001b[38;5;241;43m=\u001b[39;49m\u001b[43mlabels\u001b[49m\u001b[43m,\u001b[49m\n\u001b[0;32m   4956\u001b[0m \u001b[43m        \u001b[49m\u001b[43maxis\u001b[49m\u001b[38;5;241;43m=\u001b[39;49m\u001b[43maxis\u001b[49m\u001b[43m,\u001b[49m\n\u001b[0;32m   4957\u001b[0m \u001b[43m        \u001b[49m\u001b[43mindex\u001b[49m\u001b[38;5;241;43m=\u001b[39;49m\u001b[43mindex\u001b[49m\u001b[43m,\u001b[49m\n\u001b[0;32m   4958\u001b[0m \u001b[43m        \u001b[49m\u001b[43mcolumns\u001b[49m\u001b[38;5;241;43m=\u001b[39;49m\u001b[43mcolumns\u001b[49m\u001b[43m,\u001b[49m\n\u001b[0;32m   4959\u001b[0m \u001b[43m        \u001b[49m\u001b[43mlevel\u001b[49m\u001b[38;5;241;43m=\u001b[39;49m\u001b[43mlevel\u001b[49m\u001b[43m,\u001b[49m\n\u001b[0;32m   4960\u001b[0m \u001b[43m        \u001b[49m\u001b[43minplace\u001b[49m\u001b[38;5;241;43m=\u001b[39;49m\u001b[43minplace\u001b[49m\u001b[43m,\u001b[49m\n\u001b[0;32m   4961\u001b[0m \u001b[43m        \u001b[49m\u001b[43merrors\u001b[49m\u001b[38;5;241;43m=\u001b[39;49m\u001b[43merrors\u001b[49m\u001b[43m,\u001b[49m\n\u001b[0;32m   4962\u001b[0m \u001b[43m    \u001b[49m\u001b[43m)\u001b[49m\n",
      "File \u001b[1;32m~\\anaconda3\\lib\\site-packages\\pandas\\core\\generic.py:4267\u001b[0m, in \u001b[0;36mNDFrame.drop\u001b[1;34m(self, labels, axis, index, columns, level, inplace, errors)\u001b[0m\n\u001b[0;32m   4265\u001b[0m \u001b[38;5;28;01mfor\u001b[39;00m axis, labels \u001b[38;5;129;01min\u001b[39;00m axes\u001b[38;5;241m.\u001b[39mitems():\n\u001b[0;32m   4266\u001b[0m     \u001b[38;5;28;01mif\u001b[39;00m labels \u001b[38;5;129;01mis\u001b[39;00m \u001b[38;5;129;01mnot\u001b[39;00m \u001b[38;5;28;01mNone\u001b[39;00m:\n\u001b[1;32m-> 4267\u001b[0m         obj \u001b[38;5;241m=\u001b[39m \u001b[43mobj\u001b[49m\u001b[38;5;241;43m.\u001b[39;49m\u001b[43m_drop_axis\u001b[49m\u001b[43m(\u001b[49m\u001b[43mlabels\u001b[49m\u001b[43m,\u001b[49m\u001b[43m \u001b[49m\u001b[43maxis\u001b[49m\u001b[43m,\u001b[49m\u001b[43m \u001b[49m\u001b[43mlevel\u001b[49m\u001b[38;5;241;43m=\u001b[39;49m\u001b[43mlevel\u001b[49m\u001b[43m,\u001b[49m\u001b[43m \u001b[49m\u001b[43merrors\u001b[49m\u001b[38;5;241;43m=\u001b[39;49m\u001b[43merrors\u001b[49m\u001b[43m)\u001b[49m\n\u001b[0;32m   4269\u001b[0m \u001b[38;5;28;01mif\u001b[39;00m inplace:\n\u001b[0;32m   4270\u001b[0m     \u001b[38;5;28mself\u001b[39m\u001b[38;5;241m.\u001b[39m_update_inplace(obj)\n",
      "File \u001b[1;32m~\\anaconda3\\lib\\site-packages\\pandas\\core\\generic.py:4311\u001b[0m, in \u001b[0;36mNDFrame._drop_axis\u001b[1;34m(self, labels, axis, level, errors, consolidate, only_slice)\u001b[0m\n\u001b[0;32m   4309\u001b[0m         new_axis \u001b[38;5;241m=\u001b[39m axis\u001b[38;5;241m.\u001b[39mdrop(labels, level\u001b[38;5;241m=\u001b[39mlevel, errors\u001b[38;5;241m=\u001b[39merrors)\n\u001b[0;32m   4310\u001b[0m     \u001b[38;5;28;01melse\u001b[39;00m:\n\u001b[1;32m-> 4311\u001b[0m         new_axis \u001b[38;5;241m=\u001b[39m \u001b[43maxis\u001b[49m\u001b[38;5;241;43m.\u001b[39;49m\u001b[43mdrop\u001b[49m\u001b[43m(\u001b[49m\u001b[43mlabels\u001b[49m\u001b[43m,\u001b[49m\u001b[43m \u001b[49m\u001b[43merrors\u001b[49m\u001b[38;5;241;43m=\u001b[39;49m\u001b[43merrors\u001b[49m\u001b[43m)\u001b[49m\n\u001b[0;32m   4312\u001b[0m     indexer \u001b[38;5;241m=\u001b[39m axis\u001b[38;5;241m.\u001b[39mget_indexer(new_axis)\n\u001b[0;32m   4314\u001b[0m \u001b[38;5;66;03m# Case for non-unique axis\u001b[39;00m\n\u001b[0;32m   4315\u001b[0m \u001b[38;5;28;01melse\u001b[39;00m:\n",
      "File \u001b[1;32m~\\anaconda3\\lib\\site-packages\\pandas\\core\\indexes\\base.py:6644\u001b[0m, in \u001b[0;36mIndex.drop\u001b[1;34m(self, labels, errors)\u001b[0m\n\u001b[0;32m   6642\u001b[0m \u001b[38;5;28;01mif\u001b[39;00m mask\u001b[38;5;241m.\u001b[39many():\n\u001b[0;32m   6643\u001b[0m     \u001b[38;5;28;01mif\u001b[39;00m errors \u001b[38;5;241m!=\u001b[39m \u001b[38;5;124m\"\u001b[39m\u001b[38;5;124mignore\u001b[39m\u001b[38;5;124m\"\u001b[39m:\n\u001b[1;32m-> 6644\u001b[0m         \u001b[38;5;28;01mraise\u001b[39;00m \u001b[38;5;167;01mKeyError\u001b[39;00m(\u001b[38;5;124mf\u001b[39m\u001b[38;5;124m\"\u001b[39m\u001b[38;5;132;01m{\u001b[39;00m\u001b[38;5;28mlist\u001b[39m(labels[mask])\u001b[38;5;132;01m}\u001b[39;00m\u001b[38;5;124m not found in axis\u001b[39m\u001b[38;5;124m\"\u001b[39m)\n\u001b[0;32m   6645\u001b[0m     indexer \u001b[38;5;241m=\u001b[39m indexer[\u001b[38;5;241m~\u001b[39mmask]\n\u001b[0;32m   6646\u001b[0m \u001b[38;5;28;01mreturn\u001b[39;00m \u001b[38;5;28mself\u001b[39m\u001b[38;5;241m.\u001b[39mdelete(indexer)\n",
      "\u001b[1;31mKeyError\u001b[0m: \"['PassengerId', 'Name', 'Sex', 'SibSp', 'Parch', 'Ticket', 'Embarked'] not found in axis\""
     ]
    }
   ],
   "source": [
    "titanic = titanic.drop(['PassengerId', 'Name', 'Sex', 'SibSp',\n",
    "       'Parch', 'Ticket' , 'Embarked'])\n",
    "                       \n",
    "titanic.head()                    \n",
    "      "
   ]
  },
  {
   "cell_type": "code",
   "execution_count": 35,
   "id": "bbdbce4d",
   "metadata": {},
   "outputs": [
    {
     "ename": "NameError",
     "evalue": "name 'parch' is not defined",
     "output_type": "error",
     "traceback": [
      "\u001b[1;31m---------------------------------------------------------------------------\u001b[0m",
      "\u001b[1;31mNameError\u001b[0m                                 Traceback (most recent call last)",
      "Input \u001b[1;32mIn [35]\u001b[0m, in \u001b[0;36m<cell line: 1>\u001b[1;34m()\u001b[0m\n\u001b[1;32m----> 1\u001b[0m titanic \u001b[38;5;241m=\u001b[39m pd\u001b[38;5;241m.\u001b[39mconcat([titanic,gender,embark,sibsp,\u001b[43mparch\u001b[49m],axis\u001b[38;5;241m=\u001b[39m\u001b[38;5;241m1\u001b[39m)\n\u001b[0;32m      2\u001b[0m titanic\u001b[38;5;241m.\u001b[39mhead()\n",
      "\u001b[1;31mNameError\u001b[0m: name 'parch' is not defined"
     ]
    }
   ],
   "source": [
    "titanic = pd.concat([titanic,gender,embark,sibsp,parch],axis=1)\n",
    "titanic.head()"
   ]
  },
  {
   "cell_type": "code",
   "execution_count": null,
   "id": "5815957d",
   "metadata": {},
   "outputs": [],
   "source": []
  }
 ],
 "metadata": {
  "kernelspec": {
   "display_name": "Python 3 (ipykernel)",
   "language": "python",
   "name": "python3"
  },
  "language_info": {
   "codemirror_mode": {
    "name": "ipython",
    "version": 3
   },
   "file_extension": ".py",
   "mimetype": "text/x-python",
   "name": "python",
   "nbconvert_exporter": "python",
   "pygments_lexer": "ipython3",
   "version": "3.9.12"
  }
 },
 "nbformat": 4,
 "nbformat_minor": 5
}
