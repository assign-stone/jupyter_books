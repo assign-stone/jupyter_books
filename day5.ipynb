{
 "cells": [
  {
   "cell_type": "code",
   "execution_count": 1,
   "id": "07bfdd22",
   "metadata": {},
   "outputs": [],
   "source": [
    "# List Methods"
   ]
  },
  {
   "cell_type": "code",
   "execution_count": 2,
   "id": "7efa033f",
   "metadata": {},
   "outputs": [],
   "source": [
    "l1 = [1,2,3,'45', 'abcd']"
   ]
  },
  {
   "cell_type": "code",
   "execution_count": 3,
   "id": "ed17d626",
   "metadata": {},
   "outputs": [
    {
     "data": {
      "text/plain": [
       "5"
      ]
     },
     "execution_count": 3,
     "metadata": {},
     "output_type": "execute_result"
    }
   ],
   "source": [
    "len(l1)"
   ]
  },
  {
   "cell_type": "code",
   "execution_count": null,
   "id": "71f87d91",
   "metadata": {},
   "outputs": [
    {
     "data": {
      "text/plain": [
       "1"
      ]
     },
     "execution_count": 6,
     "metadata": {},
     "output_type": "execute_result"
    }
   ],
   "source": [
    "int(l1[3])%2"
   ]
  },
  {
   "cell_type": "code",
   "execution_count": 8,
   "id": "d103adf6",
   "metadata": {},
   "outputs": [
    {
     "data": {
      "text/plain": [
       "45"
      ]
     },
     "execution_count": 8,
     "metadata": {},
     "output_type": "execute_result"
    }
   ],
   "source": [
    "int(l1[-2])"
   ]
  },
  {
   "cell_type": "code",
   "execution_count": 10,
   "id": "5554baf3",
   "metadata": {},
   "outputs": [
    {
     "data": {
      "text/plain": [
       "4"
      ]
     },
     "execution_count": 10,
     "metadata": {},
     "output_type": "execute_result"
    }
   ],
   "source": [
    "len(l1[-1])"
   ]
  },
  {
   "cell_type": "code",
   "execution_count": 12,
   "id": "5b112585",
   "metadata": {},
   "outputs": [],
   "source": [
    "l1 = [1, 2, 3, '45', 'abcd', 7, 11, 19, 45]"
   ]
  },
  {
   "cell_type": "code",
   "execution_count": 14,
   "id": "8ba10fb2",
   "metadata": {},
   "outputs": [
    {
     "data": {
      "text/plain": [
       "[1, 2, 3, '45', 'abcd', 7, 11, 19, 45]"
      ]
     },
     "execution_count": 16,
     "metadata": {},
     "output_type": "execute_result"
    }
   ],
   "source": [
    "l1[0:]"
   ]
  },
  {
   "cell_type": "code",
   "execution_count": null,
   "id": "ef19bbb9",
   "metadata": {},
   "outputs": [
    {
     "data": {
      "text/plain": [
       "[1, 2, 3, '45', 'abcd', 7, 11, 19, 45]"
      ]
     },
     "execution_count": 36,
     "metadata": {},
     "output_type": "execute_result"
    }
   ],
   "source": [
    "l1[0:len(l1):1]"
   ]
  },
  {
   "cell_type": "code",
   "execution_count": 37,
   "id": "c88595f2",
   "metadata": {},
   "outputs": [
    {
     "data": {
      "text/plain": [
       "[45, 19, 11, 7, 'abcd', '45', 3, 2, 1]"
      ]
     },
     "execution_count": 37,
     "metadata": {},
     "output_type": "execute_result"
    }
   ],
   "source": [
    "l1[::-1]"
   ]
  },
  {
   "cell_type": "code",
   "execution_count": 38,
   "id": "982bf6d8",
   "metadata": {},
   "outputs": [],
   "source": [
    "s1 = 'HELLO'"
   ]
  },
  {
   "cell_type": "code",
   "execution_count": 39,
   "id": "c1121668",
   "metadata": {},
   "outputs": [
    {
     "data": {
      "text/plain": [
       "'OLLEH'"
      ]
     },
     "execution_count": 39,
     "metadata": {},
     "output_type": "execute_result"
    }
   ],
   "source": [
    "s1[::-1]"
   ]
  },
  {
   "cell_type": "code",
   "execution_count": 40,
   "id": "a5c02d0b",
   "metadata": {},
   "outputs": [
    {
     "data": {
      "text/plain": [
       "''"
      ]
     },
     "execution_count": 40,
     "metadata": {},
     "output_type": "execute_result"
    }
   ],
   "source": [
    "s1[0:5:-1]"
   ]
  },
  {
   "cell_type": "code",
   "execution_count": 41,
   "id": "44de8911",
   "metadata": {},
   "outputs": [
    {
     "data": {
      "text/plain": [
       "'HELLO'"
      ]
     },
     "execution_count": 41,
     "metadata": {},
     "output_type": "execute_result"
    }
   ],
   "source": [
    "s1"
   ]
  },
  {
   "cell_type": "code",
   "execution_count": 51,
   "id": "bf02b446",
   "metadata": {},
   "outputs": [
    {
     "data": {
      "text/plain": [
       "'LL'"
      ]
     },
     "execution_count": 51,
     "metadata": {},
     "output_type": "execute_result"
    }
   ],
   "source": [
    "s1[-2:1:-1]"
   ]
  },
  {
   "cell_type": "code",
   "execution_count": 52,
   "id": "ea14bf47",
   "metadata": {},
   "outputs": [
    {
     "data": {
      "text/plain": [
       "[1, 2, 3, '45', 'abcd', 7, 11, 19, 45]"
      ]
     },
     "execution_count": 52,
     "metadata": {},
     "output_type": "execute_result"
    }
   ],
   "source": [
    "l1"
   ]
  },
  {
   "cell_type": "code",
   "execution_count": 53,
   "id": "2c865499",
   "metadata": {},
   "outputs": [],
   "source": [
    "l2 = [1, 2, 3, '45', 'abcd', 7, 11, 19, 45, [1,2,3,4]]"
   ]
  },
  {
   "cell_type": "code",
   "execution_count": 54,
   "id": "796ae77c",
   "metadata": {},
   "outputs": [
    {
     "data": {
      "text/plain": [
       "10"
      ]
     },
     "execution_count": 54,
     "metadata": {},
     "output_type": "execute_result"
    }
   ],
   "source": [
    "len(l2)"
   ]
  },
  {
   "cell_type": "code",
   "execution_count": 58,
   "id": "16155be7",
   "metadata": {},
   "outputs": [
    {
     "data": {
      "text/plain": [
       "4"
      ]
     },
     "execution_count": 58,
     "metadata": {},
     "output_type": "execute_result"
    }
   ],
   "source": [
    "len(l2[-1])"
   ]
  },
  {
   "cell_type": "code",
   "execution_count": 59,
   "id": "a11b1c9c",
   "metadata": {},
   "outputs": [],
   "source": [
    "# methods"
   ]
  },
  {
   "cell_type": "code",
   "execution_count": 60,
   "id": "0102293e",
   "metadata": {},
   "outputs": [
    {
     "data": {
      "text/plain": [
       "[1, 2, 3, '45', 'abcd', 7, 11, 19, 45]"
      ]
     },
     "execution_count": 60,
     "metadata": {},
     "output_type": "execute_result"
    }
   ],
   "source": [
    "l1"
   ]
  },
  {
   "cell_type": "code",
   "execution_count": 61,
   "id": "a1efa8b8",
   "metadata": {},
   "outputs": [
    {
     "data": {
      "text/plain": [
       "[1, 2, 3, '45', 'abcd', 7, 11, 19, 45, [1, 2, 3, 4]]"
      ]
     },
     "execution_count": 61,
     "metadata": {},
     "output_type": "execute_result"
    }
   ],
   "source": [
    "l2"
   ]
  },
  {
   "cell_type": "code",
   "execution_count": 2,
   "id": "4573e97a",
   "metadata": {},
   "outputs": [],
   "source": [
    "l1 = [1, 2, 3, '45', 'abcd', 7, 11, 19, 45]"
   ]
  },
  {
   "cell_type": "code",
   "execution_count": 3,
   "id": "9eb26faf",
   "metadata": {},
   "outputs": [
    {
     "data": {
      "text/plain": [
       "[1, 2, 3, '45', 'abcd', 7, 11, 19, 45]"
      ]
     },
     "execution_count": 3,
     "metadata": {},
     "output_type": "execute_result"
    }
   ],
   "source": [
    "l1"
   ]
  },
  {
   "cell_type": "code",
   "execution_count": 4,
   "id": "dc0d0044",
   "metadata": {},
   "outputs": [],
   "source": [
    "l1.append(100)"
   ]
  },
  {
   "cell_type": "code",
   "execution_count": 5,
   "id": "6d282e09",
   "metadata": {},
   "outputs": [
    {
     "data": {
      "text/plain": [
       "[1, 2, 3, '45', 'abcd', 7, 11, 19, 45, 100]"
      ]
     },
     "execution_count": 5,
     "metadata": {},
     "output_type": "execute_result"
    }
   ],
   "source": [
    "l1"
   ]
  },
  {
   "cell_type": "code",
   "execution_count": 6,
   "id": "657ba258",
   "metadata": {},
   "outputs": [],
   "source": [
    "l1.extend([100])"
   ]
  },
  {
   "cell_type": "code",
   "execution_count": 7,
   "id": "3ad9c81b",
   "metadata": {},
   "outputs": [
    {
     "data": {
      "text/plain": [
       "[1, 2, 3, '45', 'abcd', 7, 11, 19, 45, 100, 100]"
      ]
     },
     "execution_count": 7,
     "metadata": {},
     "output_type": "execute_result"
    }
   ],
   "source": [
    "l1"
   ]
  },
  {
   "cell_type": "code",
   "execution_count": 8,
   "id": "2843ae30",
   "metadata": {},
   "outputs": [],
   "source": [
    "l1.append([8,9,10])"
   ]
  },
  {
   "cell_type": "code",
   "execution_count": 9,
   "id": "ed0b0d2a",
   "metadata": {},
   "outputs": [
    {
     "data": {
      "text/plain": [
       "[1, 2, 3, '45', 'abcd', 7, 11, 19, 45, 100, 100, [8, 9, 10]]"
      ]
     },
     "execution_count": 9,
     "metadata": {},
     "output_type": "execute_result"
    }
   ],
   "source": [
    "l1"
   ]
  },
  {
   "cell_type": "code",
   "execution_count": 10,
   "id": "b00df917",
   "metadata": {},
   "outputs": [],
   "source": [
    "l1.extend([8,9,10])"
   ]
  },
  {
   "cell_type": "code",
   "execution_count": 11,
   "id": "81e17aa8",
   "metadata": {},
   "outputs": [
    {
     "data": {
      "text/plain": [
       "[1, 2, 3, '45', 'abcd', 7, 11, 19, 45, 100, 100, [8, 9, 10], 8, 9, 10]"
      ]
     },
     "execution_count": 11,
     "metadata": {},
     "output_type": "execute_result"
    }
   ],
   "source": [
    "l1"
   ]
  },
  {
   "cell_type": "code",
   "execution_count": 12,
   "id": "9ee60260",
   "metadata": {},
   "outputs": [],
   "source": [
    "l1.insert(20, 100)"
   ]
  },
  {
   "cell_type": "code",
   "execution_count": 13,
   "id": "4a10da66",
   "metadata": {},
   "outputs": [
    {
     "data": {
      "text/plain": [
       "[1, 2, 3, '45', 'abcd', 7, 11, 19, 45, 100, 100, [8, 9, 10], 8, 9, 10, 100]"
      ]
     },
     "execution_count": 13,
     "metadata": {},
     "output_type": "execute_result"
    }
   ],
   "source": [
    "l1"
   ]
  },
  {
   "cell_type": "code",
   "execution_count": 78,
   "id": "79795848",
   "metadata": {},
   "outputs": [],
   "source": [
    "l1.remove(100)"
   ]
  },
  {
   "cell_type": "code",
   "execution_count": 79,
   "id": "ed47491f",
   "metadata": {},
   "outputs": [
    {
     "data": {
      "text/plain": [
       "[1, 2, 3, '45', 'abcd', 7, 11, 19, 45, 100, 100, [8, 9, 10], 8, 9, 10]"
      ]
     },
     "execution_count": 79,
     "metadata": {},
     "output_type": "execute_result"
    }
   ],
   "source": [
    "l1"
   ]
  },
  {
   "cell_type": "code",
   "execution_count": 80,
   "id": "1f506d92",
   "metadata": {},
   "outputs": [],
   "source": [
    "l1.remove(100)"
   ]
  },
  {
   "cell_type": "code",
   "execution_count": 81,
   "id": "27d7d306",
   "metadata": {},
   "outputs": [
    {
     "data": {
      "text/plain": [
       "[1, 2, 3, '45', 'abcd', 7, 11, 19, 45, 100, [8, 9, 10], 8, 9, 10]"
      ]
     },
     "execution_count": 81,
     "metadata": {},
     "output_type": "execute_result"
    }
   ],
   "source": [
    "l1"
   ]
  },
  {
   "cell_type": "code",
   "execution_count": 82,
   "id": "86333565",
   "metadata": {},
   "outputs": [],
   "source": [
    "l1.remove(100)"
   ]
  },
  {
   "cell_type": "code",
   "execution_count": 83,
   "id": "a8a709d8",
   "metadata": {},
   "outputs": [
    {
     "data": {
      "text/plain": [
       "[1, 2, 3, '45', 'abcd', 7, 11, 19, 45, [8, 9, 10], 8, 9, 10]"
      ]
     },
     "execution_count": 83,
     "metadata": {},
     "output_type": "execute_result"
    }
   ],
   "source": [
    "l1"
   ]
  },
  {
   "cell_type": "code",
   "execution_count": 84,
   "id": "0003e253",
   "metadata": {},
   "outputs": [
    {
     "ename": "ValueError",
     "evalue": "list.remove(x): x not in list",
     "output_type": "error",
     "traceback": [
      "\u001b[31m---------------------------------------------------------------------------\u001b[39m",
      "\u001b[31mValueError\u001b[39m                                Traceback (most recent call last)",
      "\u001b[36mCell\u001b[39m\u001b[36m \u001b[39m\u001b[32mIn[84]\u001b[39m\u001b[32m, line 1\u001b[39m\n\u001b[32m----> \u001b[39m\u001b[32m1\u001b[39m \u001b[43ml1\u001b[49m\u001b[43m.\u001b[49m\u001b[43mremove\u001b[49m\u001b[43m(\u001b[49m\u001b[32;43m100\u001b[39;49m\u001b[43m)\u001b[49m\n",
      "\u001b[31mValueError\u001b[39m: list.remove(x): x not in list"
     ]
    }
   ],
   "source": [
    "l1.remove(100)"
   ]
  },
  {
   "cell_type": "code",
   "execution_count": 85,
   "id": "16d67392",
   "metadata": {},
   "outputs": [
    {
     "data": {
      "text/plain": [
       "1"
      ]
     },
     "execution_count": 85,
     "metadata": {},
     "output_type": "execute_result"
    }
   ],
   "source": [
    "l1.pop(0)"
   ]
  },
  {
   "cell_type": "code",
   "execution_count": 86,
   "id": "813185b3",
   "metadata": {},
   "outputs": [
    {
     "data": {
      "text/plain": [
       "[2, 3, '45', 'abcd', 7, 11, 19, 45, [8, 9, 10], 8, 9, 10]"
      ]
     },
     "execution_count": 86,
     "metadata": {},
     "output_type": "execute_result"
    }
   ],
   "source": [
    "l1"
   ]
  },
  {
   "cell_type": "code",
   "execution_count": 102,
   "id": "7cd42469",
   "metadata": {},
   "outputs": [],
   "source": [
    "l2.extend([6,3,56,7,4,7])"
   ]
  },
  {
   "cell_type": "code",
   "execution_count": 93,
   "id": "3e89349c",
   "metadata": {},
   "outputs": [
    {
     "data": {
      "text/plain": [
       "[1, 2, 3, '45', 'abcd', 7, 11, 19, 45, [1, 2, 3, 4], 1, 1]"
      ]
     },
     "execution_count": 93,
     "metadata": {},
     "output_type": "execute_result"
    }
   ],
   "source": [
    "l2"
   ]
  },
  {
   "cell_type": "code",
   "execution_count": 94,
   "id": "d9e5ffdb",
   "metadata": {},
   "outputs": [
    {
     "data": {
      "text/plain": [
       "3"
      ]
     },
     "execution_count": 94,
     "metadata": {},
     "output_type": "execute_result"
    }
   ],
   "source": [
    "l2.count(1)"
   ]
  },
  {
   "cell_type": "code",
   "execution_count": 96,
   "id": "fb458c1e",
   "metadata": {},
   "outputs": [
    {
     "data": {
      "text/plain": [
       "0"
      ]
     },
     "execution_count": 96,
     "metadata": {},
     "output_type": "execute_result"
    }
   ],
   "source": [
    "l2.index(1)"
   ]
  },
  {
   "cell_type": "code",
   "execution_count": 101,
   "id": "07f5b7f6",
   "metadata": {},
   "outputs": [
    {
     "data": {
      "text/plain": [
       "11"
      ]
     },
     "execution_count": 101,
     "metadata": {},
     "output_type": "execute_result"
    }
   ],
   "source": [
    "l2.index(1, 11)"
   ]
  },
  {
   "cell_type": "code",
   "execution_count": 103,
   "id": "7c1683a8",
   "metadata": {},
   "outputs": [
    {
     "data": {
      "text/plain": [
       "[1, 2, 3, '45', 'abcd', 7, 11, 19, 45, [1, 2, 3, 4], 1, 1, 6, 3, 56, 7, 4, 7]"
      ]
     },
     "execution_count": 103,
     "metadata": {},
     "output_type": "execute_result"
    }
   ],
   "source": [
    "l2"
   ]
  },
  {
   "cell_type": "code",
   "execution_count": 105,
   "id": "c5d927a8",
   "metadata": {},
   "outputs": [
    {
     "data": {
      "text/plain": [
       "2"
      ]
     },
     "execution_count": 105,
     "metadata": {},
     "output_type": "execute_result"
    }
   ],
   "source": [
    "l2.index(3)"
   ]
  },
  {
   "cell_type": "code",
   "execution_count": 108,
   "id": "02df2f1e",
   "metadata": {},
   "outputs": [
    {
     "data": {
      "text/plain": [
       "13"
      ]
     },
     "execution_count": 108,
     "metadata": {},
     "output_type": "execute_result"
    }
   ],
   "source": [
    "l2.index(3, 3)"
   ]
  },
  {
   "cell_type": "code",
   "execution_count": 109,
   "id": "9606a61b",
   "metadata": {},
   "outputs": [],
   "source": [
    "l2.clear()"
   ]
  },
  {
   "cell_type": "code",
   "execution_count": 110,
   "id": "f5486e1c",
   "metadata": {},
   "outputs": [
    {
     "data": {
      "text/plain": [
       "[]"
      ]
     },
     "execution_count": 110,
     "metadata": {},
     "output_type": "execute_result"
    }
   ],
   "source": [
    "l2"
   ]
  },
  {
   "cell_type": "code",
   "execution_count": 111,
   "id": "c4821b5f",
   "metadata": {},
   "outputs": [
    {
     "data": {
      "text/plain": [
       "[]"
      ]
     },
     "execution_count": 111,
     "metadata": {},
     "output_type": "execute_result"
    }
   ],
   "source": [
    "l2"
   ]
  },
  {
   "cell_type": "code",
   "execution_count": 112,
   "id": "4bb26a3f",
   "metadata": {},
   "outputs": [
    {
     "data": {
      "text/plain": [
       "[]"
      ]
     },
     "execution_count": 112,
     "metadata": {},
     "output_type": "execute_result"
    }
   ],
   "source": [
    "l2"
   ]
  },
  {
   "cell_type": "code",
   "execution_count": 113,
   "id": "0ac54358",
   "metadata": {},
   "outputs": [
    {
     "data": {
      "text/plain": [
       "[2, 3, '45', 'abcd', 7, 11, 19, 45, [8, 9, 10], 8, 9, 10, 100]"
      ]
     },
     "execution_count": 113,
     "metadata": {},
     "output_type": "execute_result"
    }
   ],
   "source": [
    "l1"
   ]
  },
  {
   "cell_type": "code",
   "execution_count": 114,
   "id": "e6165740",
   "metadata": {},
   "outputs": [
    {
     "data": {
      "text/plain": [
       "8"
      ]
     },
     "execution_count": 114,
     "metadata": {},
     "output_type": "execute_result"
    }
   ],
   "source": [
    "l1.index([8, 9, 10])"
   ]
  },
  {
   "cell_type": "code",
   "execution_count": 116,
   "id": "f44a341d",
   "metadata": {},
   "outputs": [],
   "source": [
    "l1[8] = 0"
   ]
  },
  {
   "cell_type": "code",
   "execution_count": 117,
   "id": "b3be2656",
   "metadata": {},
   "outputs": [
    {
     "data": {
      "text/plain": [
       "[2, 3, '45', 'abcd', 7, 11, 19, 45, 0, 8, 9, 10, 100]"
      ]
     },
     "execution_count": 117,
     "metadata": {},
     "output_type": "execute_result"
    }
   ],
   "source": [
    "l1"
   ]
  },
  {
   "cell_type": "code",
   "execution_count": null,
   "id": "1b877b78",
   "metadata": {},
   "outputs": [],
   "source": []
  }
 ],
 "metadata": {
  "kernelspec": {
   "display_name": "Python 3",
   "language": "python",
   "name": "python3"
  },
  "language_info": {
   "codemirror_mode": {
    "name": "ipython",
    "version": 3
   },
   "file_extension": ".py",
   "mimetype": "text/x-python",
   "name": "python",
   "nbconvert_exporter": "python",
   "pygments_lexer": "ipython3",
   "version": "3.11.1"
  }
 },
 "nbformat": 4,
 "nbformat_minor": 5
}
