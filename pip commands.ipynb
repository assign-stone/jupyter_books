{
 "cells": [
  {
   "cell_type": "markdown",
   "id": "b57299aa",
   "metadata": {},
   "source": [
    "### 1. Install a package"
   ]
  },
  {
   "cell_type": "code",
   "execution_count": 1,
   "id": "88f67b8a",
   "metadata": {},
   "outputs": [
    {
     "name": "stdout",
     "output_type": "stream",
     "text": [
      "Requirement already satisfied: pyspice in c:\\users\\os\\anaconda3\\lib\\site-packages (1.5)\n",
      "Requirement already satisfied: ply>=3.11 in c:\\users\\os\\anaconda3\\lib\\site-packages (from pyspice) (3.11)\n",
      "Requirement already satisfied: cffi>=1.14 in c:\\users\\os\\anaconda3\\lib\\site-packages (from pyspice) (1.15.0)\n",
      "Requirement already satisfied: matplotlib>=3.2 in c:\\users\\os\\anaconda3\\lib\\site-packages (from pyspice) (3.5.1)\n",
      "Requirement already satisfied: requests>=2.23 in c:\\users\\os\\anaconda3\\lib\\site-packages (from pyspice) (2.27.1)\n",
      "Requirement already satisfied: numpy>=1.18 in c:\\users\\os\\anaconda3\\lib\\site-packages (from pyspice) (1.21.5)\n",
      "Requirement already satisfied: scipy>=1.4 in c:\\users\\os\\anaconda3\\lib\\site-packages (from pyspice) (1.7.3)\n",
      "Requirement already satisfied: PyYAML>=5.3 in c:\\users\\os\\anaconda3\\lib\\site-packages (from pyspice) (6.0)\n",
      "Requirement already satisfied: pycparser in c:\\users\\os\\anaconda3\\lib\\site-packages (from cffi>=1.14->pyspice) (2.21)\n",
      "Requirement already satisfied: python-dateutil>=2.7 in c:\\users\\os\\anaconda3\\lib\\site-packages (from matplotlib>=3.2->pyspice) (2.8.2)\n",
      "Requirement already satisfied: packaging>=20.0 in c:\\users\\os\\anaconda3\\lib\\site-packages (from matplotlib>=3.2->pyspice) (21.3)\n",
      "Requirement already satisfied: fonttools>=4.22.0 in c:\\users\\os\\anaconda3\\lib\\site-packages (from matplotlib>=3.2->pyspice) (4.25.0)\n",
      "Requirement already satisfied: pillow>=6.2.0 in c:\\users\\os\\anaconda3\\lib\\site-packages (from matplotlib>=3.2->pyspice) (9.0.1)\n",
      "Requirement already satisfied: kiwisolver>=1.0.1 in c:\\users\\os\\anaconda3\\lib\\site-packages (from matplotlib>=3.2->pyspice) (1.3.2)\n",
      "Requirement already satisfied: cycler>=0.10 in c:\\users\\os\\anaconda3\\lib\\site-packages (from matplotlib>=3.2->pyspice) (0.11.0)\n",
      "Requirement already satisfied: pyparsing>=2.2.1 in c:\\users\\os\\anaconda3\\lib\\site-packages (from matplotlib>=3.2->pyspice) (3.0.4)\n",
      "Requirement already satisfied: six>=1.5 in c:\\users\\os\\anaconda3\\lib\\site-packages (from python-dateutil>=2.7->matplotlib>=3.2->pyspice) (1.16.0)\n",
      "Requirement already satisfied: charset-normalizer~=2.0.0 in c:\\users\\os\\anaconda3\\lib\\site-packages (from requests>=2.23->pyspice) (2.0.4)\n",
      "Requirement already satisfied: idna<4,>=2.5 in c:\\users\\os\\anaconda3\\lib\\site-packages (from requests>=2.23->pyspice) (3.3)\n",
      "Requirement already satisfied: certifi>=2017.4.17 in c:\\users\\os\\anaconda3\\lib\\site-packages (from requests>=2.23->pyspice) (2022.9.24)\n",
      "Requirement already satisfied: urllib3<1.27,>=1.21.1 in c:\\users\\os\\anaconda3\\lib\\site-packages (from requests>=2.23->pyspice) (1.26.9)\n",
      "Note: you may need to restart the kernel to use updated packages.\n"
     ]
    },
    {
     "name": "stderr",
     "output_type": "stream",
     "text": [
      "WARNING: Ignoring invalid distribution -tatsmodels (c:\\users\\os\\anaconda3\\lib\\site-packages)\n",
      "WARNING: Ignoring invalid distribution -tatsmodels (c:\\users\\os\\anaconda3\\lib\\site-packages)\n",
      "WARNING: Ignoring invalid distribution -tatsmodels (c:\\users\\os\\anaconda3\\lib\\site-packages)\n",
      "WARNING: Ignoring invalid distribution -tatsmodels (c:\\users\\os\\anaconda3\\lib\\site-packages)\n",
      "WARNING: Ignoring invalid distribution -tatsmodels (c:\\users\\os\\anaconda3\\lib\\site-packages)\n",
      "WARNING: Ignoring invalid distribution -tatsmodels (c:\\users\\os\\anaconda3\\lib\\site-packages)\n"
     ]
    }
   ],
   "source": [
    "pip install pyspice"
   ]
  },
  {
   "cell_type": "markdown",
   "id": "387252a1",
   "metadata": {},
   "source": [
    "### 2. Uninstall a package\n",
    "$ python3 -m pip uninstall package_name"
   ]
  },
  {
   "cell_type": "markdown",
   "id": "c657e910",
   "metadata": {},
   "source": [
    "### 3. Install dependencies from requirements file\n",
    "\n",
    "Now let’s suppose that you have a requirements.txt that lists all the required dependencies for a particular package.\n",
    "#requirements.txt\n",
    "pandas==1.0.0\n",
    "pyspark\n",
    "\n",
    "Instead of going through the packages one by one, you can install all the dependencies directly from that file using the command shown below.\n",
    "\n",
    "$ python3 -m pip install -r requirements.txt"
   ]
  },
  {
   "cell_type": "markdown",
   "id": "6f4071cf",
   "metadata": {},
   "source": [
    "### 4. List installed packages"
   ]
  },
  {
   "cell_type": "code",
   "execution_count": 15,
   "id": "b695df91",
   "metadata": {},
   "outputs": [
    {
     "name": "stdout",
     "output_type": "stream",
     "text": [
      "Package                       Version\n",
      "----------------------------- --------------------\n",
      "aiohttp                       3.8.1\n",
      "aiosignal                     1.2.0\n",
      "alabaster                     0.7.12\n",
      "anaconda-client               1.9.0\n",
      "anaconda-navigator            2.3.0\n",
      "anaconda-project              0.10.2\n",
      "anyio                         3.5.0\n",
      "appdirs                       1.4.4\n",
      "argon2-cffi                   21.3.0\n",
      "argon2-cffi-bindings          21.2.0\n",
      "arrow                         1.2.2\n",
      "astroid                       2.6.6\n",
      "astropy                       5.0.4\n",
      "asttokens                     2.0.5\n",
      "async-timeout                 4.0.1\n",
      "atomicwrites                  1.4.0\n",
      "attrs                         21.4.0\n",
      "Automat                       20.2.0\n",
      "autopep8                      1.6.0\n",
      "Babel                         2.9.1\n",
      "backcall                      0.2.0\n",
      "backports.functools-lru-cache 1.6.4\n",
      "backports.tempfile            1.0\n",
      "backports.weakref             1.0.post1\n",
      "bcrypt                        3.2.0\n",
      "beautifulsoup4                4.11.1\n",
      "binaryornot                   0.4.4\n",
      "bitarray                      2.4.1\n",
      "bkcharts                      0.2\n",
      "black                         19.10b0\n",
      "bleach                        4.1.0\n",
      "bokeh                         2.4.2\n",
      "boto3                         1.21.32\n",
      "botocore                      1.24.32\n",
      "Bottleneck                    1.3.4\n",
      "branca                        0.6.0\n",
      "brotlipy                      0.7.0\n",
      "cachetools                    4.2.2\n",
      "certifi                       2022.9.24\n",
      "cffi                          1.15.0\n",
      "chardet                       4.0.0\n",
      "charset-normalizer            2.0.4\n",
      "click                         8.0.4\n",
      "cloudpickle                   2.0.0\n",
      "clyent                        1.2.2\n",
      "colorama                      0.4.4\n",
      "colorcet                      2.0.6\n",
      "comtypes                      1.1.10\n",
      "conda                         22.11.0\n",
      "conda-build                   3.21.8\n",
      "conda-content-trust           0+unknown\n",
      "conda-pack                    0.6.0\n",
      "conda-package-handling        1.8.1\n",
      "conda-repo-cli                1.0.4\n",
      "conda-token                   0.3.0\n",
      "conda-verify                  3.4.2\n",
      "constantly                    15.1.0\n",
      "cookiecutter                  1.7.3\n",
      "cryptography                  3.4.8\n",
      "cssselect                     1.1.0\n",
      "cycler                        0.11.0\n",
      "Cython                        0.29.28\n",
      "cytoolz                       0.11.0\n",
      "daal4py                       2021.5.0\n",
      "Note: you may need to restart the kernel to use updated packages.dask                          2022.2.1\n",
      "datashader                    0.13.0\n",
      "datashape                     0.5.4\n",
      "debugpy                       1.5.1\n",
      "decorator                     5.1.1\n",
      "defusedxml                    0.7.1\n",
      "diff-match-patch              20200713\n",
      "distributed                   2022.2.1\n",
      "docutils                      0.17.1\n"
     ]
    },
    {
     "name": "stderr",
     "output_type": "stream",
     "text": [
      "WARNING: Ignoring invalid distribution -tatsmodels (c:\\users\\os\\anaconda3\\lib\\site-packages)\n",
      "WARNING: Ignoring invalid distribution -tatsmodels (c:\\users\\os\\anaconda3\\lib\\site-packages)\n",
      "WARNING: Ignoring invalid distribution -tatsmodels (c:\\users\\os\\anaconda3\\lib\\site-packages)\n",
      "WARNING: Ignoring invalid distribution -tatsmodels (c:\\users\\os\\anaconda3\\lib\\site-packages)\n"
     ]
    },
    {
     "name": "stdout",
     "output_type": "stream",
     "text": [
      "\n",
      "entrypoints                   0.4\n",
      "et-xmlfile                    1.1.0\n",
      "executing                     0.8.3\n",
      "fastjsonschema                2.15.1\n",
      "filelock                      3.6.0\n",
      "flake8                        3.9.2\n",
      "Flask                         1.1.2\n",
      "folium                        0.14.0\n",
      "fonttools                     4.25.0\n",
      "frozenlist                    1.2.0\n",
      "fsspec                        2022.2.0\n",
      "future                        0.18.2\n",
      "gensim                        4.1.2\n",
      "geographiclib                 2.0\n",
      "geopy                         2.3.0\n",
      "glob2                         0.7\n",
      "google-api-core               1.25.1\n",
      "google-auth                   1.33.0\n",
      "google-cloud-core             1.7.1\n",
      "google-cloud-storage          1.31.0\n",
      "google-crc32c                 1.1.2\n",
      "google-resumable-media        1.3.1\n",
      "googleapis-common-protos      1.53.0\n",
      "greenlet                      1.1.1\n",
      "grpcio                        1.42.0\n",
      "h5py                          3.6.0\n",
      "HeapDict                      1.0.1\n",
      "holoviews                     1.14.8\n",
      "huggingface-hub               0.10.1\n",
      "hvplot                        0.7.3\n",
      "hyperlink                     21.0.0\n",
      "idna                          3.3\n",
      "imagecodecs                   2021.8.26\n",
      "imageio                       2.9.0\n",
      "imagesize                     1.3.0\n",
      "importlib-metadata            4.11.3\n",
      "incremental                   21.3.0\n",
      "inflection                    0.5.1\n",
      "iniconfig                     1.1.1\n",
      "intake                        0.6.5\n",
      "intervaltree                  3.1.0\n",
      "ipykernel                     6.9.1\n",
      "ipython                       8.2.0\n",
      "ipython-genutils              0.2.0\n",
      "ipywidgets                    7.6.5\n",
      "isort                         5.9.3\n",
      "itemadapter                   0.3.0\n",
      "itemloaders                   1.0.4\n",
      "itsdangerous                  2.0.1\n",
      "jdcal                         1.4.1\n",
      "jedi                          0.18.1\n",
      "Jinja2                        2.11.3\n",
      "jinja2-time                   0.2.0\n",
      "jmespath                      0.10.0\n",
      "joblib                        1.1.0\n",
      "json5                         0.9.6\n",
      "jsonschema                    4.4.0\n",
      "jupyter                       1.0.0\n",
      "jupyter-client                6.1.12\n",
      "jupyter-console               6.4.0\n",
      "jupyter-core                  4.9.2\n",
      "jupyter-server                1.13.5\n",
      "jupyterlab                    3.3.2\n",
      "jupyterlab-pygments           0.1.2\n",
      "jupyterlab-server             2.10.3\n",
      "jupyterlab-widgets            1.0.0\n",
      "keyring                       23.4.0\n",
      "kiwisolver                    1.3.2\n",
      "lazy-object-proxy             1.6.0\n",
      "libarchive-c                  2.9\n",
      "llvmlite                      0.38.0\n",
      "locket                        0.2.1\n",
      "lxml                          4.8.0\n",
      "Markdown                      3.3.4\n",
      "MarkupSafe                    2.0.1\n",
      "matplotlib                    3.5.1\n",
      "matplotlib-inline             0.1.2\n",
      "mccabe                        0.6.1\n",
      "menuinst                      1.4.18\n",
      "mistune                       0.8.4\n",
      "mkl-fft                       1.3.1\n",
      "mkl-random                    1.2.2\n",
      "mkl-service                   2.4.0\n",
      "mock                          4.0.3\n",
      "MouseInfo                     0.1.3\n",
      "mpmath                        1.2.1\n",
      "msgpack                       1.0.2\n",
      "multidict                     5.1.0\n",
      "multipledispatch              0.6.0\n",
      "munkres                       1.1.4\n",
      "mypy-extensions               0.4.3\n",
      "mysql-connector-python        8.0.31\n",
      "navigator-updater             0.2.1\n",
      "nbclassic                     0.3.5\n",
      "nbclient                      0.5.13\n",
      "nbconvert                     6.4.4\n",
      "nbformat                      5.3.0\n",
      "nest-asyncio                  1.5.5\n",
      "networkx                      2.7.1\n",
      "nltk                          3.7\n",
      "nose                          1.3.7\n",
      "notebook                      6.4.8\n",
      "numba                         0.55.1\n",
      "numexpr                       2.8.1\n",
      "numpy                         1.21.5\n",
      "numpydoc                      1.2\n",
      "olefile                       0.46\n",
      "openpyxl                      3.0.9\n",
      "packaging                     21.3\n",
      "pandas                        1.4.2\n",
      "pandocfilters                 1.5.0\n",
      "panel                         0.13.0\n",
      "param                         1.12.0\n",
      "paramiko                      2.8.1\n",
      "parsel                        1.6.0\n",
      "parso                         0.8.3\n",
      "partd                         1.2.0\n",
      "pathspec                      0.7.0\n",
      "patsy                         0.5.2\n",
      "pep8                          1.7.1\n",
      "pexpect                       4.8.0\n",
      "pickleshare                   0.7.5\n",
      "Pillow                        9.0.1\n",
      "pip                           21.2.4\n",
      "pkginfo                       1.8.2\n",
      "plotly                        5.6.0\n",
      "pluggy                        1.0.0\n",
      "ply                           3.11\n",
      "poyo                          0.5.0\n",
      "prometheus-client             0.13.1\n",
      "prompt-toolkit                3.0.20\n",
      "Protego                       0.1.16\n",
      "protobuf                      3.19.1\n",
      "psutil                        5.8.0\n",
      "ptyprocess                    0.7.0\n",
      "pure-eval                     0.2.2\n",
      "py                            1.11.0\n",
      "py4j                          0.10.9.7\n",
      "pyasn1                        0.4.8\n",
      "pyasn1-modules                0.2.8\n",
      "PyAutoGUI                     0.9.53\n",
      "pycodestyle                   2.7.0\n",
      "pycosat                       0.6.3\n",
      "pycparser                     2.21\n",
      "pyct                          0.4.6\n",
      "pycurl                        7.44.1\n",
      "PyDispatcher                  2.0.5\n",
      "pydocstyle                    6.1.1\n",
      "pyerfa                        2.0.0\n",
      "pyflakes                      2.3.1\n",
      "PyGetWindow                   0.0.9\n",
      "Pygments                      2.11.2\n",
      "PyHamcrest                    2.0.2\n",
      "PyJWT                         2.1.0\n",
      "pylint                        2.9.6\n",
      "pyls-spyder                   0.4.0\n",
      "PyMsgBox                      1.0.9\n",
      "PyNaCl                        1.4.0\n",
      "pyodbc                        4.0.32\n",
      "pyOpenSSL                     21.0.0\n",
      "pyparsing                     3.0.4\n",
      "pyperclip                     1.8.2\n",
      "pyreadline                    2.1\n",
      "PyRect                        0.2.0\n",
      "pyrsistent                    0.18.0\n",
      "PyScreeze                     0.1.28\n",
      "PySocks                       1.7.1\n",
      "pyspark                       3.4.0\n",
      "PySpice                       1.5\n",
      "pytest                        7.1.1\n",
      "python-dateutil               2.8.2\n",
      "python-lsp-black              1.0.0\n",
      "python-lsp-jsonrpc            1.0.0\n",
      "python-lsp-server             1.2.4\n",
      "python-slugify                5.0.2\n",
      "python-snappy                 0.6.0\n",
      "python-version                0.0.2\n",
      "pytweening                    1.0.4\n",
      "pytz                          2021.3\n",
      "pyviz-comms                   2.0.2\n",
      "PyWavelets                    1.3.0\n",
      "pywin32                       302\n",
      "pywin32-ctypes                0.2.0\n",
      "pywinpty                      2.0.2\n",
      "PyYAML                        6.0\n",
      "pyzmq                         22.3.0\n",
      "QDarkStyle                    3.0.2\n",
      "qstylizer                     0.1.10\n",
      "QtAwesome                     1.0.3\n",
      "qtconsole                     5.3.0\n",
      "QtPy                          2.0.1\n",
      "queuelib                      1.5.0\n",
      "regex                         2022.3.15\n",
      "requests                      2.27.1\n",
      "requests-file                 1.5.1\n",
      "rope                          0.22.0\n",
      "rsa                           4.7.2\n",
      "Rtree                         0.9.7\n",
      "ruamel.yaml                   0.16.12\n",
      "ruamel.yaml.clib              0.2.6\n",
      "ruamel-yaml-conda             0.15.100\n",
      "s3transfer                    0.5.0\n",
      "scikit-image                  0.19.2\n",
      "scikit-learn                  1.1.3\n",
      "scikit-learn-intelex          2021.20220215.102710\n",
      "scipy                         1.7.3\n",
      "Scrapy                        2.6.1\n",
      "seaborn                       0.11.2\n",
      "Send2Trash                    1.8.0\n",
      "sentence-transformers         2.2.2\n",
      "sentencepiece                 0.1.97\n",
      "service-identity              18.1.0\n",
      "setuptools                    61.2.0\n",
      "sip                           4.19.13\n",
      "six                           1.16.0\n",
      "smart-open                    5.1.0\n",
      "sniffio                       1.2.0\n",
      "snowballstemmer               2.2.0\n",
      "sortedcollections             2.1.0\n",
      "sortedcontainers              2.4.0\n",
      "soupsieve                     2.3.1\n",
      "Sphinx                        4.4.0\n",
      "sphinxcontrib-applehelp       1.0.2\n",
      "sphinxcontrib-devhelp         1.0.2\n",
      "sphinxcontrib-htmlhelp        2.0.0\n",
      "sphinxcontrib-jsmath          1.0.1\n",
      "sphinxcontrib-qthelp          1.0.3\n",
      "sphinxcontrib-serializinghtml 1.1.5\n",
      "spyder                        5.1.5\n",
      "spyder-kernels                2.1.3\n",
      "SQLAlchemy                    1.4.32\n",
      "stack-data                    0.2.0\n",
      "statsmodels                   0.14.0\n",
      "swampy                        3.0.1\n",
      "sympy                         1.10.1\n",
      "tables                        3.6.1\n",
      "tabulate                      0.8.9\n",
      "TBB                           0.2\n",
      "tblib                         1.7.0\n",
      "tenacity                      8.0.1\n",
      "terminado                     0.13.1\n",
      "testpath                      0.5.0\n",
      "text-unidecode                1.3\n",
      "textdistance                  4.2.1\n",
      "threadpoolctl                 2.2.0\n",
      "three-merge                   0.1.1\n",
      "tifffile                      2021.7.2\n",
      "tinycss                       0.4\n",
      "tldextract                    3.2.0\n",
      "tokenizers                    0.11.4\n",
      "toml                          0.10.2\n",
      "tomli                         1.2.2\n",
      "toolz                         0.11.2\n",
      "torch                         1.13.0\n",
      "torchvision                   0.14.0\n",
      "tornado                       6.1\n",
      "tqdm                          4.64.0\n",
      "traitlets                     5.1.1\n",
      "transformers                  4.24.0\n",
      "Twisted                       22.2.0\n",
      "twisted-iocpsupport           1.0.2\n",
      "typed-ast                     1.4.3\n",
      "typing_extensions             4.1.1\n",
      "ujson                         5.1.0\n",
      "Unidecode                     1.2.0\n",
      "urllib3                       1.26.9\n",
      "w3lib                         1.21.0\n",
      "watchdog                      2.1.6\n",
      "wcwidth                       0.2.5\n",
      "webencodings                  0.5.1\n",
      "websocket-client              0.58.0\n",
      "Werkzeug                      2.0.3\n",
      "wget                          3.2\n",
      "wheel                         0.37.1\n",
      "widgetsnbextension            3.5.2\n",
      "win-inet-pton                 1.1.0\n",
      "win-unicode-console           0.5\n",
      "wincertstore                  0.2\n",
      "wordcloud                     1.9.2\n",
      "wrapt                         1.12.1\n",
      "xarray                        0.20.1\n",
      "xlrd                          2.0.1\n",
      "XlsxWriter                    3.0.3\n",
      "xlwings                       0.24.9\n",
      "yapf                          0.31.0\n",
      "yarl                          1.6.3\n",
      "zict                          2.0.0\n",
      "zipp                          3.7.0\n",
      "zope.interface                5.4.0\n"
     ]
    }
   ],
   "source": [
    "pip list"
   ]
  },
  {
   "cell_type": "code",
   "execution_count": 3,
   "id": "4bf8af00",
   "metadata": {},
   "outputs": [],
   "source": [
    "#You can even use pip list command in order to fetch the version of a particular package should you need to.\n",
    "#You can do so using\n",
    "#$ python3 -m pip list | grep package_name"
   ]
  },
  {
   "cell_type": "markdown",
   "id": "18aedbde",
   "metadata": {},
   "source": [
    "### 5. Create requirements.txt automatically\n",
    "\n",
    "While developing your Python application you may need to install other dependencies that will help you implement whatever you need to. Instead of having to write the packages one by one in a requirements.txt file so that other people can also install the required dependencies when using your package, you can use pip freeze to get all the packages installed in your environment.\n",
    "\n",
    "$ python3 -m pip freeze > requirements.txt\n",
    "\n",
    "Note that this command will also hardcode the specific version of the packages that you have already installed in your environment (e.g. pandas==1.0.0), which in certain cases may not be what you really want. In this case you may have to manually remove or amend the versions."
   ]
  },
  {
   "cell_type": "markdown",
   "id": "2e45c9fa",
   "metadata": {},
   "source": [
    "### 6. Install package in editable mode\n",
    "\n",
    "Now if you are developing a package locally you may have to install it in editable mode. This means that the installation will link the package to the specified local location so that any changes made to the package will be reflected directly in your environment.\n",
    "\n",
    "$ cd /path/to/your/local/python/package\n",
    "$ python3 -m pip install -e .\n",
    "\n",
    "The above command will install the package in the current directory in editable (or develop) mode. Now if you run pip list | grep package_name the location of the package should be mapping to the location on your local machine (e.g. path/to/your/local/python/package)."
   ]
  },
  {
   "cell_type": "markdown",
   "id": "89ebc47f",
   "metadata": {},
   "source": [
    "### 7. Upgrade a package\n",
    "$ python3 -m pip install package_name --upgrade"
   ]
  },
  {
   "cell_type": "markdown",
   "id": "d060900c",
   "metadata": {},
   "source": [
    "### 8. Remove all packages installed by pip\n",
    "$ python3 -m pip freeze > requirements.txt && python3 -m pip uninstall -r requirements.txt -y\n",
    "\n",
    "If you want to skip the creation of any intermediate files (i.e. requirements.txt) then you can run the command below.\n",
    "\n",
    "$ python3 -m pip uninstall -y -r <(pip freeze)"
   ]
  },
  {
   "cell_type": "markdown",
   "id": "8e44bfcd",
   "metadata": {},
   "source": [
    "### 9. Check that installed packages are compatible\n",
    "\n",
    "$ python3 -m pip check\n",
    "\n",
    "If no compatibility issues are identified the output of the command will be\n",
    "\n",
    "No broken requirements found."
   ]
  },
  {
   "cell_type": "code",
   "execution_count": 4,
   "id": "a52d8a3b",
   "metadata": {},
   "outputs": [
    {
     "name": "stdout",
     "output_type": "stream",
     "text": [
      "spyder 5.1.5 requires pyqt5, which is not installed.\n",
      "spyder 5.1.5 requires pyqtwebengine, which is not installed.\n",
      "daal4py 2021.5.0 requires daal, which is not installed.\n",
      "conda-repo-cli 1.0.4 requires pathlib, which is not installed.\n",
      "jupyter-server 1.13.5 has requirement pywinpty<2; os_name == \"nt\", but you have pywinpty 2.0.2.\n",
      "autopep8 1.6.0 has requirement pycodestyle>=2.8.0, but you have pycodestyle 2.7.0.\n",
      "Note: you may need to restart the kernel to use updated packages.\n"
     ]
    },
    {
     "name": "stderr",
     "output_type": "stream",
     "text": [
      "WARNING: Ignoring invalid distribution -tatsmodels (c:\\users\\os\\anaconda3\\lib\\site-packages)\n"
     ]
    }
   ],
   "source": [
    "pip check"
   ]
  },
  {
   "cell_type": "markdown",
   "id": "4682364d",
   "metadata": {},
   "source": [
    "### 10. Get information about a specific package\n",
    "$ python3 -m pip show package_name"
   ]
  },
  {
   "cell_type": "code",
   "execution_count": 6,
   "id": "bf17a3be",
   "metadata": {},
   "outputs": [
    {
     "name": "stdout",
     "output_type": "stream",
     "text": [
      "Name: PySpice\n",
      "Version: 1.5\n",
      "Summary: Simulate electronic circuit using Python and the Ngspice / Xyce simulators\n",
      "Home-page: https://github.com/FabriceSalvaire/PySpice\n",
      "Author: Fabrice Salvaire\n",
      "Author-email: pyspice@fabrice-salvaire.fr\n",
      "License: GPLv3\n",
      "Location: c:\\users\\os\\anaconda3\\lib\\site-packages\n",
      "Requires: requests, matplotlib, scipy, numpy, cffi, PyYAML, ply\n",
      "Required-by: \n",
      "Note: you may need to restart the kernel to use updated packages.\n"
     ]
    },
    {
     "name": "stderr",
     "output_type": "stream",
     "text": [
      "WARNING: Ignoring invalid distribution -tatsmodels (c:\\users\\os\\anaconda3\\lib\\site-packages)\n"
     ]
    }
   ],
   "source": [
    "pip show pyspice"
   ]
  },
  {
   "cell_type": "markdown",
   "id": "0c66259c",
   "metadata": {},
   "source": [
    "### 11. Build Wheel archives for your requirements and dependencies.\n",
    "Wheels are part of the Python ecosystem which are built-package formats that offers the advantage of not recompiling your software during every install. pip wheel command is used to build Wheel archives for your requirements and dependencies.\n",
    "\n",
    "$ python3 -m pip wheel\n",
    "\n",
    "Note that pip uses the bdist_wheel setuptools extension from the wheel package to build individual wheels."
   ]
  },
  {
   "cell_type": "markdown",
   "id": "522ddf89",
   "metadata": {},
   "source": [
    "Usage:\n",
    "pip <command> [options]\n",
    "Commands:\n",
    "install      Install packages.\n",
    "download     Download packages.\n",
    "uninstall    Uninstall packages.\n",
    "freeze       Output installed packages in requirements format.\n",
    "list         List installed packages.\n",
    "show         Show information about installed packages.\n",
    "check        Verify installed packages have compatible dependencies.\n",
    "config       Manage local and global configuration.\n",
    "search       Search PyPI for packages.\n",
    "cache        Inspect and manage pip's wheel cache.\n",
    "wheel        Build wheels from your requirements.\n",
    "hash         Compute hashes of package archives.\n",
    "completion   A helper command used for command completion.\n",
    "debug        Show information useful for debugging.\n",
    "help         Show help for commands."
   ]
  },
  {
   "cell_type": "code",
   "execution_count": 16,
   "id": "7fd57c78",
   "metadata": {},
   "outputs": [
    {
     "name": "stdout",
     "output_type": "stream",
     "text": [
      "['GIT_TAG', '__builtins__', '__cached__', '__doc__', '__file__', '__loader__', '__name__', '__package__', '__path__', '__spec__', '__version__', 'show_version']\n"
     ]
    }
   ],
   "source": [
    "import PySpice\n",
    "# Printing all the functions in module using dir\n",
    "print(dir(PySpice))"
   ]
  },
  {
   "cell_type": "code",
   "execution_count": 19,
   "id": "e729ec24",
   "metadata": {},
   "outputs": [
    {
     "data": {
      "text/plain": [
       "['__add__',\n",
       " '__class__',\n",
       " '__contains__',\n",
       " '__delattr__',\n",
       " '__dir__',\n",
       " '__doc__',\n",
       " '__eq__',\n",
       " '__format__',\n",
       " '__ge__',\n",
       " '__getattribute__',\n",
       " '__getitem__',\n",
       " '__getnewargs__',\n",
       " '__gt__',\n",
       " '__hash__',\n",
       " '__init__',\n",
       " '__init_subclass__',\n",
       " '__iter__',\n",
       " '__le__',\n",
       " '__len__',\n",
       " '__lt__',\n",
       " '__mod__',\n",
       " '__mul__',\n",
       " '__ne__',\n",
       " '__new__',\n",
       " '__reduce__',\n",
       " '__reduce_ex__',\n",
       " '__repr__',\n",
       " '__rmod__',\n",
       " '__rmul__',\n",
       " '__setattr__',\n",
       " '__sizeof__',\n",
       " '__str__',\n",
       " '__subclasshook__',\n",
       " 'capitalize',\n",
       " 'casefold',\n",
       " 'center',\n",
       " 'count',\n",
       " 'encode',\n",
       " 'endswith',\n",
       " 'expandtabs',\n",
       " 'find',\n",
       " 'format',\n",
       " 'format_map',\n",
       " 'index',\n",
       " 'isalnum',\n",
       " 'isalpha',\n",
       " 'isascii',\n",
       " 'isdecimal',\n",
       " 'isdigit',\n",
       " 'isidentifier',\n",
       " 'islower',\n",
       " 'isnumeric',\n",
       " 'isprintable',\n",
       " 'isspace',\n",
       " 'istitle',\n",
       " 'isupper',\n",
       " 'join',\n",
       " 'ljust',\n",
       " 'lower',\n",
       " 'lstrip',\n",
       " 'maketrans',\n",
       " 'partition',\n",
       " 'removeprefix',\n",
       " 'removesuffix',\n",
       " 'replace',\n",
       " 'rfind',\n",
       " 'rindex',\n",
       " 'rjust',\n",
       " 'rpartition',\n",
       " 'rsplit',\n",
       " 'rstrip',\n",
       " 'split',\n",
       " 'splitlines',\n",
       " 'startswith',\n",
       " 'strip',\n",
       " 'swapcase',\n",
       " 'title',\n",
       " 'translate',\n",
       " 'upper',\n",
       " 'zfill']"
      ]
     },
     "execution_count": 19,
     "metadata": {},
     "output_type": "execute_result"
    }
   ],
   "source": [
    "from PySpice import __package__\n",
    "dir(__package__)"
   ]
  },
  {
   "cell_type": "code",
   "execution_count": 21,
   "id": "3e605bc9",
   "metadata": {},
   "outputs": [
    {
     "name": "stdout",
     "output_type": "stream",
     "text": [
      "<built-in function __dir__>\n"
     ]
    }
   ],
   "source": [
    "print(PySpice.__dir__)"
   ]
  },
  {
   "cell_type": "code",
   "execution_count": 22,
   "id": "bbf5e8e5",
   "metadata": {},
   "outputs": [
    {
     "name": "stdout",
     "output_type": "stream",
     "text": [
      "['match', 'fullmatch', 'search', 'sub', 'subn', 'split', 'findall', 'finditer', 'compile', 'purge', 'template', 'escape', 'error', 'Pattern', 'Match', 'A', 'I', 'L', 'M', 'S', 'X', 'U', 'ASCII', 'IGNORECASE', 'LOCALE', 'MULTILINE', 'DOTALL', 'VERBOSE', 'UNICODE']\n"
     ]
    }
   ],
   "source": [
    "# Importing re module\n",
    "import re\n",
    "\n",
    "# Printing different functions in re module\n",
    "print(re.__all__)"
   ]
  },
  {
   "cell_type": "code",
   "execution_count": 23,
   "id": "553b1dcb",
   "metadata": {},
   "outputs": [
    {
     "name": "stdout",
     "output_type": "stream",
     "text": [
      "[('__doc__', 'This module provides access to the mathematical functions\\ndefined by the C standard.'), ('__loader__', <class '_frozen_importlib.BuiltinImporter'>), ('__name__', 'math'), ('__package__', ''), ('__spec__', ModuleSpec(name='math', loader=<class '_frozen_importlib.BuiltinImporter'>, origin='built-in')), ('acos', <built-in function acos>), ('acosh', <built-in function acosh>), ('asin', <built-in function asin>), ('asinh', <built-in function asinh>), ('atan', <built-in function atan>), ('atan2', <built-in function atan2>), ('atanh', <built-in function atanh>), ('ceil', <built-in function ceil>), ('comb', <built-in function comb>), ('copysign', <built-in function copysign>), ('cos', <built-in function cos>), ('cosh', <built-in function cosh>), ('degrees', <built-in function degrees>), ('dist', <built-in function dist>), ('e', 2.718281828459045), ('erf', <built-in function erf>), ('erfc', <built-in function erfc>), ('exp', <built-in function exp>), ('expm1', <built-in function expm1>), ('fabs', <built-in function fabs>), ('factorial', <built-in function factorial>), ('floor', <built-in function floor>), ('fmod', <built-in function fmod>), ('frexp', <built-in function frexp>), ('fsum', <built-in function fsum>), ('gamma', <built-in function gamma>), ('gcd', <built-in function gcd>), ('hypot', <built-in function hypot>), ('inf', inf), ('isclose', <built-in function isclose>), ('isfinite', <built-in function isfinite>), ('isinf', <built-in function isinf>), ('isnan', <built-in function isnan>), ('isqrt', <built-in function isqrt>), ('lcm', <built-in function lcm>), ('ldexp', <built-in function ldexp>), ('lgamma', <built-in function lgamma>), ('log', <built-in function log>), ('log10', <built-in function log10>), ('log1p', <built-in function log1p>), ('log2', <built-in function log2>), ('modf', <built-in function modf>), ('nan', nan), ('nextafter', <built-in function nextafter>), ('perm', <built-in function perm>), ('pi', 3.141592653589793), ('pow', <built-in function pow>), ('prod', <built-in function prod>), ('radians', <built-in function radians>), ('remainder', <built-in function remainder>), ('sin', <built-in function sin>), ('sinh', <built-in function sinh>), ('sqrt', <built-in function sqrt>), ('tan', <built-in function tan>), ('tanh', <built-in function tanh>), ('tau', 6.283185307179586), ('trunc', <built-in function trunc>), ('ulp', <built-in function ulp>)] <function isfunction at 0x000001E8F7D2BD30>\n"
     ]
    }
   ],
   "source": [
    "from inspect import getmembers, isfunction\n",
    "\n",
    "# Importing math module\n",
    "import math as mt\n",
    "\n",
    "# Printing all the functions in math module\n",
    "print(getmembers(mt), isfunction)"
   ]
  },
  {
   "cell_type": "code",
   "execution_count": 24,
   "id": "a5eda800",
   "metadata": {},
   "outputs": [
    {
     "name": "stdout",
     "output_type": "stream",
     "text": [
      "[('GIT_TAG', 'v1.5'), ('__builtins__', {'__name__': 'builtins', '__doc__': \"Built-in functions, exceptions, and other objects.\\n\\nNoteworthy: None is the `nil' object; Ellipsis represents `...' in slices.\", '__package__': '', '__loader__': <class '_frozen_importlib.BuiltinImporter'>, '__spec__': ModuleSpec(name='builtins', loader=<class '_frozen_importlib.BuiltinImporter'>, origin='built-in'), '__build_class__': <built-in function __build_class__>, '__import__': <built-in function __import__>, 'abs': <built-in function abs>, 'all': <built-in function all>, 'any': <built-in function any>, 'ascii': <built-in function ascii>, 'bin': <built-in function bin>, 'breakpoint': <built-in function breakpoint>, 'callable': <built-in function callable>, 'chr': <built-in function chr>, 'compile': <built-in function compile>, 'delattr': <built-in function delattr>, 'dir': <built-in function dir>, 'divmod': <built-in function divmod>, 'eval': <built-in function eval>, 'exec': <built-in function exec>, 'format': <built-in function format>, 'getattr': <built-in function getattr>, 'globals': <built-in function globals>, 'hasattr': <built-in function hasattr>, 'hash': <built-in function hash>, 'hex': <built-in function hex>, 'id': <built-in function id>, 'input': <bound method Kernel.raw_input of <ipykernel.ipkernel.IPythonKernel object at 0x000001E8FC0F5AF0>>, 'isinstance': <built-in function isinstance>, 'issubclass': <built-in function issubclass>, 'iter': <built-in function iter>, 'len': <built-in function len>, 'locals': <built-in function locals>, 'max': <built-in function max>, 'min': <built-in function min>, 'next': <built-in function next>, 'oct': <built-in function oct>, 'ord': <built-in function ord>, 'pow': <built-in function pow>, 'print': <built-in function print>, 'repr': <built-in function repr>, 'round': <built-in function round>, 'setattr': <built-in function setattr>, 'sorted': <built-in function sorted>, 'sum': <built-in function sum>, 'vars': <built-in function vars>, 'None': None, 'Ellipsis': Ellipsis, 'NotImplemented': NotImplemented, 'False': False, 'True': True, 'bool': <class 'bool'>, 'memoryview': <class 'memoryview'>, 'bytearray': <class 'bytearray'>, 'bytes': <class 'bytes'>, 'classmethod': <class 'classmethod'>, 'complex': <class 'complex'>, 'dict': <class 'dict'>, 'enumerate': <class 'enumerate'>, 'filter': <class 'filter'>, 'float': <class 'float'>, 'frozenset': <class 'frozenset'>, 'property': <class 'property'>, 'int': <class 'int'>, 'list': <class 'list'>, 'map': <class 'map'>, 'object': <class 'object'>, 'range': <class 'range'>, 'reversed': <class 'reversed'>, 'set': <class 'set'>, 'slice': <class 'slice'>, 'staticmethod': <class 'staticmethod'>, 'str': <class 'str'>, 'super': <class 'super'>, 'tuple': <class 'tuple'>, 'type': <class 'type'>, 'zip': <class 'zip'>, '__debug__': True, 'BaseException': <class 'BaseException'>, 'Exception': <class 'Exception'>, 'TypeError': <class 'TypeError'>, 'StopAsyncIteration': <class 'StopAsyncIteration'>, 'StopIteration': <class 'StopIteration'>, 'GeneratorExit': <class 'GeneratorExit'>, 'SystemExit': <class 'SystemExit'>, 'KeyboardInterrupt': <class 'KeyboardInterrupt'>, 'ImportError': <class 'ImportError'>, 'ModuleNotFoundError': <class 'ModuleNotFoundError'>, 'OSError': <class 'OSError'>, 'EnvironmentError': <class 'OSError'>, 'IOError': <class 'OSError'>, 'WindowsError': <class 'OSError'>, 'EOFError': <class 'EOFError'>, 'RuntimeError': <class 'RuntimeError'>, 'RecursionError': <class 'RecursionError'>, 'NotImplementedError': <class 'NotImplementedError'>, 'NameError': <class 'NameError'>, 'UnboundLocalError': <class 'UnboundLocalError'>, 'AttributeError': <class 'AttributeError'>, 'SyntaxError': <class 'SyntaxError'>, 'IndentationError': <class 'IndentationError'>, 'TabError': <class 'TabError'>, 'LookupError': <class 'LookupError'>, 'IndexError': <class 'IndexError'>, 'KeyError': <class 'KeyError'>, 'ValueError': <class 'ValueError'>, 'UnicodeError': <class 'UnicodeError'>, 'UnicodeEncodeError': <class 'UnicodeEncodeError'>, 'UnicodeDecodeError': <class 'UnicodeDecodeError'>, 'UnicodeTranslateError': <class 'UnicodeTranslateError'>, 'AssertionError': <class 'AssertionError'>, 'ArithmeticError': <class 'ArithmeticError'>, 'FloatingPointError': <class 'FloatingPointError'>, 'OverflowError': <class 'OverflowError'>, 'ZeroDivisionError': <class 'ZeroDivisionError'>, 'SystemError': <class 'SystemError'>, 'ReferenceError': <class 'ReferenceError'>, 'MemoryError': <class 'MemoryError'>, 'BufferError': <class 'BufferError'>, 'Warning': <class 'Warning'>, 'UserWarning': <class 'UserWarning'>, 'DeprecationWarning': <class 'DeprecationWarning'>, 'PendingDeprecationWarning': <class 'PendingDeprecationWarning'>, 'SyntaxWarning': <class 'SyntaxWarning'>, 'RuntimeWarning': <class 'RuntimeWarning'>, 'FutureWarning': <class 'FutureWarning'>, 'ImportWarning': <class 'ImportWarning'>, 'UnicodeWarning': <class 'UnicodeWarning'>, 'BytesWarning': <class 'BytesWarning'>, 'ResourceWarning': <class 'ResourceWarning'>, 'ConnectionError': <class 'ConnectionError'>, 'BlockingIOError': <class 'BlockingIOError'>, 'BrokenPipeError': <class 'BrokenPipeError'>, 'ChildProcessError': <class 'ChildProcessError'>, 'ConnectionAbortedError': <class 'ConnectionAbortedError'>, 'ConnectionRefusedError': <class 'ConnectionRefusedError'>, 'ConnectionResetError': <class 'ConnectionResetError'>, 'FileExistsError': <class 'FileExistsError'>, 'FileNotFoundError': <class 'FileNotFoundError'>, 'IsADirectoryError': <class 'IsADirectoryError'>, 'NotADirectoryError': <class 'NotADirectoryError'>, 'InterruptedError': <class 'InterruptedError'>, 'PermissionError': <class 'PermissionError'>, 'ProcessLookupError': <class 'ProcessLookupError'>, 'TimeoutError': <class 'TimeoutError'>, 'open': <built-in function open>, 'copyright': Copyright (c) 2001-2022 Python Software Foundation.\n",
      "All Rights Reserved.\n",
      "\n",
      "Copyright (c) 2000 BeOpen.com.\n",
      "All Rights Reserved.\n",
      "\n",
      "Copyright (c) 1995-2001 Corporation for National Research Initiatives.\n",
      "All Rights Reserved.\n",
      "\n",
      "Copyright (c) 1991-1995 Stichting Mathematisch Centrum, Amsterdam.\n",
      "All Rights Reserved., 'credits':     Thanks to CWI, CNRI, BeOpen.com, Zope Corporation and a cast of thousands\n",
      "    for supporting Python development.  See www.python.org for more information., 'license': See https://www.python.org/psf/license/, 'help': Type help() for interactive help, or help(object) for help about object., 'execfile': <function execfile at 0x000001E8FBDA3670>, 'runfile': <function runfile at 0x000001E8FBE6DAF0>, '__IPYTHON__': True, 'display': <function display at 0x000001E8F9FAE9D0>, 'get_ipython': <bound method InteractiveShell.get_ipython of <ipykernel.zmqshell.ZMQInteractiveShell object at 0x000001E8FC120100>>}), ('__cached__', 'C:\\\\Users\\\\os\\\\anaconda3\\\\lib\\\\site-packages\\\\PySpice\\\\__pycache__\\\\__init__.cpython-39.pyc'), ('__doc__', None), ('__file__', 'C:\\\\Users\\\\os\\\\anaconda3\\\\lib\\\\site-packages\\\\PySpice\\\\__init__.py'), ('__loader__', <_frozen_importlib_external.SourceFileLoader object at 0x000001E8FD251C10>), ('__name__', 'PySpice'), ('__package__', 'PySpice'), ('__path__', ['C:\\\\Users\\\\os\\\\anaconda3\\\\lib\\\\site-packages\\\\PySpice']), ('__spec__', ModuleSpec(name='PySpice', loader=<_frozen_importlib_external.SourceFileLoader object at 0x000001E8FD251C10>, origin='C:\\\\Users\\\\os\\\\anaconda3\\\\lib\\\\site-packages\\\\PySpice\\\\__init__.py', submodule_search_locations=['C:\\\\Users\\\\os\\\\anaconda3\\\\lib\\\\site-packages\\\\PySpice'])), ('__version__', '1.5'), ('show_version', <function show_version at 0x000001E8FDC86430>)] <function isfunction at 0x000001E8F7D2BD30>\n"
     ]
    }
   ],
   "source": [
    "from inspect import getmembers, isfunction\n",
    "\n",
    "# Importing math module\n",
    "import PySpice\n",
    "\n",
    "# Printing all the functions in math module\n",
    "print(getmembers(PySpice), isfunction)"
   ]
  }
 ],
 "metadata": {
  "kernelspec": {
   "display_name": "Python 3 (ipykernel)",
   "language": "python",
   "name": "python3"
  },
  "language_info": {
   "codemirror_mode": {
    "name": "ipython",
    "version": 3
   },
   "file_extension": ".py",
   "mimetype": "text/x-python",
   "name": "python",
   "nbconvert_exporter": "python",
   "pygments_lexer": "ipython3",
   "version": "3.9.12"
  }
 },
 "nbformat": 4,
 "nbformat_minor": 5
}
