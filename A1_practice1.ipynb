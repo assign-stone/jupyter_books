{
 "cells": [
  {
   "cell_type": "markdown",
   "id": "a6d0e463",
   "metadata": {},
   "source": [
    "INT & FLOAT\n",
    "1. Take two numbers as input and print their difference.\n",
    "2. Multiply a float with an integer and print the result.\n",
    "3. Divide a number by 2 and show the remainder.\n",
    "4. Check if a given number is divisible by 7.\n",
    "5. Round a float number to 1 decimal place.\n",
    "6. Convert an integer to a float and print both types.\n",
    "7. Take a float input and print its integer part only.\n",
    "8. Use the modulus operator to get the last digit of a number.\n",
    "9. Add 10 to an integer and then subtract 5 from it. Print the result.\n",
    "10. Calculate simple interest given P, R, T (No loop needed)."
   ]
  },
  {
   "cell_type": "markdown",
   "id": "ca1205e7",
   "metadata": {},
   "source": []
  },
  {
   "cell_type": "code",
   "execution_count": 26,
   "id": "bc2704d2",
   "metadata": {},
   "outputs": [
    {
     "name": "stdout",
     "output_type": "stream",
     "text": [
      "-15\n",
      "15\n"
     ]
    }
   ],
   "source": [
    "a = int(input(\"enter any number\"))\n",
    "b = int(input(\"enter second number\"))\n",
    "\n",
    "print(b-a)\n",
    "print(a-b)"
   ]
  },
  {
   "cell_type": "code",
   "execution_count": null,
   "id": "57ac29d9",
   "metadata": {},
   "outputs": [
    {
     "name": "stdout",
     "output_type": "stream",
     "text": [
      "200.0\n"
     ]
    }
   ],
   "source": [
    "c = 10.0\n",
    "d = 20\n",
    "\n",
    "f=c*d\n",
    "print(f)\n",
    "\n",
    "# the output is in float so if int*float = float"
   ]
  },
  {
   "cell_type": "code",
   "execution_count": null,
   "id": "27b5bd75",
   "metadata": {},
   "outputs": [
    {
     "name": "stdout",
     "output_type": "stream",
     "text": [
      "1\n"
     ]
    }
   ],
   "source": [
    "num = int(input(\"enter number\"))\n",
    "\n",
    "result = num%2\n",
    "print(result)"
   ]
  },
  {
   "cell_type": "code",
   "execution_count": null,
   "id": "390a5941",
   "metadata": {},
   "outputs": [
    {
     "name": "stdout",
     "output_type": "stream",
     "text": [
      "not divisible by 7\n"
     ]
    }
   ],
   "source": [
    "number = int(input(\"enter number: \"))\n",
    "\n",
    "if (number%7==0):\n",
    "    print(\"number is divisible by 7\")\n",
    "else:\n",
    "    print(\"not divisible by 7\")"
   ]
  },
  {
   "cell_type": "code",
   "execution_count": null,
   "id": "964c2cb8",
   "metadata": {},
   "outputs": [
    {
     "name": "stdout",
     "output_type": "stream",
     "text": [
      "23.6\n"
     ]
    }
   ],
   "source": [
    "fl_num = 23.56\n",
    "\n",
    "result =round(fl_num,1)\n",
    "print(result)"
   ]
  },
  {
   "cell_type": "code",
   "execution_count": null,
   "id": "93bce9ec",
   "metadata": {},
   "outputs": [
    {
     "name": "stdout",
     "output_type": "stream",
     "text": [
      "15000\n",
      "<class 'int'>\n",
      "15000.0\n",
      "<class 'float'>\n"
     ]
    }
   ],
   "source": [
    "price = 15000\n",
    "print(price)\n",
    "print(type(price))\n",
    "\n",
    "amount = float(price)\n",
    "print(amount)\n",
    "print(type(amount))"
   ]
  },
  {
   "cell_type": "code",
   "execution_count": null,
   "id": "2a895f3f",
   "metadata": {},
   "outputs": [
    {
     "data": {
      "text/plain": [
       "56"
      ]
     },
     "execution_count": 16,
     "metadata": {},
     "output_type": "execute_result"
    }
   ],
   "source": [
    "input_num = float(input(\"enter float number\"))\n",
    "\n",
    "str1 = str(input_num).split(\".\")\n",
    "int(str1[0])"
   ]
  },
  {
   "cell_type": "code",
   "execution_count": null,
   "id": "f8a29a2e",
   "metadata": {},
   "outputs": [
    {
     "data": {
      "text/plain": [
       "12"
      ]
     },
     "execution_count": 27,
     "metadata": {},
     "output_type": "execute_result"
    }
   ],
   "source": [
    "int(12.987)"
   ]
  },
  {
   "cell_type": "code",
   "execution_count": null,
   "id": "6f6b9011",
   "metadata": {},
   "outputs": [
    {
     "data": {
      "text/plain": [
       "3"
      ]
     },
     "execution_count": 18,
     "metadata": {},
     "output_type": "execute_result"
    }
   ],
   "source": [
    "num_ber= 4563\n",
    "x = num_ber%10\n",
    "x"
   ]
  },
  {
   "cell_type": "code",
   "execution_count": null,
   "id": "6abc9936",
   "metadata": {},
   "outputs": [
    {
     "name": "stdout",
     "output_type": "stream",
     "text": [
      "71\n"
     ]
    }
   ],
   "source": [
    "input_number = int(input(\"enter any number\"))\n",
    "result = input_number+10\n",
    "print(result-5)"
   ]
  },
  {
   "cell_type": "code",
   "execution_count": null,
   "id": "8a57a04f",
   "metadata": {},
   "outputs": [
    {
     "name": "stdout",
     "output_type": "stream",
     "text": [
      "4860.0\n"
     ]
    }
   ],
   "source": [
    "principal = float(input(\"enter principal\"))\n",
    "rate = float(input(\"enter rate\"))\n",
    "time = float(input(\"enter time\"))\n",
    "\n",
    "si = principal*rate*time/100\n",
    "print(si)"
   ]
  },
  {
   "cell_type": "markdown",
   "id": "786b2da4",
   "metadata": {},
   "source": [
    "STR (String)\n",
    "\n",
    "11. Take a name as input and print its first and last characters.\n",
    "12. Convert a string to uppercase.\n",
    "13. Convert a string to lowercase.\n",
    "14. Find the position of the first occurrence of 'a' in a string.\n",
    "15. Replace all 'e' characters in a string with '@'.\n",
    "16. Concatenate two strings with a space in between.\n",
    "17. Print the length of a given string.\n",
    "18. Slice the first 3 characters of a string.\n",
    "19. Check if a string contains the word 'hello'.\n",
    "20. Count how many times the letter 'i' appears in a string."
   ]
  },
  {
   "cell_type": "code",
   "execution_count": null,
   "id": "1c64279c",
   "metadata": {},
   "outputs": [
    {
     "name": "stdout",
     "output_type": "stream",
     "text": [
      "Shivani Joshi\n",
      "S\n",
      "i\n"
     ]
    }
   ],
   "source": [
    "name = input(\"enter your full name\")\n",
    "print(name)\n",
    "\n",
    "print(name[0])\n",
    "print(name[-1])"
   ]
  },
  {
   "cell_type": "code",
   "execution_count": null,
   "id": "1645cd4d",
   "metadata": {},
   "outputs": [
    {
     "data": {
      "text/plain": [
       "'SHIVANI JOSHI'"
      ]
     },
     "execution_count": 23,
     "metadata": {},
     "output_type": "execute_result"
    }
   ],
   "source": [
    "name.upper()"
   ]
  },
  {
   "cell_type": "code",
   "execution_count": null,
   "id": "06f07f30",
   "metadata": {},
   "outputs": [
    {
     "data": {
      "text/plain": [
       "'shivani joshi'"
      ]
     },
     "execution_count": 24,
     "metadata": {},
     "output_type": "execute_result"
    }
   ],
   "source": [
    "name.lower()"
   ]
  },
  {
   "cell_type": "code",
   "execution_count": null,
   "id": "df4ad68c",
   "metadata": {},
   "outputs": [
    {
     "data": {
      "text/plain": [
       "1"
      ]
     },
     "execution_count": 25,
     "metadata": {},
     "output_type": "execute_result"
    }
   ],
   "source": [
    "name.count('a')"
   ]
  },
  {
   "cell_type": "code",
   "execution_count": null,
   "id": "3b58cf7d",
   "metadata": {},
   "outputs": [
    {
     "data": {
      "text/plain": [
       "4"
      ]
     },
     "execution_count": 27,
     "metadata": {},
     "output_type": "execute_result"
    }
   ],
   "source": [
    "name.index('a',0)"
   ]
  },
  {
   "cell_type": "code",
   "execution_count": null,
   "id": "31686bb2",
   "metadata": {},
   "outputs": [
    {
     "data": {
      "text/plain": [
       "2"
      ]
     },
     "execution_count": 28,
     "metadata": {},
     "output_type": "execute_result"
    }
   ],
   "source": [
    "name.index('i',0)"
   ]
  },
  {
   "cell_type": "code",
   "execution_count": null,
   "id": "62ee094d",
   "metadata": {},
   "outputs": [
    {
     "data": {
      "text/plain": [
       "6"
      ]
     },
     "execution_count": 29,
     "metadata": {},
     "output_type": "execute_result"
    }
   ],
   "source": [
    "name.index('i',3)"
   ]
  },
  {
   "cell_type": "code",
   "execution_count": null,
   "id": "162bd137",
   "metadata": {},
   "outputs": [
    {
     "data": {
      "text/plain": [
       "12"
      ]
     },
     "execution_count": 30,
     "metadata": {},
     "output_type": "execute_result"
    }
   ],
   "source": [
    "name.index('i',7)"
   ]
  },
  {
   "cell_type": "code",
   "execution_count": null,
   "id": "697532f1",
   "metadata": {},
   "outputs": [
    {
     "ename": "ValueError",
     "evalue": "substring not found",
     "output_type": "error",
     "traceback": [
      "\u001b[31m---------------------------------------------------------------------------\u001b[39m",
      "\u001b[31mValueError\u001b[39m                                Traceback (most recent call last)",
      "\u001b[36mCell\u001b[39m\u001b[36m \u001b[39m\u001b[32mIn[32]\u001b[39m\u001b[32m, line 1\u001b[39m\n\u001b[32m----> \u001b[39m\u001b[32m1\u001b[39m \u001b[43mname\u001b[49m\u001b[43m.\u001b[49m\u001b[43mindex\u001b[49m\u001b[43m(\u001b[49m\u001b[33;43m'\u001b[39;49m\u001b[33;43mi\u001b[39;49m\u001b[33;43m'\u001b[39;49m\u001b[43m,\u001b[49m\u001b[32;43m13\u001b[39;49m\u001b[43m)\u001b[49m\n",
      "\u001b[31mValueError\u001b[39m: substring not found"
     ]
    }
   ],
   "source": [
    "name.index('i',13)"
   ]
  },
  {
   "cell_type": "code",
   "execution_count": null,
   "id": "c24d30d0",
   "metadata": {},
   "outputs": [
    {
     "name": "stdout",
     "output_type": "stream",
     "text": [
      "h@y! how ar@ you\n"
     ]
    }
   ],
   "source": [
    "string = \"hey! how are you\"\n",
    "print(string.replace(\"e\",'@'))\n"
   ]
  },
  {
   "cell_type": "code",
   "execution_count": null,
   "id": "7863e6d3",
   "metadata": {},
   "outputs": [
    {
     "name": "stdout",
     "output_type": "stream",
     "text": [
      "Avinash Singh\n"
     ]
    }
   ],
   "source": [
    "first_name = \"Avinash\"\n",
    "last_name = \"Singh\"\n",
    "\n",
    "full_name = first_name+\" \"+last_name\n",
    "print(full_name)"
   ]
  },
  {
   "cell_type": "code",
   "execution_count": null,
   "id": "2ca0ce40",
   "metadata": {},
   "outputs": [
    {
     "name": "stdout",
     "output_type": "stream",
     "text": [
      "20\n"
     ]
    }
   ],
   "source": [
    "given_str = \"I am learning python\"\n",
    "print(len(given_str))"
   ]
  },
  {
   "cell_type": "code",
   "execution_count": null,
   "id": "4534a991",
   "metadata": {},
   "outputs": [
    {
     "data": {
      "text/plain": [
       "'I a'"
      ]
     },
     "execution_count": 41,
     "metadata": {},
     "output_type": "execute_result"
    }
   ],
   "source": [
    "given_str[0:3]"
   ]
  },
  {
   "cell_type": "code",
   "execution_count": null,
   "id": "6c7b39b5",
   "metadata": {},
   "outputs": [],
   "source": [
    "str2 = given_str.find('hello')"
   ]
  },
  {
   "cell_type": "code",
   "execution_count": null,
   "id": "9e696634",
   "metadata": {},
   "outputs": [
    {
     "name": "stdout",
     "output_type": "stream",
     "text": [
      "not a trace of 'hello'\n"
     ]
    }
   ],
   "source": [
    "if str2==-1:\n",
    "    print(\"not a trace of 'hello'\")\n",
    "else:\n",
    "    print(\"trace of'hello'\")"
   ]
  },
  {
   "cell_type": "code",
   "execution_count": null,
   "id": "3381bcd6",
   "metadata": {},
   "outputs": [],
   "source": [
    "full_name = \"Shivani\""
   ]
  },
  {
   "cell_type": "code",
   "execution_count": null,
   "id": "6a62fa1f",
   "metadata": {},
   "outputs": [
    {
     "data": {
      "text/plain": [
       "2"
      ]
     },
     "execution_count": 46,
     "metadata": {},
     "output_type": "execute_result"
    }
   ],
   "source": [
    "full_name.count('i')"
   ]
  },
  {
   "cell_type": "markdown",
   "id": "06bd310c",
   "metadata": {},
   "source": [
    "LIST\n",
    "\n",
    "21. Create a list of 3 items and print it.\n",
    "22. Access the second element of a list and print it.\n",
    "23. Replace the last item in a list with a new value.\n",
    "24. Append an item to the list and print it.\n",
    "25. Insert an item at the second position in a list.\n",
    "26. Remove a specific item from the list.\n",
    "27. Print the length of the list.\n",
    "28. Sort the list in ascending order.\n",
    "29. Reverse the list using slicing.\n",
    "30. Join all elements in a list of strings into a single string separated by commas."
   ]
  },
  {
   "cell_type": "code",
   "execution_count": null,
   "id": "14923123",
   "metadata": {},
   "outputs": [
    {
     "data": {
      "text/plain": [
       "['Lily', 23, 7987524632]"
      ]
     },
     "execution_count": 1,
     "metadata": {},
     "output_type": "execute_result"
    }
   ],
   "source": [
    "l1 = [\"Lily\",23,7987524632]\n",
    "l1"
   ]
  },
  {
   "cell_type": "code",
   "execution_count": null,
   "id": "96a157f6",
   "metadata": {},
   "outputs": [
    {
     "data": {
      "text/plain": [
       "23"
      ]
     },
     "execution_count": 2,
     "metadata": {},
     "output_type": "execute_result"
    }
   ],
   "source": [
    "l1[1]"
   ]
  },
  {
   "cell_type": "code",
   "execution_count": null,
   "id": "9730728b",
   "metadata": {},
   "outputs": [],
   "source": [
    "l1[-1]=9587246582"
   ]
  },
  {
   "cell_type": "code",
   "execution_count": null,
   "id": "e761d112",
   "metadata": {},
   "outputs": [
    {
     "data": {
      "text/plain": [
       "['Lily', 23, 9587246582]"
      ]
     },
     "execution_count": 4,
     "metadata": {},
     "output_type": "execute_result"
    }
   ],
   "source": [
    "l1"
   ]
  },
  {
   "cell_type": "code",
   "execution_count": null,
   "id": "a7a1804c",
   "metadata": {},
   "outputs": [],
   "source": [
    "l1.append(True)"
   ]
  },
  {
   "cell_type": "code",
   "execution_count": null,
   "id": "a6d3920c",
   "metadata": {},
   "outputs": [
    {
     "data": {
      "text/plain": [
       "['Lily', 23, 9587246582, True]"
      ]
     },
     "execution_count": 6,
     "metadata": {},
     "output_type": "execute_result"
    }
   ],
   "source": [
    "l1"
   ]
  },
  {
   "cell_type": "code",
   "execution_count": null,
   "id": "c406186f",
   "metadata": {},
   "outputs": [],
   "source": [
    "l1.insert(2,100)"
   ]
  },
  {
   "cell_type": "code",
   "execution_count": null,
   "id": "2e1352fb",
   "metadata": {},
   "outputs": [
    {
     "data": {
      "text/plain": [
       "['Lily', 23, 100, 9587246582, True]"
      ]
     },
     "execution_count": 9,
     "metadata": {},
     "output_type": "execute_result"
    }
   ],
   "source": [
    "l1"
   ]
  },
  {
   "cell_type": "code",
   "execution_count": null,
   "id": "d07540b2",
   "metadata": {},
   "outputs": [],
   "source": [
    "l1.remove(100)"
   ]
  },
  {
   "cell_type": "code",
   "execution_count": null,
   "id": "7b502a8f",
   "metadata": {},
   "outputs": [
    {
     "data": {
      "text/plain": [
       "['Lily', 23, 9587246582, True]"
      ]
     },
     "execution_count": 11,
     "metadata": {},
     "output_type": "execute_result"
    }
   ],
   "source": [
    "l1"
   ]
  },
  {
   "cell_type": "code",
   "execution_count": null,
   "id": "d3be9f8b",
   "metadata": {},
   "outputs": [
    {
     "data": {
      "text/plain": [
       "4"
      ]
     },
     "execution_count": 12,
     "metadata": {},
     "output_type": "execute_result"
    }
   ],
   "source": [
    "len(l1)"
   ]
  },
  {
   "cell_type": "code",
   "execution_count": null,
   "id": "1ae4bcd1",
   "metadata": {},
   "outputs": [],
   "source": [
    "l2=[3,6,76,30,4,66,36,9,0]"
   ]
  },
  {
   "cell_type": "code",
   "execution_count": null,
   "id": "24165969",
   "metadata": {},
   "outputs": [],
   "source": [
    "l2.sort()"
   ]
  },
  {
   "cell_type": "code",
   "execution_count": null,
   "id": "8f6e5d93",
   "metadata": {},
   "outputs": [
    {
     "data": {
      "text/plain": [
       "[0, 3, 4, 6, 9, 30, 36, 66, 76]"
      ]
     },
     "execution_count": 18,
     "metadata": {},
     "output_type": "execute_result"
    }
   ],
   "source": [
    "l2"
   ]
  },
  {
   "cell_type": "code",
   "execution_count": null,
   "id": "bfe15bc8",
   "metadata": {},
   "outputs": [],
   "source": [
    "li = [\"A\",\"Z\",\"B\",\"h\",\"#\"]"
   ]
  },
  {
   "cell_type": "code",
   "execution_count": null,
   "id": "df2afe3a",
   "metadata": {},
   "outputs": [
    {
     "data": {
      "text/plain": [
       "['#', 'h', 'B', 'Z', 'A']"
      ]
     },
     "execution_count": 20,
     "metadata": {},
     "output_type": "execute_result"
    }
   ],
   "source": [
    "li[::-1]"
   ]
  },
  {
   "cell_type": "code",
   "execution_count": null,
   "id": "35f1e238",
   "metadata": {},
   "outputs": [
    {
     "data": {
      "text/plain": [
       "['Monday', 'Tuesday', 'Wednesday', 'Thurday', 'Friday', 'Saturday', 'Sunday']"
      ]
     },
     "execution_count": 21,
     "metadata": {},
     "output_type": "execute_result"
    }
   ],
   "source": [
    "days=[\"Monday\",\"Tuesday\",\"Wednesday\",\"Thurday\",\"Friday\",\"Saturday\",\"Sunday\"]\n",
    "days"
   ]
  },
  {
   "cell_type": "code",
   "execution_count": null,
   "id": "2c93ebe8",
   "metadata": {},
   "outputs": [
    {
     "data": {
      "text/plain": [
       "'Monday,Tuesday,Wednesday,Thurday,Friday,Saturday,Sunday'"
      ]
     },
     "execution_count": 22,
     "metadata": {},
     "output_type": "execute_result"
    }
   ],
   "source": [
    "\",\".join(days)"
   ]
  },
  {
   "cell_type": "markdown",
   "id": "ce09e7fb",
   "metadata": {},
   "source": [
    "TUPLE\n",
    "\n",
    "31. Create a tuple with 3 integers and print it.\n",
    "32. Access the first element of a tuple.\n",
    "33. Slice the tuple to get the last two elements.\n",
    "34. Use the 'in' keyword to check if a value exists in the tuple.\n",
    "35. Get the length of the tuple.\n",
    "36. Convert the tuple to a list.\n",
    "37. Count how many times a value appears in a tuple.\n",
    "38. Find the index of a given value in the tuple.\n",
    "39. Concatenate two tuples.\n",
    "40. Check if two tuples are equal."
   ]
  },
  {
   "cell_type": "code",
   "execution_count": null,
   "id": "1db4c969",
   "metadata": {},
   "outputs": [
    {
     "name": "stdout",
     "output_type": "stream",
     "text": [
      "<class 'tuple'>\n"
     ]
    }
   ],
   "source": [
    "tup = (3,1,8)\n",
    "tup\n",
    "print(type(tup))"
   ]
  },
  {
   "cell_type": "code",
   "execution_count": null,
   "id": "9faff9fe",
   "metadata": {},
   "outputs": [
    {
     "data": {
      "text/plain": [
       "3"
      ]
     },
     "execution_count": 25,
     "metadata": {},
     "output_type": "execute_result"
    }
   ],
   "source": [
    "tup[0]"
   ]
  },
  {
   "cell_type": "code",
   "execution_count": null,
   "id": "1b599d80",
   "metadata": {},
   "outputs": [
    {
     "data": {
      "text/plain": [
       "(1, 8)"
      ]
     },
     "execution_count": 26,
     "metadata": {},
     "output_type": "execute_result"
    }
   ],
   "source": [
    "tup[1:3]"
   ]
  },
  {
   "cell_type": "code",
   "execution_count": null,
   "id": "8a922a0a",
   "metadata": {},
   "outputs": [
    {
     "data": {
      "text/plain": [
       "True"
      ]
     },
     "execution_count": 29,
     "metadata": {},
     "output_type": "execute_result"
    }
   ],
   "source": [
    "3 in tup"
   ]
  },
  {
   "cell_type": "code",
   "execution_count": null,
   "id": "5a691fa3",
   "metadata": {},
   "outputs": [
    {
     "data": {
      "text/plain": [
       "3"
      ]
     },
     "execution_count": 30,
     "metadata": {},
     "output_type": "execute_result"
    }
   ],
   "source": [
    "len(tup)"
   ]
  },
  {
   "cell_type": "code",
   "execution_count": null,
   "id": "64a73f32",
   "metadata": {},
   "outputs": [
    {
     "data": {
      "text/plain": [
       "[3, 1, 8]"
      ]
     },
     "execution_count": 31,
     "metadata": {},
     "output_type": "execute_result"
    }
   ],
   "source": [
    "list(tup)"
   ]
  },
  {
   "cell_type": "code",
   "execution_count": null,
   "id": "fd6b644f",
   "metadata": {},
   "outputs": [
    {
     "data": {
      "text/plain": [
       "3"
      ]
     },
     "execution_count": 32,
     "metadata": {},
     "output_type": "execute_result"
    }
   ],
   "source": [
    "t = (2,4,6,7,4,5,9,4)\n",
    "t.count(4)"
   ]
  },
  {
   "cell_type": "code",
   "execution_count": null,
   "id": "1259c44a",
   "metadata": {},
   "outputs": [
    {
     "data": {
      "text/plain": [
       "3"
      ]
     },
     "execution_count": 33,
     "metadata": {},
     "output_type": "execute_result"
    }
   ],
   "source": [
    "t.index(7)"
   ]
  },
  {
   "cell_type": "code",
   "execution_count": null,
   "id": "4b67c635",
   "metadata": {},
   "outputs": [
    {
     "data": {
      "text/plain": [
       "(1, 3, 5, 1, 3, 5)"
      ]
     },
     "execution_count": 37,
     "metadata": {},
     "output_type": "execute_result"
    }
   ],
   "source": [
    "t1=(1,3,5)\n",
    "t2=(1,3,5)\n",
    "\n",
    "t10 = t1+t2\n",
    "t10"
   ]
  },
  {
   "cell_type": "code",
   "execution_count": null,
   "id": "848449a0",
   "metadata": {},
   "outputs": [
    {
     "name": "stdout",
     "output_type": "stream",
     "text": [
      "tuples are equal\n"
     ]
    }
   ],
   "source": [
    "if t1==t2:\n",
    "    print(\"tuples are equal\")\n",
    "else:\n",
    "    print(\"tuples are nt equal\")"
   ]
  },
  {
   "cell_type": "markdown",
   "id": "566883d8",
   "metadata": {},
   "source": [
    "DICT (Dictionary)\n",
    "\n",
    "41. Create a dictionary with keys: 'name', 'age', 'city'.\n",
    "42. Access the value of the key 'name'.\n",
    "43. Update the value of 'age' in the dictionary.\n",
    "44. Add a new key 'email' with any value.\n",
    "45. Delete the key 'city' from the dictionary.\n",
    "46. Print all the keys of the dictionary.\n",
    "47. Print all the values of the dictionary.\n",
    "48. Check if 'age' exists as a key in the dictionary.\n",
    "49. Get the value of a key using the get() method.\n",
    "50. Clear all items from the dictionary."
   ]
  },
  {
   "cell_type": "code",
   "execution_count": 27,
   "id": "51adfffa",
   "metadata": {},
   "outputs": [
    {
     "data": {
      "text/plain": [
       "{'name': 'Rahul', 'age': 25, 'city': 'Indore'}"
      ]
     },
     "execution_count": 27,
     "metadata": {},
     "output_type": "execute_result"
    }
   ],
   "source": [
    "di1 = {'name':'Rahul','age':25,'city':'Indore'}\n",
    "di1"
   ]
  },
  {
   "cell_type": "code",
   "execution_count": 28,
   "id": "57aea483",
   "metadata": {},
   "outputs": [
    {
     "data": {
      "text/plain": [
       "'Rahul'"
      ]
     },
     "execution_count": 28,
     "metadata": {},
     "output_type": "execute_result"
    }
   ],
   "source": [
    "di1.get('name')"
   ]
  },
  {
   "cell_type": "code",
   "execution_count": 29,
   "id": "1a6fb666",
   "metadata": {},
   "outputs": [
    {
     "data": {
      "text/plain": [
       "'Rahul'"
      ]
     },
     "execution_count": 29,
     "metadata": {},
     "output_type": "execute_result"
    }
   ],
   "source": [
    "di1['name']"
   ]
  },
  {
   "cell_type": "code",
   "execution_count": 30,
   "id": "c552d15f",
   "metadata": {},
   "outputs": [],
   "source": [
    "di1['age']=33"
   ]
  },
  {
   "cell_type": "code",
   "execution_count": 31,
   "id": "020bcc4b",
   "metadata": {},
   "outputs": [
    {
     "data": {
      "text/plain": [
       "{'name': 'Rahul', 'age': 33, 'city': 'Indore'}"
      ]
     },
     "execution_count": 31,
     "metadata": {},
     "output_type": "execute_result"
    }
   ],
   "source": [
    "di1"
   ]
  },
  {
   "cell_type": "code",
   "execution_count": 32,
   "id": "644777cb",
   "metadata": {},
   "outputs": [],
   "source": [
    "di1['email']='rahul@123.com'"
   ]
  },
  {
   "cell_type": "code",
   "execution_count": 33,
   "id": "ca8b67d5",
   "metadata": {},
   "outputs": [
    {
     "data": {
      "text/plain": [
       "{'name': 'Rahul', 'age': 33, 'city': 'Indore', 'email': 'rahul@123.com'}"
      ]
     },
     "execution_count": 33,
     "metadata": {},
     "output_type": "execute_result"
    }
   ],
   "source": [
    "di1"
   ]
  },
  {
   "cell_type": "code",
   "execution_count": 34,
   "id": "39abbd6d",
   "metadata": {},
   "outputs": [
    {
     "data": {
      "text/plain": [
       "'Indore'"
      ]
     },
     "execution_count": 34,
     "metadata": {},
     "output_type": "execute_result"
    }
   ],
   "source": [
    "di1.pop('city')"
   ]
  },
  {
   "cell_type": "code",
   "execution_count": 35,
   "id": "247f2567",
   "metadata": {},
   "outputs": [
    {
     "data": {
      "text/plain": [
       "{'name': 'Rahul', 'age': 33, 'email': 'rahul@123.com'}"
      ]
     },
     "execution_count": 35,
     "metadata": {},
     "output_type": "execute_result"
    }
   ],
   "source": [
    "di1"
   ]
  },
  {
   "cell_type": "code",
   "execution_count": 36,
   "id": "4869284d",
   "metadata": {},
   "outputs": [
    {
     "data": {
      "text/plain": [
       "dict_keys(['name', 'age', 'email'])"
      ]
     },
     "execution_count": 36,
     "metadata": {},
     "output_type": "execute_result"
    }
   ],
   "source": [
    "di1.keys()"
   ]
  },
  {
   "cell_type": "code",
   "execution_count": 37,
   "id": "fd58653b",
   "metadata": {},
   "outputs": [
    {
     "data": {
      "text/plain": [
       "dict_values(['Rahul', 33, 'rahul@123.com'])"
      ]
     },
     "execution_count": 37,
     "metadata": {},
     "output_type": "execute_result"
    }
   ],
   "source": [
    "di1.values()"
   ]
  },
  {
   "cell_type": "code",
   "execution_count": 40,
   "id": "6e506d9e",
   "metadata": {},
   "outputs": [
    {
     "data": {
      "text/plain": [
       "33"
      ]
     },
     "execution_count": 40,
     "metadata": {},
     "output_type": "execute_result"
    }
   ],
   "source": [
    "di1.get('age','key not found')"
   ]
  },
  {
   "cell_type": "code",
   "execution_count": 41,
   "id": "ea4de7a9",
   "metadata": {},
   "outputs": [
    {
     "data": {
      "text/plain": [
       "'rahul@123.com'"
      ]
     },
     "execution_count": 41,
     "metadata": {},
     "output_type": "execute_result"
    }
   ],
   "source": [
    "di1.get('email')"
   ]
  },
  {
   "cell_type": "code",
   "execution_count": 43,
   "id": "09e305e5",
   "metadata": {},
   "outputs": [],
   "source": [
    "di1.clear()"
   ]
  },
  {
   "cell_type": "code",
   "execution_count": 44,
   "id": "8e9af884",
   "metadata": {},
   "outputs": [
    {
     "data": {
      "text/plain": [
       "{}"
      ]
     },
     "execution_count": 44,
     "metadata": {},
     "output_type": "execute_result"
    }
   ],
   "source": [
    "di1"
   ]
  },
  {
   "cell_type": "markdown",
   "id": "a8115f26",
   "metadata": {},
   "source": [
    "SET\n",
    "\n",
    "51. Create a set with 3 numbers and print it.\n",
    "52. Add a new element to the set.\n",
    "53. Remove an element from the set.\n",
    "54. Check if an element exists in the set.\n",
    "55. Find the union of two sets.\n",
    "56. Find the intersection of two sets.\n",
    "57. Find the difference of two sets.\n",
    "58. Copy a set to a new variable.\n",
    "59. Check if a set is a subset of another.\n",
    "60. Clear all elements from a set."
   ]
  },
  {
   "cell_type": "code",
   "execution_count": 45,
   "id": "47fb6ef2",
   "metadata": {},
   "outputs": [
    {
     "data": {
      "text/plain": [
       "{3, 5, 10}"
      ]
     },
     "execution_count": 45,
     "metadata": {},
     "output_type": "execute_result"
    }
   ],
   "source": [
    "s1 = {3,5,10}\n",
    "s1"
   ]
  },
  {
   "cell_type": "code",
   "execution_count": 46,
   "id": "2247d14e",
   "metadata": {},
   "outputs": [
    {
     "name": "stdout",
     "output_type": "stream",
     "text": [
      "<class 'set'>\n"
     ]
    }
   ],
   "source": [
    "print(type(s1))"
   ]
  },
  {
   "cell_type": "code",
   "execution_count": 50,
   "id": "7d9edb57",
   "metadata": {},
   "outputs": [
    {
     "data": {
      "text/plain": [
       "[10, 3, 5]"
      ]
     },
     "execution_count": 50,
     "metadata": {},
     "output_type": "execute_result"
    }
   ],
   "source": [
    "l1=list(s1)\n",
    "l1"
   ]
  },
  {
   "cell_type": "code",
   "execution_count": 51,
   "id": "41cf9dc2",
   "metadata": {},
   "outputs": [],
   "source": [
    "l1.append(8)"
   ]
  },
  {
   "cell_type": "code",
   "execution_count": 52,
   "id": "a7d48eeb",
   "metadata": {},
   "outputs": [
    {
     "data": {
      "text/plain": [
       "[10, 3, 5, 8]"
      ]
     },
     "execution_count": 52,
     "metadata": {},
     "output_type": "execute_result"
    }
   ],
   "source": [
    "l1"
   ]
  },
  {
   "cell_type": "code",
   "execution_count": 54,
   "id": "1df06bce",
   "metadata": {},
   "outputs": [
    {
     "data": {
      "text/plain": [
       "{3, 5, 8, 10}"
      ]
     },
     "execution_count": 54,
     "metadata": {},
     "output_type": "execute_result"
    }
   ],
   "source": [
    "s2 =set(l1)\n",
    "s2"
   ]
  },
  {
   "cell_type": "code",
   "execution_count": 55,
   "id": "d7380488",
   "metadata": {},
   "outputs": [],
   "source": [
    "s2.remove(5)"
   ]
  },
  {
   "cell_type": "code",
   "execution_count": 56,
   "id": "61dc0719",
   "metadata": {},
   "outputs": [
    {
     "data": {
      "text/plain": [
       "{3, 8, 10}"
      ]
     },
     "execution_count": 56,
     "metadata": {},
     "output_type": "execute_result"
    }
   ],
   "source": [
    "s2"
   ]
  },
  {
   "cell_type": "code",
   "execution_count": 60,
   "id": "9ed0fd9a",
   "metadata": {},
   "outputs": [
    {
     "data": {
      "text/plain": [
       "True"
      ]
     },
     "execution_count": 60,
     "metadata": {},
     "output_type": "execute_result"
    }
   ],
   "source": [
    "3 in s2"
   ]
  },
  {
   "cell_type": "code",
   "execution_count": 59,
   "id": "59148d39",
   "metadata": {},
   "outputs": [
    {
     "name": "stdout",
     "output_type": "stream",
     "text": [
      "3 is present\n"
     ]
    }
   ],
   "source": [
    "if (3 in s2):\n",
    "    print(\"3 is present\")\n",
    "else:\n",
    "    print(\"3 is not present\")"
   ]
  },
  {
   "cell_type": "code",
   "execution_count": 61,
   "id": "1d460bb8",
   "metadata": {},
   "outputs": [],
   "source": [
    "si1 = {2,5,4,6,7,9}\n",
    "si2 = {3,6,10,4,6,7}"
   ]
  },
  {
   "cell_type": "code",
   "execution_count": 62,
   "id": "a96d3cb3",
   "metadata": {},
   "outputs": [
    {
     "data": {
      "text/plain": [
       "{2, 3, 4, 5, 6, 7, 9, 10}"
      ]
     },
     "execution_count": 62,
     "metadata": {},
     "output_type": "execute_result"
    }
   ],
   "source": [
    "si1.union(si2)"
   ]
  },
  {
   "cell_type": "code",
   "execution_count": 63,
   "id": "cb4ca597",
   "metadata": {},
   "outputs": [
    {
     "data": {
      "text/plain": [
       "{4, 6, 7}"
      ]
     },
     "execution_count": 63,
     "metadata": {},
     "output_type": "execute_result"
    }
   ],
   "source": [
    "si1.intersection(si2)"
   ]
  },
  {
   "cell_type": "code",
   "execution_count": 64,
   "id": "855f99e7",
   "metadata": {},
   "outputs": [
    {
     "data": {
      "text/plain": [
       "{2, 3, 5, 9, 10}"
      ]
     },
     "execution_count": 64,
     "metadata": {},
     "output_type": "execute_result"
    }
   ],
   "source": [
    "si1.symmetric_difference(si2)"
   ]
  },
  {
   "cell_type": "code",
   "execution_count": 65,
   "id": "cf7d68af",
   "metadata": {},
   "outputs": [
    {
     "data": {
      "text/plain": [
       "{2, 5, 9}"
      ]
     },
     "execution_count": 65,
     "metadata": {},
     "output_type": "execute_result"
    }
   ],
   "source": [
    "si1.difference(si2)"
   ]
  },
  {
   "cell_type": "code",
   "execution_count": 66,
   "id": "460f67ad",
   "metadata": {},
   "outputs": [
    {
     "data": {
      "text/plain": [
       "{3, 10}"
      ]
     },
     "execution_count": 66,
     "metadata": {},
     "output_type": "execute_result"
    }
   ],
   "source": [
    "si2.difference(si1)"
   ]
  },
  {
   "cell_type": "code",
   "execution_count": 79,
   "id": "35b1845f",
   "metadata": {},
   "outputs": [
    {
     "name": "stdout",
     "output_type": "stream",
     "text": [
      "{1, 3, 5, 7, 12}\n",
      "{1, 3, 5, 7}\n"
     ]
    }
   ],
   "source": [
    "set_11 = {1,3,5,7}\n",
    "set_22 = set_11.copy()\n",
    "set_11.add(12)\n",
    "print(set_11)\n",
    "print(set_22)"
   ]
  },
  {
   "cell_type": "code",
   "execution_count": 88,
   "id": "cc2c6476",
   "metadata": {},
   "outputs": [],
   "source": [
    "st1= {3,55,47,2,88,0}\n",
    "st2 ={0,88,55}"
   ]
  },
  {
   "cell_type": "code",
   "execution_count": 89,
   "id": "4519d633",
   "metadata": {},
   "outputs": [
    {
     "data": {
      "text/plain": [
       "True"
      ]
     },
     "execution_count": 89,
     "metadata": {},
     "output_type": "execute_result"
    }
   ],
   "source": [
    "st2.issubset(st1)"
   ]
  },
  {
   "cell_type": "code",
   "execution_count": 90,
   "id": "1e61199b",
   "metadata": {},
   "outputs": [],
   "source": [
    "st1.clear()"
   ]
  },
  {
   "cell_type": "code",
   "execution_count": 91,
   "id": "4e51d25b",
   "metadata": {},
   "outputs": [
    {
     "data": {
      "text/plain": [
       "set()"
      ]
     },
     "execution_count": 91,
     "metadata": {},
     "output_type": "execute_result"
    }
   ],
   "source": [
    "st1"
   ]
  },
  {
   "cell_type": "code",
   "execution_count": null,
   "id": "4f150ff6",
   "metadata": {},
   "outputs": [],
   "source": []
  }
 ],
 "metadata": {
  "kernelspec": {
   "display_name": "Python 3",
   "language": "python",
   "name": "python3"
  },
  "language_info": {
   "codemirror_mode": {
    "name": "ipython",
    "version": 3
   },
   "file_extension": ".py",
   "mimetype": "text/x-python",
   "name": "python",
   "nbconvert_exporter": "python",
   "pygments_lexer": "ipython3",
   "version": "3.11.1"
  }
 },
 "nbformat": 4,
 "nbformat_minor": 5
}
