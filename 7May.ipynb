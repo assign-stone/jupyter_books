{
 "cells": [
  {
   "cell_type": "code",
   "execution_count": 4,
   "id": "c844c004",
   "metadata": {},
   "outputs": [
    {
     "ename": "SyntaxError",
     "evalue": "invalid syntax (1073028907.py, line 3)",
     "output_type": "error",
     "traceback": [
      "\u001b[1;36m  Input \u001b[1;32mIn [4]\u001b[1;36m\u001b[0m\n\u001b[1;33m    1+2+3+4+5+\u001b[0m\n\u001b[1;37m              ^\u001b[0m\n\u001b[1;31mSyntaxError\u001b[0m\u001b[1;31m:\u001b[0m invalid syntax\n"
     ]
    }
   ],
   "source": [
    "#line continuation charater\n",
    "\n",
    "1+2+3+4+5+\n",
    "1+2+3+4+5"
   ]
  },
  {
   "cell_type": "code",
   "execution_count": 3,
   "id": "4347446f",
   "metadata": {},
   "outputs": [
    {
     "data": {
      "text/plain": [
       "30"
      ]
     },
     "execution_count": 3,
     "metadata": {},
     "output_type": "execute_result"
    }
   ],
   "source": [
    "1+2+3+4+5+\\\n",
    "1+2+3+4+5"
   ]
  },
  {
   "cell_type": "code",
   "execution_count": 5,
   "id": "5a31d18e",
   "metadata": {},
   "outputs": [],
   "source": [
    "def prints():\n",
    "    \"\"\"this is for example\"\"\"\n",
    "    pass"
   ]
  },
  {
   "cell_type": "code",
   "execution_count": 7,
   "id": "f20d67fd",
   "metadata": {},
   "outputs": [],
   "source": [
    "prints()"
   ]
  },
  {
   "cell_type": "code",
   "execution_count": null,
   "id": "979857e5",
   "metadata": {},
   "outputs": [],
   "source": []
  }
 ],
 "metadata": {
  "kernelspec": {
   "display_name": "Python 3 (ipykernel)",
   "language": "python",
   "name": "python3"
  },
  "language_info": {
   "codemirror_mode": {
    "name": "ipython",
    "version": 3
   },
   "file_extension": ".py",
   "mimetype": "text/x-python",
   "name": "python",
   "nbconvert_exporter": "python",
   "pygments_lexer": "ipython3",
   "version": "3.9.12"
  }
 },
 "nbformat": 4,
 "nbformat_minor": 5
}
