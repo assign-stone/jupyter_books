{
 "cells": [
  {
   "cell_type": "code",
   "execution_count": 1,
   "id": "dbda87ae",
   "metadata": {},
   "outputs": [],
   "source": [
    "import numpy as np"
   ]
  },
  {
   "cell_type": "code",
   "execution_count": 9,
   "id": "c55cdcea",
   "metadata": {},
   "outputs": [],
   "source": [
    "data=np.array([1,2,3,4,5])"
   ]
  },
  {
   "cell_type": "code",
   "execution_count": 10,
   "id": "bb558d36",
   "metadata": {},
   "outputs": [
    {
     "name": "stdout",
     "output_type": "stream",
     "text": [
      "[1 2 3 4 5]\n"
     ]
    }
   ],
   "source": [
    "print(data)"
   ]
  },
  {
   "cell_type": "code",
   "execution_count": 11,
   "id": "21686dd1",
   "metadata": {},
   "outputs": [
    {
     "name": "stdout",
     "output_type": "stream",
     "text": [
      "[1. 1. 1. 1. 1.]\n"
     ]
    }
   ],
   "source": [
    "ones=np.ones(5)\n",
    "print(ones)"
   ]
  },
  {
   "cell_type": "code",
   "execution_count": 12,
   "id": "92b9130a",
   "metadata": {},
   "outputs": [
    {
     "name": "stdout",
     "output_type": "stream",
     "text": [
      "[0. 0. 0. 0. 0.]\n"
     ]
    }
   ],
   "source": [
    "zeros=np.zeros(5)\n",
    "print(zeros)"
   ]
  },
  {
   "cell_type": "code",
   "execution_count": 13,
   "id": "cd94b09f",
   "metadata": {},
   "outputs": [
    {
     "name": "stdout",
     "output_type": "stream",
     "text": [
      "[0.13942709 0.23061164 0.83120375 0.16157404 0.70468814]\n"
     ]
    }
   ],
   "source": [
    "random=np.random.random(5)\n",
    "print(random)"
   ]
  },
  {
   "cell_type": "code",
   "execution_count": 14,
   "id": "7ce540b1",
   "metadata": {},
   "outputs": [
    {
     "name": "stdout",
     "output_type": "stream",
     "text": [
      "[2. 3. 4. 5. 6.]\n"
     ]
    }
   ],
   "source": [
    "addition=data+ones\n",
    "print(addition)"
   ]
  },
  {
   "cell_type": "code",
   "execution_count": 15,
   "id": "16cedca8",
   "metadata": {},
   "outputs": [
    {
     "name": "stdout",
     "output_type": "stream",
     "text": [
      "[0. 1. 2. 3. 4.]\n"
     ]
    }
   ],
   "source": [
    "subtract=data-ones\n",
    "print(subtract)"
   ]
  },
  {
   "cell_type": "code",
   "execution_count": 16,
   "id": "5e434da2",
   "metadata": {},
   "outputs": [
    {
     "name": "stdout",
     "output_type": "stream",
     "text": [
      "[1. 2. 3. 4. 5.]\n"
     ]
    }
   ],
   "source": [
    "mult=data*ones\n",
    "print(mult)"
   ]
  },
  {
   "cell_type": "code",
   "execution_count": 17,
   "id": "2934ac80",
   "metadata": {},
   "outputs": [
    {
     "name": "stdout",
     "output_type": "stream",
     "text": [
      "[0.13942709 0.46122329 2.49361125 0.64629615 3.5234407 ]\n"
     ]
    }
   ],
   "source": [
    "mul=data*random\n",
    "print(mul)"
   ]
  },
  {
   "cell_type": "code",
   "execution_count": 18,
   "id": "db3b80c3",
   "metadata": {},
   "outputs": [
    {
     "name": "stdout",
     "output_type": "stream",
     "text": [
      "[1.5 3.  4.5 6.  7.5]\n"
     ]
    }
   ],
   "source": [
    "mull=data*1.5\n",
    "print(mull)"
   ]
  },
  {
   "cell_type": "code",
   "execution_count": 20,
   "id": "0aee9b65",
   "metadata": {},
   "outputs": [
    {
     "name": "stdout",
     "output_type": "stream",
     "text": [
      "[ 7.17220741  8.67258899  3.60922337 24.75645269  7.09533724]\n"
     ]
    }
   ],
   "source": [
    "div=data/random\n",
    "print(div)"
   ]
  },
  {
   "cell_type": "markdown",
   "id": "8e91a1e3",
   "metadata": {},
   "source": [
    "# matrix"
   ]
  },
  {
   "cell_type": "code",
   "execution_count": 21,
   "id": "544daf2c",
   "metadata": {},
   "outputs": [
    {
     "name": "stdout",
     "output_type": "stream",
     "text": [
      "[[1 2]\n",
      " [3 4]\n",
      " [5 6]]\n"
     ]
    }
   ],
   "source": [
    "data=np.array([[1,2],[3,4],[5,6]])\n",
    "print(data)"
   ]
  },
  {
   "cell_type": "code",
   "execution_count": 22,
   "id": "12ed196a",
   "metadata": {},
   "outputs": [
    {
     "name": "stdout",
     "output_type": "stream",
     "text": [
      "[[1. 1.]\n",
      " [1. 1.]\n",
      " [1. 1.]]\n"
     ]
    }
   ],
   "source": [
    "ones=np.ones((3,2))\n",
    "print(ones)"
   ]
  },
  {
   "cell_type": "code",
   "execution_count": 23,
   "id": "2ad0373f",
   "metadata": {},
   "outputs": [
    {
     "name": "stdout",
     "output_type": "stream",
     "text": [
      "[[0. 0.]\n",
      " [0. 0.]\n",
      " [0. 0.]]\n"
     ]
    }
   ],
   "source": [
    "zero=np.zeros((3,2))\n",
    "print(zero)"
   ]
  },
  {
   "cell_type": "code",
   "execution_count": 24,
   "id": "14bdb1b5",
   "metadata": {},
   "outputs": [
    {
     "name": "stdout",
     "output_type": "stream",
     "text": [
      "[[0.87432082 0.64723808]\n",
      " [0.8552999  0.46780228]\n",
      " [0.97519712 0.46538087]]\n"
     ]
    }
   ],
   "source": [
    "random=np.random.random((3,2))\n",
    "print(random)"
   ]
  },
  {
   "cell_type": "code",
   "execution_count": 25,
   "id": "8f9b4e3e",
   "metadata": {},
   "outputs": [
    {
     "name": "stdout",
     "output_type": "stream",
     "text": [
      "[[2. 3.]\n",
      " [4. 5.]\n",
      " [6. 7.]]\n"
     ]
    }
   ],
   "source": [
    "addition=data+ones\n",
    "print(addition)"
   ]
  },
  {
   "cell_type": "code",
   "execution_count": 26,
   "id": "33426171",
   "metadata": {},
   "outputs": [
    {
     "name": "stdout",
     "output_type": "stream",
     "text": [
      "[[1. 2.]\n",
      " [3. 4.]\n",
      " [5. 6.]]\n"
     ]
    }
   ],
   "source": [
    "mul=data*ones\n",
    "print(mul)"
   ]
  },
  {
   "cell_type": "code",
   "execution_count": 27,
   "id": "9e836c10",
   "metadata": {},
   "outputs": [
    {
     "name": "stdout",
     "output_type": "stream",
     "text": [
      "[[1 3 5]\n",
      " [2 4 6]]\n"
     ]
    }
   ],
   "source": [
    "dataT=data.T\n",
    "print(dataT)"
   ]
  },
  {
   "cell_type": "code",
   "execution_count": 28,
   "id": "d94d5f46",
   "metadata": {},
   "outputs": [
    {
     "name": "stdout",
     "output_type": "stream",
     "text": [
      "[[1]\n",
      " [2]\n",
      " [3]\n",
      " [4]\n",
      " [5]\n",
      " [6]]\n"
     ]
    }
   ],
   "source": [
    "DATA_V=data.reshape(6,1)\n",
    "print(DATA_V)"
   ]
  },
  {
   "cell_type": "code",
   "execution_count": 30,
   "id": "689b003b",
   "metadata": {},
   "outputs": [
    {
     "name": "stdout",
     "output_type": "stream",
     "text": [
      "[[1 2 3 4 5 6]]\n"
     ]
    }
   ],
   "source": [
    "data_hori=data.reshape(1,6)\n",
    "print(data_hori)"
   ]
  },
  {
   "cell_type": "code",
   "execution_count": 31,
   "id": "a1fcc586",
   "metadata": {},
   "outputs": [
    {
     "name": "stdout",
     "output_type": "stream",
     "text": [
      "[[1 2 3]\n",
      " [4 5 6]]\n"
     ]
    }
   ],
   "source": [
    "data_landscape=data.reshape(2,3)\n",
    "print(data_landscape)"
   ]
  },
  {
   "cell_type": "code",
   "execution_count": 32,
   "id": "a419fa84",
   "metadata": {},
   "outputs": [
    {
     "name": "stdout",
     "output_type": "stream",
     "text": [
      "[ 0  1  2  3  4  5  6  7  8  9 10 11 12 13 14 15 16 17 18 19 20 21 22 23\n",
      " 24 25 26 27 28 29 30 31 32 33 34 35]\n"
     ]
    }
   ],
   "source": [
    "la=np.arange(36) #a range\n",
    "print(la)"
   ]
  },
  {
   "cell_type": "code",
   "execution_count": 33,
   "id": "6304bdb4",
   "metadata": {},
   "outputs": [
    {
     "name": "stdout",
     "output_type": "stream",
     "text": [
      "[[ 0  1  2  3  4  5]\n",
      " [ 6  7  8  9 10 11]\n",
      " [12 13 14 15 16 17]\n",
      " [18 19 20 21 22 23]\n",
      " [24 25 26 27 28 29]\n",
      " [30 31 32 33 34 35]]\n"
     ]
    }
   ],
   "source": [
    "big_m=la.reshape(6,6)\n",
    "print(big_m)"
   ]
  },
  {
   "cell_type": "markdown",
   "id": "5cf0f211",
   "metadata": {},
   "source": [
    "#### exploring the data :indexing and slicing"
   ]
  },
  {
   "cell_type": "code",
   "execution_count": 34,
   "id": "cf1e0d4c",
   "metadata": {},
   "outputs": [
    {
     "name": "stdout",
     "output_type": "stream",
     "text": [
      "[[28 29]\n",
      " [34 35]]\n"
     ]
    }
   ],
   "source": [
    "print(big_m[4:,4:])"
   ]
  },
  {
   "cell_type": "code",
   "execution_count": 35,
   "id": "eaec46b9",
   "metadata": {},
   "outputs": [
    {
     "name": "stdout",
     "output_type": "stream",
     "text": [
      "[ 2  8 14 20 26 32]\n"
     ]
    }
   ],
   "source": [
    "print(big_m[:,2])"
   ]
  },
  {
   "cell_type": "code",
   "execution_count": 36,
   "id": "15b80b11",
   "metadata": {},
   "outputs": [
    {
     "name": "stdout",
     "output_type": "stream",
     "text": [
      "14\n"
     ]
    }
   ],
   "source": [
    "print(big_m[2,2])"
   ]
  },
  {
   "cell_type": "code",
   "execution_count": 37,
   "id": "1d945484",
   "metadata": {},
   "outputs": [
    {
     "name": "stdout",
     "output_type": "stream",
     "text": [
      "15\n"
     ]
    }
   ],
   "source": [
    "print(big_m[2,3])"
   ]
  },
  {
   "cell_type": "code",
   "execution_count": 38,
   "id": "2354ad91",
   "metadata": {},
   "outputs": [
    {
     "name": "stdout",
     "output_type": "stream",
     "text": [
      "[[24 25 26 27 28 29]\n",
      " [30 31 32 33 34 35]]\n"
     ]
    }
   ],
   "source": [
    "print(big_m[4:,:])"
   ]
  },
  {
   "cell_type": "code",
   "execution_count": 40,
   "id": "02d1d2d0",
   "metadata": {},
   "outputs": [
    {
     "name": "stdout",
     "output_type": "stream",
     "text": [
      "[[ 4  5]\n",
      " [10 11]\n",
      " [16 17]\n",
      " [22 23]\n",
      " [28 29]\n",
      " [34 35]]\n"
     ]
    }
   ],
   "source": [
    "print(big_m[:,4:])"
   ]
  },
  {
   "cell_type": "code",
   "execution_count": 41,
   "id": "a89e0a97",
   "metadata": {},
   "outputs": [
    {
     "name": "stdout",
     "output_type": "stream",
     "text": [
      "[ 6  7  8  9 10 11]\n"
     ]
    }
   ],
   "source": [
    "print(big_m[1,:])"
   ]
  },
  {
   "cell_type": "code",
   "execution_count": 43,
   "id": "c393c30d",
   "metadata": {},
   "outputs": [
    {
     "name": "stdout",
     "output_type": "stream",
     "text": [
      "[ 7  8  9 10 11]\n"
     ]
    }
   ],
   "source": [
    "print(big_m[1,1:])"
   ]
  },
  {
   "cell_type": "code",
   "execution_count": 42,
   "id": "95fbbd91",
   "metadata": {},
   "outputs": [
    {
     "name": "stdout",
     "output_type": "stream",
     "text": [
      "[12 13 14 15 16 17]\n"
     ]
    }
   ],
   "source": [
    "print(big_m[2,:])"
   ]
  },
  {
   "cell_type": "code",
   "execution_count": 44,
   "id": "94dc4363",
   "metadata": {},
   "outputs": [
    {
     "name": "stdout",
     "output_type": "stream",
     "text": [
      "35\n"
     ]
    }
   ],
   "source": [
    "print(big_m.max())"
   ]
  },
  {
   "cell_type": "code",
   "execution_count": 45,
   "id": "a3e5652f",
   "metadata": {},
   "outputs": [
    {
     "name": "stdout",
     "output_type": "stream",
     "text": [
      "0\n"
     ]
    }
   ],
   "source": [
    "print(big_m.min())"
   ]
  },
  {
   "cell_type": "code",
   "execution_count": 46,
   "id": "67c7fba7",
   "metadata": {},
   "outputs": [
    {
     "name": "stdout",
     "output_type": "stream",
     "text": [
      "630\n"
     ]
    }
   ],
   "source": [
    "print(big_m.sum())"
   ]
  },
  {
   "cell_type": "code",
   "execution_count": 47,
   "id": "e4ebdbeb",
   "metadata": {},
   "outputs": [
    {
     "name": "stdout",
     "output_type": "stream",
     "text": [
      "[[0.64723808 0.87432082]\n",
      " [0.46780228 0.8552999 ]\n",
      " [0.46538087 0.97519712]]\n"
     ]
    }
   ],
   "source": [
    "print(np.sort(random))"
   ]
  },
  {
   "cell_type": "code",
   "execution_count": 48,
   "id": "39b4597a",
   "metadata": {},
   "outputs": [
    {
     "name": "stdout",
     "output_type": "stream",
     "text": [
      "17.5\n"
     ]
    }
   ],
   "source": [
    "print(np.mean(big_m))"
   ]
  },
  {
   "cell_type": "code",
   "execution_count": 49,
   "id": "1d151aee",
   "metadata": {},
   "outputs": [
    {
     "name": "stdout",
     "output_type": "stream",
     "text": [
      "17.5\n"
     ]
    }
   ],
   "source": [
    "print(np.median(big_m))"
   ]
  },
  {
   "cell_type": "code",
   "execution_count": 1,
   "id": "46949613",
   "metadata": {},
   "outputs": [
    {
     "data": {
      "text/plain": [
       "[<matplotlib.lines.Line2D at 0x20ebfae2f40>]"
      ]
     },
     "execution_count": 1,
     "metadata": {},
     "output_type": "execute_result"
    },
    {
     "data": {
      "image/png": "[encoded data removed]",
      "text/plain": [
       "<Figure size 432x288 with 1 Axes>"
      ]
     },
     "metadata": {
      "needs_background": "light"
     },
     "output_type": "display_data"
    }
   ],
   "source": [
    "import numpy as np\n",
    "import matplotlib.pyplot as plt\n",
    "\n",
    "x=np.linspace(-10,10,1000)\n",
    "y=5+x**2-3+x+2\n",
    "\n",
    "plt.plot(x,y)"
   ]
  },
  {
   "cell_type": "code",
   "execution_count": 3,
   "id": "3d640008",
   "metadata": {},
   "outputs": [
    {
     "data": {
      "image/png": "[encoded data removed]",
      "text/plain": [
       "<Figure size 432x288 with 1 Axes>"
      ]
     },
     "metadata": {
      "needs_background": "light"
     },
     "output_type": "display_data"
    }
   ],
   "source": [
    "import numpy as np\n",
    "import matplotlib.pyplot as plt\n",
    "\n",
    "x=np.linspace(-10,10,1000)\n",
    "y=5+x**2-3+x+2\n",
    "\n",
    "fig=plt.figure()\n",
    "plt.plot(x, np.sin(x),\"-\",label=\"sin(x)\")\n",
    "plt.plot(x, np.cos(x),\"--\",label=\"cos(x)\")\n",
    "plt.legend()\n",
    "fig.savefig(\"my_fig.png\")\n",
    "plt.show()\n"
   ]
  },
  {
   "cell_type": "code",
   "execution_count": 5,
   "id": "5c3c0524",
   "metadata": {},
   "outputs": [
    {
     "data": {
      "text/plain": [
       "[<matplotlib.lines.Line2D at 0x14fbed5f1f0>]"
      ]
     },
     "execution_count": 5,
     "metadata": {},
     "output_type": "execute_result"
    },
    {
     "data": {
      "image/png": "[encoded data removed]",
      "text/plain": [
       "<Figure size 432x288 with 1 Axes>"
      ]
     },
     "metadata": {
      "needs_background": "light"
     },
     "output_type": "display_data"
    }
   ],
   "source": [
    "x=np.linspace(0,10,20)\n",
    "plt.plot(x, np.sin(x),\"o\")"
   ]
  },
  {
   "cell_type": "code",
   "execution_count": 8,
   "id": "95544172",
   "metadata": {},
   "outputs": [],
   "source": [
    "import numpy as np\n",
    "import matplotlib.pyplot as plt"
   ]
  },
  {
   "cell_type": "code",
   "execution_count": 9,
   "id": "c4d7de75",
   "metadata": {},
   "outputs": [
    {
     "data": {
      "image/png": "[encoded data removed]",
      "text/plain": [
       "<Figure size 432x288 with 1 Axes>"
      ]
     },
     "metadata": {
      "needs_background": "light"
     },
     "output_type": "display_data"
    }
   ],
   "source": [
    "ax=plt.axes(projection=\"3d\")"
   ]
  },
  {
   "cell_type": "code",
   "execution_count": null,
   "id": "5dbc25df",
   "metadata": {},
   "outputs": [],
   "source": []
  }
 ],
 "metadata": {
  "kernelspec": {
   "display_name": "Python 3 (ipykernel)",
   "language": "python",
   "name": "python3"
  },
  "language_info": {
   "codemirror_mode": {
    "name": "ipython",
    "version": 3
   },
   "file_extension": ".py",
   "mimetype": "text/x-python",
   "name": "python",
   "nbconvert_exporter": "python",
   "pygments_lexer": "ipython3",
   "version": "3.9.12"
  }
 },
 "nbformat": 4,
 "nbformat_minor": 5
}
