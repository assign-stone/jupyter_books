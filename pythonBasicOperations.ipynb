{
 "cells": [
  {
   "cell_type": "code",
   "execution_count": 1,
   "id": "9ad1d708-faed-4712-a3e3-be692f51100b",
   "metadata": {},
   "outputs": [
    {
     "name": "stdout",
     "output_type": "stream",
     "text": [
      "\n"
     ]
    }
   ],
   "source": [
    "print()"
   ]
  },
  {
   "cell_type": "code",
   "execution_count": 5,
   "id": "429c3bde-1392-4654-a561-b1cdf7723a1e",
   "metadata": {},
   "outputs": [
    {
     "name": "stdout",
     "output_type": "stream",
     "text": [
      "hellohellohello\n"
     ]
    }
   ],
   "source": [
    "print(\"hello\"*3)"
   ]
  },
  {
   "cell_type": "code",
   "execution_count": 8,
   "id": "319b33a2-7d5a-40ca-9637-5efb820f1c87",
   "metadata": {},
   "outputs": [
    {
     "name": "stdout",
     "output_type": "stream",
     "text": [
      "*\t*\t*\t\n"
     ]
    }
   ],
   "source": [
    "print(\"*\\t\"*3)"
   ]
  },
  {
   "cell_type": "code",
   "execution_count": 7,
   "id": "bc0acc88-bf7f-4cda-9515-7e3437e4e492",
   "metadata": {},
   "outputs": [
    {
     "name": "stdout",
     "output_type": "stream",
     "text": [
      "hello\n",
      "hello\n",
      "hello\n",
      "\n"
     ]
    }
   ],
   "source": [
    "print(\"hello\\n\"*3)"
   ]
  },
  {
   "cell_type": "code",
   "execution_count": 14,
   "id": "40734581-8df1-4fff-b90e-c670e4ad9ece",
   "metadata": {},
   "outputs": [
    {
     "name": "stdout",
     "output_type": "stream",
     "text": [
      "hello\t\thell\n"
     ]
    }
   ],
   "source": [
    "print(\"hello\\t\"+\"\\thell\")"
   ]
  },
  {
   "cell_type": "code",
   "execution_count": 16,
   "id": "27a5b1c4-a4eb-4149-bd30-b181fb1d1583",
   "metadata": {},
   "outputs": [
    {
     "name": "stdout",
     "output_type": "stream",
     "text": [
      "hello hell\n"
     ]
    }
   ],
   "source": [
    "print(\"hello\",\"hell\")"
   ]
  },
  {
   "cell_type": "code",
   "execution_count": 19,
   "id": "d571eb3f-7766-4b92-9991-43cf6946042d",
   "metadata": {},
   "outputs": [
    {
     "name": "stdout",
     "output_type": "stream",
     "text": [
      "*\n",
      "*\t*\n",
      "*\t*\t*\n"
     ]
    }
   ],
   "source": [
    "print(\"*\", end=\"\\n\")\n",
    "print(\"*\\t*\", end=\"\\n\")\n",
    "print(\"*\\t*\\t*\", end=\"\\n\")"
   ]
  },
  {
   "cell_type": "code",
   "execution_count": 20,
   "id": "0d2de93c-4bcd-4b7e-84c5-7489abc157ab",
   "metadata": {},
   "outputs": [
    {
     "name": "stdout",
     "output_type": "stream",
     "text": [
      "*\t*\t*\t*\t*\t*\t"
     ]
    }
   ],
   "source": [
    "print(\"*\", end=\"\\t\")\n",
    "print(\"*\\t*\", end=\"\\t\")\n",
    "print(\"*\\t*\\t*\", end=\"\\t\")"
   ]
  },
  {
   "cell_type": "code",
   "execution_count": 22,
   "id": "4b2e2310-4cfa-46a5-a19b-c8b062b62293",
   "metadata": {},
   "outputs": [
    {
     "name": "stdout",
     "output_type": "stream",
     "text": [
      "x = 2\n"
     ]
    }
   ],
   "source": [
    "#format string - output will display formatted \n",
    "x,y=2,4 \n",
    "print(\"x = %i\"%x)"
   ]
  },
  {
   "cell_type": "code",
   "execution_count": 23,
   "id": "319030cf-851d-47e7-ac96-194cf3bcf18d",
   "metadata": {},
   "outputs": [
    {
     "name": "stdout",
     "output_type": "stream",
     "text": [
      "x = 2\n"
     ]
    }
   ],
   "source": [
    "#format string - with replacement fields contains names/indexes\n",
    "x,y=2,4\n",
    "print(\"x = {0}\".format(x))"
   ]
  },
  {
   "cell_type": "code",
   "execution_count": 24,
   "id": "7c0cd1f9-93ac-4303-8a5d-78d8b67ffb46",
   "metadata": {},
   "outputs": [
    {
     "name": "stdin",
     "output_type": "stream",
     "text": [
      " 2\n"
     ]
    }
   ],
   "source": [
    "a = int(input())"
   ]
  },
  {
   "cell_type": "code",
   "execution_count": 27,
   "id": "4732dae6-929d-4cc9-99d7-236749a2f599",
   "metadata": {},
   "outputs": [
    {
     "name": "stdin",
     "output_type": "stream",
     "text": [
      " hello\n"
     ]
    }
   ],
   "source": [
    "a = input() #default as a string"
   ]
  },
  {
   "cell_type": "code",
   "execution_count": 29,
   "id": "965b3a3c-a4fb-4e04-b49a-efbd5408ab48",
   "metadata": {},
   "outputs": [
    {
     "name": "stdin",
     "output_type": "stream",
     "text": [
      "Enter number:  8\n"
     ]
    }
   ],
   "source": [
    "a = int(input(\"Enter number: \")) #when you want to display output with string format"
   ]
  },
  {
   "cell_type": "code",
   "execution_count": 30,
   "id": "cd20e255-3355-4e3e-8044-d51e49b9469d",
   "metadata": {},
   "outputs": [
    {
     "name": "stdin",
     "output_type": "stream",
     "text": [
      "enter any number of values:  3 2 5 6 4 8 5 6\n"
     ]
    }
   ],
   "source": [
    "#reading multiple values from keyboard using \"for\" loop and \"split()\"\n",
    "#using list comprehension\n",
    "a = [int(x) for x in input(\"enter any number of values: \").split()]\n"
   ]
  },
  {
   "cell_type": "code",
   "execution_count": 33,
   "id": "f0671161-28a7-4343-abda-a6ea2ab896f0",
   "metadata": {},
   "outputs": [
    {
     "name": "stdin",
     "output_type": "stream",
     "text": [
      "enter 3 values:  2 8 6\n"
     ]
    }
   ],
   "source": [
    "a,b,c = [int(x) for x in input(\"enter 3 values: \").split()]\n"
   ]
  },
  {
   "cell_type": "code",
   "execution_count": 34,
   "id": "5865735d-89ef-4c32-aef9-4539c4bc4378",
   "metadata": {},
   "outputs": [
    {
     "name": "stdin",
     "output_type": "stream",
     "text": [
      "enter any number of values:  2 3 4\n"
     ]
    },
    {
     "name": "stdout",
     "output_type": "stream",
     "text": [
      "entered 3 values\t 2 3 4\n"
     ]
    }
   ],
   "source": [
    "a = [int(x) for x in input(\"enter any number of values: \").split()]\n",
    "l,m,n = a\n",
    "print(\"entered 3 values\\t\",l,m,n)"
   ]
  },
  {
   "cell_type": "code",
   "execution_count": 35,
   "id": "036356bd-6eef-40b1-8ec8-cdf97eb0205c",
   "metadata": {},
   "outputs": [
    {
     "name": "stdout",
     "output_type": "stream",
     "text": [
      "20.0\n"
     ]
    }
   ],
   "source": [
    "#take arithmetic operation as an input\n",
    "x = eval(\"10+20/2\")\n",
    "print(x)"
   ]
  },
  {
   "cell_type": "code",
   "execution_count": 41,
   "id": "1e1937da-d534-4805-b11e-2d823b9e7c4d",
   "metadata": {},
   "outputs": [
    {
     "name": "stdin",
     "output_type": "stream",
     "text": [
      "enter the expression:  10+20-30+10\n"
     ]
    },
    {
     "name": "stdout",
     "output_type": "stream",
     "text": [
      "10\n"
     ]
    }
   ],
   "source": [
    "s = input(\"enter the expression: \")\n",
    "x = eval(s)\n",
    "print(x)"
   ]
  },
  {
   "cell_type": "code",
   "execution_count": 52,
   "id": "2b799a17-af26-4bc4-8eca-390cbf8aed83",
   "metadata": {},
   "outputs": [
    {
     "name": "stdout",
     "output_type": "stream",
     "text": [
      "<class 'int'>\n",
      "<class 'str'>\n",
      "<class 'float'>\n",
      "<class 'complex'>\n",
      "<class 'bool'>\n",
      "\n",
      "ogee scooby tom\n",
      "\n",
      "banana banana banana\n"
     ]
    }
   ],
   "source": [
    "#Variables\n",
    "#get the types of variables\n",
    "x = 13\n",
    "y = \"hello\"\n",
    "z = 10.23\n",
    "a = 2+3j\n",
    "b = True\n",
    "\n",
    "print(type(x))\n",
    "print(type(y))\n",
    "print(type(z))\n",
    "print(type(a))\n",
    "print(type(b))\n",
    "print()\n",
    "\n",
    "c,d,e = \"ogee\",\"scooby\",\"tom\"\n",
    "print(c,d,e)\n",
    "print()\n",
    "\n",
    "m=l=n=\"banana\"\n",
    "print(m,l,n)"
   ]
  },
  {
   "cell_type": "code",
   "execution_count": 62,
   "id": "d77f7e02-da91-485a-9d1f-eb1c9dd4a24b",
   "metadata": {},
   "outputs": [
    {
     "name": "stdout",
     "output_type": "stream",
     "text": [
      "15\n",
      "<class 'int'>\n",
      "8\n",
      "<class 'int'>\n",
      "11\n",
      "<class 'int'>\n"
     ]
    }
   ],
   "source": [
    "#Binary form of \"int\"\n",
    "A = 0b1111\n",
    "print(A)\n",
    "print(type(A))\n",
    "\n",
    "#octal form of \"int\"\n",
    "a = 0o10\n",
    "print(a)\n",
    "print(type(a))\n",
    "\n",
    "#hexadecimal form of \"int\"\n",
    "b = 0xB\n",
    "print(b)\n",
    "print(type(b))"
   ]
  },
  {
   "cell_type": "code",
   "execution_count": 67,
   "id": "be8402b1-0ac2-4aec-8613-b30356493a87",
   "metadata": {},
   "outputs": [
    {
     "name": "stdout",
     "output_type": "stream",
     "text": [
      "0b1100100\n",
      "0o144\n",
      "0x64\n"
     ]
    }
   ],
   "source": [
    "#int to binary,octal and hexadecimal form\n",
    "a = 100\n",
    "print(bin(a))\n",
    "print(oct(a))\n",
    "print(hex(a))"
   ]
  },
  {
   "cell_type": "code",
   "execution_count": 68,
   "id": "f0903e50-a56f-42ff-a63d-e37fa1428ab7",
   "metadata": {},
   "outputs": [
    {
     "name": "stdout",
     "output_type": "stream",
     "text": [
      "250000.0\n"
     ]
    }
   ],
   "source": [
    "#float can be in sientific notation\n",
    "f = 25e4\n",
    "print(f)"
   ]
  },
  {
   "cell_type": "code",
   "execution_count": 72,
   "id": "fb7ca537-86f3-406e-94f3-1d8d408ab695",
   "metadata": {},
   "outputs": [
    {
     "name": "stdout",
     "output_type": "stream",
     "text": [
      "2.0\n",
      "6.0\n"
     ]
    }
   ],
   "source": [
    "#complex number\n",
    "k = 2+6j\n",
    "print(k.real)\n",
    "print(k.imag)"
   ]
  },
  {
   "cell_type": "code",
   "execution_count": 79,
   "id": "3b3bbdb2-c33a-4a4a-8fdd-7a847823800a",
   "metadata": {},
   "outputs": [
    {
     "name": "stdin",
     "output_type": "stream",
     "text": [
      "enter real number:  2\n",
      "enter imaginary:  6\n"
     ]
    },
    {
     "name": "stdout",
     "output_type": "stream",
     "text": [
      "(2+6j)\n"
     ]
    }
   ],
   "source": [
    "f = int(input(\"enter real number: \"))\n",
    "g = int(input(\"enter imaginary: \"))\n",
    "v = complex(f,g)\n",
    "print(v)"
   ]
  },
  {
   "cell_type": "code",
   "execution_count": 82,
   "id": "3f887a37-163f-4c57-b5d2-e940019c2a22",
   "metadata": {},
   "outputs": [
    {
     "name": "stdout",
     "output_type": "stream",
     "text": [
      "hello \"how\" are you\n"
     ]
    }
   ],
   "source": [
    "print(\"\"\"hello \"how\" are you\"\"\")"
   ]
  },
  {
   "cell_type": "code",
   "execution_count": 4,
   "id": "751f1a35-d4c8-422f-bf3b-4edfa02e673a",
   "metadata": {},
   "outputs": [
    {
     "ename": "IndexError",
     "evalue": "list index out of range",
     "output_type": "error",
     "traceback": [
      "\u001b[1;31m---------------------------------------------------------------------------\u001b[0m",
      "\u001b[1;31mIndexError\u001b[0m                                Traceback (most recent call last)",
      "Input \u001b[1;32mIn [4]\u001b[0m, in \u001b[0;36m<cell line: 2>\u001b[1;34m()\u001b[0m\n\u001b[0;32m      1\u001b[0m L \u001b[38;5;241m=\u001b[39m []\n\u001b[0;32m      2\u001b[0m \u001b[38;5;28;01mfor\u001b[39;00m i \u001b[38;5;129;01min\u001b[39;00m \u001b[38;5;28mrange\u001b[39m(\u001b[38;5;241m0\u001b[39m,\u001b[38;5;241m20\u001b[39m):\n\u001b[1;32m----> 3\u001b[0m     \u001b[43mL\u001b[49m\u001b[43m[\u001b[49m\u001b[43mi\u001b[49m\u001b[43m]\u001b[49m\n\u001b[0;32m      4\u001b[0m L\n",
      "\u001b[1;31mIndexError\u001b[0m: list index out of range"
     ]
    }
   ],
   "source": [
    "L = []\n",
    "for i in range(0,20):\n",
    "    L[i] = \n",
    "L"
   ]
  }
 ],
 "metadata": {
  "kernelspec": {
   "display_name": "Python 3 (ipykernel)",
   "language": "python",
   "name": "python3"
  },
  "language_info": {
   "codemirror_mode": {
    "name": "ipython",
    "version": 3
   },
   "file_extension": ".py",
   "mimetype": "text/x-python",
   "name": "python",
   "nbconvert_exporter": "python",
   "pygments_lexer": "ipython3",
   "version": "3.9.12"
  }
 },
 "nbformat": 4,
 "nbformat_minor": 5
}
